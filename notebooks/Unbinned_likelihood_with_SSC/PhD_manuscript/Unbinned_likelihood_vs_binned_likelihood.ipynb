{
 "cells": [
  {
   "cell_type": "code",
   "execution_count": 1,
   "id": "c3c4fe13-c5c7-475d-8228-0e3246d26a78",
   "metadata": {},
   "outputs": [
    {
     "name": "stderr",
     "output_type": "stream",
     "text": [
      "/pbs/home/c/cpayerne/.conda/envs/myenv/lib/python3.10/site-packages/tqdm/auto.py:21: TqdmWarning: IProgress not found. Please update jupyter and ipywidgets. See https://ipywidgets.readthedocs.io/en/stable/user_install.html\n",
      "  from .autonotebook import tqdm as notebook_tqdm\n"
     ]
    }
   ],
   "source": [
    "%load_ext autoreload\n",
    "\n",
    "%autoreload 2\n",
    "%matplotlib inline\n",
    "import sys\n",
    "import corner\n",
    "import numpy as np\n",
    "import matplotlib.pyplot as plt\n",
    "import scipy\n",
    "def binning(corner): return [[corner[i],corner[i+1]] for i in range(len(corner)-1)]\n",
    "sys.path.append('/pbs/throng/lsst/users/cpayerne/LikelihoodsClusterAbundance/modules/')\n",
    "import covariance as covar\n",
    "import utils\n",
    "import pandas as pd\n",
    "import abundance as cl_count\n",
    "import forecast\n",
    "import emcee\n",
    "from lnlikelihood import lnLikelihood\n",
    "import pyccl as ccl\n",
    "import edit\n",
    "import h5py, glob\n",
    "Omega_c_true = 0.30711 - 0.048254\n",
    "Omega_b_true = 0.048254\n",
    "sigma8_true = .8288\n",
    "Omegam_true = 0.30711\n",
    "True_value = [Omega_c_true + Omega_b_true, sigma8_true]\n",
    "\n",
    "#sys.path.append('/pbs/throng/lsst/users/cpayerne/LikelihoodsClusterAbundance/notebooks/Unbinned_likelihood_with_SSC/')\n",
    "#import analysis"
   ]
  },
  {
   "cell_type": "code",
   "execution_count": 2,
   "id": "a320096c-b603-45de-b9ec-79db2c08b11e",
   "metadata": {},
   "outputs": [
    {
     "name": "stdout",
     "output_type": "stream",
     "text": [
      "The autoreload extension is already loaded. To reload it, use:\n",
      "  %reload_ext autoreload\n"
     ]
    }
   ],
   "source": [
    "%load_ext autoreload\n",
    "%autoreload 2\n",
    "import getdist\n",
    "from getdist import plots, MCSamples"
   ]
  },
  {
   "cell_type": "code",
   "execution_count": 3,
   "id": "18e32d12-9ec3-4020-98f2-1a1c3d1a0151",
   "metadata": {},
   "outputs": [],
   "source": [
    "err_noSSC = []\n",
    "fit_noSSC = []\n",
    "samples_noSSC = []\n",
    "err_SSC = []\n",
    "samples_SSC = []\n",
    "names = ['1', '2','3',]\n",
    "labels =  [r'\\Omega_m', r'\\sigma_8', r'n_s', ]"
   ]
  },
  {
   "cell_type": "markdown",
   "id": "bb8ef445-55ea-439b-b843-97871baa6386",
   "metadata": {},
   "source": [
    "# Plot 1"
   ]
  },
  {
   "cell_type": "markdown",
   "id": "78725d24-a98d-4a89-8c61-bdeb268e40f8",
   "metadata": {},
   "source": [
    "# unbinned"
   ]
  },
  {
   "cell_type": "code",
   "execution_count": 4,
   "id": "e232c4e5-c373-480e-8da4-afb4344bf23a",
   "metadata": {},
   "outputs": [
    {
     "name": "stdout",
     "output_type": "stream",
     "text": [
      "Removed no burn in\n",
      "Removed no burn in\n",
      "Removed no burn in\n",
      "Removed no burn in\n",
      "Removed no burn in\n",
      "Removed no burn in\n",
      "Removed no burn in\n",
      "Removed no burn in\n"
     ]
    }
   ],
   "source": [
    "settings={'mult_bias_correction_order':0,'smooth_scale_2D':5, 'smooth_scale_1D':5, 'boundary_correction_order':1}\n",
    "\n",
    "noSSClowmass = np.load(f'/pbs/throng/lsst/users/cpayerne/LikelihoodsClusterAbundance/notebooks/Unbinned_likelihood_with_SSC/manuscript/noSSC_low-mass.npy')\n",
    "samplenoSSClowmass = MCSamples(samples=noSSClowmass[9000:],names = names, \n",
    "                labels = labels, \n",
    "                 settings=settings, \n",
    "                 label=f'$low-mass\\ (no\\ SSC)$')\n",
    "Omlowmass, s8lowmass, nslowmass = np.mean(noSSClowmass[9000:], axis=0)\n",
    "errOmlowmass, errs8lowmass, errnslowmass = np.std(noSSClowmass[9000:], axis=0)\n",
    "#######################\n",
    "noSSClowredshift = np.load(f'/pbs/throng/lsst/users/cpayerne/LikelihoodsClusterAbundance/notebooks/Unbinned_likelihood_with_SSC/manuscript/noSSC_low-redshift.npy')\n",
    "samplenoSSClowredshift = MCSamples(samples=noSSClowredshift[9000:],names = names, \n",
    "                labels = labels, \n",
    "                 settings=settings, \n",
    "                 label=f'$low-redshift\\ (no\\ SSC)$')\n",
    "Omlowredshift, s8lowredshift, nslowredshift = np.mean(noSSClowredshift[9000:], axis=0)\n",
    "errOmlowredshift, errs8lowredshift, errnslowredshift = np.std(noSSClowredshift[9000:], axis=0)\n",
    "#######################\n",
    "\n",
    "SSClowmass = np.load(f'/pbs/throng/lsst/users/cpayerne/LikelihoodsClusterAbundance/notebooks/Unbinned_likelihood_with_SSC/manuscript/SSC_low-mass.npy')\n",
    "sampleSSClowmass = MCSamples(samples=SSClowmass[9000:],names = names, \n",
    "                labels = labels, \n",
    "                 settings=settings, \n",
    "                 label=f'$low-mass\\ (SSC)$')\n",
    "\n",
    "OmlowmassSSC, s8lowmassSSC, nslowmassSSC = np.mean(SSClowmass[9000:], axis=0)\n",
    "errOmlowmassSSC, errs8lowmassSSC, errnslowmassSSC = np.std(SSClowmass[9000:], axis=0)\n",
    "#######################\n",
    "SSClowredshift = np.load(f'/pbs/throng/lsst/users/cpayerne/LikelihoodsClusterAbundance/notebooks/Unbinned_likelihood_with_SSC/manuscript/SSC_low-redshift.npy')\n",
    "sampleSSClowredshift = MCSamples(samples=SSClowredshift[9000:],names = names, \n",
    "                labels = labels, \n",
    "                 settings=settings, \n",
    "                 label=f'$low-redshift\\ (SSC)$')\n",
    "\n",
    "OmlowredshiftSSC, s8lowredshiftSSC, nslowredshiftSSC = np.mean(SSClowredshift[9000:], axis=0)\n",
    "errOmlowredshiftSSC, errs8lowredshiftSSC, errnslowredshiftSSC = np.std(SSClowredshift[9000:], axis=0)\n",
    "########################\n",
    "noSSChighmass = np.load(f'/pbs/throng/lsst/users/cpayerne/LikelihoodsClusterAbundance/notebooks/Unbinned_likelihood_with_SSC/manuscript/noSSC_high-mass.npy')\n",
    "samplenoSSChighmass = MCSamples(samples=noSSChighmass[9000:],names = names, \n",
    "                labels = labels, \n",
    "                 settings=settings, \n",
    "                 label=f'$high-mass\\ (no\\ SSC)$')\n",
    "Omhighmass, s8highmass, nshighmass = np.mean(noSSChighmass[9000:],axis=0)\n",
    "errOmhighmass, errs8highmass, errnshighmass = np.std(noSSChighmass[9000:],axis=0)\n",
    "#print(np.mean(noSSChighmass[9000:],axis=0))\n",
    "\n",
    "SSChighmass = np.load(f'/pbs/throng/lsst/users/cpayerne/LikelihoodsClusterAbundance/notebooks/Unbinned_likelihood_with_SSC/manuscript/SSC_high-mass.npy')\n",
    "sampleSSChighmass = MCSamples(samples=SSChighmass[9000:],names = names, \n",
    "                labels = labels, \n",
    "                 settings=settings, \n",
    "                 label=f'$high-mass\\ (SSC)$')\n",
    "OmhighmassSSC, s8highmassSSC, nshighmassSSC = np.mean(SSChighmass[9000:],axis=0)\n",
    "errOmhighmassSSC, errs8highmassSSC, errnshighmassSSC = np.std(SSChighmass[9000:],axis=0)\n",
    "#print(np.mean(SSChighmass[9000:],axis=0))\n",
    "\n",
    "noSSCfull = np.load(f'/pbs/throng/lsst/users/cpayerne/LikelihoodsClusterAbundance/notebooks/Unbinned_likelihood_with_SSC/manuscript/noSSC_full.npy')\n",
    "samplenoSSCfull = MCSamples(samples=noSSCfull[9000:],names = names, \n",
    "                labels = labels, \n",
    "                 settings=settings, \n",
    "                 label=f'$full\\ (standard\\ ULC)$')\n",
    "Omfull, s8full, nsfull = np.mean(noSSCfull[9000:],axis=0)\n",
    "errOmfull, errs8full, errnsfull = np.std(noSSCfull[9000:],axis=0)\n",
    "\n",
    "SSCfull = np.load(f'/pbs/throng/lsst/users/cpayerne/LikelihoodsClusterAbundance/notebooks/Unbinned_likelihood_with_SSC/manuscript/SSC_full.npy')\n",
    "sampleSSCfull = MCSamples(samples=SSCfull[9000:],\n",
    "names = names, \n",
    "                labels = labels, \n",
    "                 settings=settings, \n",
    "                 label=f'$full\\ (unbinned\\ w\\ SSC)$')\n",
    "OmfullSSC, s8fullSSC, nsfullSSC = np.mean(SSCfull[9000:],axis=0)\n",
    "errfullOmSSC, errs8fullSSC, errnsfullSSC = np.std(SSCfull[9000:],axis=0)"
   ]
  },
  {
   "cell_type": "code",
   "execution_count": 5,
   "id": "f84c3e0b-dc34-498b-ab4a-e4008031ed30",
   "metadata": {},
   "outputs": [
    {
     "name": "stdout",
     "output_type": "stream",
     "text": [
      "Removed no burn in\n",
      "Removed no burn in\n"
     ]
    }
   ],
   "source": [
    "BPfull = np.load(f'/pbs/throng/lsst/users/cpayerne/LikelihoodsClusterAbundance/notebooks/Unbinned_likelihood_with_SSC/manuscript/noSSC_full_binned.npy')\n",
    "sampleBPfull = MCSamples(samples=BPfull[9000:],\n",
    "names = names, \n",
    "                labels = labels, \n",
    "                 settings=settings, \n",
    "                 label=f'$full\\ (binned\\ Poissonian)$')\n",
    "############\n",
    "BGfull = np.load(f'/pbs/throng/lsst/users/cpayerne/LikelihoodsClusterAbundance/notebooks/Unbinned_likelihood_with_SSC/manuscript/SSC_full_binned.npy')\n",
    "sampleBGfull = MCSamples(samples=BGfull[9000:],\n",
    "names = names, \n",
    "                labels = labels, \n",
    "                 settings=settings, \n",
    "                 label=f'$full\\ (binned\\ Gaussian)$')"
   ]
  },
  {
   "cell_type": "code",
   "execution_count": 6,
   "id": "683223a5-6ab2-40a6-9655-054ecb8b7131",
   "metadata": {},
   "outputs": [
    {
     "data": {
      "text/plain": [
       "array([ -7.29705103, -22.47863693, -12.80936181])"
      ]
     },
     "execution_count": 6,
     "metadata": {},
     "output_type": "execute_result"
    }
   ],
   "source": [
    "100*((np.std(noSSCfull[9000:], axis=0)/np.std(BPfull[9000:], axis=0))-1)"
   ]
  },
  {
   "cell_type": "markdown",
   "id": "d191296a-8de4-4ea9-8bcd-392e76ee5ec6",
   "metadata": {},
   "source": [
    "# SSC"
   ]
  },
  {
   "cell_type": "code",
   "execution_count": 7,
   "id": "6b79edcc-b921-48fd-ad08-d522ec16a0eb",
   "metadata": {},
   "outputs": [
    {
     "name": "stderr",
     "output_type": "stream",
     "text": [
      "/tmp/ipykernel_161/3270761188.py:2: MatplotlibDeprecationWarning: The get_cmap function was deprecated in Matplotlib 3.7 and will be removed two minor releases later. Use ``matplotlib.colormaps[name]`` or ``matplotlib.colormaps.get_cmap(obj)`` instead.\n",
      "  colors = plt.cm.get_cmap('plasma', 5)\n"
     ]
    }
   ],
   "source": [
    "import matplotlib.pylab as pl\n",
    "colors = plt.cm.get_cmap('plasma', 5)\n",
    "c = [colors(i) for i in range(5)]\n",
    "#[samplenoSSCfull, sampleSSCfull, samplenoSSCsmall, sampleSSCsmall]"
   ]
  },
  {
   "cell_type": "code",
   "execution_count": 11,
   "id": "f6f7812a-f7b9-42e0-afc2-1e3df6894d21",
   "metadata": {},
   "outputs": [],
   "source": [
    "g = plots.get_subplot_plotter(subplot_size=4)\n",
    "#plt.style.use('dark_background')\n",
    "range_ = {'1':[0.26, .33], '2':[0.81,.85], '3':[0.9,1]}\n",
    "g.settings.lab_fontsize = 20\n",
    "g.settings.legend_fontsize = 20\n",
    "g.settings.axes_fontsize = 20\n",
    "g.settings.axis_marker_lw =1\n",
    "#samplenoSSCfull\n",
    "g.triangle_plot([  sampleBGfull,sampleBPfull,],['1','2','3'],\n",
    "                #filled=True,\n",
    "                filled=[True, True,False, False, ],\n",
    "                contour_colors = [ 'b', 'r','k', 'k',],\n",
    "                contour_ls=['-', '-', '--', '-'],\n",
    "                contour_lws=[1,1, 1.5, 1],\n",
    "                #param_limits = range_,\n",
    "                #contour_levels=3,\n",
    "                marker_args = {'linewidth':40}, markers={'1':0.30711, '2':.8288, '3':0.96})\n",
    "#g.triangle_plot(samples_SSC[1], filled=False, contour_colors = [colors(i) for i in range(len(samples))], contour_ls='--',\n",
    "#                contour_lws=2,\n",
    "#                       fine_bins = 1,  marker_args = {'linewidth':2}, markers={'1':0.30711, '2':.8288})\n",
    "plt.savefig('unbinned_noSSC_vs_SSC_nbinned_unbinned.png', dpi = 300)\n",
    "plt.show()"
   ]
  },
  {
   "cell_type": "code",
   "execution_count": null,
   "id": "fe434ca8-7616-461a-9eaa-58bb78720259",
   "metadata": {},
   "outputs": [],
   "source": []
  },
  {
   "cell_type": "code",
   "execution_count": null,
   "id": "bb8d47b8-e1d9-4852-b0f4-d59e5f14c383",
   "metadata": {},
   "outputs": [],
   "source": []
  }
 ],
 "metadata": {
  "kernelspec": {
   "display_name": "myenv",
   "language": "python",
   "name": "myenv"
  },
  "language_info": {
   "codemirror_mode": {
    "name": "ipython",
    "version": 3
   },
   "file_extension": ".py",
   "mimetype": "text/x-python",
   "name": "python",
   "nbconvert_exporter": "python",
   "pygments_lexer": "ipython3",
   "version": "3.10.10"
  }
 },
 "nbformat": 4,
 "nbformat_minor": 5
}
