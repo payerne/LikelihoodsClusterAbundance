{
 "cells": [
  {
   "cell_type": "code",
   "execution_count": 1,
   "metadata": {},
   "outputs": [],
   "source": [
    "import numpy as np\n",
    "import matplotlib.pyplot as plt\n",
    "from scipy.optimize import curve_fit\n",
    "import sys\n",
    "import pandas as pd\n",
    "import glob\n",
    "from scipy.stats import poisson\n",
    "from scipy.stats import multivariate_normal\n",
    "import pyccl as ccl\n",
    "def binning(corner): return [[corner[i],corner[i+1]] for i in range(len(corner)-1)]\n",
    "%load_ext autoreload\n",
    "%autoreload 2\n",
    "sys.path.append('/pbs/throng/lsst/users/cpayerne/LikelihoodsClusterAbundance/modules/')\n",
    "import abundance as cl_count\n",
    "import covariance as covar\n",
    "import lnlikelihood\n",
    "import mvp_pdf\n",
    "import edit"
   ]
  },
  {
   "cell_type": "code",
   "execution_count": 2,
   "metadata": {},
   "outputs": [],
   "source": [
    "Omega_c_true = 0.30711 - 0.048254\n",
    "Omega_b_true = 0.048254\n",
    "sigma8_true = .8288\n",
    "Omegam_true = 0.30711\n",
    "True_value = [Omega_c_true + Omega_b_true, sigma8_true]\n",
    "cosmo = ccl.Cosmology(Omega_c = Omega_c_true, Omega_b = Omega_b_true, h = 0.6777, sigma8 = sigma8_true, n_s=0.96)"
   ]
  },
  {
   "cell_type": "markdown",
   "metadata": {},
   "source": [
    "# Prediction"
   ]
  },
  {
   "cell_type": "code",
   "execution_count": 3,
   "metadata": {},
   "outputs": [],
   "source": [
    "n_z_bin = 80\n",
    "n_logm_bin = 30\n",
    "z_corner = np.linspace(0.2, 1.2, n_z_bin + 1)\n",
    "logm_corner = np.linspace(14.2, 15.6, n_logm_bin + 1)\n",
    "Z_bin, logMass_bin = binning(z_corner), binning(logm_corner)"
   ]
  },
  {
   "cell_type": "markdown",
   "metadata": {},
   "source": [
    "# Theoretical prediction"
   ]
  },
  {
   "cell_type": "code",
   "execution_count": 4,
   "metadata": {},
   "outputs": [],
   "source": [
    "clc = cl_count.ClusterAbundance()\n",
    "#choose the halo mass function and mass definition\n",
    "massdef = ccl.halos.massdef.MassDef('vir', 'critical', c_m_relation=None)\n",
    "hmd = ccl.halos.hmfunc.MassFuncDespali16(cosmo, mass_def=massdef)\n",
    "halobias = ccl.halos.hbias.HaloBiasTinker10(cosmo, mass_def= massdef, mass_def_strict=True)\n",
    "clc.set_cosmology(cosmo = cosmo, hmd = hmd, massdef = massdef)\n",
    "clc.sky_area = (0.25) * 4 * np.pi\n",
    "Sij = clc.sky_area/(4*np.pi)\n",
    "z_grid = np.linspace(0., 2.1, 2000)\n",
    "logm_grid = np.linspace(14.1, 15.7, 2001)\n",
    "clc.compute_multiplicity_grid_MZ(z_grid = z_grid, logm_grid = logm_grid)\n",
    "Abundance = clc.Cluster_Abundance_MZ(Redshift_bin = Z_bin, Proxy_bin = logMass_bin, method = 'simps')\n",
    "clc.compute_halo_bias_grid_MZ(z_grid = z_corner, logm_grid = logm_corner, halobiais = halobias)\n",
    "NHalo_bias = clc.Nhalo_bias_MZ(Redshift_bin = Z_bin, Proxy_bin = logMass_bin, method = 'simps')"
   ]
  },
  {
   "cell_type": "code",
   "execution_count": 5,
   "metadata": {},
   "outputs": [],
   "source": [
    "Covariance = covar.Covariance_matrix()\n",
    "#use PySSC from Lacasa et al.\n",
    "Sij = Covariance.matter_fluctuation_amplitude_fullsky(Z_bin)"
   ]
  },
  {
   "cell_type": "code",
   "execution_count": 6,
   "metadata": {},
   "outputs": [
    {
     "data": {
      "text/plain": [
       "array([[ 6.80052878e-05,  1.89970124e-05, -8.79450452e-07, ...,\n",
       "         4.79599770e-10, -1.59705260e-08,  5.29311487e-09],\n",
       "       [ 1.89970124e-05,  5.82544019e-05,  1.70146310e-05, ...,\n",
       "         1.27628693e-08, -2.06516118e-08,  2.60710071e-09],\n",
       "       [-8.79450452e-07,  1.70146310e-05,  5.35429579e-05, ...,\n",
       "         6.23924997e-10, -9.98526032e-09, -4.24557177e-09],\n",
       "       ...,\n",
       "       [ 4.79599770e-10,  1.27628693e-08,  6.23924997e-10, ...,\n",
       "         1.75330600e-06,  8.19413545e-07,  2.83036534e-07],\n",
       "       [-1.59705260e-08, -2.06516118e-08, -9.98526032e-09, ...,\n",
       "         8.19413545e-07,  1.76898188e-06,  8.43642479e-07],\n",
       "       [ 5.29311487e-09,  2.60710071e-09, -4.24557177e-09, ...,\n",
       "         2.83036534e-07,  8.43642479e-07,  1.68908972e-06]])"
      ]
     },
     "execution_count": 6,
     "metadata": {},
     "output_type": "execute_result"
    }
   ],
   "source": [
    "Sij"
   ]
  },
  {
   "cell_type": "code",
   "execution_count": 7,
   "metadata": {},
   "outputs": [
    {
     "name": "stdout",
     "output_type": "stream",
     "text": [
      "top\n"
     ]
    }
   ],
   "source": [
    "Sample_covariance = Covariance.sample_covariance_full_sky(Z_bin, logMass_bin,  NHalo_bias, Sij)/0.25"
   ]
  },
  {
   "cell_type": "code",
   "execution_count": 8,
   "metadata": {},
   "outputs": [],
   "source": [
    "Covariance_prediction = Sample_covariance + np.diag(Abundance.flatten())"
   ]
  },
  {
   "cell_type": "code",
   "execution_count": 9,
   "metadata": {},
   "outputs": [],
   "source": [
    "indexz = 3\n",
    "indexm = 3"
   ]
  },
  {
   "cell_type": "code",
   "execution_count": 10,
   "metadata": {},
   "outputs": [
    {
     "data": {
      "text/plain": [
       "85.87285047588516"
      ]
     },
     "execution_count": 10,
     "metadata": {},
     "output_type": "execute_result"
    }
   ],
   "source": [
    "Abundance[indexm,indexz]"
   ]
  },
  {
   "cell_type": "code",
   "execution_count": 11,
   "metadata": {},
   "outputs": [
    {
     "name": "stderr",
     "output_type": "stream",
     "text": [
      "/pbs/throng/lsst/users/cpayerne/LikelihoodsClusterAbundance/modules/mvp_pdf.py:161: VisibleDeprecationWarning: Creating an ndarray from ragged nested sequences (which is a list-or-tuple of lists-or-tuples-or ndarrays with different lengths or shapes) is deprecated. If you meant to do this, you must specify 'dtype=object' when creating the ndarray\n",
      "  P_MVP = np.array([P_MVP_table[indexes] for indexes in self.split_indexes])\n"
     ]
    }
   ],
   "source": [
    "mu_list = Abundance.flatten()\n",
    "var_SSC_list = Sample_covariance.diagonal()\n",
    "MVP = mvp_pdf.MVP(mu_list, var_SSC_list)\n",
    "MVP._set_axis(5, mu_list, var_SSC_list)\n",
    "N_, P_MVP = MVP.p_mvp(mu_list, var_SSC_list)"
   ]
  },
  {
   "cell_type": "code",
   "execution_count": 12,
   "metadata": {},
   "outputs": [],
   "source": [
    "mu_list_order = np.sort(mu_list)"
   ]
  },
  {
   "cell_type": "code",
   "execution_count": 13,
   "metadata": {},
   "outputs": [
    {
     "data": {
      "text/plain": [
       "array([2.80893998e-06, 3.39422664e-06, 4.09553100e-06, ...,\n",
       "       3.18553878e+02, 3.18666298e+02, 3.18778608e+02])"
      ]
     },
     "execution_count": 13,
     "metadata": {},
     "output_type": "execute_result"
    }
   ],
   "source": [
    "mu_list_order"
   ]
  },
  {
   "cell_type": "markdown",
   "metadata": {},
   "source": [
    "# likelihood"
   ]
  },
  {
   "cell_type": "code",
   "execution_count": 14,
   "metadata": {},
   "outputs": [],
   "source": [
    "lnL = lnlikelihood.lnLikelihood()"
   ]
  },
  {
   "cell_type": "code",
   "execution_count": 15,
   "metadata": {},
   "outputs": [
    {
     "name": "stdout",
     "output_type": "stream",
     "text": [
      "[0.0038517732550693144, 0.015886746667915886, 318.7786075690562]\n"
     ]
    },
    {
     "data": {
      "image/png": "[encoded data removed]",
      "text/plain": [
       "<Figure size 1296x288 with 3 Axes>"
      ]
     },
     "metadata": {
      "needs_background": "light"
     },
     "output_type": "display_data"
    }
   ],
   "source": [
    "k = 0\n",
    "intervals = [[1,2],[50, 60],[1200,2000]]\n",
    "mu_list_plot = [mu_list_order[190], mu_list_order[300], mu_list_order[-1]]\n",
    "print(mu_list_plot)\n",
    "interval_done = [False, False, False]\n",
    "bins = [np.arange(10)-.5, np.linspace(1,500,100), np.linspace(intervals[2][0],intervals[2][1],70)]\n",
    "fig, ax = plt.subplots(1, 3, figsize = (18,4))\n",
    "plt.subplots_adjust(wspace = .0)\n",
    "plt.rcParams['axes.axisbelow'] = True\n",
    "for n, p_mvp, i in zip(N_, P_MVP, np.arange(len(N_))):\n",
    "    mu = mu_list[i]\n",
    "    rv = poisson(mu)\n",
    "    n_sigma = 5\n",
    "    mask = (n > mu - n_sigma*np.sqrt((var_SSC_list[i] + mu)))*(n < mu + n_sigma*np.sqrt((var_SSC_list[i] + mu)))\n",
    "    poisson_ = rv.pmf(n)\n",
    "    pdf = multivariate_normal.pdf(n, mean=mu, cov=var_SSC_list[i] + mu)\n",
    "    for s, interval in enumerate(intervals):\n",
    "        if (mu == mu_list_plot[s])*(interval_done[s] == False):\n",
    "            interval_done[s] = True\n",
    "            #ax[s].plot(n[mask], poisson_[mask], '-k', linewidth = 3, label = 'Poissonian')\n",
    "            #ax[s].plot(n[mask], pdf[mask]/np.sum(pdf), '-g', linewidth = 3, label = 'Gaussian')\n",
    "            #ax[s].plot(n[mask], p_mvp[mask], '--r', linewidth = 3, label = 'MVP')\n",
    "            \n",
    "            #ax[s].scatter(n, poisson_, s=20,c='m', label = 'Poissonian', zorder=0)\n",
    "            Takada = lnL.lnLikelihood_Binned_MPG_approx(mu, n, var_SSC_list[i], single_variate = True)\n",
    "            y = poisson_ * (1 + 0.5*var_SSC_list[i]*((1-n/mu)**2 -n/(mu**2)))\n",
    "            ax[s].plot(n, y/np.sum(y),color= 'tab:orange', label = 'GPC (approx)')\n",
    "            \n",
    "            #ax[s].plot(n, pdf/np.sum(pdf), '-r', linewidth = 4, label = 'Gaussian')\n",
    "            ax[s].scatter(n, p_mvp, s=5, label = 'GPC (full)')\n",
    "            ax[s].set_xlabel(r'$N_{\\rm obs}$', fontsize = 20)\n",
    "            ax[s].tick_params(axis='both', which = 'major', labelsize= 15)\n",
    "            if s == 0:\n",
    "                ax[s].legend(frameon = False, framealpha = 1, fontsize = 16, loc = 'best')\n",
    "            plt.setp( ax[s].get_yticklabels(), visible=False )\n",
    "#plt.savefig('pdf_comp.pdf', bbox_inches='tight', dpi=300)"
   ]
  },
  {
   "cell_type": "code",
   "execution_count": null,
   "metadata": {},
   "outputs": [],
   "source": []
  }
 ],
 "metadata": {
  "kernelspec": {
   "display_name": "mydesc",
   "language": "python",
   "name": "mydesc"
  },
  "language_info": {
   "codemirror_mode": {
    "name": "ipython",
    "version": 3
   },
   "file_extension": ".py",
   "mimetype": "text/x-python",
   "name": "python",
   "nbconvert_exporter": "python",
   "pygments_lexer": "ipython3",
   "version": "3.7.6"
  }
 },
 "nbformat": 4,
 "nbformat_minor": 4
}
