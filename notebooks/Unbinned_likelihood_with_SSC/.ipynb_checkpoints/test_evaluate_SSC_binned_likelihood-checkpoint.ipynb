{
 "cells": [
  {
   "cell_type": "code",
   "execution_count": 1,
   "id": "c3c4fe13-c5c7-475d-8228-0e3246d26a78",
   "metadata": {},
   "outputs": [
    {
     "name": "stderr",
     "output_type": "stream",
     "text": [
      "/pbs/home/c/cpayerne/.conda/envs/myenv/lib/python3.10/site-packages/tqdm/auto.py:21: TqdmWarning: IProgress not found. Please update jupyter and ipywidgets. See https://ipywidgets.readthedocs.io/en/stable/user_install.html\n",
      "  from .autonotebook import tqdm as notebook_tqdm\n"
     ]
    }
   ],
   "source": [
    "%load_ext autoreload\n",
    "\n",
    "%autoreload 2\n",
    "import sys\n",
    "import corner\n",
    "import numpy as np\n",
    "import matplotlib.pyplot as plt\n",
    "import scipy\n",
    "def binning(corner): return [[corner[i],corner[i+1]] for i in range(len(corner)-1)]\n",
    "sys.path.append('/pbs/throng/lsst/users/cpayerne/LikelihoodsClusterAbundance/modules/')\n",
    "import covariance as covar\n",
    "import utils\n",
    "import pandas as pd\n",
    "import abundance as cl_count\n",
    "import forecast\n",
    "import emcee\n",
    "import unbinned_model as ub\n",
    "from lnlikelihood import lnLikelihood\n",
    "import pyccl as ccl\n",
    "import edit\n",
    "import h5py, glob\n",
    "Omega_c_true = 0.30711 - 0.048254\n",
    "Omega_b_true = 0.048254\n",
    "sigma8_true = .8288\n",
    "Omegam_true = 0.30711\n",
    "True_value = [Omega_c_true + Omega_b_true, sigma8_true]"
   ]
  },
  {
   "cell_type": "code",
   "execution_count": 2,
   "id": "21414cf3-46d2-48ed-bffa-cc6334d66e74",
   "metadata": {},
   "outputs": [],
   "source": [
    "cosmo = ccl.Cosmology(Omega_c = Omegam_true - 0.048254, Omega_b = 0.048254, \n",
    "                              h = 0.6777, sigma8 = sigma8_true, n_s=0.96)"
   ]
  },
  {
   "cell_type": "code",
   "execution_count": 3,
   "id": "ab3b8b8f-8bc1-449c-8b18-f60b01d5a31f",
   "metadata": {},
   "outputs": [],
   "source": [
    "mapping = ub.Mapping()"
   ]
  },
  {
   "cell_type": "code",
   "execution_count": 4,
   "id": "c7ae8d4e-b1fe-4d55-9bab-4474a5fa8278",
   "metadata": {},
   "outputs": [],
   "source": [
    "mapping.set_cosmology(cosmo)"
   ]
  },
  {
   "cell_type": "code",
   "execution_count": 5,
   "id": "3896a456-f5a9-43c5-8c2b-589ad29275a6",
   "metadata": {},
   "outputs": [],
   "source": [
    "z_grid = np.linspace(0.2, .5, 211)\n",
    "logm_grid = np.linspace(14.5, 14.6, 200)\n",
    "fsky = 1/4"
   ]
  },
  {
   "cell_type": "code",
   "execution_count": 6,
   "id": "356a68d2-4437-4b5f-8023-f118b1e859dd",
   "metadata": {},
   "outputs": [],
   "source": [
    "dN_dlogmdz_map = mapping.compute_dN_dlogMdzdOmega_map(z_grid, logm_grid, fsky)\n",
    "halo_bias_map = mapping.compute_halo_bias_map(z_grid, logm_grid)\n",
    "sigma2_map = mapping.compute_sigma2_map(z_grid, fsky)"
   ]
  },
  {
   "cell_type": "code",
   "execution_count": 7,
   "id": "ef5421dd-0287-4a6d-ad98-142b45001b93",
   "metadata": {},
   "outputs": [],
   "source": [
    "mapping.interp(z_grid, logm_grid, sigma2_map, dN_dlogmdz_map, halo_bias_map, )"
   ]
  },
  {
   "cell_type": "code",
   "execution_count": 8,
   "id": "acbb22ed-4415-48f6-9328-5107277d1d2b",
   "metadata": {},
   "outputs": [],
   "source": [
    "Nth = mapping.compute_N_th(z_grid, logm_grid, dN_dlogmdz_map)"
   ]
  },
  {
   "cell_type": "code",
   "execution_count": 9,
   "id": "4c662671-465f-4875-b7c1-6af636450f5e",
   "metadata": {},
   "outputs": [
    {
     "data": {
      "text/plain": [
       "2989.2056579885307"
      ]
     },
     "execution_count": 9,
     "metadata": {},
     "output_type": "execute_result"
    }
   ],
   "source": [
    "Nth"
   ]
  },
  {
   "cell_type": "code",
   "execution_count": 10,
   "id": "5d73a4e4-e35c-49c2-915c-82494ac3ba38",
   "metadata": {},
   "outputs": [],
   "source": [
    "NNSbb_thth = mapping.compute_NNSbb_thth(z_grid, logm_grid, sigma2_map, dN_dlogmdz_map, halo_bias_map, Nth)"
   ]
  },
  {
   "cell_type": "code",
   "execution_count": 11,
   "id": "37bb2ccd-a198-479b-9c21-dca4f7445d91",
   "metadata": {},
   "outputs": [
    {
     "data": {
      "text/plain": [
       "493.11544169926344"
      ]
     },
     "execution_count": 11,
     "metadata": {},
     "output_type": "execute_result"
    }
   ],
   "source": [
    "NNSbb_thth "
   ]
  },
  {
   "cell_type": "markdown",
   "id": "e7a47da9-ae97-45ad-b912-3855dcc3bece",
   "metadata": {},
   "source": [
    "# Data"
   ]
  },
  {
   "cell_type": "code",
   "execution_count": 12,
   "id": "e1693569-c109-42ec-a5c8-8339493b7edc",
   "metadata": {},
   "outputs": [],
   "source": [
    "where_cat = '/sps/lsst/users/cpayerne/1000xsimulations/1000_simulations/afumagalli/catalogs/plc_14/*'\n",
    "cat = glob.glob(where_cat)\n",
    "\n",
    "for i ,c in enumerate(cat):\n",
    "    cat_test = pd.read_csv(c ,sep=' ',skiprows=12, names=['M','z','dec','ra'])\n",
    "    ra, dec, redshift, Mvir = cat_test['ra'], cat_test['dec'], cat_test['z'], cat_test['M']/0.6777\n",
    "    if i == 3: break"
   ]
  },
  {
   "cell_type": "code",
   "execution_count": 13,
   "id": "cbd7ae6a-5dc8-44e9-9048-218f995c3b3b",
   "metadata": {},
   "outputs": [],
   "source": [
    "mask = (redshift > .2)&(redshift < .5)\n",
    "mask = mask &(np.log10(Mvir) > 14.5)&(np.log10(Mvir) < 14.6)\n",
    "redshift_cut = redshift[mask]\n",
    "Mvir_cut = Mvir[mask]"
   ]
  },
  {
   "cell_type": "code",
   "execution_count": 14,
   "id": "5246c98f-fa9a-4767-8b99-22c1ca5ed35e",
   "metadata": {},
   "outputs": [],
   "source": [
    "Nobs = len(Mvir_cut)"
   ]
  },
  {
   "cell_type": "code",
   "execution_count": 15,
   "id": "4ce7a75c-3241-4cc5-a762-2536534cbb49",
   "metadata": {},
   "outputs": [
    {
     "data": {
      "text/plain": [
       "2951"
      ]
     },
     "execution_count": 15,
     "metadata": {},
     "output_type": "execute_result"
    }
   ],
   "source": [
    "Nobs"
   ]
  },
  {
   "cell_type": "code",
   "execution_count": 16,
   "id": "a4e09768-4aff-4807-bd70-d0c1b3c8edd9",
   "metadata": {},
   "outputs": [],
   "source": [
    "z_sample = redshift_cut\n",
    "logm_sample = np.log10(Mvir_cut)"
   ]
  },
  {
   "cell_type": "code",
   "execution_count": 17,
   "id": "5d9df464-95d4-4430-b2da-d734a1cc136e",
   "metadata": {},
   "outputs": [],
   "source": [
    "#z_sample = np.random.choice(redshift_cut, size=2000, replace=False)\n",
    "#logm_sample = np.random.choice(np.log10(Mvir_cut), size=2000, replace=False)"
   ]
  },
  {
   "cell_type": "code",
   "execution_count": 18,
   "id": "cf6a0d16-61fa-4a2d-bedf-14e4dfab8e05",
   "metadata": {},
   "outputs": [],
   "source": [
    "#z_sample = np.linspace(.2, 1, 3000)\n",
    "#logm_sample = np.linspace(14.5, 15, 3000)"
   ]
  },
  {
   "cell_type": "code",
   "execution_count": 32,
   "id": "97ff238e-6b4c-4142-b255-51be24e9d032",
   "metadata": {},
   "outputs": [],
   "source": [
    "mapping.create_reduced_sample( z_sample, logm_sample, n_samples =3000)"
   ]
  },
  {
   "cell_type": "code",
   "execution_count": 33,
   "id": "d2b5b337-4539-42d0-9b57-43f65f043faa",
   "metadata": {},
   "outputs": [],
   "source": [
    "NNSbb_obsobs = mapping.compute_NNSbb_obsobs(z_grid, logm_grid, \n",
    "                                        sigma2_map, dN_dlogmdz_map, halo_bias_map, \n",
    "                                        z_sample, logm_sample, Nobs, reduced_sample = True)"
   ]
  },
  {
   "cell_type": "code",
   "execution_count": 34,
   "id": "596cba68-3237-415b-a2dd-925ed213a732",
   "metadata": {},
   "outputs": [
    {
     "name": "stdout",
     "output_type": "stream",
     "text": [
      "493.0894531037584\n"
     ]
    }
   ],
   "source": [
    "print(NNSbb_obsobs)"
   ]
  },
  {
   "cell_type": "code",
   "execution_count": 35,
   "id": "8b6b30ce-af00-4829-81be-820fa2dd8e32",
   "metadata": {},
   "outputs": [],
   "source": [
    "NNSbb_obsth = mapping.compute_NNSbb_obsth(z_grid, logm_grid, \n",
    "                                      sigma2_map, dN_dlogmdz_map, halo_bias_map, \n",
    "                                      z_sample, logm_sample, Nth, Nobs, reduced_sample = True)"
   ]
  },
  {
   "cell_type": "code",
   "execution_count": 36,
   "id": "c39c0e27-190f-4e8a-be95-118ab090bb8d",
   "metadata": {},
   "outputs": [
    {
     "data": {
      "text/plain": [
       "487.8187951924218"
      ]
     },
     "execution_count": 36,
     "metadata": {},
     "output_type": "execute_result"
    }
   ],
   "source": [
    "NNSbb_obsth "
   ]
  },
  {
   "cell_type": "code",
   "execution_count": 37,
   "id": "d8a7daa8-14c3-4c02-8b80-8a10e5ae2085",
   "metadata": {},
   "outputs": [],
   "source": [
    "NSb2_obs = mapping.compute_NSb2_obs(z_grid, logm_grid, sigma2_map, dN_dlogmdz_map, halo_bias_map, \n",
    "                            z_sample, logm_sample, Nth, Nobs, reduced_sample = True)"
   ]
  },
  {
   "cell_type": "code",
   "execution_count": 38,
   "id": "c139874b-e974-489b-85ca-3bfe0091c887",
   "metadata": {},
   "outputs": [
    {
     "data": {
      "text/plain": [
       "8.574741487160047"
      ]
     },
     "execution_count": 38,
     "metadata": {},
     "output_type": "execute_result"
    }
   ],
   "source": [
    "NSb2_obs"
   ]
  },
  {
   "cell_type": "code",
   "execution_count": 39,
   "id": "be6e087a-4f99-4a7b-8cea-e9384cd51720",
   "metadata": {},
   "outputs": [],
   "source": [
    "dN_dzdlogM = mapping.N_map_interp_fct(logm_sample, z_sample, grid = False)"
   ]
  },
  {
   "cell_type": "code",
   "execution_count": 40,
   "id": "62778f8a-9ccd-4634-acc8-7f62296d6327",
   "metadata": {},
   "outputs": [],
   "source": [
    "import unbinned_likelihood"
   ]
  },
  {
   "cell_type": "code",
   "execution_count": 41,
   "id": "2ec7f7d4-e32a-4626-afd2-46cc7b45dcee",
   "metadata": {},
   "outputs": [],
   "source": [
    "r = unbinned_likelihood.lnLikelihood_UnBinned_Poissonian_SSC(dN_dzdlogM, Nth, Nobs,\n",
    "                                     NNSbb_obsobs,\n",
    "                                     NNSbb_obsth,\n",
    "                                     NNSbb_thth,\n",
    "                                     NSb2_obs)"
   ]
  },
  {
   "cell_type": "code",
   "execution_count": 42,
   "id": "a4a699c5-7f66-4358-b348-226c9642f166",
   "metadata": {},
   "outputs": [
    {
     "data": {
      "text/plain": [
       "31073.625951738253"
      ]
     },
     "execution_count": 42,
     "metadata": {},
     "output_type": "execute_result"
    }
   ],
   "source": [
    "r"
   ]
  },
  {
   "cell_type": "code",
   "execution_count": 43,
   "id": "dd7e2e7a-dd1c-4419-854d-825ad66aa53c",
   "metadata": {},
   "outputs": [],
   "source": [
    "r = unbinned_likelihood.lnLikelihood_UnBinned_Poissonian(dN_dzdlogM, Nth,\n",
    "                                     )"
   ]
  },
  {
   "cell_type": "code",
   "execution_count": 44,
   "id": "156b6e35-1d12-4ecd-ae78-09cfc4663193",
   "metadata": {},
   "outputs": [
    {
     "data": {
      "text/plain": [
       "31072.93466555552"
      ]
     },
     "execution_count": 44,
     "metadata": {},
     "output_type": "execute_result"
    }
   ],
   "source": [
    "r"
   ]
  },
  {
   "cell_type": "code",
   "execution_count": null,
   "id": "ccea4223-5897-44a5-a332-41345bc871c4",
   "metadata": {},
   "outputs": [],
   "source": []
  },
  {
   "cell_type": "code",
   "execution_count": null,
   "id": "e3178723-b5eb-4216-8f4f-ec1ab03e3436",
   "metadata": {},
   "outputs": [],
   "source": []
  }
 ],
 "metadata": {
  "kernelspec": {
   "display_name": "myenv",
   "language": "python",
   "name": "myenv"
  },
  "language_info": {
   "codemirror_mode": {
    "name": "ipython",
    "version": 3
   },
   "file_extension": ".py",
   "mimetype": "text/x-python",
   "name": "python",
   "nbconvert_exporter": "python",
   "pygments_lexer": "ipython3",
   "version": "3.10.10"
  }
 },
 "nbformat": 4,
 "nbformat_minor": 5
}
