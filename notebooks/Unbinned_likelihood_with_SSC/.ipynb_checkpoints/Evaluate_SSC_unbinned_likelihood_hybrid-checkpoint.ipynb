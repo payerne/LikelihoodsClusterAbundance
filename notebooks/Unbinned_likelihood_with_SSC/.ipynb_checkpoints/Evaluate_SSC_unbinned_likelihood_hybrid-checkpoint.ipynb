{
 "cells": [
  {
   "cell_type": "code",
   "execution_count": 1,
   "id": "c3c4fe13-c5c7-475d-8228-0e3246d26a78",
   "metadata": {},
   "outputs": [
    {
     "name": "stderr",
     "output_type": "stream",
     "text": [
      "/pbs/home/c/cpayerne/.conda/envs/myenv/lib/python3.10/site-packages/tqdm/auto.py:21: TqdmWarning: IProgress not found. Please update jupyter and ipywidgets. See https://ipywidgets.readthedocs.io/en/stable/user_install.html\n",
      "  from .autonotebook import tqdm as notebook_tqdm\n"
     ]
    }
   ],
   "source": [
    "%load_ext autoreload\n",
    "\n",
    "%autoreload 2\n",
    "import sys\n",
    "import corner\n",
    "import numpy as np\n",
    "import matplotlib.pyplot as plt\n",
    "import scipy\n",
    "import astropy.units as u\n",
    "def binning(corner): return [[corner[i],corner[i+1]] for i in range(len(corner)-1)]\n",
    "sys.path.append('/pbs/throng/lsst/users/cpayerne/LikelihoodsClusterAbundance/modules/')\n",
    "import covariance as covar\n",
    "import utils\n",
    "import pandas as pd\n",
    "import abundance as cl_count\n",
    "import forecast\n",
    "import emcee\n",
    "sys.path.append('/pbs/throng/lsst/users/cpayerne/LikelihoodsClusterAbundance/notebooks/Unbinned_likelihood_with_SSC/mcmc_modules')\n",
    "import unbinned_model as ub\n",
    "from lnlikelihood import lnLikelihood\n",
    "import pyccl as ccl\n",
    "import edit\n",
    "import h5py, glob\n",
    "from astropy.coordinates import SkyCoord\n",
    "from astropy.table import Table\n",
    "Omega_c_true = 0.30711 - 0.048254\n",
    "Omega_b_true = 0.048254\n",
    "sigma8_true = .8288\n",
    "Omegam_true = 0.30711\n",
    "True_value = [Omega_c_true + Omega_b_true, sigma8_true]"
   ]
  },
  {
   "cell_type": "code",
   "execution_count": 2,
   "id": "21414cf3-46d2-48ed-bffa-cc6334d66e74",
   "metadata": {},
   "outputs": [],
   "source": [
    "cosmo = ccl.Cosmology(Omega_c = Omegam_true - 0.048254, Omega_b = 0.048254, \n",
    "                              h = 0.6777, sigma8 = sigma8_true, n_s=0.96)"
   ]
  },
  {
   "cell_type": "code",
   "execution_count": 3,
   "id": "ab3b8b8f-8bc1-449c-8b18-f60b01d5a31f",
   "metadata": {},
   "outputs": [],
   "source": [
    "mapping = ub.Mapping()"
   ]
  },
  {
   "cell_type": "code",
   "execution_count": 4,
   "id": "c7ae8d4e-b1fe-4d55-9bab-4474a5fa8278",
   "metadata": {},
   "outputs": [],
   "source": [
    "mapping.set_cosmology(cosmo)"
   ]
  },
  {
   "cell_type": "code",
   "execution_count": 5,
   "id": "3896a456-f5a9-43c5-8c2b-589ad29275a6",
   "metadata": {},
   "outputs": [],
   "source": [
    "z_grid = np.linspace(.2, 1, 500)\n",
    "logm_grid = np.linspace(14.9, 15.6, 501)\n",
    "fsky_default = 1/2\n",
    "fsky = fsky_default/3\n",
    "fsky = 1/4\n",
    "theta_aperture = np.arccos(1-2*fsky)*180/np.pi #deg"
   ]
  },
  {
   "cell_type": "code",
   "execution_count": 6,
   "id": "54a26d11-99c3-4d74-b83d-0959ce92b300",
   "metadata": {},
   "outputs": [
    {
     "data": {
      "text/plain": [
       "60.00000000000001"
      ]
     },
     "execution_count": 6,
     "metadata": {},
     "output_type": "execute_result"
    }
   ],
   "source": [
    "theta_aperture"
   ]
  },
  {
   "cell_type": "code",
   "execution_count": 7,
   "id": "356a68d2-4437-4b5f-8023-f118b1e859dd",
   "metadata": {},
   "outputs": [],
   "source": [
    "dN_dlogmdz_map = mapping.compute_dN_dlogMdzdOmega_map(z_grid, logm_grid, fsky)\n",
    "halo_bias_map = mapping.compute_halo_bias_map(z_grid, logm_grid)\n",
    "sigma2_map = mapping.compute_sigma2_map(z_grid, fsky)"
   ]
  },
  {
   "cell_type": "code",
   "execution_count": 37,
   "id": "87a91a4b-e39c-47b8-a248-dd3d21a00aa6",
   "metadata": {},
   "outputs": [],
   "source": [
    "indexz = 1\n",
    "indexm = 499\n",
    "err = np.sqrt(sigma2_map[indexz,indexz]) * halo_bias_map[indexz,indexm]"
   ]
  },
  {
   "cell_type": "code",
   "execution_count": 38,
   "id": "ba2602d7-1697-4f24-9583-f24a40261cb0",
   "metadata": {},
   "outputs": [
    {
     "data": {
      "text/plain": [
       "11.469036639775188"
      ]
     },
     "execution_count": 38,
     "metadata": {},
     "output_type": "execute_result"
    }
   ],
   "source": [
    "halo_bias_map[indexz,indexm]"
   ]
  },
  {
   "cell_type": "code",
   "execution_count": 41,
   "id": "cd229f1b-7214-4b4b-92e3-98f463b490fe",
   "metadata": {},
   "outputs": [
    {
     "data": {
      "text/plain": [
       "[<matplotlib.lines.Line2D at 0x7f6f1e34b1c0>]"
      ]
     },
     "execution_count": 41,
     "metadata": {},
     "output_type": "execute_result"
    },
    {
     "data": {
      "image/png": "[encoded data removed]",
      "text/plain": [
       "<Figure size 640x480 with 1 Axes>"
      ]
     },
     "metadata": {},
     "output_type": "display_data"
    }
   ],
   "source": [
    "x = np.linspace(-2, 2, 100)\n",
    "y= np.exp(-(1-x)**2/(2*err**2))\n",
    "plt.plot(x, y/np.trapz(y,x))"
   ]
  },
  {
   "cell_type": "code",
   "execution_count": null,
   "id": "7f618b31-358b-41fd-8fa1-2feab045439d",
   "metadata": {},
   "outputs": [],
   "source": [
    "plt.imshow(halo_bias_map)\n",
    "plt.colorbar()"
   ]
  },
  {
   "cell_type": "code",
   "execution_count": null,
   "id": "ef5421dd-0287-4a6d-ad98-142b45001b93",
   "metadata": {},
   "outputs": [],
   "source": [
    "mapping.interp(z_grid, logm_grid, sigma2_map, dN_dlogmdz_map, halo_bias_map, )"
   ]
  },
  {
   "cell_type": "code",
   "execution_count": null,
   "id": "acbb22ed-4415-48f6-9328-5107277d1d2b",
   "metadata": {},
   "outputs": [],
   "source": [
    "Nth = mapping.compute_N_th(z_grid, logm_grid, dN_dlogmdz_map)"
   ]
  },
  {
   "cell_type": "code",
   "execution_count": null,
   "id": "4c662671-465f-4875-b7c1-6af636450f5e",
   "metadata": {},
   "outputs": [],
   "source": [
    "Nth"
   ]
  },
  {
   "cell_type": "code",
   "execution_count": null,
   "id": "5d73a4e4-e35c-49c2-915c-82494ac3ba38",
   "metadata": {},
   "outputs": [],
   "source": [
    "NNSbb_thth = mapping.compute_NNSbb_thth(z_grid, logm_grid, sigma2_map, dN_dlogmdz_map, halo_bias_map, Nth)"
   ]
  },
  {
   "cell_type": "code",
   "execution_count": null,
   "id": "37bb2ccd-a198-479b-9c21-dca4f7445d91",
   "metadata": {},
   "outputs": [],
   "source": [
    "NNSbb_thth"
   ]
  },
  {
   "cell_type": "markdown",
   "id": "e7a47da9-ae97-45ad-b912-3855dcc3bece",
   "metadata": {},
   "source": [
    "# Data"
   ]
  },
  {
   "cell_type": "code",
   "execution_count": null,
   "id": "e1693569-c109-42ec-a5c8-8339493b7edc",
   "metadata": {},
   "outputs": [],
   "source": [
    "where_cat = '/sps/lsst/users/cpayerne/1000xsimulations/1000_simulations/afumagalli/catalogs/plc_14/*'\n",
    "cat = glob.glob(where_cat)\n",
    "cat_test = pd.read_csv(cat[35] ,sep=' ',skiprows=12, names=['M','z','dec','ra'])\n",
    "ra, dec, redshift, Mvir = cat_test['ra'], cat_test['dec'], cat_test['z'], cat_test['M']/0.6777\n",
    "#select in aperture\n",
    "#ra_center, dec_center = 180, 60\n",
    "#cat_center_SkyCoord =SkyCoord(ra=np.array([ra_center])*u.degree, dec=np.array([dec_center])*u.degree)\n",
    "#pos_ra, pos_dec = cat_test['ra'], cat_test['dec']\n",
    "#cat_pinocchio_SkyCoord=SkyCoord(ra=np.array(pos_ra)*u.degree, dec=np.array(pos_dec)*u.degree)\n",
    "#idxcat_center, idxcat_pinocchio, d2d, d3d = cat_center_SkyCoord.search_around_sky(cat_pinocchio_SkyCoord, theta_aperture*u.deg)\n",
    "#resize catalog\n",
    "#cat_test = Table.from_pandas(cat_test)[idxcat_center]\n",
    "#raa, decc, redshift, Mvir = cat_test['ra'], cat_test['dec'], cat_test['z'], cat_test['M']/0.6777"
   ]
  },
  {
   "cell_type": "code",
   "execution_count": null,
   "id": "fc5443c7-b675-4bf8-931a-531cbdbe9296",
   "metadata": {},
   "outputs": [],
   "source": [
    "plt.hist2d(ra, dec,bins=100)\n",
    "#plt.hist2d(raa, decc,bins=100, cmap = 'bwr', cmin=1)\n",
    "plt.xlim(30, 350)\n",
    "plt.ylim(20, 90)\n",
    "plt.show()"
   ]
  },
  {
   "cell_type": "code",
   "execution_count": null,
   "id": "cbd7ae6a-5dc8-44e9-9048-218f995c3b3b",
   "metadata": {},
   "outputs": [],
   "source": [
    "mask = (redshift > .2)&(redshift < .5)\n",
    "mask = mask &(np.log10(Mvir) > 14.9)&(np.log10(Mvir) < 15.6)\n",
    "redshift_cut = redshift[mask]\n",
    "Mvir_cut = Mvir[mask]"
   ]
  },
  {
   "cell_type": "code",
   "execution_count": null,
   "id": "5246c98f-fa9a-4767-8b99-22c1ca5ed35e",
   "metadata": {},
   "outputs": [],
   "source": [
    "Nobs = len(Mvir_cut)"
   ]
  },
  {
   "cell_type": "code",
   "execution_count": null,
   "id": "4ce7a75c-3241-4cc5-a762-2536534cbb49",
   "metadata": {},
   "outputs": [],
   "source": [
    "Nobs"
   ]
  },
  {
   "cell_type": "code",
   "execution_count": null,
   "id": "a4e09768-4aff-4807-bd70-d0c1b3c8edd9",
   "metadata": {},
   "outputs": [],
   "source": [
    "z_sample = redshift_cut\n",
    "logm_sample = np.log10(Mvir_cut)"
   ]
  },
  {
   "cell_type": "code",
   "execution_count": null,
   "id": "f403c873-89f1-4174-9c1b-f059b5490a85",
   "metadata": {},
   "outputs": [],
   "source": [
    "#mapping.create_reduced_sample( z_sample, logm_sample, n_samples =2000)\n",
    "NNSbb_obsobs = mapping.compute_NNSbb_obsobs(z_grid, logm_grid, \n",
    "                                        sigma2_map, dN_dlogmdz_map, halo_bias_map, \n",
    "                                        z_sample, logm_sample, Nobs, reduced_sample = False)"
   ]
  },
  {
   "cell_type": "code",
   "execution_count": null,
   "id": "820f0ac1-e348-4f80-99ec-4ecf1620c136",
   "metadata": {},
   "outputs": [],
   "source": [
    "z_test = np.linspace(0.5, 1, 10)\n",
    "q=mapping.sigma2_interp_fct(z_test, z_test, grid=False)"
   ]
  },
  {
   "cell_type": "code",
   "execution_count": null,
   "id": "e97d660d-2236-41a3-af27-0b2c626ddaf2",
   "metadata": {},
   "outputs": [],
   "source": [
    "plt.plot(z_test,20**2*q)"
   ]
  },
  {
   "cell_type": "code",
   "execution_count": null,
   "id": "596cba68-3237-415b-a2dd-925ed213a732",
   "metadata": {},
   "outputs": [],
   "source": [
    "print(NNSbb_obsobs, )"
   ]
  },
  {
   "cell_type": "code",
   "execution_count": null,
   "id": "8b6b30ce-af00-4829-81be-820fa2dd8e32",
   "metadata": {},
   "outputs": [],
   "source": [
    "#mapping.create_reduced_sample( z_sample, logm_sample, n_samples =5000)\n",
    "NNSbb_obsth = mapping.compute_NNSbb_obsth(z_grid, logm_grid, \n",
    "                                      sigma2_map, dN_dlogmdz_map, halo_bias_map, \n",
    "                                      z_sample, logm_sample, Nth, Nobs, reduced_sample = False)"
   ]
  },
  {
   "cell_type": "code",
   "execution_count": null,
   "id": "c39c0e27-190f-4e8a-be95-118ab090bb8d",
   "metadata": {},
   "outputs": [],
   "source": [
    "NNSbb_obsth "
   ]
  },
  {
   "cell_type": "code",
   "execution_count": null,
   "id": "d8a7daa8-14c3-4c02-8b80-8a10e5ae2085",
   "metadata": {},
   "outputs": [],
   "source": [
    "NSb2_obs = mapping.compute_NSb2_obs(z_grid, logm_grid, sigma2_map, dN_dlogmdz_map, halo_bias_map, \n",
    "                            z_sample, logm_sample, Nth, Nobs, reduced_sample = False)"
   ]
  },
  {
   "cell_type": "code",
   "execution_count": null,
   "id": "c139874b-e974-489b-85ca-3bfe0091c887",
   "metadata": {},
   "outputs": [],
   "source": [
    "NSb2_obs/2"
   ]
  },
  {
   "cell_type": "code",
   "execution_count": null,
   "id": "be6e087a-4f99-4a7b-8cea-e9384cd51720",
   "metadata": {},
   "outputs": [],
   "source": [
    "dN_dzdlogM = mapping.N_map_interp_fct(logm_sample, z_sample, grid = False)"
   ]
  },
  {
   "cell_type": "code",
   "execution_count": null,
   "id": "62778f8a-9ccd-4634-acc8-7f62296d6327",
   "metadata": {},
   "outputs": [],
   "source": [
    "import unbinned_likelihood"
   ]
  },
  {
   "cell_type": "code",
   "execution_count": null,
   "id": "2ec7f7d4-e32a-4626-afd2-46cc7b45dcee",
   "metadata": {},
   "outputs": [],
   "source": [
    "r = unbinned_likelihood.lnLikelihood_UnBinned_Poissonian_SSC(dN_dzdlogM, Nth, Nobs,\n",
    "                                     NNSbb_obsobs,\n",
    "                                     NNSbb_obsth,\n",
    "                                     NNSbb_thth,\n",
    "                                     NSb2_obs)"
   ]
  },
  {
   "cell_type": "code",
   "execution_count": null,
   "id": "f4be15bf-e549-46c7-bc77-0ef88e3bae4e",
   "metadata": {},
   "outputs": [],
   "source": [
    "r"
   ]
  },
  {
   "cell_type": "code",
   "execution_count": null,
   "id": "dd7e2e7a-dd1c-4419-854d-825ad66aa53c",
   "metadata": {},
   "outputs": [],
   "source": [
    "r = unbinned_likelihood.lnLikelihood_UnBinned_Poissonian(dN_dzdlogM, Nth,\n",
    "                                     )"
   ]
  },
  {
   "cell_type": "code",
   "execution_count": null,
   "id": "ccea4223-5897-44a5-a332-41345bc871c4",
   "metadata": {},
   "outputs": [],
   "source": [
    "r"
   ]
  },
  {
   "cell_type": "code",
   "execution_count": null,
   "id": "ee840f87-87a0-4164-af0e-268545e74c90",
   "metadata": {},
   "outputs": [],
   "source": []
  }
 ],
 "metadata": {
  "kernelspec": {
   "display_name": "myenv",
   "language": "python",
   "name": "myenv"
  },
  "language_info": {
   "codemirror_mode": {
    "name": "ipython",
    "version": 3
   },
   "file_extension": ".py",
   "mimetype": "text/x-python",
   "name": "python",
   "nbconvert_exporter": "python",
   "pygments_lexer": "ipython3",
   "version": "3.10.10"
  }
 },
 "nbformat": 4,
 "nbformat_minor": 5
}
