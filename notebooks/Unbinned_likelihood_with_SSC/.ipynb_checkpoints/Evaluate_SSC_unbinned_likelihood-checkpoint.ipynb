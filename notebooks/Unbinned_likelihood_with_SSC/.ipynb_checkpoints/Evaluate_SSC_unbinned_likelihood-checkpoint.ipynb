{
 "cells": [
  {
   "cell_type": "code",
   "execution_count": 51,
   "id": "c3c4fe13-c5c7-475d-8228-0e3246d26a78",
   "metadata": {},
   "outputs": [
    {
     "name": "stdout",
     "output_type": "stream",
     "text": [
      "The autoreload extension is already loaded. To reload it, use:\n",
      "  %reload_ext autoreload\n"
     ]
    }
   ],
   "source": [
    "%load_ext autoreload\n",
    "\n",
    "%autoreload 2\n",
    "import sys\n",
    "import corner\n",
    "import numpy as np\n",
    "import matplotlib.pyplot as plt\n",
    "import scipy\n",
    "def binning(corner): return [[corner[i],corner[i+1]] for i in range(len(corner)-1)]\n",
    "sys.path.append('/pbs/throng/lsst/users/cpayerne/LikelihoodsClusterAbundance/modules/')\n",
    "import covariance as covar\n",
    "import utils\n",
    "import pandas as pd\n",
    "import abundance as cl_count\n",
    "import forecast\n",
    "import emcee\n",
    "import unbinned_model as ub\n",
    "from lnlikelihood import lnLikelihood\n",
    "import pyccl as ccl\n",
    "import edit\n",
    "import h5py, glob\n",
    "Omega_c_true = 0.30711 - 0.048254\n",
    "Omega_b_true = 0.048254\n",
    "sigma8_true = .8288\n",
    "Omegam_true = 0.30711\n",
    "True_value = [Omega_c_true + Omega_b_true, sigma8_true]"
   ]
  },
  {
   "cell_type": "code",
   "execution_count": 52,
   "id": "21414cf3-46d2-48ed-bffa-cc6334d66e74",
   "metadata": {},
   "outputs": [],
   "source": [
    "cosmo = ccl.Cosmology(Omega_c = Omegam_true - 0.048254, Omega_b = 0.048254, \n",
    "                              h = 0.6777, sigma8 = sigma8_true, n_s=0.96)"
   ]
  },
  {
   "cell_type": "code",
   "execution_count": 53,
   "id": "ab3b8b8f-8bc1-449c-8b18-f60b01d5a31f",
   "metadata": {},
   "outputs": [],
   "source": [
    "mapping = ub.Mapping()"
   ]
  },
  {
   "cell_type": "code",
   "execution_count": 54,
   "id": "c7ae8d4e-b1fe-4d55-9bab-4474a5fa8278",
   "metadata": {},
   "outputs": [],
   "source": [
    "mapping.set_cosmology(cosmo)"
   ]
  },
  {
   "cell_type": "code",
   "execution_count": 60,
   "id": "3896a456-f5a9-43c5-8c2b-589ad29275a6",
   "metadata": {},
   "outputs": [],
   "source": [
    "z_grid = np.linspace(0.2, 1, 300)\n",
    "logm_grid = np.linspace(14.5, 14.6, 300)\n",
    "fsky = 1/4"
   ]
  },
  {
   "cell_type": "code",
   "execution_count": 62,
   "id": "356a68d2-4437-4b5f-8023-f118b1e859dd",
   "metadata": {},
   "outputs": [],
   "source": [
    "dN_dlogmdzdOmega_map = mapping.compute_dN_dlogMdzdOmega_map(z_grid, logm_grid, fsky)\n",
    "halo_bias_map = mapping.compute_halo_bias_map(z_grid, logm_grid)\n",
    "sigma2_map = mapping.compute_sigma2_map(z_grid, fsky)"
   ]
  },
  {
   "cell_type": "code",
   "execution_count": 64,
   "id": "acbb22ed-4415-48f6-9328-5107277d1d2b",
   "metadata": {},
   "outputs": [],
   "source": [
    "N = mapping.compute_N_th(z_grid, logm_grid, dN_dlogmdzdOmega_map)"
   ]
  },
  {
   "cell_type": "code",
   "execution_count": 67,
   "id": "5d73a4e4-e35c-49c2-915c-82494ac3ba38",
   "metadata": {},
   "outputs": [],
   "source": [
    "Sbb_thth = mapping.compute_Sbb_thth(z_grid, logm_grid, sigma2_map, dN_dlogmdzdOmega_map, halo_bias_map, N)"
   ]
  },
  {
   "cell_type": "markdown",
   "id": "e7a47da9-ae97-45ad-b912-3855dcc3bece",
   "metadata": {},
   "source": [
    "# Data"
   ]
  },
  {
   "cell_type": "code",
   "execution_count": 68,
   "id": "e1693569-c109-42ec-a5c8-8339493b7edc",
   "metadata": {},
   "outputs": [],
   "source": [
    "where_cat = '/sps/lsst/users/cpayerne/1000xsimulations/1000_simulations/afumagalli/catalogs/plc_14/*'\n",
    "cat = glob.glob(where_cat)\n",
    "\n",
    "for i ,c in enumerate(cat):\n",
    "    cat_test = pd.read_csv(c ,sep=' ',skiprows=12, names=['M','z','dec','ra'])\n",
    "    ra, dec, redshift, Mvir = cat_test['ra'], cat_test['dec'], cat_test['z'], cat_test['M']/0.6777\n",
    "    if i == 3: break"
   ]
  },
  {
   "cell_type": "code",
   "execution_count": 69,
   "id": "cbd7ae6a-5dc8-44e9-9048-218f995c3b3b",
   "metadata": {},
   "outputs": [],
   "source": [
    "mask = (redshift > .2)&(redshift < 1.)\n",
    "mask = mask * (np.log10(Mvir) > 14.5)*(np.log10(Mvir) < 15)\n",
    "redshift_cut = redshift[mask]\n",
    "Mvir_cut = Mvir[mask]"
   ]
  },
  {
   "cell_type": "code",
   "execution_count": 76,
   "id": "5246c98f-fa9a-4767-8b99-22c1ca5ed35e",
   "metadata": {},
   "outputs": [],
   "source": [
    "Nobs = len(Mvir_cut)"
   ]
  },
  {
   "cell_type": "code",
   "execution_count": 70,
   "id": "a4e09768-4aff-4807-bd70-d0c1b3c8edd9",
   "metadata": {},
   "outputs": [],
   "source": [
    "z_sample = np.random.random(1000)*(1-.2)+.2\n",
    "logm_sample = np.random.random(1000)*(15-14.5)+14.5"
   ]
  },
  {
   "cell_type": "code",
   "execution_count": 97,
   "id": "5d9df464-95d4-4430-b2da-d734a1cc136e",
   "metadata": {},
   "outputs": [],
   "source": [
    "z_sample = np.random.choice(redshift_cut, size=7000, replace=False)\n",
    "logm_sample = np.random.choice(np.log10(Mvir_cut), size=7000, replace=False)"
   ]
  },
  {
   "cell_type": "code",
   "execution_count": 79,
   "id": "cf6a0d16-61fa-4a2d-bedf-14e4dfab8e05",
   "metadata": {},
   "outputs": [],
   "source": [
    "#z_sample = np.linspace(.2, 1, 3000)\n",
    "#logm_sample = np.linspace(14.5, 15, 3000)"
   ]
  },
  {
   "cell_type": "code",
   "execution_count": 80,
   "id": "6fc3f8ac-f566-4140-83a6-ba5a29d4711f",
   "metadata": {},
   "outputs": [],
   "source": [
    "mapping.interp(z_grid, logm_grid, sigma2_map, dN_dlogmdzdOmega_map, halo_bias_map, )"
   ]
  },
  {
   "cell_type": "code",
   "execution_count": 87,
   "id": "d2b5b337-4539-42d0-9b57-43f65f043faa",
   "metadata": {},
   "outputs": [],
   "source": [
    "Sbb_obsobs = mapping.compute_Sbb_obsobs(z_grid, logm_grid, \n",
    "                                        sigma2_map, dN_dlogmdzdOmega_map, halo_bias_map, \n",
    "                                        z_sample, logm_sample, Nobs)"
   ]
  },
  {
   "cell_type": "code",
   "execution_count": 88,
   "id": "596cba68-3237-415b-a2dd-925ed213a732",
   "metadata": {},
   "outputs": [
    {
     "name": "stdout",
     "output_type": "stream",
     "text": [
      "2.621456698714084e-06\n"
     ]
    }
   ],
   "source": [
    "print(Sbb_obsobs)"
   ]
  },
  {
   "cell_type": "code",
   "execution_count": 98,
   "id": "8b6b30ce-af00-4829-81be-820fa2dd8e32",
   "metadata": {},
   "outputs": [],
   "source": [
    "Sbb_obsth = mapping.compute_Sbb_obsth(z_grid, logm_grid, \n",
    "                                      sigma2_map, dN_dlogmdzdOmega_map, halo_bias_map, \n",
    "                                      z_sample, logm_sample, Nth, Nobs)"
   ]
  },
  {
   "cell_type": "code",
   "execution_count": 99,
   "id": "c13ec177-558f-4f02-b703-4f805dcab9f5",
   "metadata": {},
   "outputs": [
    {
     "name": "stdout",
     "output_type": "stream",
     "text": [
      "1373.2138454721357\n"
     ]
    }
   ],
   "source": [
    "print(Sbb_obsth)"
   ]
  },
  {
   "cell_type": "code",
   "execution_count": null,
   "id": "aa303f87-61d6-49db-885f-f78edc49770e",
   "metadata": {},
   "outputs": [],
   "source": []
  }
 ],
 "metadata": {
  "kernelspec": {
   "display_name": "mydesc",
   "language": "python",
   "name": "mydesc"
  },
  "language_info": {
   "codemirror_mode": {
    "name": "ipython",
    "version": 3
   },
   "file_extension": ".py",
   "mimetype": "text/x-python",
   "name": "python",
   "nbconvert_exporter": "python",
   "pygments_lexer": "ipython3",
   "version": "3.7.6"
  }
 },
 "nbformat": 4,
 "nbformat_minor": 5
}
