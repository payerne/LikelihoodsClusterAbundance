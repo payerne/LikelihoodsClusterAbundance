{
 "cells": [
  {
   "cell_type": "code",
   "execution_count": 13,
   "id": "c3c4fe13-c5c7-475d-8228-0e3246d26a78",
   "metadata": {},
   "outputs": [
    {
     "name": "stdout",
     "output_type": "stream",
     "text": [
      "The autoreload extension is already loaded. To reload it, use:\n",
      "  %reload_ext autoreload\n"
     ]
    }
   ],
   "source": [
    "%load_ext autoreload\n",
    "\n",
    "%autoreload 2\n",
    "import sys\n",
    "%matplotlib inline\n",
    "import corner\n",
    "import numpy as np\n",
    "import matplotlib.pyplot as plt\n",
    "import scipy\n",
    "def binning(corner): return [[corner[i],corner[i+1]] for i in range(len(corner)-1)]\n",
    "sys.path.append('/pbs/throng/lsst/users/cpayerne/LikelihoodsClusterAbundance/modules/')\n",
    "import covariance as covar\n",
    "import utils\n",
    "import pandas as pd\n",
    "import abundance as cl_count\n",
    "import forecast\n",
    "import emcee\n",
    "from lnlikelihood import lnLikelihood\n",
    "import pyccl as ccl\n",
    "import edit\n",
    "import h5py, glob\n",
    "Omega_c_true = 0.30711 - 0.048254\n",
    "Omega_b_true = 0.048254\n",
    "sigma8_true = .8288\n",
    "Omegam_true = 0.30711\n",
    "True_value = [Omega_c_true + Omega_b_true, sigma8_true]\n",
    "\n",
    "#sys.path.append('/pbs/throng/lsst/users/cpayerne/LikelihoodsClusterAbundance/notebooks/Unbinned_likelihood_with_SSC/')\n",
    "#import analysis"
   ]
  },
  {
   "cell_type": "code",
   "execution_count": 4,
   "id": "a320096c-b603-45de-b9ec-79db2c08b11e",
   "metadata": {},
   "outputs": [
    {
     "name": "stdout",
     "output_type": "stream",
     "text": [
      "The autoreload extension is already loaded. To reload it, use:\n",
      "  %reload_ext autoreload\n"
     ]
    }
   ],
   "source": [
    "%load_ext autoreload\n",
    "%autoreload 2\n",
    "import getdist\n",
    "from getdist import plots, MCSamples"
   ]
  },
  {
   "cell_type": "code",
   "execution_count": 5,
   "id": "18e32d12-9ec3-4020-98f2-1a1c3d1a0151",
   "metadata": {},
   "outputs": [],
   "source": [
    "err_noSSC = []\n",
    "fit_noSSC = []\n",
    "samples_noSSC = []\n",
    "err_SSC = []\n",
    "samples_SSC = []\n",
    "names = ['1', '2','3',]\n",
    "labels =  [r'\\Omega_m', r'\\sigma_8', r'n_s', ]"
   ]
  },
  {
   "cell_type": "markdown",
   "id": "bb8ef445-55ea-439b-b843-97871baa6386",
   "metadata": {},
   "source": [
    "# Plot 1"
   ]
  },
  {
   "cell_type": "code",
   "execution_count": 6,
   "id": "e232c4e5-c373-480e-8da4-afb4344bf23a",
   "metadata": {},
   "outputs": [
    {
     "name": "stdout",
     "output_type": "stream",
     "text": [
      "Removed no burn in\n",
      "Removed no burn in\n",
      "Removed no burn in\n",
      "Removed no burn in\n"
     ]
    }
   ],
   "source": [
    "settings={'mult_bias_correction_order':0,'smooth_scale_2D':8, 'smooth_scale_1D':8, 'boundary_correction_order':1}\n",
    "settings={'mult_bias_correction_order':1,'smooth_scale_2D':9, 'smooth_scale_1D':9, 'boundary_correction_order':1}\n",
    "\n",
    "noSSClowmass = np.load(f'/pbs/throng/lsst/users/cpayerne/LikelihoodsClusterAbundance/notebooks/Unbinned_likelihood_with_SSC/manuscript/noSSC_low-mass.npy')\n",
    "samplenoSSClowmass = MCSamples(samples=noSSClowmass[9000:],names = names, \n",
    "                labels = labels, \n",
    "                 settings=settings, \n",
    "                 label=f'$low-mass\\ (no\\ SSC)$')\n",
    "Omlowmass, s8lowmass, nslowmass = np.mean(noSSClowmass[9000:], axis=0)\n",
    "errOmlowmass, errs8lowmass, errnslowmass = np.std(noSSClowmass[9000:], axis=0)\n",
    "#######################\n",
    "noSSClowredshift = np.load(f'/pbs/throng/lsst/users/cpayerne/LikelihoodsClusterAbundance/notebooks/Unbinned_likelihood_with_SSC/manuscript/noSSC_low-redshift.npy')\n",
    "samplenoSSClowredshift = MCSamples(samples=noSSClowredshift[9000:],names = names, \n",
    "                labels = labels, \n",
    "                 settings=settings, \n",
    "                 label=f'$low-redshift\\ (no\\ SSC)$')\n",
    "Omlowredshift, s8lowredshift, nslowredshift = np.mean(noSSClowredshift[9000:], axis=0)\n",
    "errOmlowredshift, errs8lowredshift, errnslowredshift = np.std(noSSClowredshift[9000:], axis=0)\n",
    "#######################\n",
    "\n",
    "SSClowmass = np.load(f'/pbs/throng/lsst/users/cpayerne/LikelihoodsClusterAbundance/notebooks/Unbinned_likelihood_with_SSC/manuscript/SSC_low-mass.npy')\n",
    "sampleSSClowmass = MCSamples(samples=SSClowmass[9000:],names = names, \n",
    "                labels = labels, \n",
    "                 settings=settings, \n",
    "                 label=f'$low-mass\\ (SSC)$')\n",
    "\n",
    "OmlowmassSSC, s8lowmassSSC, nslowmassSSC = np.mean(SSClowmass[9000:], axis=0)\n",
    "errOmlowmassSSC, errs8lowmassSSC, errnslowmassSSC = np.std(SSClowmass[9000:], axis=0)\n",
    "#######################\n",
    "SSClowredshift = np.load(f'/pbs/throng/lsst/users/cpayerne/LikelihoodsClusterAbundance/notebooks/Unbinned_likelihood_with_SSC/manuscript/SSC_low-redshift.npy')\n",
    "sampleSSClowredshift = MCSamples(samples=SSClowredshift[9000:],names = names, \n",
    "                labels = labels, \n",
    "                 settings=settings, \n",
    "                 label=f'$low-redshift\\ (SSC)$')\n",
    "\n",
    "OmlowredshiftSSC, s8lowredshiftSSC, nslowredshiftSSC = np.mean(SSClowredshift[9000:], axis=0)\n",
    "errOmlowredshiftSSC, errs8lowredshiftSSC, errnslowredshiftSSC = np.std(SSClowredshift[9000:], axis=0)"
   ]
  },
  {
   "cell_type": "code",
   "execution_count": 7,
   "id": "5485b122-5efc-4a04-817d-963c2c6351da",
   "metadata": {},
   "outputs": [],
   "source": [
    "samplesnoSSC = [noSSClowmass,noSSClowredshift,]"
   ]
  },
  {
   "cell_type": "code",
   "execution_count": null,
   "id": "286e337b-9c41-4410-882f-dfa2c702c0d1",
   "metadata": {},
   "outputs": [],
   "source": []
  },
  {
   "cell_type": "code",
   "execution_count": 8,
   "id": "4e817658-db76-4fbe-ae63-d100407159a9",
   "metadata": {},
   "outputs": [],
   "source": [
    "g = plots.get_subplot_plotter(subplot_size=4)\n",
    "#plt.style.use('dark_background')\n",
    "range_ = {'1':[0.26, .33], '2':[0.81,.85], '3':[0.9,1]}\n",
    "g.settings.lab_fontsize = 20\n",
    "g.settings.legend_fontsize = 20\n",
    "g.settings.axes_fontsize = 30\n",
    "g.triangle_plot([ samplenoSSClowredshift, samplenoSSClowmass,sampleSSClowredshift, sampleSSClowmass,  ],\n",
    " filled=[False, False, True, True,],\n",
    "                contour_colors = ['g', 'm', 'g', 'm',],\n",
    "                contour_ls=['--', '--', '-', '-'],\n",
    "                contour_lws=[2,2, 1, 1],\n",
    "                param_limits = range_,\n",
    "                marker_args = {'linewidth':30}, markers={'1':0.30711, '2':.8288, '3':0.96})\n",
    "#g.triangle_plot(samples_SSC[1], filled=False, contour_colors = [colors(i) for i in range(len(samples))], contour_ls='--',\n",
    "#                contour_lws=2,\n",
    "#                       fine_bins = 1,  marker_args = {'linewidth':2}, markers={'1':0.30711, '2':.8288})\n",
    "#plt.savefig('unbinned_noSSC_vs_SSC1.png', dpi = 300)"
   ]
  },
  {
   "cell_type": "markdown",
   "id": "c5f3995f-ce0b-4224-9d2b-b58a21deb114",
   "metadata": {},
   "source": [
    "# Plot 2"
   ]
  },
  {
   "cell_type": "code",
   "execution_count": 9,
   "id": "49517692-9901-4b25-a159-1e8cd8b0acc2",
   "metadata": {},
   "outputs": [
    {
     "name": "stdout",
     "output_type": "stream",
     "text": [
      "Removed no burn in\n",
      "Removed no burn in\n",
      "Removed no burn in\n",
      "Removed no burn in\n"
     ]
    }
   ],
   "source": [
    "settings={'mult_bias_correction_order':1,'smooth_scale_2D':9, 'smooth_scale_1D':9, 'boundary_correction_order':5}\n",
    "noSSChighmass = np.load(f'/pbs/throng/lsst/users/cpayerne/LikelihoodsClusterAbundance/notebooks/Unbinned_likelihood_with_SSC/manuscript/noSSC_high-mass.npy')\n",
    "samplenoSSChighmass = MCSamples(samples=noSSChighmass[9000:],names = names, \n",
    "                labels = labels, \n",
    "                 settings=settings, \n",
    "                 label=f'$high-mass\\ (no\\ SSC)$')\n",
    "Omhighmass, s8highmass, nshighmass = np.mean(noSSChighmass[9000:],axis=0)\n",
    "errOmhighmass, errs8highmass, errnshighmass = np.std(noSSChighmass[9000:],axis=0)\n",
    "#print(np.mean(noSSChighmass[9000:],axis=0))\n",
    "\n",
    "SSChighmass = np.load(f'/pbs/throng/lsst/users/cpayerne/LikelihoodsClusterAbundance/notebooks/Unbinned_likelihood_with_SSC/manuscript/SSC_high-mass.npy')\n",
    "sampleSSChighmass = MCSamples(samples=SSChighmass[9000:],names = names, \n",
    "                labels = labels, \n",
    "                 settings=settings, \n",
    "                 label=f'$high-mass\\ (SSC)$')\n",
    "OmhighmassSSC, s8highmassSSC, nshighmassSSC = np.mean(SSChighmass[9000:],axis=0)\n",
    "errOmhighmassSSC, errs8highmassSSC, errnshighmassSSC = np.std(SSChighmass[9000:],axis=0)\n",
    "#print(np.mean(SSChighmass[9000:],axis=0))\n",
    "\n",
    "noSSCfull = np.load(f'/pbs/throng/lsst/users/cpayerne/LikelihoodsClusterAbundance/notebooks/Unbinned_likelihood_with_SSC/manuscript/noSSC_full.npy')\n",
    "samplenoSSCfull = MCSamples(samples=noSSCfull[9000:],names = names, \n",
    "                labels = labels, \n",
    "                 settings=settings, \n",
    "                 label=f'$full\\ (no\\ SSC)$')\n",
    "Omfull, s8full, nsfull = np.mean(noSSCfull[9000:],axis=0)\n",
    "errOmfull, errs8full, errnsfull = np.std(noSSCfull[9000:],axis=0)\n",
    "\n",
    "SSCfull = np.load(f'/pbs/throng/lsst/users/cpayerne/LikelihoodsClusterAbundance/notebooks/Unbinned_likelihood_with_SSC/manuscript/SSC_full.npy')\n",
    "sampleSSCfull = MCSamples(samples=SSCfull[9000:],\n",
    "names = names, \n",
    "                labels = labels, \n",
    "                 settings=settings, \n",
    "                 label=f'$full\\ (SSC)$')\n",
    "OmfullSSC, s8fullSSC, nsfullSSC = np.mean(SSCfull[9000:],axis=0)\n",
    "errfullOmSSC, errs8fullSSC, errnsfullSSC = np.std(SSCfull[9000:],axis=0)"
   ]
  },
  {
   "cell_type": "code",
   "execution_count": 10,
   "id": "534ef889-0c15-48b4-81d6-362d33f96a6e",
   "metadata": {},
   "outputs": [],
   "source": [
    "samplesnoSSC = [noSSClowmass, noSSChighmass,noSSClowredshift,noSSCfull]\n",
    "samplesSSC = [SSClowmass, SSChighmass,SSClowredshift,SSCfull]"
   ]
  },
  {
   "cell_type": "code",
   "execution_count": 18,
   "id": "2b6a0580-f1cc-419d-8617-aa60a7d2cf21",
   "metadata": {},
   "outputs": [
    {
     "data": {
      "image/png": "[encoded data removed]",
      "text/plain": [
       "<Figure size 700x700 with 3 Axes>"
      ]
     },
     "metadata": {},
     "output_type": "display_data"
    }
   ],
   "source": [
    "fig, ax = plt.subplots(3,1,figsize=(7, 7),sharey=False, sharex = True)\n",
    "plt.subplots_adjust(left=None, bottom=None, right=None, top=None, wspace=0, hspace=0)\n",
    "color = ['m','b','g','r']\n",
    "for i in range(3):\n",
    "    ax[i].tick_params(axis='both', which = 'major', labelsize= 15)\n",
    "    ax[0].set_xlim(-.5, 3.3)\n",
    "    ax[i].set_xticks([0,1,2,3])\n",
    "    ax[0].set_ylabel(r'$\\Omega_m$', fontsize=20)\n",
    "    ax[1].set_ylabel(r'$\\sigma_8$', fontsize=20)\n",
    "    ax[2].set_ylabel(r'$n_s$', fontsize=20)\n",
    "    x = np.linspace(-1,4, 100)\n",
    "    ax[0].plot(x, 0*x+ 0.30711, '--k', zorder=0)\n",
    "    ax[1].plot(x, 0*x+ 0.8288, '--k', zorder=0)\n",
    "    ax[2].plot(x, 0*x+ 0.96, '--k', zorder=0)\n",
    "for i, names in enumerate(['low-mass', 'high-mass','low-redshift','full']):\n",
    "    OmSSC, s8SSC, nsSSC = np.mean(samplesSSC[i][9000:],axis=0)\n",
    "    errOmSSC, errs8SSC, errnsSSC = np.std(samplesSSC[i][9000:],axis=0)\n",
    "    \n",
    "    OmnoSSC, s8noSSC, nsnoSSC = np.mean(samplesnoSSC[i][9000:],axis=0)\n",
    "    errOmnoSSC, errs8noSSC, errnsnoSSC = np.std(samplesnoSSC[i][9000:],axis=0)\n",
    "    #\n",
    "    ax[0].errorbar(i+.05,OmSSC,errOmSSC, marker='o', color = color[i])\n",
    "    ax[0].errorbar(i - .05,OmnoSSC,errOmnoSSC, marker='s', color = color[i])\n",
    "    #\n",
    "    ax[1].errorbar(i+.05,s8SSC,errs8SSC, marker='o', color = color[i])\n",
    "    ax[1].errorbar(i - .05,s8noSSC,errs8noSSC, marker='s', color = color[i])\n",
    "    #\n",
    "    ax[2].errorbar(i+.05,nsSSC,errnsSSC, marker='o', color = color[i])\n",
    "    ax[2].errorbar(i - .05,nsnoSSC,errnsnoSSC, marker='s', color = color[i])\n",
    "    \n",
    "ax[0].plot([], [], 'sk', label = r'standard ULC')\n",
    "ax[0].plot([], [], 'ok', label = r'ULC + SSC')\n",
    "ax[0].legend(loc = 'lower left', fontsize=15)\n",
    "    \n",
    "ax[2].set_xticklabels(['low-mass', 'high-mass','low-redshift','full'], fontsize=15, rotation=30)\n",
    "\n",
    "plt.savefig('unbinned_noSSC_vs_SSC_fits.png', dpi=300,bbox_inches='tight', )"
   ]
  },
  {
   "cell_type": "code",
   "execution_count": null,
   "id": "d8b63a37-db82-4a40-bb02-795f9e3daa06",
   "metadata": {},
   "outputs": [],
   "source": [
    "fig, ax = plt.subplots(3,1,figsize=(7, 7),sharey=False, sharex = True)\n",
    "plt.subplots_adjust(left=None, bottom=None, right=None, top=None, wspace=0, hspace=.1)\n",
    "for i in range(3):\n",
    "    ax[i].tick_params(axis='both', which = 'major', labelsize= 15)\n",
    "    ax[0].set_xlim(-.5, 3.3)\n",
    "    ax[i].set_xticks([0,1,2,3])\n",
    "    ax[0].set_ylabel(r'$\\sigma_{\\rm SSC}(\\Omega_m)/\\sigma_{\\rm std}(\\Omega_m)$', fontsize=12)\n",
    "    ax[1].set_ylabel(r'$\\sigma_{\\rm SSC}(\\sigma_8)/\\sigma_{\\rm std}(\\sigma_8)$', fontsize=12)\n",
    "    ax[2].set_ylabel(r'$\\sigma_{\\rm SSC}(n_s)/\\sigma_{\\rm std}(n_s)$', fontsize=12)\n",
    "    x = np.linspace(-1,4, 100)\n",
    "    ax[0].plot(x, 0*x+ 1, '--k', zorder=0)\n",
    "    ax[1].plot(x, 0*x+ 1, '--k', zorder=0)\n",
    "    ax[2].plot(x, 0*x+ 1, '--k', zorder=0)\n",
    "for i, names in enumerate(['low-mass', 'high-mass','low-redshift','full']):\n",
    "    OmSSC, s8SSC, nsSSC = np.mean(samplesSSC[i][9500:],axis=0)\n",
    "    errOmSSC, errs8SSC, errnsSSC = np.std(samplesSSC[i][9500:],axis=0)\n",
    "    \n",
    "    OmnoSSC, s8noSSC, nsnoSSC = np.mean(samplesnoSSC[i][9500:],axis=0)\n",
    "    errOmnoSSC, errs8noSSC, errnsnoSSC = np.std(samplesnoSSC[i][9500:],axis=0)\n",
    "    #\n",
    "    ax[0].errorbar(i,errOmSSC/errOmnoSSC, marker='s', color = color[i])\n",
    "    #\n",
    "    ax[1].errorbar(i,errs8SSC/errs8noSSC, marker='s', color =  color[i])\n",
    "   \n",
    "    #\n",
    "    ax[2].errorbar(i,errnsSSC/errnsnoSSC, marker='s', color = color[i])\n",
    "\n",
    "ax[2].set_xticklabels(['low-mass', 'high-mass','low-redshift','full'], fontsize=15, rotation=30)\n",
    "#plt.savefig('unbinned_noSSC_vs_SSC_fits_2.png', dpi = 300)"
   ]
  },
  {
   "cell_type": "code",
   "execution_count": null,
   "id": "54ffa51e-1750-46f9-b58f-80c8c7e25aa0",
   "metadata": {},
   "outputs": [],
   "source": [
    "plt.plot(noSSCfull[:,0])"
   ]
  },
  {
   "cell_type": "code",
   "execution_count": null,
   "id": "ad9f1851-ca70-43b0-9cba-fdce1ac2ca95",
   "metadata": {},
   "outputs": [],
   "source": [
    "100*(1-np.array([errOmfull, errs8full, errnsfull])/np.array([errfullOmSSC, errs8fullSSC, errnsfullSSC]))"
   ]
  },
  {
   "cell_type": "code",
   "execution_count": null,
   "id": "03a83472-3caf-4d48-a4a4-aff3efc525bc",
   "metadata": {},
   "outputs": [],
   "source": []
  },
  {
   "cell_type": "code",
   "execution_count": null,
   "id": "4983c5a2-2ea7-4eeb-bcd4-b7efa2f80294",
   "metadata": {},
   "outputs": [],
   "source": [
    "np.array([errOmlowmass, errs8lowmass, errnslowmass])"
   ]
  },
  {
   "cell_type": "code",
   "execution_count": null,
   "id": "c04eea14-8e5e-4b84-8b27-f39dcd84ea48",
   "metadata": {},
   "outputs": [],
   "source": [
    "np.array([Omlowredshift, errs8lowredshift, errnslowredshift])"
   ]
  },
  {
   "cell_type": "code",
   "execution_count": null,
   "id": "6e8980ca-0684-4cb4-af4f-270fffc0f28d",
   "metadata": {},
   "outputs": [],
   "source": [
    "0.29-0.30"
   ]
  },
  {
   "cell_type": "code",
   "execution_count": null,
   "id": "e3b85ba1-5f21-46d2-aa7c-119249720284",
   "metadata": {},
   "outputs": [],
   "source": [
    "0.01/0.3"
   ]
  },
  {
   "cell_type": "code",
   "execution_count": null,
   "id": "cab23f7e-1393-429c-bac7-c2a584f00b61",
   "metadata": {},
   "outputs": [],
   "source": [
    "np.array([errOmlowredshift, errs8lowredshift, errnslowredshift])/np.array([errOmfull, errs8full, errnsfull])"
   ]
  },
  {
   "cell_type": "code",
   "execution_count": null,
   "id": "6cf4c0c6-c98b-43fd-9f03-65648cbe2cb6",
   "metadata": {},
   "outputs": [],
   "source": [
    "100*(1-np.array([errOmlowredshift, errs8lowredshift, errnslowredshift])/np.array([errOmlowredshiftSSC, errs8lowredshiftSSC, errnslowredshiftSSC]))"
   ]
  },
  {
   "cell_type": "markdown",
   "id": "d191296a-8de4-4ea9-8bcd-392e76ee5ec6",
   "metadata": {},
   "source": [
    "# SSC"
   ]
  },
  {
   "cell_type": "code",
   "execution_count": null,
   "id": "6b79edcc-b921-48fd-ad08-d522ec16a0eb",
   "metadata": {},
   "outputs": [],
   "source": [
    "import matplotlib.pylab as pl\n",
    "colors = plt.cm.get_cmap('plasma', 5)\n",
    "c = [colors(i) for i in range(5)]\n",
    "#[samplenoSSCfull, sampleSSCfull, samplenoSSCsmall, sampleSSCsmall]"
   ]
  },
  {
   "cell_type": "code",
   "execution_count": null,
   "id": "f6f7812a-f7b9-42e0-afc2-1e3df6894d21",
   "metadata": {},
   "outputs": [],
   "source": [
    "g = plots.get_subplot_plotter(subplot_size=4)\n",
    "#plt.style.use('dark_background')\n",
    "range_ = {'1':[0.26, .33], '2':[0.81,.85], '3':[0.9,1]}\n",
    "g.settings.legend_fontsize = 20\n",
    "g.settings.figure_legend_ncol = 2\n",
    "\n",
    "g.triangle_plot([  samplenoSSChighmass,samplenoSSCfull, sampleSSChighmass,sampleSSCfull, ],\n",
    "                filled=[False, False, True, True,],\n",
    "                contour_colors = ['g', 'm', 'g', 'm',],\n",
    "                contour_ls=['--', '--', '-', '-'],\n",
    "                contour_lws=[2,2, 1, 1],\n",
    "                param_limits = range_,\n",
    "                contour_levels=3,\n",
    "                marker_args = {'linewidth':30}, markers={'1':0.30711, '2':.8288, '3':0.96})\n",
    "#g.triangle_plot(samples_SSC[1], filled=False, contour_colors = [colors(i) for i in range(len(samples))], contour_ls='--',\n",
    "#                contour_lws=2,\n",
    "#                       fine_bins = 1,  marker_args = {'linewidth':2}, markers={'1':0.30711, '2':.8288})\n",
    "#plt.savefig('unbinned_noSSC_vs_SSC_2.png', dpi = 300)"
   ]
  },
  {
   "cell_type": "code",
   "execution_count": null,
   "id": "fe434ca8-7616-461a-9eaa-58bb78720259",
   "metadata": {},
   "outputs": [],
   "source": []
  },
  {
   "cell_type": "code",
   "execution_count": null,
   "id": "bb8d47b8-e1d9-4852-b0f4-d59e5f14c383",
   "metadata": {},
   "outputs": [],
   "source": [
    "g = plots.get_subplot_plotter(subplot_size=4)\n",
    "g.settings.figure_legend_ncol = 2\n",
    "g.settings.lab_fontsize = 30\n",
    "g.settings.legend_fontsize = 25\n",
    "g.settings.axes_fontsize = 20\n",
    "g.settings.axis_marker_lw =1.5\n",
    "g.settings.figure_legend_loc = 'lower center'\n",
    "range_ = {'1':[0.27, .33], '2':[0.81,.85], '3':[0.9,1]}\n",
    "g.triangle_plot([ samplenoSSClowredshift, samplenoSSClowmass,sampleSSClowredshift, sampleSSClowmass,  ] ,\n",
    "                upper_roots = [samplenoSSChighmass,samplenoSSCfull, sampleSSChighmass,sampleSSCfull,],\n",
    "                upper_kwargs = {'contour_colors':['b', 'r', 'b', 'r',],'contour_ls':['--', '--', '-', '-'], 'contour_lws':[1.5,1.5,1, 1] }, \n",
    "                filled=[False, False, True, True,] ,\n",
    "                contour_colors = ['g', 'm', 'g', 'm',],\n",
    "                contour_ls=['--', '--', '-', '-'],\n",
    "                contour_lws=[1.5,1.5, 1, 1],\n",
    "                param_limits = range_,\n",
    "                contour_levels=3,\n",
    "                marker_args = {'linewidth':30, 'ls':'-'}, markers={'1':0.30711, '2':.8288, '3':0.96});\n",
    "plt.savefig('unbinned_noSSC_vs_SSC.png', dpi = 300,bbox_inches='tight')"
   ]
  },
  {
   "cell_type": "code",
   "execution_count": null,
   "id": "f71caedc-2adc-4ecf-9095-b94ead4dbfe3",
   "metadata": {},
   "outputs": [],
   "source": []
  }
 ],
 "metadata": {
  "kernelspec": {
   "display_name": "myenv",
   "language": "python",
   "name": "myenv"
  },
  "language_info": {
   "codemirror_mode": {
    "name": "ipython",
    "version": 3
   },
   "file_extension": ".py",
   "mimetype": "text/x-python",
   "name": "python",
   "nbconvert_exporter": "python",
   "pygments_lexer": "ipython3",
   "version": "3.10.10"
  }
 },
 "nbformat": 4,
 "nbformat_minor": 5
}
