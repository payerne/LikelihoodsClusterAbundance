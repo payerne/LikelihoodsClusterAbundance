{
 "cells": [
  {
   "cell_type": "code",
   "execution_count": 6,
   "id": "8b9b451e-9e19-45b4-be06-2906b2afb482",
   "metadata": {},
   "outputs": [],
   "source": [
    "import sys\n",
    "import corner\n",
    "import numpy as np\n",
    "import matplotlib.pyplot as plt\n",
    "import scipy\n",
    "def binning(corner): return [[corner[i],corner[i+1]] for i in range(len(corner)-1)]\n",
    "sys.path.append('/pbs/throng/lsst/users/cpayerne/LikelihoodsClusterAbundance/modules/')\n",
    "import covariance as covar\n",
    "import utils\n",
    "import pandas as pd\n",
    "import abundance as cl_count\n",
    "sys.path.append('/pbs/throng/lsst/users/cpayerne/LikelihoodsClusterAbundance/notebooks/Unbinned_likelihood_with_SSC/')\n",
    "#import unbinned_likelihood\n",
    "#import unbinned_model as ub\n",
    "#from lnlikelihood import lnLikelihood\n",
    "import pickle\n",
    "\n",
    "def save_pickle(dat, filename, **kwargs):\n",
    "    file = open(filename,'wb')\n",
    "    pickle.dump(dat, file)\n",
    "    file.close()\n",
    "\n",
    "import pyccl as ccl\n",
    "import edit\n",
    "import h5py, glob\n",
    "Omega_c_true = 0.30711 - 0.048254\n",
    "Omega_b_true = 0.048254\n",
    "sigma8_true = .8288\n",
    "Omegam_true = 0.30711\n",
    "True_value = [Omega_c_true + Omega_b_true, sigma8_true]\n",
    "\n",
    "cosmo = ccl.Cosmology(Omega_c = Omegam_true - 0.048254, Omega_b = 0.048254, \n",
    "                              h = 0.6777, sigma8 = sigma8_true, n_s=0.96)\n"
   ]
  },
  {
   "cell_type": "code",
   "execution_count": 8,
   "id": "74be6f35-85d3-42b2-9ea1-ac8b50f304e3",
   "metadata": {},
   "outputs": [
    {
     "name": "stdout",
     "output_type": "stream",
     "text": [
      "82857\n"
     ]
    }
   ],
   "source": [
    "where_cat = '/sps/lsst/users/cpayerne/1000xsimulations/1000_simulations/afumagalli/catalogs/plc_14/*'\n",
    "cat = glob.glob(where_cat)\n",
    "N_tot = []\n",
    "for i ,c in enumerate(cat):\n",
    "    \n",
    "    cat_test = pd.read_csv(c ,sep=' ',skiprows=12, names=['M','z','dec','ra'])\n",
    "    ra, dec, redshift, Mvir = cat_test['ra'], cat_test['dec'], cat_test['z'], cat_test['M']/0.6777\n",
    "    mask = (redshift > 0.2)&(redshift < 1)\n",
    "    mask = mask &(np.log10(Mvir) > 14.2)&(np.log10(Mvir) < 15.6)\n",
    "    redshift_cut = redshift[mask]\n",
    "    Mvir_cut = Mvir[mask]\n",
    "    N_tot.append(len(Mvir_cut))\n",
    "    print(len(Mvir_cut))\n",
    "    break"
   ]
  },
  {
   "cell_type": "code",
   "execution_count": 4,
   "id": "8101f385-0904-4c91-be23-85133e9b7d33",
   "metadata": {},
   "outputs": [
    {
     "ename": "NameError",
     "evalue": "name 'N_tot' is not defined",
     "output_type": "error",
     "traceback": [
      "\u001b[0;31m---------------------------------------------------------------------------\u001b[0m",
      "\u001b[0;31mNameError\u001b[0m                                 Traceback (most recent call last)",
      "Cell \u001b[0;32mIn[4], line 1\u001b[0m\n\u001b[0;32m----> 1\u001b[0m mean \u001b[38;5;241m=\u001b[39m np\u001b[38;5;241m.\u001b[39mmean(\u001b[43mN_tot\u001b[49m)\n\u001b[1;32m      2\u001b[0m std \u001b[38;5;241m=\u001b[39m np\u001b[38;5;241m.\u001b[39mstd(N_tot)\n\u001b[1;32m      3\u001b[0m \u001b[38;5;28mprint\u001b[39m(mean)\n",
      "\u001b[0;31mNameError\u001b[0m: name 'N_tot' is not defined"
     ]
    }
   ],
   "source": [
    "mean = np.mean(N_tot)\n",
    "std = np.std(N_tot)\n",
    "print(mean)"
   ]
  },
  {
   "cell_type": "code",
   "execution_count": 73,
   "id": "3d29b023-bc6c-49c5-90e6-a7bc34c9f0a0",
   "metadata": {},
   "outputs": [],
   "source": [
    "maskup = N_tot > mean + 2.67 * std\n",
    "maskdown = N_tot < mean - 2.9 * std"
   ]
  },
  {
   "cell_type": "code",
   "execution_count": 74,
   "id": "b245667a-9216-41f6-9ecd-9c215f05a741",
   "metadata": {},
   "outputs": [
    {
     "data": {
      "text/plain": [
       "array([84490, 84599, 84536])"
      ]
     },
     "execution_count": 74,
     "metadata": {},
     "output_type": "execute_result"
    }
   ],
   "source": [
    "np.array(N_tot)[maskup]"
   ]
  },
  {
   "cell_type": "code",
   "execution_count": 75,
   "id": "6ba720f3-9826-4b1e-927a-8d87072d881b",
   "metadata": {},
   "outputs": [
    {
     "data": {
      "text/plain": [
       "array([82383, 82405, 82372])"
      ]
     },
     "execution_count": 75,
     "metadata": {},
     "output_type": "execute_result"
    }
   ],
   "source": [
    "np.array(N_tot)[maskdown]"
   ]
  },
  {
   "cell_type": "code",
   "execution_count": 76,
   "id": "1b6819a2-73bc-4730-a5bc-2b5a18fa14c7",
   "metadata": {},
   "outputs": [
    {
     "data": {
      "text/plain": [
       "array(['/sps/lsst/users/cpayerne/1000xsimulations/1000_simulations/afumagalli/catalogs/plc_14/converted_plc_mock0451.dat',\n",
       "       '/sps/lsst/users/cpayerne/1000xsimulations/1000_simulations/afumagalli/catalogs/plc_14/converted_plc_mock0269.dat',\n",
       "       '/sps/lsst/users/cpayerne/1000xsimulations/1000_simulations/afumagalli/catalogs/plc_14/converted_plc_mock0077.dat'],\n",
       "      dtype='<U112')"
      ]
     },
     "execution_count": 76,
     "metadata": {},
     "output_type": "execute_result"
    }
   ],
   "source": [
    "np.array(cat)[maskup]"
   ]
  },
  {
   "cell_type": "code",
   "execution_count": 59,
   "id": "238d236d-2bf7-4ef5-a2fd-a11568855792",
   "metadata": {},
   "outputs": [
    {
     "data": {
      "text/plain": [
       "array(['/sps/lsst/users/cpayerne/1000xsimulations/1000_simulations/afumagalli/catalogs/plc_14/converted_plc_mock0758.dat',\n",
       "       '/sps/lsst/users/cpayerne/1000xsimulations/1000_simulations/afumagalli/catalogs/plc_14/converted_plc_mock0397.dat',\n",
       "       '/sps/lsst/users/cpayerne/1000xsimulations/1000_simulations/afumagalli/catalogs/plc_14/converted_plc_mock0150.dat'],\n",
       "      dtype='<U112')"
      ]
     },
     "execution_count": 59,
     "metadata": {},
     "output_type": "execute_result"
    }
   ],
   "source": [
    "np.array(cat)[maskdown]"
   ]
  },
  {
   "cell_type": "code",
   "execution_count": 54,
   "id": "7e8766d2-ccd0-4c9c-8354-3b13c0b70754",
   "metadata": {},
   "outputs": [
    {
     "data": {
      "text/plain": [
       "1000"
      ]
     },
     "execution_count": 54,
     "metadata": {},
     "output_type": "execute_result"
    }
   ],
   "source": [
    "len(N_tot)"
   ]
  },
  {
   "cell_type": "code",
   "execution_count": null,
   "id": "a005d3b1-4050-47d1-bb21-07b1dbb7992a",
   "metadata": {},
   "outputs": [],
   "source": []
  }
 ],
 "metadata": {
  "kernelspec": {
   "display_name": "myenv",
   "language": "python",
   "name": "myenv"
  },
  "language_info": {
   "codemirror_mode": {
    "name": "ipython",
    "version": 3
   },
   "file_extension": ".py",
   "mimetype": "text/x-python",
   "name": "python",
   "nbconvert_exporter": "python",
   "pygments_lexer": "ipython3",
   "version": "3.10.10"
  }
 },
 "nbformat": 4,
 "nbformat_minor": 5
}
