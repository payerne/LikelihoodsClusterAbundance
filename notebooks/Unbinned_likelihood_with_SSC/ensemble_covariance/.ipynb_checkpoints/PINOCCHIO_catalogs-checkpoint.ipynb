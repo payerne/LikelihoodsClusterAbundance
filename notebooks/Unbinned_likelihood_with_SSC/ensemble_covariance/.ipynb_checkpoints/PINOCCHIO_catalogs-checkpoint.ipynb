{
 "cells": [
  {
   "cell_type": "code",
   "execution_count": 7,
   "id": "8b9b451e-9e19-45b4-be06-2906b2afb482",
   "metadata": {},
   "outputs": [],
   "source": [
    "import sys\n",
    "import corner\n",
    "import numpy as np\n",
    "import matplotlib.pyplot as plt\n",
    "import scipy\n",
    "def binning(corner): return [[corner[i],corner[i+1]] for i in range(len(corner)-1)]\n",
    "sys.path.append('/pbs/throng/lsst/users/cpayerne/LikelihoodsClusterAbundance/modules/')\n",
    "import covariance as covar\n",
    "import utils\n",
    "import pandas as pd\n",
    "import abundance as cl_count\n",
    "sys.path.append('/pbs/throng/lsst/users/cpayerne/LikelihoodsClusterAbundance/notebooks/Unbinned_likelihood_with_SSC/')\n",
    "import unbinned_likelihood\n",
    "import unbinned_model as ub\n",
    "from lnlikelihood import lnLikelihood\n",
    "import analysis\n",
    "import pickle\n",
    "\n",
    "def save_pickle(dat, filename, **kwargs):\n",
    "    file = open(filename,'wb')\n",
    "    pickle.dump(dat, file)\n",
    "    file.close()\n",
    "\n",
    "import pyccl as ccl\n",
    "import edit\n",
    "import h5py, glob\n",
    "Omega_c_true = 0.30711 - 0.048254\n",
    "Omega_b_true = 0.048254\n",
    "sigma8_true = .8288\n",
    "Omegam_true = 0.30711\n",
    "True_value = [Omega_c_true + Omega_b_true, sigma8_true]\n",
    "\n",
    "cosmo = ccl.Cosmology(Omega_c = Omegam_true - 0.048254, Omega_b = 0.048254, \n",
    "                              h = 0.6777, sigma8 = sigma8_true, n_s=0.96)\n",
    "\n",
    "\n",
    "where_cat = '/sps/lsst/users/cpayerne/1000xsimulations/1000_simulations/afumagalli/catalogs/plc_14/*'\n",
    "cat = glob.glob(where_cat)\n",
    "\n",
    "for i ,c in enumerate(cat):\n",
    "    cat_test = pd.read_csv(c ,sep=' ',skiprows=12, names=['M','z','dec','ra'])\n",
    "    ra, dec, redshift, Mvir = cat_test['ra'], cat_test['dec'], cat_test['z'], cat_test['M']/0.6777\n",
    "    if i == 3: break"
   ]
  },
  {
   "cell_type": "code",
   "execution_count": 24,
   "id": "2e16240c-c53c-4137-ba9c-201ab078315a",
   "metadata": {},
   "outputs": [],
   "source": [
    "redshift_bins = [[0.2, 1], [0.2, 1], [0.2, 1]\n",
    "                ,[0.2, 1], [0.2, 1], [0.2, 1]\n",
    "                ,[0.2, 1], [0.2, 1], [0.2, 1]]\n",
    "logm_bins =  [[14.2, 14.3], [14.2, 14.4], [14.2, 14.5],\n",
    "              [14.2, 14.6], [14.2, 14.7], [14.2, 14.8],\n",
    "              [14.2, 14.9], [14.2, 15],   [14.2, 16]]"
   ]
  },
  {
   "cell_type": "code",
   "execution_count": 25,
   "id": "5c556af4-37ba-4596-81ae-ca7c4fadf4ba",
   "metadata": {},
   "outputs": [
    {
     "name": "stdout",
     "output_type": "stream",
     "text": [
      "32233\n",
      "52745\n",
      "65722\n",
      "73587\n",
      "78225\n",
      "80856\n",
      "82162\n",
      "82835\n",
      "83345\n"
     ]
    }
   ],
   "source": [
    "for i in range(9):\n",
    "    z_range = redshift_bins[i]\n",
    "    logm_range = logm_bins[i]\n",
    "    mask = (redshift > z_range[0])&(redshift < z_range[1])\n",
    "    mask = mask &(np.log10(Mvir) > logm_range[0])&(np.log10(Mvir) < logm_range[1])\n",
    "    redshift_cut = redshift[mask]\n",
    "    Mvir_cut = Mvir[mask]\n",
    "    Nobs = len(Mvir_cut)\n",
    "    print(Nobs)"
   ]
  },
  {
   "cell_type": "code",
   "execution_count": null,
   "id": "74be6f35-85d3-42b2-9ea1-ac8b50f304e3",
   "metadata": {},
   "outputs": [],
   "source": []
  }
 ],
 "metadata": {
  "kernelspec": {
   "display_name": "myenv",
   "language": "python",
   "name": "myenv"
  },
  "language_info": {
   "codemirror_mode": {
    "name": "ipython",
    "version": 3
   },
   "file_extension": ".py",
   "mimetype": "text/x-python",
   "name": "python",
   "nbconvert_exporter": "python",
   "pygments_lexer": "ipython3",
   "version": "3.10.10"
  }
 },
 "nbformat": 4,
 "nbformat_minor": 5
}
