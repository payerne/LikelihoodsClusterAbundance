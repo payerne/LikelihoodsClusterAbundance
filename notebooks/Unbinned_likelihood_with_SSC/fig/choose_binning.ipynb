{
 "cells": [
  {
   "cell_type": "code",
   "execution_count": 1,
   "id": "c3c4fe13-c5c7-475d-8228-0e3246d26a78",
   "metadata": {},
   "outputs": [
    {
     "name": "stderr",
     "output_type": "stream",
     "text": [
      "/pbs/home/c/cpayerne/.conda/envs/myenv/lib/python3.10/site-packages/tqdm/auto.py:21: TqdmWarning: IProgress not found. Please update jupyter and ipywidgets. See https://ipywidgets.readthedocs.io/en/stable/user_install.html\n",
      "  from .autonotebook import tqdm as notebook_tqdm\n"
     ]
    }
   ],
   "source": [
    "%load_ext autoreload\n",
    "\n",
    "%autoreload 2\n",
    "import sys\n",
    "import corner\n",
    "import numpy as np\n",
    "import matplotlib.pyplot as plt\n",
    "import scipy\n",
    "import astropy.units as u\n",
    "def binning(corner): return [[corner[i],corner[i+1]] for i in range(len(corner)-1)]\n",
    "sys.path.append('/pbs/throng/lsst/users/cpayerne/LikelihoodsClusterAbundance/modules/')\n",
    "import unbinned_model_hybrid as hybrid\n",
    "import unbinned_model as unbinned\n",
    "import pyccl as ccl\n",
    "import edit\n",
    "import pandas as pd\n",
    "import h5py, glob\n",
    "from astropy.coordinates import SkyCoord\n",
    "from astropy.table import Table\n",
    "Omega_c_true = 0.30711 - 0.048254\n",
    "Omega_b_true = 0.048254\n",
    "sigma8_true = .8288\n",
    "Omegam_true = 0.30711\n",
    "True_value = [Omega_c_true + Omega_b_true, sigma8_true]"
   ]
  },
  {
   "cell_type": "code",
   "execution_count": 2,
   "id": "21414cf3-46d2-48ed-bffa-cc6334d66e74",
   "metadata": {},
   "outputs": [],
   "source": [
    "cosmo = ccl.Cosmology(Omega_c = Omegam_true - 0.048254, Omega_b = 0.048254, \n",
    "                              h = 0.6777, sigma8 = sigma8_true, n_s=0.96)"
   ]
  },
  {
   "cell_type": "code",
   "execution_count": 3,
   "id": "3896a456-f5a9-43c5-8c2b-589ad29275a6",
   "metadata": {},
   "outputs": [],
   "source": [
    "z_grid = np.linspace(.2, 1.2, 500)\n",
    "logm_grid = np.linspace(14.2, 15.6, 501)\n",
    "fsky =1\n",
    "redshift_intervals = np.linspace(0.2, 1.2, 5)\n",
    "redshift_intervals = [[redshift_intervals[i], redshift_intervals[i+1]] for i in range(len(redshift_intervals)-1)]"
   ]
  },
  {
   "cell_type": "code",
   "execution_count": 4,
   "id": "ee5b8a9b-ec0c-4695-9121-fe95348ee432",
   "metadata": {},
   "outputs": [],
   "source": [
    "mapping = unbinned.Mapping()\n",
    "mapping.set_cosmology(cosmo)\n",
    "sigma2_map = mapping.compute_sigma2_map(z_grid, fsky)"
   ]
  },
  {
   "cell_type": "code",
   "execution_count": 5,
   "id": "26ebbd88-aed9-413b-9029-26afc74599cd",
   "metadata": {},
   "outputs": [],
   "source": [
    "dN_dlogmdz_map = mapping.compute_dN_dlogMdzdOmega_map(z_grid, logm_grid, fsky)\n",
    "halo_bias_map = mapping.compute_halo_bias_map(z_grid, logm_grid)\n",
    "mapping.interp(z_grid, logm_grid, sigma2_map, dN_dlogmdz_map, halo_bias_map)"
   ]
  },
  {
   "cell_type": "code",
   "execution_count": 6,
   "id": "3c848253-e657-4bcc-b32e-0ad88747e535",
   "metadata": {},
   "outputs": [],
   "source": [
    "mapping_hybrid = hybrid.Mapping()\n",
    "mapping_hybrid.set_cosmology(cosmo)\n",
    "Sij_partialsky_hybrid = mapping_hybrid.compute_Sij_map(redshift_intervals, fsky)\n",
    "dN_dlogmdz_map = mapping_hybrid.compute_dN_dlogMdzdOmega_map(z_grid, logm_grid, fsky)\n",
    "Nth =mapping_hybrid.compute_N_th(z_grid, logm_grid, dN_dlogmdz_map)\n",
    "halo_bias_map = mapping_hybrid.compute_halo_bias_map(z_grid, logm_grid)\n",
    "mapping_hybrid.compute_bdNdm_zbins_and_dNdm_zbins(z_grid, logm_grid, \n",
    "                                                   dN_dlogmdz_map, halo_bias_map, \n",
    "                                                   redshift_intervals, fsky)\n",
    "mapping_hybrid.compute_Nb_zbins(z_grid, logm_grid, \n",
    "                                 dN_dlogmdz_map, halo_bias_map, \n",
    "                                 redshift_intervals, fsky)\n",
    "mapping_hybrid.interp(z_grid, logm_grid, dN_dlogmdz_map, halo_bias_map, \n",
    "                       redshift_intervals, Sij_partialsky_hybrid, fsky)"
   ]
  },
  {
   "cell_type": "code",
   "execution_count": 7,
   "id": "1603c18c-7f0c-4d43-bad1-33f18efcafd9",
   "metadata": {},
   "outputs": [],
   "source": [
    "where_cat = '/sps/lsst/users/cpayerne/1000xsimulations/1000_simulations/afumagalli/catalogs/plc_14/*'\n",
    "cat = glob.glob(where_cat)\n",
    "cat_test = pd.read_csv(cat[35] ,sep=' ',skiprows=12, names=['M','z','dec','ra'])\n",
    "ra, dec, redshift, Mvir = cat_test['ra'], cat_test['dec'], cat_test['z'], cat_test['M']/0.6777\n",
    "mask = (redshift > .2)&(redshift < 1.2)\n",
    "mask = mask &(np.log10(Mvir) > 14.2)&(np.log10(Mvir) < 15.6)\n",
    "redshift_cut = redshift[mask]\n",
    "Mvir_cut = Mvir[mask]\n",
    "z_sample = redshift_cut\n",
    "logm_sample = np.log10(Mvir_cut)"
   ]
  },
  {
   "cell_type": "code",
   "execution_count": 8,
   "id": "b30e8949-cc00-416b-8e94-def4f4968800",
   "metadata": {},
   "outputs": [
    {
     "data": {
      "text/plain": [
       "95471"
      ]
     },
     "execution_count": 8,
     "metadata": {},
     "output_type": "execute_result"
    }
   ],
   "source": [
    "len(z_sample)"
   ]
  },
  {
   "cell_type": "code",
   "execution_count": 9,
   "id": "0d21da66-ef2e-4ff9-9a74-f5075bc235b6",
   "metadata": {},
   "outputs": [],
   "source": [
    "b2S_hybrid = []\n",
    "for i, redshift_range_1 in enumerate(redshift_intervals):\n",
    "    mask_redshift_1 = (z_sample > redshift_range_1[0])*(z_sample < redshift_range_1[1])\n",
    "    Sb2_sample_i = list(mapping_hybrid.halo_bias_zbins[i](logm_sample[mask_redshift_1]) **2 * Sij_partialsky_hybrid[i,i])\n",
    "    b2S_hybrid += Sb2_sample_i"
   ]
  },
  {
   "cell_type": "code",
   "execution_count": 10,
   "id": "040fc90a-235a-4bc3-ba3e-e81d7c86a8b5",
   "metadata": {},
   "outputs": [],
   "source": [
    "b_sample = mapping.b_map_interp_fct(logm_sample, z_sample, grid = False)\n",
    "sigma2_sample = mapping.sigma2_interp_fct(z_sample, z_sample, grid = False)\n",
    "b2S_unbinned = b_sample**2 * sigma2_sample"
   ]
  },
  {
   "cell_type": "code",
   "execution_count": 11,
   "id": "b1cd9bbd-2a80-4a65-9bd4-219d45828560",
   "metadata": {},
   "outputs": [],
   "source": [
    "varbdelta = np.logspace(np.log10(0.000001), np.log10(10), 200)"
   ]
  },
  {
   "cell_type": "code",
   "execution_count": 12,
   "id": "8fff92e4-5764-4473-b934-18a422974633",
   "metadata": {},
   "outputs": [],
   "source": [
    "def Gauss(x, mu, sigma):\n",
    "    return np.exp(-(x-mu)**2/(2*sigma**2))/(np.sqrt(2*np.pi*sigma**2))"
   ]
  },
  {
   "cell_type": "code",
   "execution_count": 13,
   "id": "61aa022e-a5c6-42dc-9a57-fe267e2cfab9",
   "metadata": {},
   "outputs": [],
   "source": [
    "proba_inf = []\n",
    "x = np.linspace(-10, 10, 1000)\n",
    "mask_pos = x < -1\n",
    "for i in range(len(varbdelta)):\n",
    "    y = Gauss(x, 0, varbdelta[i]**.5)\n",
    "    res = np.trapz(y[mask_pos], x[mask_pos])\n",
    "    proba_inf.append(res)"
   ]
  },
  {
   "cell_type": "code",
   "execution_count": 15,
   "id": "08b760e2-dd16-46b1-875e-38ab57195c34",
   "metadata": {},
   "outputs": [
    {
     "data": {
      "text/plain": [
       "95471"
      ]
     },
     "execution_count": 15,
     "metadata": {},
     "output_type": "execute_result"
    }
   ],
   "source": [
    "len(b2S_unbinned)"
   ]
  },
  {
   "cell_type": "code",
   "execution_count": 43,
   "id": "1d7f8c86-1286-42e8-a202-759185a5e267",
   "metadata": {},
   "outputs": [
    {
     "data": {
      "image/png": "[encoded data removed]",
      "text/plain": [
       "<Figure size 640x480 with 1 Axes>"
      ]
     },
     "metadata": {},
     "output_type": "display_data"
    }
   ],
   "source": [
    "fsky = 1/100\n",
    "plt.plot(np.log10(varbdelta**.5), 10*np.array(proba_inf))\n",
    "plt.hist(np.log10((np.array(b2S_hybrid)/fsky)**.5), bins=30, density = True, histtype='step')\n",
    "plt.hist(np.log10((np.array(b2S_unbinned)/fsky)**.5), bins=30, density = True, histtype='step')\n",
    "#plt.xlim(-6, -1)\n",
    "\n",
    "plt.show()"
   ]
  },
  {
   "cell_type": "code",
   "execution_count": null,
   "id": "ab4239b9-a578-4851-aaa2-99b478245b04",
   "metadata": {},
   "outputs": [],
   "source": []
  },
  {
   "cell_type": "code",
   "execution_count": null,
   "id": "ef21a720-14d9-464c-8857-48421c797500",
   "metadata": {},
   "outputs": [],
   "source": []
  }
 ],
 "metadata": {
  "kernelspec": {
   "display_name": "myenv",
   "language": "python",
   "name": "myenv"
  },
  "language_info": {
   "codemirror_mode": {
    "name": "ipython",
    "version": 3
   },
   "file_extension": ".py",
   "mimetype": "text/x-python",
   "name": "python",
   "nbconvert_exporter": "python",
   "pygments_lexer": "ipython3",
   "version": "3.10.10"
  }
 },
 "nbformat": 4,
 "nbformat_minor": 5
}
