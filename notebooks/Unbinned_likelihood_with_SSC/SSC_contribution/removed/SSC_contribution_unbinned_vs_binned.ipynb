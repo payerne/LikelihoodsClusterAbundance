{
 "cells": [
  {
   "cell_type": "code",
   "execution_count": 1,
   "id": "c3c4fe13-c5c7-475d-8228-0e3246d26a78",
   "metadata": {},
   "outputs": [
    {
     "name": "stderr",
     "output_type": "stream",
     "text": [
      "/pbs/home/c/cpayerne/.conda/envs/myenv/lib/python3.10/site-packages/tqdm/auto.py:21: TqdmWarning: IProgress not found. Please update jupyter and ipywidgets. See https://ipywidgets.readthedocs.io/en/stable/user_install.html\n",
      "  from .autonotebook import tqdm as notebook_tqdm\n"
     ]
    }
   ],
   "source": [
    "%load_ext autoreload\n",
    "\n",
    "%autoreload 2\n",
    "import sys\n",
    "import corner\n",
    "import numpy as np\n",
    "import matplotlib.pyplot as plt\n",
    "import scipy\n",
    "def binning(corner): return [[corner[i],corner[i+1]] for i in range(len(corner)-1)]\n",
    "sys.path.append('/pbs/throng/lsst/users/cpayerne/LikelihoodsClusterAbundance/modules/')\n",
    "import covariance as covar\n",
    "import utils\n",
    "import pandas as pd\n",
    "import abundance as cl_count\n",
    "import forecast\n",
    "import emcee\n",
    "from lnlikelihood import lnLikelihood\n",
    "import pyccl as ccl\n",
    "import edit, sys\n",
    "import h5py, glob\n",
    "Omega_c_true = 0.30711 - 0.048254\n",
    "Omega_b_true = 0.048254\n",
    "sigma8_true = .8288\n",
    "Omegam_true = 0.30711\n",
    "True_value = [Omega_c_true + Omega_b_true, sigma8_true]"
   ]
  },
  {
   "cell_type": "code",
   "execution_count": 2,
   "id": "ef1daae8-fccc-4d2a-8ea1-360c108ba5fd",
   "metadata": {},
   "outputs": [],
   "source": [
    "import analysis"
   ]
  },
  {
   "cell_type": "code",
   "execution_count": 3,
   "id": "203d19a1-d611-4604-a3ab-2efd35ec0448",
   "metadata": {},
   "outputs": [],
   "source": [
    "def load_pickle(filename, **kwargs):\n",
    "    with open(filename, 'rb') as fin:\n",
    "        return pickle.load(fin, **kwargs)"
   ]
  },
  {
   "cell_type": "code",
   "execution_count": 4,
   "id": "bb51627c-265b-4aa0-a4d8-af732896071c",
   "metadata": {},
   "outputs": [],
   "source": [
    "sys.path.append('/pbs/throng/lsst/users/cpayerne/LikelihoodsClusterAbundance/notebooks/Unbinned_likelihood_with_SSC')\n",
    "import analysis"
   ]
  },
  {
   "cell_type": "code",
   "execution_count": 108,
   "id": "c8da0e56-478e-49d2-a910-5336d0915cd1",
   "metadata": {},
   "outputs": [],
   "source": [
    "file_binned = ['Om_SSC_contribution_binned_approx_5zx5m_z[0.20,1.00]_logm[15.00,15.60]_fsky[0.2500].pkl',\n",
    "              'Om_SSC_contribution_binned_approx_10zx10m_z[0.20,1.00]_logm[15.00,15.60]_fsky[0.2500].pkl',\n",
    "              'Om_SSC_contribution_binned_approx_70zx70m_z[0.20,1.00]_logm[15.00,15.60]_fsky[0.2500].pkl',\n",
    "              'Om_SSC_contribution_binned_approx_100zx100m_z[0.20,1.00]_logm[15.00,15.60]_fsky[0.2500].pkl']\n",
    "file_unbinned = ['Om_SSC_contribution__unbinned_z[0.20,1.00]_logm[15.00,15.60]_fsky[0.2500].pkl']"
   ]
  },
  {
   "cell_type": "code",
   "execution_count": 90,
   "id": "8105bc2f-194e-412e-9472-2db2cc3d0877",
   "metadata": {},
   "outputs": [],
   "source": [
    "file_binned = ['Om_SSC_contribution_binned_approx_5zx5m_z[0.20,1.00]_logm[14.90,15.60]_fsky[0.2500].pkl',\n",
    "              'Om_SSC_contribution_binned_approx_10zx10m_z[0.20,1.00]_logm[14.90,15.60]_fsky[0.2500].pkl',\n",
    "              'Om_SSC_contribution_binned_approx_70zx70m_z[0.20,1.00]_logm[14.90,15.60]_fsky[0.2500].pkl',\n",
    "              'Om_SSC_contribution_binned_approx_100zx100m_z[0.20,1.00]_logm[14.90,15.60]_fsky[0.2500].pkl']\n",
    "file_unbinned = ['Om_SSC_contribution__unbinned_z[0.20,1.00]_logm[14.90,15.60]_fsky[0.2500].pkl']"
   ]
  },
  {
   "cell_type": "code",
   "execution_count": 148,
   "id": "28394417-6028-4618-abf8-2103c4e421a6",
   "metadata": {},
   "outputs": [],
   "source": [
    "file_binned = ['Om_SSC_contribution_binned_approx_5zx5m_z[0.20,0.50]_logm[14.40,15.60]_fsky[0.1000].pkl',\n",
    "              'Om_SSC_contribution_binned_approx_10zx10m_z[0.20,0.50]_logm[14.40,15.60]_fsky[0.1000].pkl',\n",
    "              'Om_SSC_contribution_binned_approx_70zx70m_z[0.20,0.50]_logm[14.40,15.60]_fsky[0.1000].pkl',\n",
    "              'Om_SSC_contribution_binned_approx_100zx100m_z[0.20,0.50]_logm[14.40,15.60]_fsky[0.1000].pkl']\n",
    "file_unbinned = ['Om_SSC_contribution__unbinned_z[0.20,0.50]_logm[14.40,15.60]_fsky[0.1000].pkl']"
   ]
  },
  {
   "cell_type": "code",
   "execution_count": 149,
   "id": "90540389-fc92-473f-b0ca-dabef2b87ea8",
   "metadata": {},
   "outputs": [],
   "source": [
    "#file_unbinned = ['Om_SSC_contribution_14.20_15.60_fsky=0.2500.pkl']"
   ]
  },
  {
   "cell_type": "code",
   "execution_count": 150,
   "id": "0f27a32b-287b-41ab-b766-d8d370a1b9b3",
   "metadata": {},
   "outputs": [],
   "source": [
    "name_file_binned = file_binned#[str(analysis.analysisbinned[i]['nzbins'])+'z-'+str(analysis.analysisbinned[i]['nmbins'])+'m' for i in range(len(file_binned))]"
   ]
  },
  {
   "cell_type": "code",
   "execution_count": 151,
   "id": "bfbeefc0-baf4-45ce-adea-dd6cd31118b2",
   "metadata": {},
   "outputs": [
    {
     "data": {
      "text/plain": [
       "['Om_SSC_contribution_binned_approx_5zx5m_z[0.20,0.50]_logm[14.40,15.60]_fsky[0.1000].pkl',\n",
       " 'Om_SSC_contribution_binned_approx_10zx10m_z[0.20,0.50]_logm[14.40,15.60]_fsky[0.1000].pkl',\n",
       " 'Om_SSC_contribution_binned_approx_70zx70m_z[0.20,0.50]_logm[14.40,15.60]_fsky[0.1000].pkl',\n",
       " 'Om_SSC_contribution_binned_approx_100zx100m_z[0.20,0.50]_logm[14.40,15.60]_fsky[0.1000].pkl']"
      ]
     },
     "execution_count": 151,
     "metadata": {},
     "output_type": "execute_result"
    }
   ],
   "source": [
    "name_file_binned"
   ]
  },
  {
   "cell_type": "code",
   "execution_count": 152,
   "id": "e6b50f08-c974-4bce-b750-35cba40c6681",
   "metadata": {},
   "outputs": [],
   "source": [
    " d = '/pbs/throng/lsst/users/cpayerne/LikelihoodsClusterAbundance/notebooks/Unbinned_likelihood_with_SSC/SSC_contribution/SSC/'"
   ]
  },
  {
   "cell_type": "code",
   "execution_count": 153,
   "id": "75082a83-ab33-4bc5-8f6e-217c7afb2960",
   "metadata": {},
   "outputs": [
    {
     "ename": "FileNotFoundError",
     "evalue": "[Errno 2] No such file or directory: '/pbs/throng/lsst/users/cpayerne/LikelihoodsClusterAbundance/notebooks/Unbinned_likelihood_with_SSC/SSC_contribution/SSC/Om_SSC_contribution_binned_approx_5zx5m_z[0.20,0.50]_logm[14.40,15.60]_fsky[0.1000].pkl'",
     "output_type": "error",
     "traceback": [
      "\u001b[0;31m---------------------------------------------------------------------------\u001b[0m",
      "\u001b[0;31mFileNotFoundError\u001b[0m                         Traceback (most recent call last)",
      "Cell \u001b[0;32mIn[153], line 4\u001b[0m\n\u001b[1;32m      2\u001b[0m sn_contOmbinned \u001b[38;5;241m=\u001b[39m []\n\u001b[1;32m      3\u001b[0m \u001b[38;5;28;01mfor\u001b[39;00m f \u001b[38;5;129;01min\u001b[39;00m file_binned:\n\u001b[0;32m----> 4\u001b[0m     Om, y \u001b[38;5;241m=\u001b[39m \u001b[43mnp\u001b[49m\u001b[38;5;241;43m.\u001b[39;49m\u001b[43mload\u001b[49m\u001b[43m(\u001b[49m\u001b[43md\u001b[49m\u001b[43m \u001b[49m\u001b[38;5;241;43m+\u001b[39;49m\u001b[43m \u001b[49m\u001b[43mf\u001b[49m\u001b[43m,\u001b[49m\u001b[43m \u001b[49m\u001b[43mallow_pickle\u001b[49m\u001b[38;5;241;43m=\u001b[39;49m\u001b[38;5;28;43;01mTrue\u001b[39;49;00m\u001b[43m)\u001b[49m\n\u001b[1;32m      5\u001b[0m     ssc_contOmbinned\u001b[38;5;241m.\u001b[39mappend(np\u001b[38;5;241m.\u001b[39marray([y[i][\u001b[38;5;241m2\u001b[39m] \u001b[38;5;28;01mfor\u001b[39;00m i \u001b[38;5;129;01min\u001b[39;00m \u001b[38;5;28mrange\u001b[39m(\u001b[38;5;28mlen\u001b[39m(Om))]))\n\u001b[1;32m      6\u001b[0m     sn_contOmbinned\u001b[38;5;241m.\u001b[39mappend(np\u001b[38;5;241m.\u001b[39marray([y[i][\u001b[38;5;241m1\u001b[39m] \u001b[38;5;28;01mfor\u001b[39;00m i \u001b[38;5;129;01min\u001b[39;00m \u001b[38;5;28mrange\u001b[39m(\u001b[38;5;28mlen\u001b[39m(Om))]))\n",
      "File \u001b[0;32m~/.conda/envs/myenv/lib/python3.10/site-packages/numpy/lib/npyio.py:405\u001b[0m, in \u001b[0;36mload\u001b[0;34m(file, mmap_mode, allow_pickle, fix_imports, encoding, max_header_size)\u001b[0m\n\u001b[1;32m    403\u001b[0m     own_fid \u001b[38;5;241m=\u001b[39m \u001b[38;5;28;01mFalse\u001b[39;00m\n\u001b[1;32m    404\u001b[0m \u001b[38;5;28;01melse\u001b[39;00m:\n\u001b[0;32m--> 405\u001b[0m     fid \u001b[38;5;241m=\u001b[39m stack\u001b[38;5;241m.\u001b[39menter_context(\u001b[38;5;28;43mopen\u001b[39;49m\u001b[43m(\u001b[49m\u001b[43mos_fspath\u001b[49m\u001b[43m(\u001b[49m\u001b[43mfile\u001b[49m\u001b[43m)\u001b[49m\u001b[43m,\u001b[49m\u001b[43m \u001b[49m\u001b[38;5;124;43m\"\u001b[39;49m\u001b[38;5;124;43mrb\u001b[39;49m\u001b[38;5;124;43m\"\u001b[39;49m\u001b[43m)\u001b[49m)\n\u001b[1;32m    406\u001b[0m     own_fid \u001b[38;5;241m=\u001b[39m \u001b[38;5;28;01mTrue\u001b[39;00m\n\u001b[1;32m    408\u001b[0m \u001b[38;5;66;03m# Code to distinguish from NumPy binary files and pickles.\u001b[39;00m\n",
      "\u001b[0;31mFileNotFoundError\u001b[0m: [Errno 2] No such file or directory: '/pbs/throng/lsst/users/cpayerne/LikelihoodsClusterAbundance/notebooks/Unbinned_likelihood_with_SSC/SSC_contribution/SSC/Om_SSC_contribution_binned_approx_5zx5m_z[0.20,0.50]_logm[14.40,15.60]_fsky[0.1000].pkl'"
     ]
    }
   ],
   "source": [
    "ssc_contOmbinned = []\n",
    "sn_contOmbinned = []\n",
    "for f in file_binned:\n",
    "    Om, y = np.load(d + f, allow_pickle=True)\n",
    "    ssc_contOmbinned.append(np.array([y[i][2] for i in range(len(Om))]))\n",
    "    sn_contOmbinned.append(np.array([y[i][1] for i in range(len(Om))]))"
   ]
  },
  {
   "cell_type": "code",
   "execution_count": 154,
   "id": "0e57624c-f68d-442f-ade2-48e4d12e9440",
   "metadata": {},
   "outputs": [],
   "source": [
    "Omunbinned, y = np.load(d + file_unbinned[0], allow_pickle=True)\n",
    "ssc_contOmunbinned = [y[i][2] for i in range(len(Omunbinned))]\n",
    "sn_contOmunbinned = [y[i][1] for i in range(len(Om))]"
   ]
  },
  {
   "cell_type": "code",
   "execution_count": 155,
   "id": "4de6bf17-7749-4f52-a1dc-224df34423a9",
   "metadata": {},
   "outputs": [
    {
     "name": "stdout",
     "output_type": "stream",
     "text": [
      "0.29595 0.00303\n",
      "\n",
      "0.29629 0.00358\n",
      "\n",
      "0.8449782816916955\n"
     ]
    },
    {
     "data": {
      "image/png": "[encoded data removed]",
      "text/plain": [
       "<Figure size 500x500 with 1 Axes>"
      ]
     },
     "metadata": {},
     "output_type": "display_data"
    }
   ],
   "source": [
    "plt.figure(figsize = (5,5))\n",
    "ax = plt.axes()\n",
    "ax.set_facecolor(\"whitesmoke\")\n",
    "dOm = Om[1]-Om[0]\n",
    "\n",
    "#for i, f in enumerate(file_binned):\n",
    " #   plt.plot(Om,ssc_contOmbinned[i]+1, lw=2, label = name_file_binned[i])\n",
    "plt.plot(Omunbinned, np.array(ssc_contOmunbinned)+1, ls=(0, (5, 5)) ,c='k', label = 'unbinned SSC', zorder=100)\n",
    "plt.xlabel(r'$\\Omega_m$', fontsize=20)\n",
    "plt.ylabel(r'$\\ln(1 + f_{\\rm SSC})$', fontsize=20)\n",
    "plt.ylim(0., 8)\n",
    "plt.xlim(0.25, 0.4)\n",
    "plt.vlines(0.30711, -3, 5, zorder=0, color='k', lw=1)\n",
    "\n",
    "y = [ sn_contOmunbinned, ]# sn_contOmbinned[0]]\n",
    "yssc = [ssc_contOmunbinned,]# ssc_contOmbinned[0]]\n",
    "x = [Omunbinned, Om]\n",
    "\n",
    "for i, y_ in enumerate(y):\n",
    "    \n",
    "    \n",
    "    #Poisson likelihood\n",
    "    y_post1 = np.exp(y_ - np.max(y_))\n",
    "    y_ = y_post1/np.trapz(y_post1, x[i])\n",
    "    xmean = np.trapz(y_*x[i],x[i])\n",
    "    sigma2SN = np.trapz(y_*(x[i] - xmean)**2,x[i])\n",
    "    print(f'{xmean:.5f} {sigma2SN**.5:.5f}')\n",
    "    plt.plot(x[i], .05*y_, ls='-' ,c='k',lw=1)\n",
    "    print( )\n",
    "    #\n",
    "    y_post2 = y_ * np.exp(yssc[i])\n",
    "    y_ = y_post2/np.trapz(y_post2, x[i])\n",
    "    xmean = np.trapz(y_*x[i],x[i])\n",
    "    sigma2SSC = np.trapz(y_*(x[i] - xmean)**2,x[i])\n",
    "    print(f'{xmean:.5f} {sigma2SSC**.5:.5f}')\n",
    "    #\n",
    "    print()\n",
    "    print((sigma2SN**.5)/(sigma2SSC**.5))\n",
    "    plt.fill_between(x[i], .05*y_, 0*( .03*y_), alpha=.4, color = 'r', edgecolor='r')\n",
    "    \n",
    "    #y = np.exp(-(xmean-x[i])**2/(2*sigma2SSC))\n",
    "    \n",
    "    #plt.plot(x[i], .05*y/np.trapz(y, x[i]))\n",
    "    #break\n",
    "#plt.legend(frameon=True, fontsize=11, framealpha=1, facecolor='white', loc= 'upper right')\n",
    "#plt.vlines(0.30711, 0, 10**7)\n",
    "#plt.savefig('ssc2.pdf', bbox_inches='tight', dpi=300)"
   ]
  },
  {
   "cell_type": "code",
   "execution_count": null,
   "id": "426fdb32-6839-481e-ba4f-850a593da7e0",
   "metadata": {},
   "outputs": [
    {
     "data": {
      "text/plain": [
       "14.903089986991944"
      ]
     },
     "execution_count": 16,
     "metadata": {},
     "output_type": "execute_result"
    }
   ],
   "source": [
    "np.log10(8*10**14)"
   ]
  },
  {
   "cell_type": "code",
   "execution_count": 17,
   "id": "68e709d6-6c54-4e63-9d1e-eca7e67ddf5e",
   "metadata": {},
   "outputs": [],
   "source": [
    "from scipy.interpolate import interp1d"
   ]
  },
  {
   "cell_type": "code",
   "execution_count": 18,
   "id": "d12196f7-6caa-4882-ae52-d8922050f470",
   "metadata": {},
   "outputs": [],
   "source": [
    "to_derive = [ssc_contOmunbinned]\n",
    "#to_derive = y\n",
    "x_to_derive =[Omunbinned]"
   ]
  },
  {
   "cell_type": "code",
   "execution_count": 19,
   "id": "ff982415-c2ee-4ed3-b0f2-7ae8bb8541c7",
   "metadata": {},
   "outputs": [
    {
     "name": "stdout",
     "output_type": "stream",
     "text": [
      "-27051.41386822417\n"
     ]
    },
    {
     "data": {
      "text/plain": [
       "(0.2, 0.4)"
      ]
     },
     "execution_count": 19,
     "metadata": {},
     "output_type": "execute_result"
    },
    {
     "data": {
      "image/png": "[encoded data removed]",
      "text/plain": [
       "<Figure size 640x480 with 1 Axes>"
      ]
     },
     "metadata": {},
     "output_type": "display_data"
    }
   ],
   "source": [
    "color = ['C0', 'C1', 'C2', 'C3', 'k']\n",
    "Om_axis = np.linspace(0.25, 0.35, 1000)\n",
    "for i in range(1):\n",
    "    lnf = to_derive[i]\n",
    "    x = x_to_derive[i]\n",
    "    interp = interp1d(x, lnf, kind='cubic')\n",
    "    def first_deriv(x):\n",
    "        h = 0.001\n",
    "        return (interp(x+h) - interp(x))/(h)\n",
    "    def second_deriv(x):\n",
    "        h = 0.01\n",
    "        return (interp(x+h)-2*interp(x)+interp(x-h))/(h**2)\n",
    "    dd = [second_deriv(x) for x in Om_axis]\n",
    "    d = [first_deriv(x) for x in Om_axis]\n",
    "    plt.plot(Om_axis, -np.array(dd), color = color[i], lw=1)\n",
    "    print(np.min(-np.array(dd)))\n",
    "plt.xlim(0.2, 0.4)"
   ]
  },
  {
   "cell_type": "code",
   "execution_count": null,
   "id": "d0279622-8182-4701-adfe-c2d06d23cd5a",
   "metadata": {},
   "outputs": [],
   "source": []
  }
 ],
 "metadata": {
  "kernelspec": {
   "display_name": "myenv",
   "language": "python",
   "name": "myenv"
  },
  "language_info": {
   "codemirror_mode": {
    "name": "ipython",
    "version": 3
   },
   "file_extension": ".py",
   "mimetype": "text/x-python",
   "name": "python",
   "nbconvert_exporter": "python",
   "pygments_lexer": "ipython3",
   "version": "3.10.10"
  }
 },
 "nbformat": 4,
 "nbformat_minor": 5
}
