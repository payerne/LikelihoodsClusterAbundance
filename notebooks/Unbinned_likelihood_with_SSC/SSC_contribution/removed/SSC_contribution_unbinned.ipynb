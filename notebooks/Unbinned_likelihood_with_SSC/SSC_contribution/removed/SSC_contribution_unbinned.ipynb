{
 "cells": [
  {
   "cell_type": "code",
   "execution_count": 1,
   "id": "c3c4fe13-c5c7-475d-8228-0e3246d26a78",
   "metadata": {},
   "outputs": [
    {
     "name": "stderr",
     "output_type": "stream",
     "text": [
      "/pbs/home/c/cpayerne/.conda/envs/myenv/lib/python3.10/site-packages/tqdm/auto.py:21: TqdmWarning: IProgress not found. Please update jupyter and ipywidgets. See https://ipywidgets.readthedocs.io/en/stable/user_install.html\n",
      "  from .autonotebook import tqdm as notebook_tqdm\n"
     ]
    }
   ],
   "source": [
    "%load_ext autoreload\n",
    "\n",
    "%autoreload 2\n",
    "import sys\n",
    "import corner\n",
    "import numpy as np\n",
    "import matplotlib.pyplot as plt\n",
    "import scipy\n",
    "def binning(corner): return [[corner[i],corner[i+1]] for i in range(len(corner)-1)]\n",
    "sys.path.append('/pbs/throng/lsst/users/cpayerne/LikelihoodsClusterAbundance/modules/')\n",
    "import covariance as covar\n",
    "import utils\n",
    "import pandas as pd\n",
    "import abundance as cl_count\n",
    "import forecast\n",
    "import emcee\n",
    "from lnlikelihood import lnLikelihood\n",
    "import pyccl as ccl\n",
    "import edit, sys\n",
    "import h5py, glob\n",
    "Omega_c_true = 0.30711 - 0.048254\n",
    "Omega_b_true = 0.048254\n",
    "sigma8_true = .8288\n",
    "Omegam_true = 0.30711\n",
    "True_value = [Omega_c_true + Omega_b_true, sigma8_true]"
   ]
  },
  {
   "cell_type": "code",
   "execution_count": 2,
   "id": "203d19a1-d611-4604-a3ab-2efd35ec0448",
   "metadata": {},
   "outputs": [],
   "source": [
    "def load_pickle(filename, **kwargs):\n",
    "    with open(filename, 'rb') as fin:\n",
    "        return pickle.load(fin, **kwargs)"
   ]
  },
  {
   "cell_type": "code",
   "execution_count": 3,
   "id": "bb51627c-265b-4aa0-a4d8-af732896071c",
   "metadata": {},
   "outputs": [],
   "source": [
    "sys.path.append('/pbs/throng/lsst/users/cpayerne/LikelihoodsClusterAbundance/notebooks/Unbinned_likelihood_with_SSC')\n",
    "import analysis"
   ]
  },
  {
   "cell_type": "code",
   "execution_count": 4,
   "id": "f547d54e-1c84-4487-be98-15ee93269445",
   "metadata": {},
   "outputs": [
    {
     "ename": "AttributeError",
     "evalue": "module 'analysis' has no attribute 'analysis'",
     "output_type": "error",
     "traceback": [
      "\u001b[0;31m---------------------------------------------------------------------------\u001b[0m",
      "\u001b[0;31mAttributeError\u001b[0m                            Traceback (most recent call last)",
      "Cell \u001b[0;32mIn[4], line 1\u001b[0m\n\u001b[0;32m----> 1\u001b[0m analysis_ \u001b[38;5;241m=\u001b[39m \u001b[43manalysis\u001b[49m\u001b[38;5;241;43m.\u001b[39;49m\u001b[43manalysis\u001b[49m[\u001b[38;5;124m'\u001b[39m\u001b[38;5;124mvarym\u001b[39m\u001b[38;5;124m'\u001b[39m]\n",
      "\u001b[0;31mAttributeError\u001b[0m: module 'analysis' has no attribute 'analysis'"
     ]
    }
   ],
   "source": [
    "analysis_ = analysis.analysis['varym']"
   ]
  },
  {
   "cell_type": "code",
   "execution_count": null,
   "id": "07dbe521-137d-4daf-b6f8-c3772856a1b1",
   "metadata": {},
   "outputs": [],
   "source": [
    "import matplotlib.pylab as pl\n",
    "colors = plt.cm.get_cmap('jet', 9)\n",
    "c = [colors(i) for i in range(9)]"
   ]
  },
  {
   "cell_type": "code",
   "execution_count": null,
   "id": "ce09bd23-1426-4d46-9162-ce155f7f3278",
   "metadata": {},
   "outputs": [],
   "source": [
    "#import matplotlib as mpl\n",
    "#c = np.array([14.3, 16])\n",
    "#norm = mpl.colors.Normalize(vmin=c.min(), vmax=c.max())\n",
    "#cmap = mpl.cm.ScalarMappable(norm=norm, cmap=mpl.cm.jet)\n",
    "c#map.set_array([])"
   ]
  },
  {
   "cell_type": "code",
   "execution_count": null,
   "id": "3f281cf7-c2df-495e-930c-11a55245fb6e",
   "metadata": {},
   "outputs": [],
   "source": [
    "fig, ax = plt.subplots(2, 2, figsize=(10,5), sharex='col')\n",
    "#plt.style.use('dark_background')\n",
    "#pssc/pnossc = LnoSSC/LSSC * contr\n",
    "ls = '-'\n",
    "for i in range(9):\n",
    "        logmmin, logmmax = analysis_['logm_bins'][i]\n",
    "        Om, y = np.load('Om_SSC_contribution_' + str(logmmin) + '_' + str(logmmax) + '.pkl', allow_pickle=True)\n",
    "        ssc_contOm = np.exp([np.array(y)[i][2] for i in range(len(y))])\n",
    "        lnLnoSSC = [np.array(y)[i][0] for i in range(len(y))]\n",
    "        print(logmmax)\n",
    "        def yOminterp(Omx):\n",
    "            return np.interp(Omx, Om, ssc_contOm)\n",
    "        \n",
    "        lnf = np.log(yOminterp(Om+0.001))\n",
    "        dlnf = lnf - np.log(yOminterp(Om-0.001))\n",
    "        dlnfdOm = dlnf/0.002\n",
    "        \n",
    "        \n",
    "        s8, y = np.load('s8_SSC_contribution_' + str(logmmin) + '_' + str(logmmax) + '.pkl', allow_pickle=True)\n",
    "        ssc_conts8 = np.exp([np.array(y)[i][2] for i in range(len(y))])\n",
    "        lnLnoSSCs8 = [np.array(y)[i][0] for i in range(len(y))]\n",
    "        def ys8interp(s8x):\n",
    "            return np.interp(s8x, s8, ssc_conts8)\n",
    "        \n",
    "        lnf = np.log(ys8interp(s8+0.001))\n",
    "        dlnf = lnf - np.log(ys8interp(s8-0.001))\n",
    "        dlnfds8 = dlnf/0.002\n",
    "\n",
    "        #if i==8:\n",
    "       # ls = '--'\n",
    "    #else: ls = '-'\n",
    "        #ax[0].plot(Om, dlnfdOm, color=c[i], ls=ls,)\n",
    "        #ax[1].plot(s8, dlnfds8, color=c[i], ls=ls,)\n",
    "        #c=cmap.to_rgba(logmmax)\n",
    "        mask = (s8 > .58)*(s8 < 1)\n",
    "        ax[1,0].plot(Om, np.log(ssc_contOm), color=c[i], ls=ls, lw=1)#,label = r'$\\log_{10}(M_{\\rm max}) = $'+f'${logmmax}$')\n",
    "        ax[1,1].plot(s8[mask],np.log(ssc_conts8)[mask], color=c[i], ls=ls, lw=1)\n",
    "        \n",
    "        ax[0,0].plot(Om, lnLnoSSC-lnLnoSSC[0], color=c[i], ls='-', lw=1)\n",
    "        \n",
    "        ax[0,1].plot(s8[mask], np.array(lnLnoSSCs8)[mask] - np.array(lnLnoSSCs8)[mask][0], color=c[i], ls='-', lw=1)\n",
    "        #ax[1].plot(s8, np.log(ssc_conts8)-np.log(ssc_conts8)[0], color=c[i], ls=ls,)\n",
    "\n",
    "#ax[0].legend(fontsize=10, frameon=False)\n",
    "ax[1,0].set_xlabel(r'$\\Omega_m$', fontsize=20)\n",
    "ax[1,1].set_xlabel(r'$\\sigma_8$', fontsize=20)\n",
    "#\n",
    "ax[0,0].vlines(0.30711, -10000, 1000000, color='k', ls=(0.,(5,4)), zorder=0)\n",
    "ax[1,0].vlines(0.30711, -100, 10, color='k', ls=(0.,(5,4)), zorder=0)\n",
    "#ax[0].set_xlim(.2, .5)\n",
    "#ax[0].set_ylim(5, 10.5)\n",
    "ax[0,1].vlines(.8288, -10000, 1000000, color='k', ls=(0.,(5,4)), zorder=0)\n",
    "ax[1,1].vlines(.8288, -10, 50, color='k', ls=(0.,(5,4)), zorder=0)\n",
    "\n",
    "ax[1,1].set_xlim(.6, .95)\n",
    "ax[0,0].set_xlim(.2, .5)\n",
    "\n",
    "\n",
    "ax[0,0].set_ylim(-11000, 11000)\n",
    "ax[1,0].set_ylim(4, 10)\n",
    "\n",
    "ax[0,1].set_ylim(-1000, 130000)\n",
    "ax[1,1].set_ylim(4, 12)\n",
    "#fig.subplots_adjust(right=0.85)\n",
    "#cbar_ax = fig.add_axes([0.87, 0.13, 0.01, .75])\n",
    "#fig.colorbar(cmap, cax=cbar_ax, shrink=1,fraction=1 )\n",
    "#cbar_ax.tick_params(labelsize=11)\n",
    "#cbar_ax.tick_params(labelsize=17)\n",
    "ax[0,0].set_ylabel(r'$\\ln\\mathcal{L}_{\\rm ULC}$', fontsize=20)\n",
    "ax[1,0].set_ylabel(r'$\\ln(1 + f_{\\rm SSC})$', fontsize=20)\n",
    "#plt.tick_params(axis='both', which = 'major', labelsize= 13)\n",
    "plt.savefig('unbinnedSSC_cs.png', bbox_inches='tight', dpi=300)"
   ]
  },
  {
   "cell_type": "code",
   "execution_count": null,
   "id": "cc5f88e0-a14e-4f5b-b99c-3a91c5e1f9e1",
   "metadata": {},
   "outputs": [],
   "source": []
  },
  {
   "cell_type": "code",
   "execution_count": null,
   "id": "4de6bf17-7749-4f52-a1dc-224df34423a9",
   "metadata": {},
   "outputs": [],
   "source": []
  }
 ],
 "metadata": {
  "kernelspec": {
   "display_name": "myenv",
   "language": "python",
   "name": "myenv"
  },
  "language_info": {
   "codemirror_mode": {
    "name": "ipython",
    "version": 3
   },
   "file_extension": ".py",
   "mimetype": "text/x-python",
   "name": "python",
   "nbconvert_exporter": "python",
   "pygments_lexer": "ipython3",
   "version": "3.10.10"
  }
 },
 "nbformat": 4,
 "nbformat_minor": 5
}
