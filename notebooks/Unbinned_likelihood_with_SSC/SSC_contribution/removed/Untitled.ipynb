{
 "cells": [
  {
   "cell_type": "code",
   "execution_count": 13,
   "id": "fa432214-abb9-44ed-b662-be34ddff010c",
   "metadata": {},
   "outputs": [
    {
     "name": "stdout",
     "output_type": "stream",
     "text": [
      "The autoreload extension is already loaded. To reload it, use:\n",
      "  %reload_ext autoreload\n"
     ]
    }
   ],
   "source": [
    "%load_ext autoreload\n",
    "\n",
    "%autoreload 2\n",
    "import sys\n",
    "sys.path.append('/pbs/throng/lsst/users/cpayerne/PySSC/')\n",
    "import PySSC\n",
    "import corner\n",
    "import numpy as np\n",
    "import matplotlib.pyplot as plt\n",
    "import scipy\n",
    "def binning(corner): return [[corner[i],corner[i+1]] for i in range(len(corner)-1)]\n",
    "sys.path.append('/pbs/throng/lsst/users/cpayerne/LikelihoodsClusterAbundance/modules/')\n",
    "import covariance as covar\n",
    "import utils\n",
    "import pandas as pd\n",
    "import abundance as cl_count\n",
    "from lnlikelihood import lnLikelihood\n",
    "sys.path.append('/pbs/throng/lsst/users/cpayerne/LikelihoodsClusterAbundance/notebooks/Unbinned_likelihood_with_SSC/SSC_contribution')\n",
    "import analysis\n",
    "import pickle\n",
    "\n",
    "def save_pickle(dat, filename, **kwargs):\n",
    "    file = open(filename,'wb')\n",
    "    pickle.dump(dat, file)\n",
    "    file.close()\n",
    "\n",
    "import pyccl as ccl\n",
    "import edit\n",
    "import h5py, glob"
   ]
  },
  {
   "cell_type": "code",
   "execution_count": 14,
   "id": "47a63151-63b0-466c-a9d6-0156cdc17b3c",
   "metadata": {},
   "outputs": [
    {
     "name": "stdout",
     "output_type": "stream",
     "text": [
      "[[0.2, 0.28], [0.28, 0.36], [0.36, 0.44], [0.44, 0.52], [0.52, 0.6000000000000001], [0.6000000000000001, 0.6799999999999999], [0.6799999999999999, 0.76], [0.76, 0.8400000000000001], [0.8400000000000001, 0.9199999999999999], [0.9199999999999999, 1.0]]\n",
      "top\n"
     ]
    }
   ],
   "source": [
    "Omega_c_true = 0.30711 - 0.048254\n",
    "Omega_b_true = 0.048254\n",
    "sigma8_true = .8288\n",
    "Omegam_true = 0.30711\n",
    "True_value = [Omega_c_true + Omega_b_true, sigma8_true]\n",
    "\n",
    "cosmo = ccl.Cosmology(Omega_c = Omegam_true - 0.048254, Omega_b = 0.048254, \n",
    "                              h = 0.6777, sigma8 = sigma8_true, n_s=0.96)\n",
    "\n",
    "where_cat = '/sps/lsst/users/cpayerne/1000xsimulations/1000_simulations/afumagalli/catalogs/plc_14/*'\n",
    "cat = glob.glob(where_cat)\n",
    "\n",
    "for i ,c in enumerate(cat):\n",
    "    cat_test = pd.read_csv(c ,sep=' ',skiprows=12, names=['M','z','dec','ra'])\n",
    "    ra, dec, redshift, Mvir = cat_test['ra'], cat_test['dec'], cat_test['z'], cat_test['M']/0.6777\n",
    "    if i == 20: break\n",
    "index_analysis = 0\n",
    "zmin, zmax = analysis.analysisbinned[int(index_analysis)]['zmin'], analysis.analysisbinned[int(index_analysis)]['zmax']\n",
    "logmmin, logmmax = analysis.analysisbinned[int(index_analysis)]['logmmin'], analysis.analysisbinned[int(index_analysis)]['logmmax']\n",
    "nzbins, nmbins = 10, 10#analysis.analysisbinned[int(index_analysis)]['nzbins'], analysis.analysisbinned[int(index_analysis)]['nmbins']\n",
    "\n",
    "clc = cl_count.ClusterAbundance()\n",
    "clc.sky_area = (0.25)*4*np.pi\n",
    "clc.f_sky = clc.sky_area/(4*np.pi)\n",
    "z_grid = np.linspace(zmin, zmax, 1000)\n",
    "logm_grid = np.linspace(logmmin, logmmax, 1001)\n",
    "\n",
    "z_corner = np.linspace(zmin, zmax, nzbins+1)\n",
    "log10m_corner = np.linspace(logmmin, logmmax, nzbins+1)\n",
    "Z_bin = [[z_corner[i], z_corner[i+1]] for i in range(len(z_corner)-1)]\n",
    "print(Z_bin)\n",
    "LogMass_bin = [[log10m_corner[i], log10m_corner[i+1]] for i in range(len(log10m_corner)-1)]\n",
    "Nobs, a, b = np.histogram2d(redshift, np.log10(Mvir), bins = [z_corner, log10m_corner])\n",
    "\n",
    "#choose the halo mass function and mass definition\n",
    "cosmo = ccl.Cosmology(Omega_c = Omega_c_true + Omega_b_true - 0.048254, Omega_b = 0.048254, \n",
    "                          h = 0.6777, sigma8 = sigma8_true, n_s=0.96)\n",
    "massdef = ccl.halos.massdef.MassDef('vir', 'critical', c_m_relation=None)\n",
    "hmd = ccl.halos.hmfunc.MassFuncDespali16(cosmo, mass_def=massdef)\n",
    "halobias = ccl.halos.hbias.HaloBiasTinker10(cosmo, mass_def= massdef, mass_def_strict=True)\n",
    "clc.set_cosmology(cosmo = cosmo, hmd = hmd, massdef = massdef)\n",
    "clc.sky_area = (0.25) * 4 * np.pi\n",
    "clc.f_sky = clc.sky_area/(4*np.pi)\n",
    "#z_grid = np.linspace(0., 2.1, 2500)\n",
    "#logm_grid = np.linspace(14.1, 15.7, 2501)\n",
    "\n",
    "clc.compute_multiplicity_grid_MZ(z_grid = z_grid, logm_grid = logm_grid)\n",
    "Abundance = clc.Cluster_Abundance_MZ(Redshift_bin = Z_bin, Proxy_bin = LogMass_bin, method = 'simps')\n",
    "clc.compute_halo_bias_grid_MZ(z_grid = z_corner, logm_grid = log10m_corner, halobiais = halobias)\n",
    "NHalo_bias = clc.Nhalo_bias_MZ(Redshift_bin = Z_bin, Proxy_bin = LogMass_bin, method = 'simps')\n",
    "Halo_bias = NHalo_bias/Abundance\n",
    "Covariance = covar.Covariance_matrix()\n",
    "default_cosmo_params = {'omega_b':cosmo['Omega_b']*cosmo['h']**2, \n",
    "                                'omega_cdm':cosmo['Omega_c']*cosmo['h']**2, \n",
    "                                'H0':cosmo['h']*100, \n",
    "                                'n_s':cosmo['n_s'], \n",
    "                                'sigma8': cosmo['sigma8'],\n",
    "                                'output' : 'mPk'}\n",
    "\n",
    "#kernels\n",
    "z_arr = np.linspace(0.2,1.2,1000)\n",
    "nbins_T   = len(Z_bin)\n",
    "windows_T = np.zeros((nbins_T,len(z_arr)))\n",
    "for i, z_bin in enumerate(Z_bin):\n",
    "    Dz = z_bin[1]-z_bin[0]\n",
    "    z_arr_cut = z_arr[(z_arr > z_bin[0])*(z_arr < z_bin[1])]\n",
    "    for k, z in enumerate(z_arr):\n",
    "        if ((z>z_bin[0]) and (z<=z_bin[1])):\n",
    "            windows_T[i,k] = 1  \n",
    "\n",
    "Sij_fullsky = PySSC.Sij_alt_fullsky(z_arr, windows_T, order=1, cosmo_params=default_cosmo_params, cosmo_Class=None, convention=0)\n",
    "Sij_partialsky = Sij_fullsky/clc.f_sky\n",
    "Sample_covariance = Covariance.sample_covariance_full_sky(Z_bin, LogMass_bin, \n",
    "                                                          NHalo_bias, \n",
    "                                                          Sij_partialsky)\n",
    "Cov = Sample_covariance + np.diag(Abundance.flatten())\n",
    "\n",
    "inv_cov = np.linalg.inv(Cov)"
   ]
  },
  {
   "cell_type": "code",
   "execution_count": 15,
   "id": "99093766-e8ce-43b2-bd0d-b261517c7b66",
   "metadata": {},
   "outputs": [
    {
     "name": "stdout",
     "output_type": "stream",
     "text": [
      "top\n"
     ]
    }
   ],
   "source": [
    "NNSbb = Covariance.sample_covariance_full_sky(Z_bin, LogMass_bin, \n",
    "                                                          NHalo_bias, \n",
    "                                                          Sij_partialsky)"
   ]
  },
  {
   "cell_type": "code",
   "execution_count": 16,
   "id": "94902e37-24fa-4ff5-9c44-892e70e33a5c",
   "metadata": {},
   "outputs": [
    {
     "name": "stdout",
     "output_type": "stream",
     "text": [
      "top\n"
     ]
    }
   ],
   "source": [
    "Sbb = Covariance.sample_covariance_full_sky(Z_bin, LogMass_bin, \n",
    "                                                          Halo_bias, \n",
    "                                                          Sij_partialsky)"
   ]
  },
  {
   "cell_type": "code",
   "execution_count": 17,
   "id": "402f592a-7b74-4227-9452-164c96cf76e7",
   "metadata": {},
   "outputs": [
    {
     "data": {
      "text/plain": [
       "<matplotlib.image.AxesImage at 0x7f08f8aa6bc0>"
      ]
     },
     "execution_count": 17,
     "metadata": {},
     "output_type": "execute_result"
    },
    {
     "data": {
      "image/png": "[encoded data removed]",
      "text/plain": [
       "<Figure size 640x480 with 1 Axes>"
      ]
     },
     "metadata": {},
     "output_type": "display_data"
    }
   ],
   "source": [
    "plt.imshow(Sbb)"
   ]
  },
  {
   "cell_type": "code",
   "execution_count": 18,
   "id": "7b4b8f0a-d95c-4d51-915f-383a187f8434",
   "metadata": {},
   "outputs": [],
   "source": [
    "lnL = lnLikelihood()"
   ]
  },
  {
   "cell_type": "code",
   "execution_count": 31,
   "id": "cd48e836-68ed-4251-800a-09c3c90465ea",
   "metadata": {},
   "outputs": [],
   "source": [
    "Poisson=lnL.lnLikelihood_Binned_Poissonian(Abundance, Nobs,)"
   ]
  },
  {
   "cell_type": "code",
   "execution_count": null,
   "id": "302d1997-6797-4b86-937c-c8da54aec721",
   "metadata": {},
   "outputs": [],
   "source": []
  },
  {
   "cell_type": "code",
   "execution_count": 29,
   "id": "406268fc-8e46-4d1e-a194-7a17b245b5c3",
   "metadata": {},
   "outputs": [],
   "source": [
    "Gauss = lnL.lnLikelihood_Binned_Gaussian(Abundance, Nobs, NNSbb,)"
   ]
  },
  {
   "cell_type": "code",
   "execution_count": 30,
   "id": "26d35ad1-a7f7-4293-a900-5f3c59585370",
   "metadata": {},
   "outputs": [
    {
     "data": {
      "text/plain": [
       "-85353.18750572354"
      ]
     },
     "execution_count": 30,
     "metadata": {},
     "output_type": "execute_result"
    }
   ],
   "source": [
    "Gauss "
   ]
  },
  {
   "cell_type": "code",
   "execution_count": null,
   "id": "1685a0b5-3535-44f8-b5e5-45d595a7a9c2",
   "metadata": {},
   "outputs": [],
   "source": []
  }
 ],
 "metadata": {
  "kernelspec": {
   "display_name": "myenv",
   "language": "python",
   "name": "myenv"
  },
  "language_info": {
   "codemirror_mode": {
    "name": "ipython",
    "version": 3
   },
   "file_extension": ".py",
   "mimetype": "text/x-python",
   "name": "python",
   "nbconvert_exporter": "python",
   "pygments_lexer": "ipython3",
   "version": "3.10.10"
  }
 },
 "nbformat": 4,
 "nbformat_minor": 5
}
