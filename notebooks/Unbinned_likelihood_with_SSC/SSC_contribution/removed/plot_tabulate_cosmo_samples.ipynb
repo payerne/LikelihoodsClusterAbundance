{
 "cells": [
  {
   "cell_type": "code",
   "execution_count": 1,
   "id": "c3c4fe13-c5c7-475d-8228-0e3246d26a78",
   "metadata": {},
   "outputs": [
    {
     "name": "stderr",
     "output_type": "stream",
     "text": [
      "/pbs/home/c/cpayerne/.conda/envs/myenv/lib/python3.10/site-packages/tqdm/auto.py:21: TqdmWarning: IProgress not found. Please update jupyter and ipywidgets. See https://ipywidgets.readthedocs.io/en/stable/user_install.html\n",
      "  from .autonotebook import tqdm as notebook_tqdm\n"
     ]
    }
   ],
   "source": [
    "%load_ext autoreload\n",
    "\n",
    "%autoreload 2\n",
    "import sys\n",
    "import corner\n",
    "import numpy as np\n",
    "import matplotlib.pyplot as plt\n",
    "import scipy\n",
    "def binning(corner): return [[corner[i],corner[i+1]] for i in range(len(corner)-1)]\n",
    "sys.path.append('/pbs/throng/lsst/users/cpayerne/LikelihoodsClusterAbundance/modules/pinocchio_analysis_unbinned_SSC/')\n",
    "import analysis\n",
    "sys.path.append('/pbs/throng/lsst/users/cpayerne/LikelihoodsClusterAbundance/modules/')\n",
    "import covariance as covar\n",
    "import plot_function as plotssc\n",
    "import pandas as pd\n",
    "import abundance as cl_count\n",
    "import forecast\n",
    "import emcee\n",
    "from lnlikelihood import lnLikelihood\n",
    "import pyccl as ccl\n",
    "import edit, sys\n",
    "import h5py, glob\n",
    "Omega_c_true = 0.30711 - 0.048254\n",
    "Omega_b_true = 0.048254\n",
    "sigma8_true = .8288\n",
    "Omegam_true = 0.30711\n",
    "True_value = [Omega_c_true + Omega_b_true, sigma8_true]\n",
    "import matplotlib as mpl"
   ]
  },
  {
   "cell_type": "code",
   "execution_count": 2,
   "id": "203d19a1-d611-4604-a3ab-2efd35ec0448",
   "metadata": {},
   "outputs": [],
   "source": [
    "def load_pickle(filename, **kwargs):\n",
    "    with open(filename, 'rb') as fin:\n",
    "        return pickle.load(fin, **kwargs)"
   ]
  },
  {
   "cell_type": "code",
   "execution_count": 3,
   "id": "e6b50f08-c974-4bce-b750-35cba40c6681",
   "metadata": {},
   "outputs": [],
   "source": [
    " d = '/pbs/throng/lsst/users/cpayerne/LikelihoodsClusterAbundance/notebooks/Unbinned_likelihood_with_SSC/SSC_contribution/SSC_mcmc/'"
   ]
  },
  {
   "cell_type": "code",
   "execution_count": 4,
   "id": "db38f34a-17d3-41c1-9649-1646ad56be1b",
   "metadata": {},
   "outputs": [],
   "source": [
    "file = [\n",
    "    d+f'tabulate_full_unbinned_sample_planck.pkl',\n",
    "        d+f'tabulate_full_unbinned_sample_spt.pkl',\n",
    "     d+f'tabulate_full_unbinned_sample_pinocchio.pkl',\n",
    "        d+f'tabulate_full_unbinned_sample_erosita.pkl',\n",
    "        ]\n",
    "filessc = [\n",
    "    d+f'tabulate_hybrid_garrell_unbinned_SSC_sample_planck.pkl',\n",
    "        d+f'tabulate_hybrid_garrell_unbinned_SSC_sample_spt.pkl',\n",
    "    d+f'tabulate_hybrid_garrell_unbinned_SSC_sample_pinocchio.pkl',\n",
    "        d+f'tabulate_hybrid_garrell_unbinned_SSC_sample_erosita.pkl',\n",
    "        ]"
   ]
  },
  {
   "cell_type": "code",
   "execution_count": 10,
   "id": "275836a5-86d4-4ff2-9c2a-fde1b1eab714",
   "metadata": {},
   "outputs": [
    {
     "data": {
      "image/png": "[encoded data removed]",
      "text/plain": [
       "<Figure size 500x300 with 1 Axes>"
      ]
     },
     "metadata": {},
     "output_type": "display_data"
    }
   ],
   "source": [
    "color = ['C0', 'C1', 'C2']\n",
    "fig, ax = plt.subplots(1, 1, figsize=(5, 3), sharex=True)\n",
    "for i in range(4):\n",
    "\n",
    "    res_unbinned = plotssc.likelihood_load(file = file[i], only_one=True)\n",
    "    mean_Om_SN = np.trapz(res_unbinned['P']*res_unbinned['Om'], res_unbinned['Om'])\n",
    "    err_Om_SN = np.trapz((mean_Om_SN - res_unbinned['Om'])**2*res_unbinned['P'], res_unbinned['Om'])**.5\n",
    "    #plt.errorbar(i-0.01,mean_Om_SN, err_Om_SN,  marker = '.', fmt=' ', zorder=100)\n",
    "    \n",
    "    res_unbinnedssc = plotssc.likelihood_load(file = filessc[i], only_one=True)\n",
    "    mean_Om_SNssc = np.trapz(res_unbinnedssc['P']*res_unbinnedssc['Om'], res_unbinnedssc['Om'])\n",
    "    err_Om_SNssc = np.trapz((mean_Om_SNssc - res_unbinnedssc['Om'])**2*res_unbinnedssc['P'], res_unbinnedssc['Om'])**.5\n",
    "    #plt.errorbar(i+0.01,mean_Om_SN, err_Om_SN,  marker = '.', fmt=' ', zorder=100)\n",
    "    \n",
    "    plt.scatter(i, err_Om_SNssc/err_Om_SN)\n",
    "plt.errorbar([], [], marker = 'o', markersize=10, capsize=5, color = 'k', markerfacecolor='w', label = 'hybrid likelihood (SN+SSC)')\n",
    "plt.errorbar([], [], marker = 'x', markersize=10, capsize=5, color = 'k', markerfacecolor='w', label = 'standard unbinned likelihood (SN-only)')\n",
    "plt.errorbar([], [], marker = '+', markersize=10, capsize=5, color = 'k', markerfacecolor='w', label = 'hybrid likelihood (SN-only)')\n",
    "plt.ylabel(r'$\\sigma(\\Omega_m)_{\\rm SN+SSC}/\\sigma(\\Omega_m)_{\\rm SN}$', fontsize=11)\n",
    "plt.tick_params(axis='both', which = 'major', labelsize= 11)\n",
    "#plt.legend(fontsize=9, loc='upper right', frameon=True, framealpha=1)\n",
    "#plt.savefig('cosmo.png', bbox_inches='tight', dpi=300)"
   ]
  },
  {
   "cell_type": "code",
   "execution_count": null,
   "id": "06b87dfb-0c72-43da-9a61-9865f2af7e46",
   "metadata": {},
   "outputs": [],
   "source": []
  }
 ],
 "metadata": {
  "kernelspec": {
   "display_name": "myenv",
   "language": "python",
   "name": "myenv"
  },
  "language_info": {
   "codemirror_mode": {
    "name": "ipython",
    "version": 3
   },
   "file_extension": ".py",
   "mimetype": "text/x-python",
   "name": "python",
   "nbconvert_exporter": "python",
   "pygments_lexer": "ipython3",
   "version": "3.10.10"
  }
 },
 "nbformat": 4,
 "nbformat_minor": 5
}
