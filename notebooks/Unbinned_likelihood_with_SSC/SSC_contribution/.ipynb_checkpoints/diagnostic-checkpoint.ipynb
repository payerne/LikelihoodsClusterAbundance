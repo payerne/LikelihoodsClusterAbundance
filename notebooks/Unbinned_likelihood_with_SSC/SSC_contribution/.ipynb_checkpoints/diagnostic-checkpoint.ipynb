{
 "cells": [
  {
   "cell_type": "code",
   "execution_count": 1,
   "id": "c3c4fe13-c5c7-475d-8228-0e3246d26a78",
   "metadata": {},
   "outputs": [
    {
     "name": "stderr",
     "output_type": "stream",
     "text": [
      "/pbs/home/c/cpayerne/.conda/envs/myenv/lib/python3.10/site-packages/tqdm/auto.py:21: TqdmWarning: IProgress not found. Please update jupyter and ipywidgets. See https://ipywidgets.readthedocs.io/en/stable/user_install.html\n",
      "  from .autonotebook import tqdm as notebook_tqdm\n"
     ]
    }
   ],
   "source": [
    "%load_ext autoreload\n",
    "\n",
    "%autoreload 2\n",
    "import sys\n",
    "import corner\n",
    "import numpy as np\n",
    "import matplotlib.pyplot as plt\n",
    "import scipy\n",
    "def binning(corner): return [[corner[i],corner[i+1]] for i in range(len(corner)-1)]\n",
    "sys.path.append('/pbs/throng/lsst/users/cpayerne/LikelihoodsClusterAbundance/modules/')\n",
    "import covariance as covar\n",
    "#import utils\n",
    "import pandas as pd\n",
    "import abundance as cl_count\n",
    "import forecast\n",
    "import emcee\n",
    "from lnlikelihood import lnLikelihood\n",
    "import pyccl as ccl\n",
    "import edit, sys\n",
    "import h5py, glob\n",
    "Omega_c_true = 0.30711 - 0.048254\n",
    "Omega_b_true = 0.048254\n",
    "sigma8_true = .8288\n",
    "Omegam_true = 0.30711\n",
    "True_value = [Omega_c_true + Omega_b_true, sigma8_true]"
   ]
  },
  {
   "cell_type": "code",
   "execution_count": 2,
   "id": "ef1daae8-fccc-4d2a-8ea1-360c108ba5fd",
   "metadata": {},
   "outputs": [],
   "source": [
    "import analysis"
   ]
  },
  {
   "cell_type": "code",
   "execution_count": 3,
   "id": "203d19a1-d611-4604-a3ab-2efd35ec0448",
   "metadata": {},
   "outputs": [],
   "source": [
    "def load_pickle(filename, **kwargs):\n",
    "    with open(filename, 'rb') as fin:\n",
    "        return pickle.load(fin, **kwargs)"
   ]
  },
  {
   "cell_type": "code",
   "execution_count": 4,
   "id": "bb51627c-265b-4aa0-a4d8-af732896071c",
   "metadata": {},
   "outputs": [],
   "source": [
    "sys.path.append('/pbs/throng/lsst/users/cpayerne/LikelihoodsClusterAbundance/notebooks/Unbinned_likelihood_with_SSC')\n",
    "import analysis"
   ]
  },
  {
   "cell_type": "code",
   "execution_count": 128,
   "id": "c8da0e56-478e-49d2-a910-5336d0915cd1",
   "metadata": {},
   "outputs": [],
   "source": [
    "file_unbinned = ['Unbinned_Nobs=671_cat=35_z[0.20,0.50]_logm[14.90,15.60]_fsky[0.2500].pkl',\n",
    "                 'Unbinned_Nobs=1343_cat=35_z[0.20,0.50]_logm[14.80,15.60]_fsky[0.2500].pkl',\n",
    "                 'Unbinned_Nobs=5724_cat=35_z[0.20,0.50]_logm[14.55,15.60]_fsky[0.0500].pkl',\n",
    "                ]"
   ]
  },
  {
   "cell_type": "code",
   "execution_count": 129,
   "id": "e6b50f08-c974-4bce-b750-35cba40c6681",
   "metadata": {},
   "outputs": [],
   "source": [
    " d = '/pbs/throng/lsst/users/cpayerne/LikelihoodsClusterAbundance/notebooks/Unbinned_likelihood_with_SSC/SSC_contribution/SSC/'"
   ]
  },
  {
   "cell_type": "code",
   "execution_count": 130,
   "id": "0e57624c-f68d-442f-ade2-48e4d12e9440",
   "metadata": {},
   "outputs": [
    {
     "name": "stdout",
     "output_type": "stream",
     "text": [
      "Unbinned_Nobs=671_cat=35_z[0.20,0.50]_logm[14.90,15.60]_fsky[0.2500].pkl\n",
      "Unbinned_Nobs=1343_cat=35_z[0.20,0.50]_logm[14.80,15.60]_fsky[0.2500].pkl\n",
      "Unbinned_Nobs=5724_cat=35_z[0.20,0.50]_logm[14.55,15.60]_fsky[0.0500].pkl\n"
     ]
    },
    {
     "ename": "FileNotFoundError",
     "evalue": "[Errno 2] No such file or directory: '/pbs/throng/lsst/users/cpayerne/LikelihoodsClusterAbundance/notebooks/Unbinned_likelihood_with_SSC/SSC_contribution/SSC/Unbinned_Nobs=5724_cat=35_z[0.20,0.50]_logm[14.55,15.60]_fsky[0.0500].pkl'",
     "output_type": "error",
     "traceback": [
      "\u001b[0;31m---------------------------------------------------------------------------\u001b[0m",
      "\u001b[0;31mFileNotFoundError\u001b[0m                         Traceback (most recent call last)",
      "Cell \u001b[0;32mIn[130], line 5\u001b[0m\n\u001b[1;32m      3\u001b[0m \u001b[38;5;28;01mfor\u001b[39;00m f \u001b[38;5;129;01min\u001b[39;00m file_unbinned:\n\u001b[1;32m      4\u001b[0m     \u001b[38;5;28mprint\u001b[39m(f)\n\u001b[0;32m----> 5\u001b[0m     Omunbinned, y \u001b[38;5;241m=\u001b[39m \u001b[43mnp\u001b[49m\u001b[38;5;241;43m.\u001b[39;49m\u001b[43mload\u001b[49m\u001b[43m(\u001b[49m\u001b[43md\u001b[49m\u001b[43m \u001b[49m\u001b[38;5;241;43m+\u001b[39;49m\u001b[43m \u001b[49m\u001b[43mf\u001b[49m\u001b[43m,\u001b[49m\u001b[43m \u001b[49m\u001b[43mallow_pickle\u001b[49m\u001b[38;5;241;43m=\u001b[39;49m\u001b[38;5;28;43;01mTrue\u001b[39;49;00m\u001b[43m)\u001b[49m\n\u001b[1;32m      6\u001b[0m     ssc_contOmunbinned\u001b[38;5;241m.\u001b[39mappend(np\u001b[38;5;241m.\u001b[39marray([y[i][\u001b[38;5;241m2\u001b[39m] \u001b[38;5;28;01mfor\u001b[39;00m i \u001b[38;5;129;01min\u001b[39;00m \u001b[38;5;28mrange\u001b[39m(\u001b[38;5;28mlen\u001b[39m(Omunbinned))]))\n\u001b[1;32m      7\u001b[0m     sn_contOmunbinned\u001b[38;5;241m.\u001b[39mappend(np\u001b[38;5;241m.\u001b[39marray([y[i][\u001b[38;5;241m1\u001b[39m] \u001b[38;5;28;01mfor\u001b[39;00m i \u001b[38;5;129;01min\u001b[39;00m \u001b[38;5;28mrange\u001b[39m(\u001b[38;5;28mlen\u001b[39m(Omunbinned))]))\n",
      "File \u001b[0;32m~/.conda/envs/myenv/lib/python3.10/site-packages/numpy/lib/npyio.py:405\u001b[0m, in \u001b[0;36mload\u001b[0;34m(file, mmap_mode, allow_pickle, fix_imports, encoding, max_header_size)\u001b[0m\n\u001b[1;32m    403\u001b[0m     own_fid \u001b[38;5;241m=\u001b[39m \u001b[38;5;28;01mFalse\u001b[39;00m\n\u001b[1;32m    404\u001b[0m \u001b[38;5;28;01melse\u001b[39;00m:\n\u001b[0;32m--> 405\u001b[0m     fid \u001b[38;5;241m=\u001b[39m stack\u001b[38;5;241m.\u001b[39menter_context(\u001b[38;5;28;43mopen\u001b[39;49m\u001b[43m(\u001b[49m\u001b[43mos_fspath\u001b[49m\u001b[43m(\u001b[49m\u001b[43mfile\u001b[49m\u001b[43m)\u001b[49m\u001b[43m,\u001b[49m\u001b[43m \u001b[49m\u001b[38;5;124;43m\"\u001b[39;49m\u001b[38;5;124;43mrb\u001b[39;49m\u001b[38;5;124;43m\"\u001b[39;49m\u001b[43m)\u001b[49m)\n\u001b[1;32m    406\u001b[0m     own_fid \u001b[38;5;241m=\u001b[39m \u001b[38;5;28;01mTrue\u001b[39;00m\n\u001b[1;32m    408\u001b[0m \u001b[38;5;66;03m# Code to distinguish from NumPy binary files and pickles.\u001b[39;00m\n",
      "\u001b[0;31mFileNotFoundError\u001b[0m: [Errno 2] No such file or directory: '/pbs/throng/lsst/users/cpayerne/LikelihoodsClusterAbundance/notebooks/Unbinned_likelihood_with_SSC/SSC_contribution/SSC/Unbinned_Nobs=5724_cat=35_z[0.20,0.50]_logm[14.55,15.60]_fsky[0.0500].pkl'"
     ]
    }
   ],
   "source": [
    "ssc_contOmunbinned = []\n",
    "sn_contOmunbinned = []\n",
    "for f in file_unbinned:\n",
    "    print(f)\n",
    "    Omunbinned, y = np.load(d + f, allow_pickle=True)\n",
    "    ssc_contOmunbinned.append(np.array([y[i][2] for i in range(len(Omunbinned))]))\n",
    "    sn_contOmunbinned.append(np.array([y[i][1] for i in range(len(Omunbinned))]))\n",
    "    Omunbinned, y = np.load(d + file_unbinned[0], allow_pickle=True)\n",
    "    #ssc_contOmunbinned = [y[i][2] for i in range(len(Omunbinned))]\n",
    "    #sn_contOmunbinned = [y[i][1] for i in range(len(Omunbinned))]"
   ]
  },
  {
   "cell_type": "code",
   "execution_count": 131,
   "id": "6e0723da-2f11-467a-801d-07f7348ff5a7",
   "metadata": {},
   "outputs": [],
   "source": [
    "import matplotlib as mpl"
   ]
  },
  {
   "cell_type": "code",
   "execution_count": null,
   "id": "4de6bf17-7749-4f52-a1dc-224df34423a9",
   "metadata": {},
   "outputs": [],
   "source": [
    "plt.figure(figsize = (8,5))\n",
    "ax = plt.axes()\n",
    "#mpl.rcParams['text.usetex'] = True\n",
    "#ax.set_facecolor(\"whitesmoke\")\n",
    "#dOm = Om[1]-Om[0]\n",
    "label = [r'$z\\in[0.2,1.0], \\log_{\\rm 10}M\\in[15,15.6], f_{\\rm sky}=0.25$',\n",
    "        r'$z\\in[0.2,1.0], \\log_{\\rm 10}M\\in[14.9,15.6], f_{\\rm sky}=0.25$',\n",
    "        r'$z\\in[0.2,0.5], \\log_{\\rm 10}M\\in[14.4,15.6], f_{\\rm sky}=0.1$']\n",
    "#for i, f in enumerate(file_binned):\n",
    " #   plt.plot(Om,ssc_contOmbinned[i]+1, lw=2, label = name_file_binned[i])\n",
    "#plt.plot(Omunbinned, np.array(ssc_contOmunbinned)+1, ls=(0, (5, 5)) ,c='k', label = 'unbinned SSC', zorder=100)\n",
    "plt.xlabel(r'$\\Omega_m$', fontsize=20)\n",
    "#plt.ylabel(r'$\\ln(1 + f_{\\rm SSC})$', fontsize=20)\n",
    "plt.ylim(0., 10)\n",
    "plt.xlim(0.25, 0.35)\n",
    "plt.vlines(0.30711, -3, 20, zorder=0, color='k', lw=1, )\n",
    "\n",
    "y = sn_contOmunbinned# sn_contOmbinned[0]]\n",
    "yssc = ssc_contOmunbinned# ssc_contOmbinned[0]]\n",
    "x = [Omunbinned, Omunbinned, Omunbinned]\n",
    "color = ['darkgray', 'indianred', 'darkblue']\n",
    "for i, y_ in enumerate(y):\n",
    "    \n",
    "    #Poisson likelihood\n",
    "    y_SN1 = np.exp(y_ - np.mean(y_))\n",
    "    y_SN2 = y_SN1/np.trapz(y_SN1, x[i])\n",
    "    xmean = np.trapz(y_SN2*x[i],x[i])\n",
    "    sigma2SN = np.trapz(y_SN2*(x[i] - xmean)**2,x[i])\n",
    "    print(f'{xmean:.5f} {sigma2SN**.5:.5f}')\n",
    "    plt.plot(x[i], .05*y_SN2, ls='-' ,c=color[i],lw=2, zorder=3, alpha=1)\n",
    "    print( )\n",
    "    #\n",
    "    #plt.plot(x[i], np.array(y[i])-np.min(y[i]), ls='-' ,c=color[i], zorder=5)\n",
    "    plt.plot(x[i], np.array(yssc[i])+3, ls='-' ,c=color[i], zorder=5)\n",
    "    y_SSCSN1 = y_SN2 * np.exp(yssc[i])\n",
    "    y_SSCSN2 = y_SSCSN1/np.trapz(y_SSCSN1, x[i])\n",
    "    xmean = np.trapz(y_SSCSN2*x[i],x[i])\n",
    "    sigma2SSC = np.trapz(y_SSCSN2*(x[i] - xmean)**2,x[i])\n",
    "    print(f'{xmean:.5f} {sigma2SSC**.5:.5f}')\n",
    "    #\n",
    "    print()\n",
    "    #plt.plot(y_/\n",
    "    print((sigma2SN**.5)/(sigma2SSC**.5))\n",
    "    plt.fill_between(x[i], .05*y_SSCSN2, 0*( .03*y_SSCSN2), alpha=.4, color = color[i], edgecolor=color[i], zorder=1, label = label[i])\n",
    "    \n",
    "    #y = np.exp(-(xmean-x[i])**2/(2*sigma2SSC))\n",
    "    #plt.plot(x[i], y_SSCSN2/y_SN2,color = color[i], ls='--')\n",
    "    #plt.plot(x[i], .05*y/np.trapz(y, x[i]))\n",
    "    #break\n",
    "#plt.legend(frameon=True, fontsize=11, framealpha=1, facecolor='white', loc= 'upper right')\n",
    "#plt.vlines(0.30711, 0, 10**7)\n",
    "plt.tick_params(axis='both', which = 'major', labelsize= 15)\n",
    "plt.legend(loc = 'upper right', fontsize=10, framealpha=1)\n",
    "\n",
    "#plt.savefig('ssc2.pdf', bbox_inches='tight', dpi=300)"
   ]
  },
  {
   "cell_type": "code",
   "execution_count": null,
   "id": "4e498089-5b0e-437f-a296-651223333456",
   "metadata": {},
   "outputs": [],
   "source": []
  },
  {
   "cell_type": "code",
   "execution_count": null,
   "id": "3275d104-ef19-4104-98a7-57de7ee3a000",
   "metadata": {},
   "outputs": [],
   "source": []
  },
  {
   "cell_type": "code",
   "execution_count": null,
   "id": "b2e80fff-e791-4a0a-abd9-d81df1650880",
   "metadata": {},
   "outputs": [],
   "source": []
  }
 ],
 "metadata": {
  "kernelspec": {
   "display_name": "myenv",
   "language": "python",
   "name": "myenv"
  },
  "language_info": {
   "codemirror_mode": {
    "name": "ipython",
    "version": 3
   },
   "file_extension": ".py",
   "mimetype": "text/x-python",
   "name": "python",
   "nbconvert_exporter": "python",
   "pygments_lexer": "ipython3",
   "version": "3.10.10"
  }
 },
 "nbformat": 4,
 "nbformat_minor": 5
}
