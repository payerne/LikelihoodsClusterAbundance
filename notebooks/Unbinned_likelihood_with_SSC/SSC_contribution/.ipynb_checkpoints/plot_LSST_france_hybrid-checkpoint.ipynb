{
 "cells": [
  {
   "cell_type": "code",
   "execution_count": 1,
   "id": "c3c4fe13-c5c7-475d-8228-0e3246d26a78",
   "metadata": {},
   "outputs": [
    {
     "name": "stderr",
     "output_type": "stream",
     "text": [
      "/pbs/home/c/cpayerne/.conda/envs/myenv/lib/python3.10/site-packages/tqdm/auto.py:21: TqdmWarning: IProgress not found. Please update jupyter and ipywidgets. See https://ipywidgets.readthedocs.io/en/stable/user_install.html\n",
      "  from .autonotebook import tqdm as notebook_tqdm\n"
     ]
    }
   ],
   "source": [
    "%load_ext autoreload\n",
    "\n",
    "%autoreload 2\n",
    "import sys\n",
    "import corner\n",
    "import numpy as np\n",
    "import matplotlib.pyplot as plt\n",
    "import scipy\n",
    "def binning(corner): return [[corner[i],corner[i+1]] for i in range(len(corner)-1)]\n",
    "sys.path.append('/pbs/throng/lsst/users/cpayerne/LikelihoodsClusterAbundance/modules/')\n",
    "import covariance as covar\n",
    "#import utils\n",
    "import pandas as pd\n",
    "import abundance as cl_count\n",
    "import forecast\n",
    "import emcee\n",
    "from lnlikelihood import lnLikelihood\n",
    "import pyccl as ccl\n",
    "import edit, sys\n",
    "import h5py, glob\n",
    "Omega_c_true = 0.30711 - 0.048254\n",
    "Omega_b_true = 0.048254\n",
    "sigma8_true = .8288\n",
    "Omegam_true = 0.30711\n",
    "True_value = [Omega_c_true + Omega_b_true, sigma8_true]"
   ]
  },
  {
   "cell_type": "code",
   "execution_count": 2,
   "id": "ef1daae8-fccc-4d2a-8ea1-360c108ba5fd",
   "metadata": {},
   "outputs": [],
   "source": [
    "import analysis"
   ]
  },
  {
   "cell_type": "code",
   "execution_count": 3,
   "id": "203d19a1-d611-4604-a3ab-2efd35ec0448",
   "metadata": {},
   "outputs": [],
   "source": [
    "def load_pickle(filename, **kwargs):\n",
    "    with open(filename, 'rb') as fin:\n",
    "        return pickle.load(fin, **kwargs)"
   ]
  },
  {
   "cell_type": "code",
   "execution_count": 4,
   "id": "bb51627c-265b-4aa0-a4d8-af732896071c",
   "metadata": {},
   "outputs": [],
   "source": [
    "sys.path.append('/pbs/throng/lsst/users/cpayerne/LikelihoodsClusterAbundance/notebooks/Unbinned_likelihood_with_SSC')\n",
    "import analysis"
   ]
  },
  {
   "cell_type": "code",
   "execution_count": 5,
   "id": "e6b50f08-c974-4bce-b750-35cba40c6681",
   "metadata": {},
   "outputs": [],
   "source": [
    " d = '/pbs/throng/lsst/users/cpayerne/LikelihoodsClusterAbundance/notebooks/Unbinned_likelihood_with_SSC/SSC_contribution/SSC/'"
   ]
  },
  {
   "cell_type": "code",
   "execution_count": 6,
   "id": "6e0723da-2f11-467a-801d-07f7348ff5a7",
   "metadata": {},
   "outputs": [],
   "source": [
    "import matplotlib as mpl"
   ]
  },
  {
   "cell_type": "code",
   "execution_count": 18,
   "id": "6443fb82-7c12-4778-9039-9918f86ae4de",
   "metadata": {},
   "outputs": [],
   "source": [
    "def splot(file):\n",
    "    print(1)\n",
    "    ssc_contOmunbinned = []\n",
    "    sn_contOmunbinned = []\n",
    "    Om = []\n",
    "    Nobs = []\n",
    "    for f in file:\n",
    "        #print(f)\n",
    "        Om_, y = np.load(f, allow_pickle=True)\n",
    "        ssc_contOmunbinned.append([y[i][0] for i in range(len(Om_))])\n",
    "        sn_contOmunbinned.append([y[i][1] for i in range(len(Om_))])\n",
    "        Om.append(Om_)\n",
    "        #print(f)\n",
    "        Nobs.append(int(f.split('Nobs=')[1].split('_')[0]))\n",
    "    fig, ax = plt.subplots(1, 2, figsize = (10, 3), sharex = True)\n",
    "    \n",
    "    #ax = plt.axes()\n",
    "   # label = file\n",
    "    #plt.xlabel(r'$\\Omega_m$', fontsize=20)\n",
    "    ax[0].set_ylim(0., 120)\n",
    "    #ax[1].set_ylim(2, 6)\n",
    "    ax[0].set_xlim(0.25, 0.35)\n",
    "    ax[0].vlines(0.30711, -3, 120, zorder=0, color='k', lw=1, )\n",
    "    ax[1].vlines(0.30711, -3, 20, zorder=0, color='k', lw=1, )\n",
    "    y = sn_contOmunbinned# sn_contOmbinned[0]]\n",
    "    yssc = ssc_contOmunbinned# ssc_contOmbinned[0]]\n",
    "    x = Om\n",
    "    #Nobs = int(f.split('Nobs=')[1].split('_z')[0])\n",
    "    color = ['darkgray', 'indianred', 'darkblue','cyan', 'b', 'r', 'k']\n",
    "    for i, y_ in enumerate(y):\n",
    "        #Poisson likelihood\n",
    "        print()\n",
    "        print(file[i])\n",
    "        mask = (x[i] > 0.2)*(x[i] < 0.4)\n",
    "        L_SN1 = np.exp((y_ - np.mean(y_)))\n",
    "        #print( )\n",
    "        P_SN2 = L_SN1[mask]/np.trapz(L_SN1[mask], x[i][mask])\n",
    "        xmean = np.trapz(P_SN2*x[i][mask],x[i][mask])\n",
    "        sigma2SN = np.trapz(P_SN2*(x[i][mask] - xmean)**2,x[i][mask])\n",
    "        print(f'{xmean:.5f} {sigma2SN**.5:.5f}')\n",
    "        ax[0].fill_between(x[i][mask], P_SN2, 0*( .03*P_SN2), alpha=.4, color = color[i], edgecolor=color[i], zorder=i, label = r'$N_{\\rm obs}$'+f'$={Nobs[i]}$' )\n",
    "        L_SSCSN1 = np.exp((yssc[i]) - np.mean(yssc[i]))\n",
    "        P_SSCSN2 = L_SSCSN1[mask]/np.trapz(L_SSCSN1[mask], x[i][mask])\n",
    "        #plt.plot(x[i], yssc[i])\n",
    "        #print(yssc[i])\n",
    "        #xmean = np.trapz(P_SSCSN2[mask]*x[i],x[i])\n",
    "        sigma2SSC = np.trapz(P_SSCSN2*(x[i][mask] - xmean)**2,x[i][mask])\n",
    "        #print(f'{xmean:.5f} {sigma2SSC**.5:.5f}')\n",
    "        print('ratio' + str(((sigma2SN**.5)/(sigma2SSC**.5))**(-1)))\n",
    "        ax[0].plot(x[i][mask], P_SSCSN2, ls='--' ,c=color[i], zorder=3, alpha=1,)\n",
    "        \n",
    "        #lnSSC = np.array(yssc[i])[mask] - np.array(y[i])[mask]\n",
    "        ax[1].plot(x[i][mask], yssc[i], color = color[i])\n",
    "        #plt.plot(x[i][mask],P_SSCSN2/P_SN2, ls=(0, (5, 5)),color = color[i])\n",
    "    #plt.plot(\n",
    "    for i in range(2):\n",
    "        ax[i].set_facecolor(\"whitesmoke\")\n",
    "        ax[i].tick_params(axis='both', which = 'major', labelsize= 12)\n",
    "        ax[0].legend()\n",
    "        ax[i].set_xlabel(r'$\\Omega_m$', fontsize=20)\n",
    "    #plt.legend()\n",
    "    plt.savefig('ssc_preliminary.png', bbox_inches='tight', dpi=300)\n",
    "    return 0"
   ]
  },
  {
   "cell_type": "code",
   "execution_count": 19,
   "id": "42300cb9-2e87-4eb8-89ef-074ad0843502",
   "metadata": {},
   "outputs": [
    {
     "name": "stdout",
     "output_type": "stream",
     "text": [
      "1\n",
      "\n",
      "/pbs/throng/lsst/users/cpayerne/LikelihoodsClusterAbundance/notebooks/Unbinned_likelihood_with_SSC/SSC_contribution/SSC/hybrid_garrell_unbinned_SSC_cat=1_Nobs=510_z[0.20,0.25]_logm[14.60,15.00]_fsky[0.2500].pkl\n",
      "0.32232 0.00871\n",
      "ratio6.620403862418825\n"
     ]
    },
    {
     "data": {
      "text/plain": [
       "0"
      ]
     },
     "execution_count": 19,
     "metadata": {},
     "output_type": "execute_result"
    },
    {
     "data": {
      "image/png": "[encoded data removed]",
      "text/plain": [
       "<Figure size 1000x300 with 2 Axes>"
      ]
     },
     "metadata": {},
     "output_type": "display_data"
    }
   ],
   "source": [
    "splot(glob.glob(d + 'hybrid_garrell_unbinned_SSC_*'))"
   ]
  },
  {
   "cell_type": "code",
   "execution_count": 9,
   "id": "071b9383-72e9-479d-9db8-587ef52ce951",
   "metadata": {},
   "outputs": [],
   "source": [
    "#splot(glob.glob(d + 'Unbinned_cat=706_*'))"
   ]
  },
  {
   "cell_type": "code",
   "execution_count": null,
   "id": "f3d98793-37f8-4f30-a72c-bc1a890c697b",
   "metadata": {},
   "outputs": [],
   "source": []
  },
  {
   "cell_type": "code",
   "execution_count": null,
   "id": "47a272f7-8fed-4c1d-a5b3-3efaad53a6e1",
   "metadata": {},
   "outputs": [],
   "source": []
  }
 ],
 "metadata": {
  "kernelspec": {
   "display_name": "myenv",
   "language": "python",
   "name": "myenv"
  },
  "language_info": {
   "codemirror_mode": {
    "name": "ipython",
    "version": 3
   },
   "file_extension": ".py",
   "mimetype": "text/x-python",
   "name": "python",
   "nbconvert_exporter": "python",
   "pygments_lexer": "ipython3",
   "version": "3.10.10"
  }
 },
 "nbformat": 4,
 "nbformat_minor": 5
}
