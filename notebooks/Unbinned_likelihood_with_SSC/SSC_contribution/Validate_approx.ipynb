{
 "cells": [
  {
   "cell_type": "code",
   "execution_count": 15,
   "id": "c3c4fe13-c5c7-475d-8228-0e3246d26a78",
   "metadata": {},
   "outputs": [
    {
     "name": "stdout",
     "output_type": "stream",
     "text": [
      "The autoreload extension is already loaded. To reload it, use:\n",
      "  %reload_ext autoreload\n"
     ]
    }
   ],
   "source": [
    "%load_ext autoreload\n",
    "\n",
    "%autoreload 2\n",
    "import sys\n",
    "import corner\n",
    "import numpy as np\n",
    "import matplotlib.pyplot as plt\n",
    "import scipy\n",
    "def binning(corner): return [[corner[i],corner[i+1]] for i in range(len(corner)-1)]\n",
    "sys.path.append('/pbs/throng/lsst/users/cpayerne/LikelihoodsClusterAbundance/modules/')\n",
    "import covariance as covar\n",
    "import utils\n",
    "import pandas as pd\n",
    "import abundance as cl_count\n",
    "import forecast\n",
    "import emcee\n",
    "from lnlikelihood import lnLikelihood\n",
    "import pyccl as ccl\n",
    "import edit, sys\n",
    "import h5py, glob\n",
    "Omega_c_true = 0.30711 - 0.048254\n",
    "Omega_b_true = 0.048254\n",
    "sigma8_true = .8288\n",
    "Omegam_true = 0.30711\n",
    "True_value = [Omega_c_true + Omega_b_true, sigma8_true]"
   ]
  },
  {
   "cell_type": "code",
   "execution_count": 16,
   "id": "203d19a1-d611-4604-a3ab-2efd35ec0448",
   "metadata": {},
   "outputs": [],
   "source": [
    "def load_pickle(filename, **kwargs):\n",
    "    with open(filename, 'rb') as fin:\n",
    "        return pickle.load(fin, **kwargs)"
   ]
  },
  {
   "cell_type": "code",
   "execution_count": 17,
   "id": "bb51627c-265b-4aa0-a4d8-af732896071c",
   "metadata": {},
   "outputs": [],
   "source": [
    "sys.path.append('/pbs/throng/lsst/users/cpayerne/LikelihoodsClusterAbundance/notebooks/Unbinned_likelihood_with_SSC')\n",
    "import analysis"
   ]
  },
  {
   "cell_type": "code",
   "execution_count": 18,
   "id": "f4b4341b-6cc5-417d-86db-a780d3970917",
   "metadata": {},
   "outputs": [],
   "source": [
    "d = '/pbs/throng/lsst/users/cpayerne/LikelihoodsClusterAbundance/notebooks/Unbinned_likelihood_with_SSC/SSC_contribution/SSC/'"
   ]
  },
  {
   "cell_type": "code",
   "execution_count": 55,
   "id": "060b839b-219e-4cb7-827a-32db2653ee4d",
   "metadata": {},
   "outputs": [],
   "source": [
    "gauss_Omapprox = []\n",
    "sn_Omapprox = []\n",
    "ssc_contOmapprox = []\n",
    "file_binned_approx = ['Om_SSC_contribution_binned_approx_5zx5m_14.40_15.60.pkl', \n",
    "               'Om_SSC_contribution_binned_approx_10zx10m_14.40_15.60.pkl',\n",
    "              'Om_SSC_contribution_binned_approx_70zx70m_14.40_15.60.pkl',\n",
    "              'Om_SSC_contribution_binned_approx_100zx100m_14.40_15.60.pkl']\n",
    "for f in file_binned_approx:\n",
    "    Om, y = np.load(d+f, allow_pickle=True)\n",
    "    gauss_Omapprox.append([y[i][0] for i in range(len(Om))])\n",
    "    sn_Omapprox.append([y[i][1] for i in range(len(Om))])\n",
    "    ssc_contOmapprox.append([y[i][2] for i in range(len(Om))])"
   ]
  },
  {
   "cell_type": "code",
   "execution_count": 66,
   "id": "76c02bbe-03b4-4b8f-963e-a1a142116fcf",
   "metadata": {},
   "outputs": [
    {
     "ename": "FileNotFoundError",
     "evalue": "[Errno 2] No such file or directory: '/pbs/throng/lsst/users/cpayerne/LikelihoodsClusterAbundance/notebooks/Unbinned_likelihood_with_SSC/SSC_contribution/SSC/Om_SSC_contribution_binned_full_100zx100m_14.20_15.60.pkl'",
     "output_type": "error",
     "traceback": [
      "\u001b[0;31m---------------------------------------------------------------------------\u001b[0m",
      "\u001b[0;31mFileNotFoundError\u001b[0m                         Traceback (most recent call last)",
      "Cell \u001b[0;32mIn[66], line 10\u001b[0m\n\u001b[1;32m      4\u001b[0m file_binned_full \u001b[38;5;241m=\u001b[39m [\u001b[38;5;124m'\u001b[39m\u001b[38;5;124mOm_SSC_contribution_binned_full_5zx5m_14.20_15.60.pkl\u001b[39m\u001b[38;5;124m'\u001b[39m, \n\u001b[1;32m      5\u001b[0m                \u001b[38;5;124m'\u001b[39m\u001b[38;5;124mOm_SSC_contribution_binned_full_10zx10m_14.20_15.60.pkl\u001b[39m\u001b[38;5;124m'\u001b[39m,\n\u001b[1;32m      6\u001b[0m               \u001b[38;5;124m'\u001b[39m\u001b[38;5;124mOm_SSC_contribution_binned_full_70zx70m_14.20_15.60.pkl\u001b[39m\u001b[38;5;124m'\u001b[39m,\n\u001b[1;32m      7\u001b[0m               \u001b[38;5;124m'\u001b[39m\u001b[38;5;124mOm_SSC_contribution_binned_full_100zx100m_14.20_15.60.pkl\u001b[39m\u001b[38;5;124m'\u001b[39m\n\u001b[1;32m      8\u001b[0m                    ]\n\u001b[1;32m      9\u001b[0m \u001b[38;5;28;01mfor\u001b[39;00m f \u001b[38;5;129;01min\u001b[39;00m file_binned_full:\n\u001b[0;32m---> 10\u001b[0m     Om, y \u001b[38;5;241m=\u001b[39m \u001b[43mnp\u001b[49m\u001b[38;5;241;43m.\u001b[39;49m\u001b[43mload\u001b[49m\u001b[43m(\u001b[49m\u001b[43md\u001b[49m\u001b[38;5;241;43m+\u001b[39;49m\u001b[43mf\u001b[49m\u001b[43m,\u001b[49m\u001b[43m \u001b[49m\u001b[43mallow_pickle\u001b[49m\u001b[38;5;241;43m=\u001b[39;49m\u001b[38;5;28;43;01mTrue\u001b[39;49;00m\u001b[43m)\u001b[49m\n\u001b[1;32m     11\u001b[0m     gauss_Omfull\u001b[38;5;241m.\u001b[39mappend([y[i][\u001b[38;5;241m0\u001b[39m] \u001b[38;5;28;01mfor\u001b[39;00m i \u001b[38;5;129;01min\u001b[39;00m \u001b[38;5;28mrange\u001b[39m(\u001b[38;5;28mlen\u001b[39m(Om))])\n\u001b[1;32m     12\u001b[0m     sn_Omfull\u001b[38;5;241m.\u001b[39mappend([y[i][\u001b[38;5;241m1\u001b[39m] \u001b[38;5;28;01mfor\u001b[39;00m i \u001b[38;5;129;01min\u001b[39;00m \u001b[38;5;28mrange\u001b[39m(\u001b[38;5;28mlen\u001b[39m(Om))])\n",
      "File \u001b[0;32m~/.conda/envs/myenv/lib/python3.10/site-packages/numpy/lib/npyio.py:405\u001b[0m, in \u001b[0;36mload\u001b[0;34m(file, mmap_mode, allow_pickle, fix_imports, encoding, max_header_size)\u001b[0m\n\u001b[1;32m    403\u001b[0m     own_fid \u001b[38;5;241m=\u001b[39m \u001b[38;5;28;01mFalse\u001b[39;00m\n\u001b[1;32m    404\u001b[0m \u001b[38;5;28;01melse\u001b[39;00m:\n\u001b[0;32m--> 405\u001b[0m     fid \u001b[38;5;241m=\u001b[39m stack\u001b[38;5;241m.\u001b[39menter_context(\u001b[38;5;28;43mopen\u001b[39;49m\u001b[43m(\u001b[49m\u001b[43mos_fspath\u001b[49m\u001b[43m(\u001b[49m\u001b[43mfile\u001b[49m\u001b[43m)\u001b[49m\u001b[43m,\u001b[49m\u001b[43m \u001b[49m\u001b[38;5;124;43m\"\u001b[39;49m\u001b[38;5;124;43mrb\u001b[39;49m\u001b[38;5;124;43m\"\u001b[39;49m\u001b[43m)\u001b[49m)\n\u001b[1;32m    406\u001b[0m     own_fid \u001b[38;5;241m=\u001b[39m \u001b[38;5;28;01mTrue\u001b[39;00m\n\u001b[1;32m    408\u001b[0m \u001b[38;5;66;03m# Code to distinguish from NumPy binary files and pickles.\u001b[39;00m\n",
      "\u001b[0;31mFileNotFoundError\u001b[0m: [Errno 2] No such file or directory: '/pbs/throng/lsst/users/cpayerne/LikelihoodsClusterAbundance/notebooks/Unbinned_likelihood_with_SSC/SSC_contribution/SSC/Om_SSC_contribution_binned_full_100zx100m_14.20_15.60.pkl'"
     ]
    }
   ],
   "source": [
    "gauss_Omfull = []\n",
    "sn_Omfull = []\n",
    "ssc_contOmfull = []\n",
    "file_binned_full = ['Om_SSC_contribution_binned_full_5zx5m_14.20_15.60.pkl', \n",
    "               'Om_SSC_contribution_binned_full_10zx10m_14.20_15.60.pkl',\n",
    "              'Om_SSC_contribution_binned_full_70zx70m_14.20_15.60.pkl',\n",
    "              'Om_SSC_contribution_binned_full_100zx100m_14.20_15.60.pkl'\n",
    "                   ]\n",
    "for f in file_binned_full:\n",
    "    Om, y = np.load(d+f, allow_pickle=True)\n",
    "    gauss_Omfull.append([y[i][0] for i in range(len(Om))])\n",
    "    sn_Omfull.append([y[i][1] for i in range(len(Om))])\n",
    "    ssc_contOmfull.append([y[i][2] for i in range(len(Om))])"
   ]
  },
  {
   "cell_type": "code",
   "execution_count": 65,
   "id": "c7540148-3659-41d8-b49c-aba323a79d9a",
   "metadata": {},
   "outputs": [
    {
     "name": "stdout",
     "output_type": "stream",
     "text": [
      "0.04539745254572276\n",
      "0.045468820377106936\n",
      "1.0007857247561085\n",
      "0.04541128697518185\n",
      "0.0454725391086397\n",
      "1.0006741880352503\n",
      "0.04348899655416775\n",
      "0.04342107312450104\n",
      "0.9992187682242711\n",
      "0.04348150790660982\n",
      "0.04342298422971816\n",
      "0.9993268013763497\n"
     ]
    },
    {
     "data": {
      "image/png": "[encoded data removed]",
      "text/plain": [
       "<Figure size 640x480 with 1 Axes>"
      ]
     },
     "metadata": {},
     "output_type": "display_data"
    }
   ],
   "source": [
    "mask = (Om > 0.2)*(Om < 0.4)\n",
    "#plt.ylim(-2, 10)\n",
    "for i, f in enumerate(file_binned_full):\n",
    "        #if i != 3: continue\n",
    "        lnL_gauss_full = gauss_Omfull[i]\n",
    "        lnL_sn_full = sn_Omfull[i]\n",
    "        P_gauss_full1 = np.exp(lnL_gauss_full - np.max(lnL_gauss_full))\n",
    "        P_gauss_full = P_gauss_full1/np.trapz(P_gauss_full1, Om)\n",
    "        #\n",
    "        meanOm = np.trapz(Om**2*P_gauss_full, Om)\n",
    "        var_gauss_full = np.trapz((Om - meanOm)**2*P_gauss_full, Om)\n",
    "        print(var_gauss_full)\n",
    "        P_sn_full1 = np.exp(lnL_sn_full - np.max(lnL_sn_full))\n",
    "        P_sn_full = P_sn_full1/np.trapz(P_sn_full1, Om)\n",
    "        #\n",
    "        meanOm = np.trapz(Om**2*P_sn_full, Om)\n",
    "        var_sn_full = np.trapz((Om - meanOm)**2*P_sn_full, Om)\n",
    "        print(var_sn_full)\n",
    "        print((var_sn_full/var_gauss_full)**.5)\n",
    "        #plt.plot(Om, P_gauss_full)\n",
    "        #plt.plot(Om[mask], P_gauss_full[mask], '--', label = file_binned_approx[i])\n",
    "        plt.plot(Om[mask], P_sn_full[mask], '-b', label = file_binned_approx[i])\n",
    "        #plt.plot(Om[mask], P_gauss_full[mask], '-g', label = file_binned_approx[i])\n",
    "        #lnL_gauss_approx = gauss_Omapprox[i]\n",
    "        #lnL_sn_approx = sn_Omapprox[i]\n",
    "       # P_gauss_approx1 = np.exp(lnL_gauss_approx - np.max(lnL_gauss_approx))\n",
    "        #P_gauss_approx = P_gauss_approx1/np.trapz(P_gauss_approx1, Om)\n",
    "       # P_sn_approx1 = np.exp(lnL_sn_approx - np.max(lnL_sn_approx))\n",
    "       # P_sn_approx = P_sn_approx1/np.trapz(P_sn_approx1, Om)\n",
    "        #plt.plot(Om[mask], P_sn_approx[mask]/P_gauss_approx[mask], '-', label = file_binned_approx[i])\n",
    "    #plt.plot(Om[mask], P_sn_approx[mask], '--', label = file_binned_approx[i])\n",
    "        #plt.plot(Om[mask], np.log(P_gauss_approx[mask]/P_sn_approx[mask]), '--', label = file_binned_approx[i])\n",
    "        #y_post = np.exp(y_ - np.max(y_))\n",
    "        #y_post1 = np.exp(ysn[i] - np.max(ysn[i]))\n",
    "        #mask = (x[i] > 0.295)*(x[i] < 0.33)\n",
    "        #@fssc = np.log((y_post[mask]/y_post1[mask]))\n",
    "        #fssc = fssc-np.min(fssc)\n",
    "        #plt.plot(x[i][mask], fssc, ls='-',lw=1)\n",
    "   \n",
    "        plt.legend(fontsize=5)"
   ]
  },
  {
   "cell_type": "code",
   "execution_count": 22,
   "id": "fa8a5ce7-31b2-416b-ad94-c558ee6a96d0",
   "metadata": {},
   "outputs": [
    {
     "ename": "NameError",
     "evalue": "name 'yfull' is not defined",
     "output_type": "error",
     "traceback": [
      "\u001b[0;31m---------------------------------------------------------------------------\u001b[0m",
      "\u001b[0;31mNameError\u001b[0m                                 Traceback (most recent call last)",
      "Cell \u001b[0;32mIn[22], line 1\u001b[0m\n\u001b[0;32m----> 1\u001b[0m \u001b[38;5;28;01mfor\u001b[39;00m i, y_ \u001b[38;5;129;01min\u001b[39;00m \u001b[38;5;28menumerate\u001b[39m(\u001b[43myfull\u001b[49m):\n\u001b[1;32m      2\u001b[0m     \u001b[38;5;28mprint\u001b[39m(i)\n\u001b[1;32m      4\u001b[0m     plt\u001b[38;5;241m.\u001b[39mplot(x[i][mask], f, ls\u001b[38;5;241m=\u001b[39m\u001b[38;5;124m'\u001b[39m\u001b[38;5;124m-\u001b[39m\u001b[38;5;124m'\u001b[39m,lw\u001b[38;5;241m=\u001b[39m\u001b[38;5;241m1\u001b[39m)\n",
      "\u001b[0;31mNameError\u001b[0m: name 'yfull' is not defined"
     ]
    }
   ],
   "source": [
    "for i, y_ in enumerate(yfull):\n",
    "    print(i)\n",
    "   \n",
    "    plt.plot(x[i][mask], f, ls='-',lw=1)\n",
    "   \n"
   ]
  },
  {
   "cell_type": "code",
   "execution_count": null,
   "id": "15454f8c-f52d-47a4-a8e7-1c3d3fc2588f",
   "metadata": {},
   "outputs": [],
   "source": []
  }
 ],
 "metadata": {
  "kernelspec": {
   "display_name": "myenv",
   "language": "python",
   "name": "myenv"
  },
  "language_info": {
   "codemirror_mode": {
    "name": "ipython",
    "version": 3
   },
   "file_extension": ".py",
   "mimetype": "text/x-python",
   "name": "python",
   "nbconvert_exporter": "python",
   "pygments_lexer": "ipython3",
   "version": "3.10.10"
  }
 },
 "nbformat": 4,
 "nbformat_minor": 5
}
