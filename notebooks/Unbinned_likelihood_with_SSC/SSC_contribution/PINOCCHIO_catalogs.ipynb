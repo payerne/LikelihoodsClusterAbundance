{
 "cells": [
  {
   "cell_type": "code",
   "execution_count": 1,
   "id": "8b9b451e-9e19-45b4-be06-2906b2afb482",
   "metadata": {},
   "outputs": [
    {
     "name": "stderr",
     "output_type": "stream",
     "text": [
      "/pbs/home/c/cpayerne/.conda/envs/myenv/lib/python3.10/site-packages/tqdm/auto.py:21: TqdmWarning: IProgress not found. Please update jupyter and ipywidgets. See https://ipywidgets.readthedocs.io/en/stable/user_install.html\n",
      "  from .autonotebook import tqdm as notebook_tqdm\n"
     ]
    }
   ],
   "source": [
    "%load_ext autoreload\n",
    "\n",
    "%autoreload 2\n",
    "import sys\n",
    "import corner\n",
    "import numpy as np\n",
    "import matplotlib.pyplot as plt\n",
    "import scipy\n",
    "def binning(corner): return [[corner[i],corner[i+1]] for i in range(len(corner)-1)]\n",
    "sys.path.append('/pbs/throng/lsst/users/cpayerne/LikelihoodsClusterAbundance/modules/')\n",
    "import covariance as covar\n",
    "import utils\n",
    "import pandas as pd\n",
    "import abundance as cl_count\n",
    "sys.path.append('/pbs/throng/lsst/users/cpayerne/LikelihoodsClusterAbundance/notebooks/Unbinned_likelihood_with_SSC/mcmc_modules/')\n",
    "import analysis\n",
    "import pickle\n",
    "\n",
    "def save_pickle(dat, filename, **kwargs):\n",
    "    file = open(filename,'wb')\n",
    "    pickle.dump(dat, file)\n",
    "    file.close()\n",
    "\n",
    "import pyccl as ccl\n",
    "import edit\n",
    "import h5py, glob\n",
    "Omega_c_true = 0.30711 - 0.048254\n",
    "Omega_b_true = 0.048254\n",
    "sigma8_true = .8288\n",
    "Omegam_true = 0.30711\n",
    "True_value = [Omega_c_true + Omega_b_true, sigma8_true]\n",
    "\n",
    "cosmo = ccl.Cosmology(Omega_c = Omegam_true - 0.048254, Omega_b = 0.048254, \n",
    "                              h = 0.6777, sigma8 = sigma8_true, n_s=0.96)\n",
    "\n",
    "\n",
    "where_cat = '/sps/lsst/users/cpayerne/1000xsimulations/1000_simulations/afumagalli/catalogs/plc_14/*'\n",
    "cat = glob.glob(where_cat)\n",
    "\n",
    "cat_test = pd.read_csv(cat[1] ,sep=' ',skiprows=12, names=['M','z','dec','ra'])\n",
    "ra, dec, redshift, Mvir = cat_test['ra'], cat_test['dec'], cat_test['z'], cat_test['M']/0.6777"
   ]
  },
  {
   "cell_type": "code",
   "execution_count": 2,
   "id": "7374e114-a1ab-48de-99e6-b661a92485bd",
   "metadata": {},
   "outputs": [
    {
     "data": {
      "text/plain": [
       "{'redshift_interval': [[0.2, 0.3], [0.2, 0.3], [0.2, 0.3]],\n",
       " 'logm_interval': [[14.3, 14.35], [14.3, 14.4], [14.3, 14.45]],\n",
       " 'analysis_name': ['S1', 'S2', 'S3'],\n",
       " 'likelihood': ['full_unbinned', 'full_unbinned', 'full_unbinned']}"
      ]
     },
     "execution_count": 2,
     "metadata": {},
     "output_type": "execute_result"
    }
   ],
   "source": [
    "analysis.analysis_unbinned"
   ]
  },
  {
   "cell_type": "code",
   "execution_count": 3,
   "id": "2e16240c-c53c-4137-ba9c-201ab078315a",
   "metadata": {},
   "outputs": [],
   "source": [
    "redshift_bins = analysis.redshift_bins\n",
    "logm_bins =  analysis.logm_bins"
   ]
  },
  {
   "cell_type": "code",
   "execution_count": 4,
   "id": "034d5676-b3a7-4f6d-a95c-ecebb4b5f4e2",
   "metadata": {},
   "outputs": [
    {
     "data": {
      "text/plain": [
       "[[0.2, 0.3], [0.2, 0.3], [0.2, 0.3]]"
      ]
     },
     "execution_count": 4,
     "metadata": {},
     "output_type": "execute_result"
    }
   ],
   "source": [
    "redshift_bins"
   ]
  },
  {
   "cell_type": "code",
   "execution_count": 5,
   "id": "5c556af4-37ba-4596-81ae-ca7c4fadf4ba",
   "metadata": {},
   "outputs": [
    {
     "name": "stdout",
     "output_type": "stream",
     "text": [
      "[0.2, 0.3]\n",
      "845\n",
      "[0.2, 0.3]\n",
      "1634\n",
      "[0.2, 0.3]\n",
      "2248\n"
     ]
    }
   ],
   "source": [
    "\n",
    "for i in range(3):\n",
    "    print(redshift_bins[i])\n",
    "    z_range = redshift_bins[i]\n",
    "    logm_range = logm_bins[i]\n",
    "    mask = (redshift > z_range[0])&(redshift < z_range[1])\n",
    "    mask = mask &(np.log10(Mvir) > logm_range[0])&(np.log10(Mvir) < logm_range[1])\n",
    "    redshift_cut = redshift[mask]\n",
    "    Mvir_cut = Mvir[mask]\n",
    "    Nobs = len(Mvir_cut)\n",
    "    print(Nobs)"
   ]
  },
  {
   "cell_type": "code",
   "execution_count": 6,
   "id": "74be6f35-85d3-42b2-9ea1-ac8b50f304e3",
   "metadata": {},
   "outputs": [],
   "source": [
    "Unity = np.eye(10)"
   ]
  },
  {
   "cell_type": "code",
   "execution_count": 7,
   "id": "5bd91170-4e99-48dc-8c14-ef2160adbe04",
   "metadata": {},
   "outputs": [
    {
     "data": {
      "text/plain": [
       "array([[1., 0., 0., 0., 0., 0., 0., 0., 0., 0.],\n",
       "       [0., 1., 0., 0., 0., 0., 0., 0., 0., 0.],\n",
       "       [0., 0., 1., 0., 0., 0., 0., 0., 0., 0.],\n",
       "       [0., 0., 0., 1., 0., 0., 0., 0., 0., 0.],\n",
       "       [0., 0., 0., 0., 1., 0., 0., 0., 0., 0.],\n",
       "       [0., 0., 0., 0., 0., 1., 0., 0., 0., 0.],\n",
       "       [0., 0., 0., 0., 0., 0., 1., 0., 0., 0.],\n",
       "       [0., 0., 0., 0., 0., 0., 0., 1., 0., 0.],\n",
       "       [0., 0., 0., 0., 0., 0., 0., 0., 1., 0.],\n",
       "       [0., 0., 0., 0., 0., 0., 0., 0., 0., 1.]])"
      ]
     },
     "execution_count": 7,
     "metadata": {},
     "output_type": "execute_result"
    }
   ],
   "source": [
    "Unity"
   ]
  },
  {
   "cell_type": "code",
   "execution_count": null,
   "id": "4e825222-1289-4f37-a05e-68729960ad20",
   "metadata": {},
   "outputs": [],
   "source": []
  },
  {
   "cell_type": "code",
   "execution_count": null,
   "id": "0563116b-67cd-46a5-96a0-e2009b21c876",
   "metadata": {},
   "outputs": [],
   "source": []
  },
  {
   "cell_type": "code",
   "execution_count": null,
   "id": "d4df5076-b842-4d1a-b0fc-55e6771c7254",
   "metadata": {},
   "outputs": [],
   "source": []
  },
  {
   "cell_type": "code",
   "execution_count": null,
   "id": "3d954787-bd7c-4971-8dae-7ad5ff3061e9",
   "metadata": {},
   "outputs": [],
   "source": []
  },
  {
   "cell_type": "code",
   "execution_count": null,
   "id": "2257316a-2bc9-4602-8a73-5753ebdda6fd",
   "metadata": {},
   "outputs": [],
   "source": []
  },
  {
   "cell_type": "code",
   "execution_count": null,
   "id": "57cc4e6d-9fa2-4310-ae6d-6387239a2609",
   "metadata": {},
   "outputs": [],
   "source": []
  },
  {
   "cell_type": "code",
   "execution_count": null,
   "id": "b454f6c9-be2c-4f35-a4bc-0e9b8fe27a1b",
   "metadata": {},
   "outputs": [],
   "source": []
  },
  {
   "cell_type": "code",
   "execution_count": null,
   "id": "771f546d-7df9-473f-8067-b675a8b2ca29",
   "metadata": {},
   "outputs": [],
   "source": []
  }
 ],
 "metadata": {
  "kernelspec": {
   "display_name": "myenv",
   "language": "python",
   "name": "myenv"
  },
  "language_info": {
   "codemirror_mode": {
    "name": "ipython",
    "version": 3
   },
   "file_extension": ".py",
   "mimetype": "text/x-python",
   "name": "python",
   "nbconvert_exporter": "python",
   "pygments_lexer": "ipython3",
   "version": "3.10.10"
  }
 },
 "nbformat": 4,
 "nbformat_minor": 5
}
