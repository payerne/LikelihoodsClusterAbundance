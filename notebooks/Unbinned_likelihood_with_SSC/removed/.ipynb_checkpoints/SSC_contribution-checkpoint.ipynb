{
 "cells": [
  {
   "cell_type": "code",
   "execution_count": 9,
   "id": "c3c4fe13-c5c7-475d-8228-0e3246d26a78",
   "metadata": {},
   "outputs": [
    {
     "name": "stdout",
     "output_type": "stream",
     "text": [
      "The autoreload extension is already loaded. To reload it, use:\n",
      "  %reload_ext autoreload\n"
     ]
    }
   ],
   "source": [
    "%load_ext autoreload\n",
    "\n",
    "%autoreload 2\n",
    "import sys\n",
    "import corner\n",
    "import numpy as np\n",
    "import matplotlib.pyplot as plt\n",
    "import scipy\n",
    "def binning(corner): return [[corner[i],corner[i+1]] for i in range(len(corner)-1)]\n",
    "import unbinned_likelihood\n",
    "sys.path.append('/pbs/throng/lsst/users/cpayerne/LikelihoodsClusterAbundance/modules/')\n",
    "import covariance as covar\n",
    "import utils\n",
    "import pandas as pd\n",
    "import abundance as cl_count\n",
    "import forecast\n",
    "import emcee\n",
    "import unbinned_model as ub\n",
    "from lnlikelihood import lnLikelihood\n",
    "import pyccl as ccl\n",
    "import edit\n",
    "import h5py, glob\n",
    "Omega_c_true = 0.30711 - 0.048254\n",
    "Omega_b_true = 0.048254\n",
    "sigma8_true = .8288\n",
    "Omegam_true = 0.30711\n",
    "True_value = [Omega_c_true + Omega_b_true, sigma8_true]"
   ]
  },
  {
   "cell_type": "code",
   "execution_count": 10,
   "id": "21414cf3-46d2-48ed-bffa-cc6334d66e74",
   "metadata": {},
   "outputs": [],
   "source": [
    "cosmo = ccl.Cosmology(Omega_c = Omegam_true - 0.048254, Omega_b = 0.048254, \n",
    "                              h = 0.6777, sigma8 = sigma8_true, n_s=0.96)"
   ]
  },
  {
   "cell_type": "code",
   "execution_count": 11,
   "id": "ab3b8b8f-8bc1-449c-8b18-f60b01d5a31f",
   "metadata": {},
   "outputs": [],
   "source": [
    "mapping = ub.Mapping()"
   ]
  },
  {
   "cell_type": "code",
   "execution_count": 12,
   "id": "c7ae8d4e-b1fe-4d55-9bab-4474a5fa8278",
   "metadata": {},
   "outputs": [],
   "source": [
    "mapping.set_cosmology(cosmo)"
   ]
  },
  {
   "cell_type": "code",
   "execution_count": 13,
   "id": "3896a456-f5a9-43c5-8c2b-589ad29275a6",
   "metadata": {},
   "outputs": [],
   "source": [
    "z_grid = np.linspace(0.2, .5, 210)\n",
    "logm_grid = np.linspace(14.5, 14.6, 200)\n",
    "fsky = 1/4"
   ]
  },
  {
   "cell_type": "code",
   "execution_count": 1,
   "id": "356a68d2-4437-4b5f-8023-f118b1e859dd",
   "metadata": {},
   "outputs": [],
   "source": [
    "def SSC_contribution(logm_range, z_range):\n",
    "    z_grid = np.linspace(z_range[0], z_range[1], 210)\n",
    "    logm_grid = np.linspace(logm_range[0], logm_range[1], 200)\n",
    "    fsky = 1/4\n",
    "    dN_dlogmdz_map = mapping.compute_dN_dlogMdzdOmega_map(z_grid, logm_grid, fsky)\n",
    "    halo_bias_map = mapping.compute_halo_bias_map(z_grid, logm_grid)\n",
    "    sigma2_map = mapping.compute_sigma2_map(z_grid, fsky)\n",
    "    mapping.interp(z_grid, logm_grid, sigma2_map, dN_dlogmdz_map, halo_bias_map, )\n",
    "    Nth = mapping.compute_N_th(z_grid, logm_grid, dN_dlogmdz_map)\n",
    "    #\n",
    "    NNSbb_thth = mapping.compute_NNSbb_thth(z_grid, logm_grid, sigma2_map, dN_dlogmdz_map, halo_bias_map, Nth)\n",
    "\n",
    "    #\n",
    "    where_cat = '/sps/lsst/users/cpayerne/1000xsimulations/1000_simulations/afumagalli/catalogs/plc_14/*'\n",
    "    cat = glob.glob(where_cat)\n",
    "\n",
    "    for i ,c in enumerate(cat):\n",
    "        cat_test = pd.read_csv(c ,sep=' ',skiprows=12, names=['M','z','dec','ra'])\n",
    "        ra, dec, redshift, Mvir = cat_test['ra'], cat_test['dec'], cat_test['z'], cat_test['M']/0.6777\n",
    "        if i == 3: break\n",
    "    mask = (redshift > z_range[0])&(redshift < z_range[1])\n",
    "    mask = mask &(np.log10(Mvir) > logm_range[0])&(np.log10(Mvir) < logm_range[1])\n",
    "    redshift_cut = redshift[mask]\n",
    "    Mvir_cut = Mvir[mask]\n",
    "    Nobs = len(Mvir_cut)\n",
    "    z_sample = redshift_cut\n",
    "    logm_sample = np.log10(Mvir_cut)\n",
    "    #\n",
    "    NNSbb_obsobs = mapping.compute_NNSbb_obsobs(z_grid, logm_grid, \n",
    "                                        sigma2_map, dN_dlogmdz_map, halo_bias_map, \n",
    "                                        z_sample, logm_sample, Nobs, reduced_sample = True)\n",
    "    #\n",
    "    NNSbb_obsth = mapping.compute_NNSbb_obsth(z_grid, logm_grid, \n",
    "                                      sigma2_map, dN_dlogmdz_map, halo_bias_map, \n",
    "                                      z_sample, logm_sample, Nth, Nobs, reduced_sample = True)\n",
    "    #\n",
    "    NSb2_obs = mapping.compute_NSb2_obs(z_grid, logm_grid, sigma2_map, dN_dlogmdz_map, halo_bias_map, \n",
    "                            z_sample, logm_sample, Nth, Nobs, reduced_sample = True)\n",
    "    #\n",
    "    dN_dzdlogM = mapping.N_map_interp_fct(logm_sample, z_sample, grid = False)\n",
    "    #\n",
    "    lnLSSC = unbinned_likelihood.lnLikelihood_UnBinned_Poissonian_SSC(dN_dzdlogM, Nth, Nobs,\n",
    "                                     NNSbb_obsobs,\n",
    "                                     NNSbb_obsth,\n",
    "                                     NNSbb_thth,\n",
    "                                     NSb2_obs)\n",
    "    #\n",
    "    lnLnoSSC = unbinned_likelihood.lnLikelihood_UnBinned_Poissonian(dN_dzdlogM, Nth)\n",
    "    return lnLSSC, lnLnoSSC"
   ]
  },
  {
   "cell_type": "markdown",
   "id": "e7a47da9-ae97-45ad-b912-3855dcc3bece",
   "metadata": {},
   "source": [
    "# Data"
   ]
  },
  {
   "cell_type": "code",
   "execution_count": null,
   "id": "59b55f17-2604-4f15-a064-d359826f2107",
   "metadata": {},
   "outputs": [
    {
     "name": "stdout",
     "output_type": "stream",
     "text": [
      "14.5\n"
     ]
    }
   ],
   "source": [
    "logm_low = np.linspace(14.5, 15, 5)\n",
    "lnLSSC = []\n",
    "lnLnoSSC = []\n",
    "for logm in logm_low:\n",
    "    print(logm)\n",
    "    lnLSSC_, lnLnoSSC_ = SSC_contribution([logm, 16], [.2, 1])\n",
    "    lnLSSC.append(lnLSSC_)\n",
    "    lnLnoSSC.append(lnLnoSSC_)"
   ]
  },
  {
   "cell_type": "code",
   "execution_count": null,
   "id": "3ab5e4a8-0aeb-496e-959a-09faaa0ef158",
   "metadata": {},
   "outputs": [],
   "source": [
    "plt.plot(logm_low, np.array(lnLSSC)"
   ]
  }
 ],
 "metadata": {
  "kernelspec": {
   "display_name": "mydesc",
   "language": "python",
   "name": "mydesc"
  },
  "language_info": {
   "codemirror_mode": {
    "name": "ipython",
    "version": 3
   },
   "file_extension": ".py",
   "mimetype": "text/x-python",
   "name": "python",
   "nbconvert_exporter": "python",
   "pygments_lexer": "ipython3",
   "version": "3.7.6"
  }
 },
 "nbformat": 4,
 "nbformat_minor": 5
}
