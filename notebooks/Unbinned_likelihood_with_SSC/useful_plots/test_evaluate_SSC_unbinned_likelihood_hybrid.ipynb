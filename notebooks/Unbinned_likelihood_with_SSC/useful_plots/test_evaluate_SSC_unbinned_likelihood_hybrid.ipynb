{
 "cells": [
  {
   "cell_type": "code",
   "execution_count": 11,
   "id": "c3c4fe13-c5c7-475d-8228-0e3246d26a78",
   "metadata": {},
   "outputs": [
    {
     "name": "stdout",
     "output_type": "stream",
     "text": [
      "The autoreload extension is already loaded. To reload it, use:\n",
      "  %reload_ext autoreload\n"
     ]
    }
   ],
   "source": [
    "%load_ext autoreload\n",
    "\n",
    "%autoreload 2\n",
    "import sys\n",
    "import corner\n",
    "import numpy as np\n",
    "import matplotlib.pyplot as plt\n",
    "import scipy\n",
    "import astropy.units as u\n",
    "def binning(corner): return [[corner[i],corner[i+1]] for i in range(len(corner)-1)]\n",
    "sys.path.append('/pbs/throng/lsst/users/cpayerne/LikelihoodsClusterAbundance/modules/')\n",
    "import covariance as covar\n",
    "import utils\n",
    "import pandas as pd\n",
    "import abundance as cl_count\n",
    "import forecast\n",
    "import emcee\n",
    "sys.path.append('/pbs/throng/lsst/users/cpayerne/LikelihoodsClusterAbundance/notebooks/Unbinned_likelihood_with_SSC/mcmc_modules')\n",
    "import unbinned_model_hybrid as ub\n",
    "from lnlikelihood import lnLikelihood\n",
    "import pyccl as ccl\n",
    "import edit\n",
    "import h5py, glob\n",
    "from astropy.coordinates import SkyCoord\n",
    "from astropy.table import Table\n",
    "Omega_c_true = 0.30711 - 0.048254\n",
    "Omega_b_true = 0.048254\n",
    "sigma8_true = .8288\n",
    "Omegam_true = 0.30711\n",
    "True_value = [Omega_c_true + Omega_b_true, sigma8_true]"
   ]
  },
  {
   "cell_type": "code",
   "execution_count": 30,
   "id": "21414cf3-46d2-48ed-bffa-cc6334d66e74",
   "metadata": {},
   "outputs": [],
   "source": [
    "cosmo = ccl.Cosmology(Omega_c = Omegam_true - 0.048254, Omega_b = 0.048254, \n",
    "                              h = 0.6777, sigma8 = sigma8_true, n_s=0.96)"
   ]
  },
  {
   "cell_type": "code",
   "execution_count": 31,
   "id": "ab3b8b8f-8bc1-449c-8b18-f60b01d5a31f",
   "metadata": {},
   "outputs": [],
   "source": [
    "mapping = ub.Mapping()"
   ]
  },
  {
   "cell_type": "code",
   "execution_count": 32,
   "id": "c7ae8d4e-b1fe-4d55-9bab-4474a5fa8278",
   "metadata": {},
   "outputs": [],
   "source": [
    "mapping.set_cosmology(cosmo)"
   ]
  },
  {
   "cell_type": "code",
   "execution_count": 104,
   "id": "3896a456-f5a9-43c5-8c2b-589ad29275a6",
   "metadata": {},
   "outputs": [],
   "source": [
    "z_grid = np.linspace(.2, 1, 500)\n",
    "logm_grid = np.linspace(14.8, 15.6, 501)\n",
    "fsky_default = 1/2\n",
    "fsky = fsky_default/3\n",
    "fsky = 1/4\n",
    "theta_aperture = np.arccos(1-2*fsky)*180/np.pi #deg"
   ]
  },
  {
   "cell_type": "code",
   "execution_count": 105,
   "id": "54a26d11-99c3-4d74-b83d-0959ce92b300",
   "metadata": {},
   "outputs": [
    {
     "data": {
      "text/plain": [
       "60.00000000000001"
      ]
     },
     "execution_count": 105,
     "metadata": {},
     "output_type": "execute_result"
    }
   ],
   "source": [
    "theta_aperture"
   ]
  },
  {
   "cell_type": "code",
   "execution_count": 106,
   "id": "356a68d2-4437-4b5f-8023-f118b1e859dd",
   "metadata": {},
   "outputs": [],
   "source": [
    "dN_dlogmdz_map = mapping.compute_dN_dlogMdzdOmega_map(z_grid, logm_grid, fsky)\n",
    "halo_bias_map = mapping.compute_halo_bias_map(z_grid, logm_grid)"
   ]
  },
  {
   "cell_type": "code",
   "execution_count": 103,
   "id": "e1e8308f-f20e-4997-8cef-53698f45351b",
   "metadata": {},
   "outputs": [],
   "source": [
    "redshift_intervals = [[0.2, 0.25],[0.25, 0.3],[0.3, 0.5], ]\n",
    "Sij = mapping.compute_Sij_map(redshift_intervals, fsky)"
   ]
  },
  {
   "cell_type": "code",
   "execution_count": 107,
   "id": "1c86759c-2108-4a04-bf32-708063bc54ce",
   "metadata": {},
   "outputs": [],
   "source": [
    "mapping.compute_bdNdm_zbins_and_dNdm_zbins(z_grid, logm_grid, dN_dlogmdz_map, halo_bias_map, redshift_intervals, fsky)\n",
    "mapping.compute_Nb_zbins(z_grid, logm_grid, dN_dlogmdz_map, halo_bias_map, redshift_intervals, fsky)"
   ]
  },
  {
   "cell_type": "code",
   "execution_count": 108,
   "id": "4c9e0280-9b1b-4626-8ce7-7d147287c3df",
   "metadata": {},
   "outputs": [
    {
     "data": {
      "text/plain": [
       "array([1048.64736601, 1289.79121713, 6574.03855426])"
      ]
     },
     "execution_count": 108,
     "metadata": {},
     "output_type": "execute_result"
    }
   ],
   "source": [
    "mapping.Nb"
   ]
  },
  {
   "cell_type": "code",
   "execution_count": 109,
   "id": "47ac0dfe-a577-4d22-86b5-cadfe802bee3",
   "metadata": {},
   "outputs": [
    {
     "data": {
      "text/plain": [
       "226.8700826162521"
      ]
     },
     "execution_count": 109,
     "metadata": {},
     "output_type": "execute_result"
    }
   ],
   "source": [
    "mapping.compute_NSbb_thth(z_grid, logm_grid, dN_dlogmdz_map, halo_bias_map, redshift_intervals, Sij, fsky)"
   ]
  },
  {
   "cell_type": "code",
   "execution_count": 110,
   "id": "5c2f9610-195b-41d2-8fa9-ec6febaa64ad",
   "metadata": {},
   "outputs": [],
   "source": [
    "mapping.interp(z_grid, logm_grid, dN_dlogmdz_map, halo_bias_map, redshift_intervals, Sij, fsky)"
   ]
  },
  {
   "cell_type": "code",
   "execution_count": 117,
   "id": "65797dd6-9169-464a-8fd2-bbede7dd3a76",
   "metadata": {},
   "outputs": [],
   "source": [
    "where_cat = '/sps/lsst/users/cpayerne/1000xsimulations/1000_simulations/afumagalli/catalogs/plc_14/*'\n",
    "cat = glob.glob(where_cat)\n",
    "cat_test = pd.read_csv(cat[35] ,sep=' ',skiprows=12, names=['M','z','dec','ra'])\n",
    "ra, dec, redshift, Mvir = cat_test['ra'], cat_test['dec'], cat_test['z'], cat_test['M']/0.6777\n",
    "mask = (redshift > .2)&(redshift < .5)\n",
    "mask = mask &(np.log10(Mvir) > 14.8)&(np.log10(Mvir) < 15.6)\n",
    "redshift_cut = redshift[mask]\n",
    "Mvir_cut = Mvir[mask]\n",
    "z_sample = redshift_cut\n",
    "logm_sample = np.log10(Mvir_cut)"
   ]
  },
  {
   "cell_type": "code",
   "execution_count": 118,
   "id": "0a6cd51d-accb-489a-b578-2c82e3bd536a",
   "metadata": {},
   "outputs": [
    {
     "name": "stdout",
     "output_type": "stream",
     "text": [
      "977.2717580403262\n",
      "1048.64736600907\n",
      "1289.7912171285031\n",
      "6574.038554261626\n",
      "1388.7786108694868\n",
      "1048.64736600907\n",
      "1289.7912171285031\n",
      "6574.038554261626\n",
      "6876.945953186935\n",
      "1048.64736600907\n",
      "1289.7912171285031\n",
      "6574.038554261626\n"
     ]
    },
    {
     "data": {
      "text/plain": [
       "232.52066595094504"
      ]
     },
     "execution_count": 118,
     "metadata": {},
     "output_type": "execute_result"
    }
   ],
   "source": [
    "mapping.compute_NSbb_thobs(z_grid, logm_grid, dN_dlogmdz_map, halo_bias_map, redshift_intervals, Sij, fsky, z_sample, logm_sample)"
   ]
  },
  {
   "cell_type": "code",
   "execution_count": 119,
   "id": "2fab4ecb-bdfe-4581-9d52-40a2d502ac58",
   "metadata": {},
   "outputs": [
    {
     "data": {
      "text/plain": [
       "239.47205628171196"
      ]
     },
     "execution_count": 119,
     "metadata": {},
     "output_type": "execute_result"
    }
   ],
   "source": [
    "mapping.compute_NSbb_obsobs(z_grid, logm_grid, dN_dlogmdz_map, halo_bias_map, redshift_intervals, Sij, fsky, z_sample, logm_sample)"
   ]
  },
  {
   "cell_type": "code",
   "execution_count": null,
   "id": "c12416e3-d145-452a-914a-64c84eac3d18",
   "metadata": {},
   "outputs": [],
   "source": [
    "mapping.compute_NSbb_obsobs(z_grid, logm_grid, dN_dlogmdz_map, halo_bias_map, redshift_intervals, Sij, fsky, z_sample, logm_sample)"
   ]
  },
  {
   "cell_type": "code",
   "execution_count": 121,
   "id": "6e284de9-0c1c-41ea-bcaf-039794db58d0",
   "metadata": {},
   "outputs": [
    {
     "data": {
      "text/plain": [
       "1.1560628594586144"
      ]
     },
     "execution_count": 121,
     "metadata": {},
     "output_type": "execute_result"
    }
   ],
   "source": [
    "mapping.compute_NSb2_obs(z_grid, logm_grid, dN_dlogmdz_map, halo_bias_map, redshift_intervals, Sij, fsky, z_sample, logm_sample)"
   ]
  },
  {
   "cell_type": "code",
   "execution_count": null,
   "id": "ee5b8a9b-ec0c-4695-9121-fe95348ee432",
   "metadata": {},
   "outputs": [],
   "source": []
  }
 ],
 "metadata": {
  "kernelspec": {
   "display_name": "myenv",
   "language": "python",
   "name": "myenv"
  },
  "language_info": {
   "codemirror_mode": {
    "name": "ipython",
    "version": 3
   },
   "file_extension": ".py",
   "mimetype": "text/x-python",
   "name": "python",
   "nbconvert_exporter": "python",
   "pygments_lexer": "ipython3",
   "version": "3.10.10"
  }
 },
 "nbformat": 4,
 "nbformat_minor": 5
}
