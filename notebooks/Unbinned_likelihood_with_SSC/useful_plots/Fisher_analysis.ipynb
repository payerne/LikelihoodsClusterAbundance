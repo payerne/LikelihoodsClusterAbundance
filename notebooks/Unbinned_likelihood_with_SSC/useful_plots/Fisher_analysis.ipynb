{
 "cells": [
  {
   "cell_type": "code",
   "execution_count": 1,
   "id": "b099eded-96e2-4146-97e7-9f240c3df1a2",
   "metadata": {},
   "outputs": [],
   "source": [
    "%load_ext autoreload\n",
    "\n",
    "%autoreload 2\n",
    "import sys\n",
    "import numpy as np\n",
    "import matplotlib.pyplot as plt\n",
    "#import see_fits\n",
    "import scipy\n",
    "def binning(corner): return [[corner[i],corner[i+1]] for i in range(len(corner)-1)]\n",
    "from scipy.ndimage import gaussian_filter\n",
    "sys.path.append('/pbs/throng/lsst/users/cpayerne/LikelihoodsClusterAbundance/modules/')\n",
    "import covariance as covar\n",
    "import utils\n",
    "import abundance as cl_count\n",
    "import forecast\n",
    "import pyccl as ccl\n",
    "import edit\n",
    "import h5py\n",
    "Omega_c_true = 0.30711 - 0.048254\n",
    "Omega_b_true = 0.048254\n",
    "sigma8_true = .8288\n",
    "Omegam_true = 0.30711\n",
    "True_value = [Omega_c_true + Omega_b_true, sigma8_true]"
   ]
  },
  {
   "cell_type": "code",
   "execution_count": 2,
   "id": "0c1e3835-0975-4dbd-b35d-802f670235ba",
   "metadata": {},
   "outputs": [],
   "source": [
    "#forecastF=edit.load_pickle('/pbs/throng/lsst/users/cpayerne/ClusterLikelihoods_data/Unbinned_likelihood/covariances/Fisher_covariance_.pickle')\n",
    "forecastF=edit.load_pickle('/pbs/throng/lsst/users/cpayerne/ClusterLikelihoods_data/Unbinned_likelihood/covariances/Fisher_covariance_.pickle')"
   ]
  },
  {
   "cell_type": "code",
   "execution_count": 3,
   "id": "1fb340b9-47a3-459d-a5a4-84f505c7e975",
   "metadata": {},
   "outputs": [
    {
     "data": {
      "text/plain": [
       "{'4zx4m': {'Gaussian': array([[ 4.54048806e-04, -9.41322435e-05],\n",
       "         [-9.41322435e-05,  3.04946473e-05]]),\n",
       "  'Poissonian': array([[ 4.38815801e-04, -9.24370432e-05],\n",
       "         [-9.24370432e-05,  3.02099427e-05]])},\n",
       " '10zx10m': {'Gaussian': array([[ 4.04964891e-04, -8.17983865e-05],\n",
       "         [-8.17983865e-05,  2.74398219e-05]]),\n",
       "  'Poissonian': array([[ 3.87873186e-04, -7.99105894e-05],\n",
       "         [-7.99105894e-05,  2.71276098e-05]])},\n",
       " '30zx30m': {'Gaussian': array([[ 3.97003007e-04, -7.98115815e-05],\n",
       "         [-7.98115815e-05,  2.69499690e-05]]),\n",
       "  'Poissonian': array([[ 3.79749097e-04, -7.79141585e-05],\n",
       "         [-7.79141585e-05,  2.66360007e-05]])},\n",
       " '60zx60m': {'Gaussian': array([[ 3.96264639e-04, -7.96282494e-05],\n",
       "         [-7.96282494e-05,  2.69052204e-05]]),\n",
       "  'Poissonian': array([[ 3.78995763e-04, -7.77292497e-05],\n",
       "         [-7.77292497e-05,  2.65906522e-05]])},\n",
       " '100zx100m': {'Gaussian': array([[ 3.96206022e-04, -7.96009616e-05],\n",
       "         [-7.96009616e-05,  2.68993847e-05]]),\n",
       "  'Poissonian': array([[ 3.78878511e-04, -7.76963231e-05],\n",
       "         [-7.76963231e-05,  2.65844027e-05]])}}"
      ]
     },
     "execution_count": 3,
     "metadata": {},
     "output_type": "execute_result"
    }
   ],
   "source": [
    "forecastF"
   ]
  },
  {
   "cell_type": "code",
   "execution_count": 4,
   "id": "0d1f042e-b6b3-4cb4-ab46-965e6c7c4372",
   "metadata": {},
   "outputs": [],
   "source": [
    "def binning(corner): return [[corner[i],corner[i+1]] for i in range(len(corner)-1)]\n",
    "Omega_c_true = 0.30711 - 0.048254\n",
    "Omega_b_true = 0.048254\n",
    "sigma8_true = .8288\n",
    "Omegam_true = 0.30711\n",
    "True_value = [Omega_c_true + Omega_b_true, sigma8_true]"
   ]
  },
  {
   "cell_type": "code",
   "execution_count": 31,
   "id": "8482a040-056a-4892-b846-49c25afc45ec",
   "metadata": {},
   "outputs": [],
   "source": [
    "f=forecast.Forecast()\n",
    "z_grid = np.linspace(0.2, 1.2, 2000)\n",
    "logm_grid = np.linspace(15,15.6\n",
    "                        , 2000)"
   ]
  },
  {
   "cell_type": "code",
   "execution_count": 32,
   "id": "6707235e-547e-4ae4-8dc3-e46aabc8265f",
   "metadata": {},
   "outputs": [],
   "source": [
    "clc = cl_count.ClusterAbundance()\n",
    "clc.sky_area = (0.25)*4*np.pi\n",
    "clc.f_sky = clc.sky_area/(4*np.pi)\n",
    "clc.z_grid= z_grid\n",
    "clc.logm_grid = logm_grid"
   ]
  },
  {
   "cell_type": "code",
   "execution_count": 33,
   "id": "2ae63b8d-0d09-4eac-9f58-2703c550bf01",
   "metadata": {},
   "outputs": [],
   "source": [
    "F = f.Fisher_matrix_unbinned_Poissonian(True_value, [0.2,1.2], [15, 15.6], clc)"
   ]
  },
  {
   "cell_type": "code",
   "execution_count": 34,
   "id": "9e787413-2f68-40e5-9efa-db78ad6c6fa9",
   "metadata": {},
   "outputs": [],
   "source": [
    "Cov_unbinned = np.linalg.inv(F)"
   ]
  },
  {
   "cell_type": "code",
   "execution_count": 35,
   "id": "5cde799d-2dd2-4de4-ad33-bb123297af5f",
   "metadata": {},
   "outputs": [
    {
     "data": {
      "text/plain": [
       "array([[ 3.74549108e-04, -7.70765480e-05],\n",
       "       [-7.70765480e-05,  2.65190179e-05]])"
      ]
     },
     "execution_count": 35,
     "metadata": {},
     "output_type": "execute_result"
    }
   ],
   "source": [
    "Cov_unbinned"
   ]
  },
  {
   "cell_type": "code",
   "execution_count": 45,
   "id": "833aaa81-ed92-4851-904c-b0de81d85be0",
   "metadata": {},
   "outputs": [
    {
     "data": {
      "text/plain": [
       "([0, 1, 2, 3, 4, 5], <a list of 6 Text major ticklabel objects>)"
      ]
     },
     "execution_count": 45,
     "metadata": {},
     "output_type": "execute_result"
    },
    {
     "data": {
      "image/png": "[encoded data removed]",
      "text/plain": [
       "<Figure size 360x360 with 1 Axes>"
      ]
     },
     "metadata": {
      "needs_background": "light"
     },
     "output_type": "display_data"
    }
   ],
   "source": [
    "fig = plt.figure(figsize = (5,5))\n",
    "ax = plt.axes()\n",
    "ax.set_facecolor(\"whitesmoke\")\n",
    "#plt.yscale('log')\n",
    "err_binned_SN = []\n",
    "err_binned_SNSSC = []\n",
    "for k in forecastF.keys():\n",
    "    err_binned_SN.append(forecastF[k]['Poissonian'][0,0]**.5)\n",
    "    err_binned_SNSSC.append(forecastF[k]['Gaussian'][0,0]**.5)\n",
    "\n",
    "plt.scatter(forecastF.keys(), 20*np.array(err_binned_SN)*10**2, marker = 'x',s=100, c='magenta')\n",
    "#plt.scatter(forecastF.keys(), np.array(err_binned_SNSSC), marker = 'x',s=100, c='magenta')\n",
    "#plt.scatter(forecastF.keys(), np.array(err_binned_SN)/(Cov_unbinned[0,0]**.5)-1, marker = 'o',s=100, c='magenta')\n",
    "#plt.plot(np.arange(len(forecastF.keys())), np.array(err_binned_SN)/(Cov_unbinned[0,0]**.5)-1,'--k')\n",
    "#plt.scatter(forecastF.keys(), 100*(np.array(err_binned_SNSSC)/np.array(err_binned_SN)-1), marker='x',s=100, c='g')\n",
    "#plt.plot(np.arange(len(forecastF.keys())), np.array(err_binned_SNSSC)/(Cov_unbinned[0,0]**.5)-1,'--k')\n",
    "    #plt.scatter(k, err_GaussSSC**.5/np.linalg.inv(covUnbinned)[0,0]**.5, marker='o')\n",
    "plt.scatter('unbinned', 20*Cov_unbinned[0,0]**.5*10**2, marker='o', s=100, c= 'w', edgecolors = 'magenta')\n",
    "#plt.scatter('unbinned', 10**3*err_tot_unbinned, marker='x', s=100 , c= 'g')\n",
    "plt.ylabel(r'$\\sigma(\\Omega_m)$', fontsize=20)\n",
    "plt.xlabel(r'$\\Omega_m$', fontsize=20)\n",
    "plt.tick_params(axis='both', which = 'major', labelsize= 15)\n",
    "plt.xticks(rotation=45,ha='right')\n",
    "#plt.legend(frameon=True, fontsize=11, framealpha=.6, facecolor='white', loc= 'upper right')\n",
    "#plt.savefig('err_forecast.pdf', bbox_inches='tight', dpi=300)"
   ]
  },
  {
   "cell_type": "code",
   "execution_count": null,
   "id": "88de908b-b03a-4470-834c-c5366e22379a",
   "metadata": {},
   "outputs": [],
   "source": []
  }
 ],
 "metadata": {
  "kernelspec": {
   "display_name": "mydesc",
   "language": "python",
   "name": "mydesc"
  },
  "language_info": {
   "codemirror_mode": {
    "name": "ipython",
    "version": 3
   },
   "file_extension": ".py",
   "mimetype": "text/x-python",
   "name": "python",
   "nbconvert_exporter": "python",
   "pygments_lexer": "ipython3",
   "version": "3.7.6"
  }
 },
 "nbformat": 4,
 "nbformat_minor": 5
}
