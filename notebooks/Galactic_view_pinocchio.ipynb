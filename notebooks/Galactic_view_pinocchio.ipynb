{
 "cells": [
  {
   "cell_type": "code",
   "execution_count": 1,
   "id": "fbc30760-32a2-420e-9f82-52c3d635a591",
   "metadata": {},
   "outputs": [],
   "source": [
    "import numpy as np\n",
    "import sys\n",
    "import glob\n",
    "import pickle\n",
    "import pandas as pd\n",
    "import pyccl as ccl\n",
    "import astropy.units as u\n",
    "from astropy.coordinates import SkyCoord\n",
    "from mpl_toolkits import axes_grid1\n",
    "import matplotlib.pyplot as plt"
   ]
  },
  {
   "cell_type": "code",
   "execution_count": 2,
   "id": "f5c7bcbb-0241-47a3-8199-36f798178d62",
   "metadata": {},
   "outputs": [],
   "source": [
    "%load_ext autoreload\n",
    "%autoreload 2\n",
    "sys.path.append('/pbs/throng/lsst/users/cpayerne/ClusterLikelihoods/modules/')\n",
    "import abundance as cl_count\n",
    "import covariance as covar\n",
    "import edit\n",
    "def binning(corner): return [[corner[i],corner[i+1]] for i in range(len(corner)-1)]"
   ]
  },
  {
   "cell_type": "code",
   "execution_count": 3,
   "id": "407b79f9-4243-4da2-8ead-22aee6c08efb",
   "metadata": {},
   "outputs": [],
   "source": [
    "def load(filename, **kwargs):\n",
    "    with open(filename, 'rb') as fin:\n",
    "        return pickle.load(fin, **kwargs)"
   ]
  },
  {
   "cell_type": "markdown",
   "id": "42b3af43-f718-4d3c-af3d-f6c0031b4478",
   "metadata": {},
   "source": [
    "## Fiducial cosmology (CCL)"
   ]
  },
  {
   "cell_type": "code",
   "execution_count": 415,
   "id": "8706a54a-b048-4d13-817d-20012c22ab79",
   "metadata": {},
   "outputs": [],
   "source": [
    "Omega_c_true = 0.30711 - 0.048254\n",
    "Omega_b_true = 0.048254\n",
    "sigma8_true = .8288\n",
    "Omegam_true = 0.30711\n",
    "True_value = [Omega_c_true + Omega_b_true, sigma8_true]\n",
    "cosmo = ccl.Cosmology(Omega_c = Omega_c_true, Omega_b = Omega_b_true, h = 0.6777, sigma8 = sigma8_true, n_s=0.96)"
   ]
  },
  {
   "cell_type": "code",
   "execution_count": 416,
   "id": "324dcbd9-db0b-4c98-b8d3-7f9729d56e18",
   "metadata": {},
   "outputs": [],
   "source": [
    "where_cat = '/sps/lsst/users/cpayerne/1000xsimulations/1000_simulations/afumagalli/catalogs/plc_14/*'"
   ]
  },
  {
   "cell_type": "code",
   "execution_count": 417,
   "id": "c17eb2a3-4910-4357-b23b-f40b292278ef",
   "metadata": {},
   "outputs": [],
   "source": [
    "file=glob.glob(where_cat)[1]"
   ]
  },
  {
   "cell_type": "code",
   "execution_count": 418,
   "id": "fcb02115-d2d3-4e4e-905c-abdbafdfe530",
   "metadata": {},
   "outputs": [],
   "source": [
    "dat = pd.read_csv(file ,sep=' ',skiprows=12, names=['M','z','dec','ra'])"
   ]
  },
  {
   "cell_type": "code",
   "execution_count": 419,
   "id": "2e4c97fe-98c2-491e-b2dc-05704ba27a1c",
   "metadata": {},
   "outputs": [],
   "source": [
    "pos_ra, pos_dec = dat['ra'], dat['dec']"
   ]
  },
  {
   "cell_type": "code",
   "execution_count": 420,
   "id": "df72a46e-e43f-4af0-8f8e-07460b73451d",
   "metadata": {},
   "outputs": [],
   "source": [
    "ra_center, dec_center = 180, 60"
   ]
  },
  {
   "cell_type": "code",
   "execution_count": 421,
   "id": "cb8bffdb-8795-4e5b-b9e7-ebe547b6b242",
   "metadata": {},
   "outputs": [],
   "source": [
    "cat_pinocchio = SkyCoord(ra=np.array(pos_ra)*u.degree, dec=np.array(pos_dec)*u.degree)"
   ]
  },
  {
   "cell_type": "code",
   "execution_count": 422,
   "id": "1b92a287-f05e-4363-ac91-e1365c0cdf4a",
   "metadata": {},
   "outputs": [],
   "source": [
    "cat_center =SkyCoord(ra=np.array([ra_center])*u.degree, dec=np.array([dec_center])*u.degree)"
   ]
  },
  {
   "cell_type": "code",
   "execution_count": 423,
   "id": "21c173f1-969f-4f8c-8db6-daa3e05036f5",
   "metadata": {},
   "outputs": [],
   "source": [
    "f_sky = (1/4)/10"
   ]
  },
  {
   "cell_type": "code",
   "execution_count": 424,
   "id": "613fc561-88a7-4266-9fe1-cc331a4fa0f9",
   "metadata": {},
   "outputs": [],
   "source": [
    "r_aperture = np.arccos(1-2*f_sky)*180/np.pi"
   ]
  },
  {
   "cell_type": "code",
   "execution_count": 425,
   "id": "cc9feee0-3969-4757-81da-28c837fbe45e",
   "metadata": {},
   "outputs": [
    {
     "data": {
      "text/plain": [
       "18.194872338766785"
      ]
     },
     "execution_count": 425,
     "metadata": {},
     "output_type": "execute_result"
    }
   ],
   "source": [
    "r_aperture"
   ]
  },
  {
   "cell_type": "code",
   "execution_count": 426,
   "id": "f5b70294-76c2-4656-97d8-fa17067755b7",
   "metadata": {},
   "outputs": [],
   "source": [
    "idxcat_center, idxcat_pinocchio, d2d, d3d = cat_center.search_around_sky(cat_pinocchio, r_aperture*u.deg)"
   ]
  },
  {
   "cell_type": "code",
   "execution_count": 429,
   "id": "a1df0c63-ab30-4cdf-b765-42dfad836fb6",
   "metadata": {},
   "outputs": [
    {
     "ename": "KeyError",
     "evalue": "\"None of [Int64Index([    17,     38,     58,     61,     75,     79,     83,    103,\\n               116,    121,\\n            ...\\n            129910, 129918, 129921, 129930, 129949, 129961, 129970, 129988,\\n            129994, 130036],\\n           dtype='int64', length=12785)] are in the [columns]\"",
     "output_type": "error",
     "traceback": [
      "\u001b[0;31m---------------------------------------------------------------------------\u001b[0m",
      "\u001b[0;31mKeyError\u001b[0m                                  Traceback (most recent call last)",
      "\u001b[0;32m<ipython-input-429-19d7b4fd9515>\u001b[0m in \u001b[0;36m<module>\u001b[0;34m\u001b[0m\n\u001b[0;32m----> 1\u001b[0;31m \u001b[0mdat\u001b[0m\u001b[0;34m=\u001b[0m\u001b[0mdat\u001b[0m\u001b[0;34m[\u001b[0m\u001b[0midxcat_center\u001b[0m\u001b[0;34m]\u001b[0m\u001b[0;34m\u001b[0m\u001b[0;34m\u001b[0m\u001b[0m\n\u001b[0m",
      "\u001b[0;32m~/.conda/envs/mydesc/lib/python3.7/site-packages/pandas/core/frame.py\u001b[0m in \u001b[0;36m__getitem__\u001b[0;34m(self, key)\u001b[0m\n\u001b[1;32m   2804\u001b[0m             \u001b[0;32mif\u001b[0m \u001b[0mis_iterator\u001b[0m\u001b[0;34m(\u001b[0m\u001b[0mkey\u001b[0m\u001b[0;34m)\u001b[0m\u001b[0;34m:\u001b[0m\u001b[0;34m\u001b[0m\u001b[0;34m\u001b[0m\u001b[0m\n\u001b[1;32m   2805\u001b[0m                 \u001b[0mkey\u001b[0m \u001b[0;34m=\u001b[0m \u001b[0mlist\u001b[0m\u001b[0;34m(\u001b[0m\u001b[0mkey\u001b[0m\u001b[0;34m)\u001b[0m\u001b[0;34m\u001b[0m\u001b[0;34m\u001b[0m\u001b[0m\n\u001b[0;32m-> 2806\u001b[0;31m             \u001b[0mindexer\u001b[0m \u001b[0;34m=\u001b[0m \u001b[0mself\u001b[0m\u001b[0;34m.\u001b[0m\u001b[0mloc\u001b[0m\u001b[0;34m.\u001b[0m\u001b[0m_get_listlike_indexer\u001b[0m\u001b[0;34m(\u001b[0m\u001b[0mkey\u001b[0m\u001b[0;34m,\u001b[0m \u001b[0maxis\u001b[0m\u001b[0;34m=\u001b[0m\u001b[0;36m1\u001b[0m\u001b[0;34m,\u001b[0m \u001b[0mraise_missing\u001b[0m\u001b[0;34m=\u001b[0m\u001b[0;32mTrue\u001b[0m\u001b[0;34m)\u001b[0m\u001b[0;34m[\u001b[0m\u001b[0;36m1\u001b[0m\u001b[0;34m]\u001b[0m\u001b[0;34m\u001b[0m\u001b[0;34m\u001b[0m\u001b[0m\n\u001b[0m\u001b[1;32m   2807\u001b[0m \u001b[0;34m\u001b[0m\u001b[0m\n\u001b[1;32m   2808\u001b[0m         \u001b[0;31m# take() does not accept boolean indexers\u001b[0m\u001b[0;34m\u001b[0m\u001b[0;34m\u001b[0m\u001b[0;34m\u001b[0m\u001b[0m\n",
      "\u001b[0;32m~/.conda/envs/mydesc/lib/python3.7/site-packages/pandas/core/indexing.py\u001b[0m in \u001b[0;36m_get_listlike_indexer\u001b[0;34m(self, key, axis, raise_missing)\u001b[0m\n\u001b[1;32m   1551\u001b[0m \u001b[0;34m\u001b[0m\u001b[0m\n\u001b[1;32m   1552\u001b[0m         self._validate_read_indexer(\n\u001b[0;32m-> 1553\u001b[0;31m             \u001b[0mkeyarr\u001b[0m\u001b[0;34m,\u001b[0m \u001b[0mindexer\u001b[0m\u001b[0;34m,\u001b[0m \u001b[0mo\u001b[0m\u001b[0;34m.\u001b[0m\u001b[0m_get_axis_number\u001b[0m\u001b[0;34m(\u001b[0m\u001b[0maxis\u001b[0m\u001b[0;34m)\u001b[0m\u001b[0;34m,\u001b[0m \u001b[0mraise_missing\u001b[0m\u001b[0;34m=\u001b[0m\u001b[0mraise_missing\u001b[0m\u001b[0;34m\u001b[0m\u001b[0;34m\u001b[0m\u001b[0m\n\u001b[0m\u001b[1;32m   1554\u001b[0m         )\n\u001b[1;32m   1555\u001b[0m         \u001b[0;32mreturn\u001b[0m \u001b[0mkeyarr\u001b[0m\u001b[0;34m,\u001b[0m \u001b[0mindexer\u001b[0m\u001b[0;34m\u001b[0m\u001b[0;34m\u001b[0m\u001b[0m\n",
      "\u001b[0;32m~/.conda/envs/mydesc/lib/python3.7/site-packages/pandas/core/indexing.py\u001b[0m in \u001b[0;36m_validate_read_indexer\u001b[0;34m(self, key, indexer, axis, raise_missing)\u001b[0m\n\u001b[1;32m   1638\u001b[0m             \u001b[0;32mif\u001b[0m \u001b[0mmissing\u001b[0m \u001b[0;34m==\u001b[0m \u001b[0mlen\u001b[0m\u001b[0;34m(\u001b[0m\u001b[0mindexer\u001b[0m\u001b[0;34m)\u001b[0m\u001b[0;34m:\u001b[0m\u001b[0;34m\u001b[0m\u001b[0;34m\u001b[0m\u001b[0m\n\u001b[1;32m   1639\u001b[0m                 \u001b[0maxis_name\u001b[0m \u001b[0;34m=\u001b[0m \u001b[0mself\u001b[0m\u001b[0;34m.\u001b[0m\u001b[0mobj\u001b[0m\u001b[0;34m.\u001b[0m\u001b[0m_get_axis_name\u001b[0m\u001b[0;34m(\u001b[0m\u001b[0maxis\u001b[0m\u001b[0;34m)\u001b[0m\u001b[0;34m\u001b[0m\u001b[0;34m\u001b[0m\u001b[0m\n\u001b[0;32m-> 1640\u001b[0;31m                 \u001b[0;32mraise\u001b[0m \u001b[0mKeyError\u001b[0m\u001b[0;34m(\u001b[0m\u001b[0;34mf\"None of [{key}] are in the [{axis_name}]\"\u001b[0m\u001b[0;34m)\u001b[0m\u001b[0;34m\u001b[0m\u001b[0;34m\u001b[0m\u001b[0m\n\u001b[0m\u001b[1;32m   1641\u001b[0m \u001b[0;34m\u001b[0m\u001b[0m\n\u001b[1;32m   1642\u001b[0m             \u001b[0;31m# We (temporarily) allow for some missing keys with .loc, except in\u001b[0m\u001b[0;34m\u001b[0m\u001b[0;34m\u001b[0m\u001b[0;34m\u001b[0m\u001b[0m\n",
      "\u001b[0;31mKeyError\u001b[0m: \"None of [Int64Index([    17,     38,     58,     61,     75,     79,     83,    103,\\n               116,    121,\\n            ...\\n            129910, 129918, 129921, 129930, 129949, 129961, 129970, 129988,\\n            129994, 130036],\\n           dtype='int64', length=12785)] are in the [columns]\""
     ]
    }
   ],
   "source": [
    "dat=dat[idxcat_center]"
   ]
  },
  {
   "cell_type": "code",
   "execution_count": 428,
   "id": "6372f532-a58b-4778-a989-229963a7a43d",
   "metadata": {},
   "outputs": [
    {
     "data": {
      "text/plain": [
       "[<matplotlib.lines.Line2D at 0x7f9bf7acff50>]"
      ]
     },
     "execution_count": 428,
     "metadata": {},
     "output_type": "execute_result"
    },
    {
     "data": {
      "image/png": "[encoded data removed]",
      "text/plain": [
       "<Figure size 432x288 with 1 Axes>"
      ]
     },
     "metadata": {
      "needs_background": "light"
     },
     "output_type": "display_data"
    }
   ],
   "source": [
    "plt.plot(idxcat_center)"
   ]
  },
  {
   "cell_type": "code",
   "execution_count": 405,
   "id": "32004948-2e32-4119-be84-24b6789887a4",
   "metadata": {},
   "outputs": [
    {
     "data": {
      "text/plain": [
       "<matplotlib.collections.PathCollection at 0x7f9bf7a038d0>"
      ]
     },
     "execution_count": 405,
     "metadata": {},
     "output_type": "execute_result"
    },
    {
     "data": {
      "image/png": "[encoded data removed]",
      "text/plain": [
       "<Figure size 432x288 with 1 Axes>"
      ]
     },
     "metadata": {
      "needs_background": "light"
     },
     "output_type": "display_data"
    }
   ],
   "source": [
    "plt.hist2d(np.array(dat['ra']), np.array(dat['dec']))\n",
    "plt.scatter(np.array(dat['ra'][idxcat_center]-ra_shift), np.array(dat['dec'][idxcat_center]))\n",
    "plt.scatter(ra_center, dec_center)"
   ]
  },
  {
   "cell_type": "code",
   "execution_count": 406,
   "id": "e77b4198-6fa6-4ed5-941e-021e9c0b67b6",
   "metadata": {},
   "outputs": [],
   "source": [
    "ra_shift=0\n",
    "eq = SkyCoord(pos_ra-ra_shift, pos_dec, unit=u.deg)\n",
    "gal = eq.galactic"
   ]
  },
  {
   "cell_type": "code",
   "execution_count": 407,
   "id": "e0d60bf5-88ca-4236-aeec-0d6a88dffe8b",
   "metadata": {},
   "outputs": [],
   "source": [
    "eq_cut = SkyCoord(np.array(dat['ra'][idxcat_center]-ra_shift), np.array(dat['dec'][idxcat_center]), unit=u.deg)\n",
    "gal_cut = eq_cut.galactic"
   ]
  },
  {
   "cell_type": "code",
   "execution_count": 414,
   "id": "a45f6248-44b4-4352-a5f7-d09c004e3e7c",
   "metadata": {},
   "outputs": [
    {
     "data": {
      "image/png": "[encoded data removed]",
      "text/plain": [
       "<Figure size 432x288 with 1 Axes>"
      ]
     },
     "metadata": {
      "needs_background": "light"
     },
     "output_type": "display_data"
    }
   ],
   "source": [
    "plt.subplot(111, projection='mollweide')\n",
    "plt.grid(True)\n",
    "shift=1\n",
    "plt.scatter(gal.l.wrap_at('180d').radian, gal.b.radian,label=r'$f_{\\rm sky}$=1/4', c='cyan')\n",
    "plt.scatter(gal_cut.l.wrap_at('180d').radian, gal_cut.b.radian, label=r'$f_{\\rm sky}$=1/40', c='magenta')\n",
    "plt.legend(loc='lower right')\n",
    "plt.savefig('map.png', bbox_inches='tight', dpi=300)"
   ]
  },
  {
   "cell_type": "code",
   "execution_count": 409,
   "id": "1ced4c50-d9fa-4036-ba23-0e6108377fa9",
   "metadata": {},
   "outputs": [],
   "source": [
    "ra_cut, dec_cut = np.array(dat['ra'][idxcat_center]), np.array(dat['dec'][idxcat_center])"
   ]
  },
  {
   "cell_type": "code",
   "execution_count": 410,
   "id": "f3c3bf28-19c9-4ee5-ba1a-64d0ddc3cf06",
   "metadata": {},
   "outputs": [],
   "source": [
    "ra_cut_radians, dec_cut_radians = ra_cut*np.pi/180, dec_cut*np.pi/180"
   ]
  },
  {
   "cell_type": "code",
   "execution_count": 411,
   "id": "22d21a87-37a7-4640-b5d8-ada2917cbf36",
   "metadata": {},
   "outputs": [
    {
     "data": {
      "text/plain": [
       "10.17121626906531"
      ]
     },
     "execution_count": 411,
     "metadata": {},
     "output_type": "execute_result"
    }
   ],
   "source": [
    "(len(ra_cut)/len(dat['ra']))**(-1)"
   ]
  },
  {
   "cell_type": "code",
   "execution_count": null,
   "id": "7f490c3f-ac2d-4693-8799-c92d6b61b088",
   "metadata": {},
   "outputs": [],
   "source": []
  },
  {
   "cell_type": "code",
   "execution_count": null,
   "id": "b34e7cc2-612a-4dfb-81f0-e82c9230be84",
   "metadata": {},
   "outputs": [],
   "source": []
  }
 ],
 "metadata": {
  "kernelspec": {
   "display_name": "mydesc",
   "language": "python",
   "name": "mydesc"
  },
  "language_info": {
   "codemirror_mode": {
    "name": "ipython",
    "version": 3
   },
   "file_extension": ".py",
   "mimetype": "text/x-python",
   "name": "python",
   "nbconvert_exporter": "python",
   "pygments_lexer": "ipython3",
   "version": "3.7.6"
  }
 },
 "nbformat": 4,
 "nbformat_minor": 5
}
