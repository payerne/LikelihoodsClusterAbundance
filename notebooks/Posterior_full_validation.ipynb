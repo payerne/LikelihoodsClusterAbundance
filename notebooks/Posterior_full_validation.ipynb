{
 "cells": [
  {
   "cell_type": "code",
   "execution_count": 177,
   "id": "b099eded-96e2-4146-97e7-9f240c3df1a2",
   "metadata": {},
   "outputs": [
    {
     "name": "stdout",
     "output_type": "stream",
     "text": [
      "The autoreload extension is already loaded. To reload it, use:\n",
      "  %reload_ext autoreload\n"
     ]
    }
   ],
   "source": [
    "%load_ext autoreload\n",
    "\n",
    "%autoreload 2\n",
    "import sys\n",
    "import numpy as np\n",
    "import matplotlib.pyplot as plt\n",
    "import see_fits\n",
    "import scipy\n",
    "from scipy.ndimage import gaussian_filter\n",
    "sys.path.append('../modules')\n",
    "import covariance as covar\n",
    "import utils\n",
    "import edit\n",
    "import h5py\n",
    "Omega_c_true = 0.30711 - 0.048254\n",
    "Omega_b_true = 0.048254\n",
    "sigma8_true = .8288\n",
    "Omegam_true = 0.30711\n",
    "True_value = [Omega_c_true + Omega_b_true, sigma8_true]"
   ]
  },
  {
   "cell_type": "code",
   "execution_count": 178,
   "id": "36950105-9065-4207-ae87-adeb28ea5126",
   "metadata": {},
   "outputs": [],
   "source": [
    "#datG = see_fits.mean_var_covar('/pbs/throng/lsst/users/cpayerne/ClusterLikelihoods_data/weights_old/Gaussian_4x4*')\n",
    "#datP=see_fits.mean_var_covar('/pbs/throng/lsst/users/cpayerne/ClusterLikelihoods_data/weights_old/Poissonian_4x4*')\n",
    "#datMPG=see_fits.mean_var_covar('/pbs/throng/lsst/users/cpayerne/ClusterLikelihoods_data/cosmological_constraints/MPG_20x30*')"
   ]
  },
  {
   "cell_type": "code",
   "execution_count": 179,
   "id": "3b7090ec-b672-48ab-9793-ad91006f0067",
   "metadata": {},
   "outputs": [],
   "source": [
    "binning=['4zx4m']\n",
    "likelihood=['Gaussian','Gaussian_full']\n",
    "cosmology = {binning[i]:{likelihood_:None for likelihood_ in likelihood} for i in range(len(binning))}\n",
    "for b in binning:\n",
    "    try:\n",
    "        cosmology[b]['Gaussian']  =see_fits.mean_var_covar('/sps/lsst/users/cpayerne/1000xsimulations/analysis/'+b+'/mean_dispersion/Gaussian*')\n",
    "        cosmology[b]['Gaussian_full']       =see_fits.mean_var_covar('/pbs/throng/lsst/users/cpayerne/ClusterLikelihoods_data/Gaussian*')\n",
    "    except: \n",
    "        continue"
   ]
  },
  {
   "cell_type": "code",
   "execution_count": null,
   "id": "cf58bb81-1bca-4a65-bda8-5bfcd8c4c5a2",
   "metadata": {},
   "outputs": [],
   "source": []
  },
  {
   "cell_type": "code",
   "execution_count": 169,
   "id": "fe130f8e-10c8-44f2-8d50-d02caa30df9c",
   "metadata": {},
   "outputs": [
    {
     "data": {
      "image/png": "[encoded data removed]",
      "text/plain": [
       "<Figure size 432x288 with 1 Axes>"
      ]
     },
     "metadata": {
      "needs_background": "light"
     },
     "output_type": "display_data"
    },
    {
     "data": {
      "image/png": "[encoded data removed]",
      "text/plain": [
       "<Figure size 432x288 with 1 Axes>"
      ]
     },
     "metadata": {
      "needs_background": "light"
     },
     "output_type": "display_data"
    }
   ],
   "source": [
    "for l in likelihood:\n",
    "    plt.figure()\n",
    "    Om=cosmology['4zx4m'][l]['Om']\n",
    "    Omstd=cosmology['4zx4m'][l]['Om_std']\n",
    "    var=(Om-np.mean(Om))**2\n",
    "    err_mean_std = np.std(var**.5, ddof=1)\n",
    "    plt.hist(var**.5, bins=50)\n",
    "    plt.hist(Omstd, bins=100,)\n",
    "    #plt.scatter(var/Om, Omstd/Om)\n",
    "    plt.vlines(np.std(Om, ddof=1), 0, 100)\n",
    "    #plt.vlines(np.mean(var)**.5-err_mean_std/np.sqrt(1000), 0, 100)\n",
    "    #plt.vlines(np.mean(var)**.5+err_mean_std/np.sqrt(1000), 0, 100)\n",
    "#plt.yscale('log')\n",
    "    #plt.scatter(np.mean(Omstd), np.mean(Omstd))\n",
    "    #plt.scatter(np.mean(err)**.5, np.mean(err)**.5)\n",
    "    #    , np.sqrt((Om-np.mean(Om))**2))\n",
    "    #plt.vlines(np.mean(Omstd), 0, 0.008)\n",
    "    #plt.hlines(np.mean(np.sqrt((Om-np.mean(Om))**2)), 0.001, 0.003)\n",
    "    #plt.tick_params(axis='x', rotation=45, labelsize=20)\n",
    "    #plt.xscale('log')\n",
    "    plt.yscale('log')\n",
    "   # plt.yscale('log')"
   ]
  },
  {
   "cell_type": "code",
   "execution_count": 170,
   "id": "f26f7688-15da-43ea-b1f2-2d077e8c46c9",
   "metadata": {},
   "outputs": [
    {
     "ename": "SyntaxError",
     "evalue": "unexpected EOF while parsing (<ipython-input-170-5e2ca52dae45>, line 1)",
     "output_type": "error",
     "traceback": [
      "\u001b[0;36m  File \u001b[0;32m\"<ipython-input-170-5e2ca52dae45>\"\u001b[0;36m, line \u001b[0;32m1\u001b[0m\n\u001b[0;31m    plt.scatter(\u001b[0m\n\u001b[0m                ^\u001b[0m\n\u001b[0;31mSyntaxError\u001b[0m\u001b[0;31m:\u001b[0m unexpected EOF while parsing\n"
     ]
    }
   ],
   "source": [
    "plt.scatter("
   ]
  },
  {
   "cell_type": "markdown",
   "id": "9dd0f956-9780-4f56-b544-5715538d8ad3",
   "metadata": {},
   "source": [
    "# Forecast"
   ]
  },
  {
   "cell_type": "code",
   "execution_count": 180,
   "id": "f47c39b3-8fba-4c8a-9390-faccc418611d",
   "metadata": {},
   "outputs": [],
   "source": [
    "forecast4x4=edit.load_pickle('/pbs/throng/lsst/users/cpayerne/ClusterLikelihoods_data/Covariances/Fisher_covariance.pickle')"
   ]
  },
  {
   "cell_type": "code",
   "execution_count": 184,
   "id": "b4a3f85c-8c30-4c81-8a18-1b7b695676dd",
   "metadata": {},
   "outputs": [
    {
     "data": {
      "text/plain": [
       "{'4zx4m': {'Poissonian': array([[ 3.76873719e-06, -2.05737551e-06],\n",
       "         [-2.05737551e-06,  1.35418873e-06]]),\n",
       "  'Gaussian': array([[ 5.75554086e-06, -2.92255360e-06],\n",
       "         [-2.92255360e-06,  1.87307308e-06]])},\n",
       " '20zx30m': {'Poissonian': array([[ 3.27729655e-06, -1.74862855e-06],\n",
       "         [-1.74862855e-06,  1.16003322e-06]]),\n",
       "  'Gaussian': array([[ 5.50581960e-06, -2.61932081e-06],\n",
       "         [-2.61932081e-06,  1.70757569e-06]])},\n",
       " '100zx100m': {'Poissonian': array([[ 3.26467069e-06, -1.74077984e-06],\n",
       "         [-1.74077984e-06,  1.15514867e-06]]),\n",
       "  'Gaussian': array([[ 4.81543763e-06, -2.33996713e-06],\n",
       "         [-2.33996713e-06,  1.49188057e-06]])}}"
      ]
     },
     "execution_count": 184,
     "metadata": {},
     "output_type": "execute_result"
    }
   ],
   "source": [
    "forecast4x4"
   ]
  },
  {
   "cell_type": "code",
   "execution_count": 194,
   "id": "3cc210c2-1ced-41b4-b342-2b767542947a",
   "metadata": {},
   "outputs": [
    {
     "data": {
      "text/plain": [
       "-9.090909090909074"
      ]
     },
     "execution_count": 194,
     "metadata": {},
     "output_type": "execute_result"
    }
   ],
   "source": [
    "100*(0.0022-0.0024)/0.0022"
   ]
  },
  {
   "cell_type": "code",
   "execution_count": 189,
   "id": "cf527e48-0040-460d-a9f2-e42836fabd3d",
   "metadata": {},
   "outputs": [
    {
     "data": {
      "text/plain": [
       "0.6321264587190696"
      ]
     },
     "execution_count": 189,
     "metadata": {},
     "output_type": "execute_result"
    }
   ],
   "source": [
    "100*forecast4x4['4zx4m']['Poissonian'][0,0]**.5/(Omega_c_true + Omega_b_true)"
   ]
  },
  {
   "cell_type": "markdown",
   "id": "783f3516-bbb5-4ca3-b6d1-b1e60c37757f",
   "metadata": {},
   "source": [
    "# Mean"
   ]
  },
  {
   "cell_type": "code",
   "execution_count": 171,
   "id": "97ca524d-6ac0-4707-9578-0f07a40d2198",
   "metadata": {},
   "outputs": [
    {
     "name": "stdout",
     "output_type": "stream",
     "text": [
      "Gaussian\n",
      "Gaussian_full\n"
     ]
    },
    {
     "ename": "IndexError",
     "evalue": "list index out of range",
     "output_type": "error",
     "traceback": [
      "\u001b[0;31m---------------------------------------------------------------------------\u001b[0m",
      "\u001b[0;31mIndexError\u001b[0m                                Traceback (most recent call last)",
      "\u001b[0;32m<ipython-input-171-8f2eb86dd139>\u001b[0m in \u001b[0;36m<module>\u001b[0;34m\u001b[0m\n\u001b[1;32m     11\u001b[0m \u001b[0mls\u001b[0m\u001b[0;34m=\u001b[0m\u001b[0;34m[\u001b[0m\u001b[0;34m'-'\u001b[0m\u001b[0;34m,\u001b[0m\u001b[0;34m'-'\u001b[0m\u001b[0;34m,\u001b[0m\u001b[0;34m'--'\u001b[0m\u001b[0;34m]\u001b[0m\u001b[0;34m\u001b[0m\u001b[0;34m\u001b[0m\u001b[0m\n\u001b[1;32m     12\u001b[0m \u001b[0;32mfor\u001b[0m \u001b[0mk\u001b[0m \u001b[0;32min\u001b[0m \u001b[0mrange\u001b[0m\u001b[0;34m(\u001b[0m\u001b[0;36m3\u001b[0m\u001b[0;34m)\u001b[0m\u001b[0;34m:\u001b[0m\u001b[0;34m\u001b[0m\u001b[0;34m\u001b[0m\u001b[0m\n\u001b[0;32m---> 13\u001b[0;31m     \u001b[0mlikelihood_\u001b[0m\u001b[0;34m=\u001b[0m\u001b[0mlikelihood\u001b[0m\u001b[0;34m[\u001b[0m\u001b[0mk\u001b[0m\u001b[0;34m]\u001b[0m\u001b[0;34m\u001b[0m\u001b[0;34m\u001b[0m\u001b[0m\n\u001b[0m\u001b[1;32m     14\u001b[0m     \u001b[0mprint\u001b[0m\u001b[0;34m(\u001b[0m\u001b[0mlikelihood_\u001b[0m\u001b[0;34m)\u001b[0m\u001b[0;34m\u001b[0m\u001b[0;34m\u001b[0m\u001b[0m\n\u001b[1;32m     15\u001b[0m     \u001b[0;32mfor\u001b[0m \u001b[0mi\u001b[0m\u001b[0;34m,\u001b[0m \u001b[0mb\u001b[0m \u001b[0;32min\u001b[0m \u001b[0menumerate\u001b[0m\u001b[0;34m(\u001b[0m\u001b[0mbinning\u001b[0m\u001b[0;34m)\u001b[0m\u001b[0;34m:\u001b[0m\u001b[0;34m\u001b[0m\u001b[0;34m\u001b[0m\u001b[0m\n",
      "\u001b[0;31mIndexError\u001b[0m: list index out of range"
     ]
    },
    {
     "data": {
      "image/png": "[encoded data removed]",
      "text/plain": [
       "<Figure size 720x504 with 6 Axes>"
      ]
     },
     "metadata": {
      "needs_background": "light"
     },
     "output_type": "display_data"
    }
   ],
   "source": [
    "title = ['Gaussian','Gaussian_full']\n",
    "colors = ['#1f77b4', '#ff7f0e', '#2ca02c',]\n",
    "n=11\n",
    "maxsOm=250\n",
    "maxss8=400\n",
    "alpha=[.3, .6, .9]\n",
    "fig, ax = plt.subplots(2, 3, figsize = (10,7), sharex='row', sharey='row')\n",
    "plt.subplots_adjust(left=None, bottom=None, right=None, top=None, wspace=.05, hspace=.4)\n",
    "label = ['Poissonian', 'Gaussian', 'MPG']\n",
    "show = [True, True, True]\n",
    "ls=['-','-','--']\n",
    "for k in range(3):\n",
    "    likelihood_=likelihood[k]\n",
    "    print(likelihood_)\n",
    "    for i, b in enumerate(binning):\n",
    "        if i >= 1: break\n",
    "        err_norm=1e-3\n",
    "            #try:\n",
    "        try:\n",
    "            \n",
    "            ax[0,k].vlines(True_value[0],0,maxsOm,ls='-',color='k',linewidth=2)\n",
    "            ax[1,k].vlines(True_value[1],0,maxss8,ls='-', color='k',linewidth=2)\n",
    "            x=np.array(cosmology[b][likelihood_]['Om'])#/np.std(cosmology[b][likelihood_]['Om'])-1\n",
    "            y=np.array(cosmology[b][likelihood_]['s8'])#/np.std(cosmology[b][likelihood_]['s8'])-1\n",
    "            #cov=np.cov(x,y)\n",
    "            for s,x_ in enumerate([x,y]):\n",
    "                hist,x_edges =np.histogram(x_, bins=50)\n",
    "                x_middle=np.array([(x_edges[i]+x_edges[i+1])/2 for i in range(len(x_edges)-1)])\n",
    "                y=gaussian_filter(hist, sigma=1.5)\n",
    "                if s==0: \n",
    "                    label=b\n",
    "                else:label=None\n",
    "                #ax[s,k].fill_between(x_middle,x_middle*0, y/scipy.integrate.simps(y,x_middle),\n",
    "                 #                    color=colors[k], alpha=alpha[i],edgecolor=\"k\", label=b)\n",
    "                #ax[s,k].plot(x_middle, y/scipy.integrate.simps(y,x_middle),\n",
    "                 #                    color=colors[i], alpha=1, label=b)\n",
    "                ax[s,k].hist(x_, density=True, bins=50, color=colors[k],linewidth=2, alpha=.2)\n",
    "                ax[s,k].hist(x_, density=True, bins=50, histtype='step',color=colors[k],linewidth=2)\n",
    "             \n",
    "        except: a=1\n",
    "\n",
    "    #except: continue\n",
    "for i in range(2):\n",
    "    for j in range(3):\n",
    "        ax[0,0].legend(frameon=False, fontsize=12, loc='upper left')\n",
    "        ax[0,j].set_title(title[j], fontsize=20)\n",
    "        ax[0,j].set_xlabel(r'$\\Omega_m$', fontsize = 20)\n",
    "        ax[1,j].set_xlabel(r'$\\sigma_8$', fontsize = 20)\n",
    "        ax[i,j].tick_params(axis='both', which = 'major', labelsize= 10)\n",
    "        ax[0,j].set_ylim(0,maxsOm)\n",
    "        ax[1,j].set_ylim(0,maxss8)\n",
    "        ax[i,j].tick_params(axis='x', rotation=45)\n",
    "        ax[i,j].set_yticks([], minor=False)\n",
    "#plt.savefig('best_fit_distribution.pdf', bbox_inches='tight', dpi=300)"
   ]
  },
  {
   "cell_type": "markdown",
   "id": "77f9ca90-1a2c-470b-b8cb-e641bb144659",
   "metadata": {},
   "source": [
    "# Standard deviation"
   ]
  },
  {
   "cell_type": "code",
   "execution_count": null,
   "id": "9234cdb8-5b2d-49bf-95c9-c782ebbc4af7",
   "metadata": {},
   "outputs": [],
   "source": []
  },
  {
   "cell_type": "code",
   "execution_count": null,
   "id": "5d0b13f6-a3d1-47e1-8005-d40be1baf02f",
   "metadata": {},
   "outputs": [
    {
     "name": "stdout",
     "output_type": "stream",
     "text": [
      "Gaussian\n",
      "4zx4m\n",
      "Gaussian_full\n",
      "4zx4m\n"
     ]
    },
    {
     "name": "stderr",
     "output_type": "stream",
     "text": [
      "/pbs/home/c/cpayerne/.conda/envs/mydesc/lib/python3.7/site-packages/numpy/core/_methods.py:263: RuntimeWarning: Degrees of freedom <= 0 for slice\n",
      "  keepdims=keepdims, where=where)\n",
      "/pbs/home/c/cpayerne/.conda/envs/mydesc/lib/python3.7/site-packages/numpy/core/_methods.py:254: RuntimeWarning: divide by zero encountered in double_scalars\n",
      "  ret = ret.dtype.type(ret / rcount)\n",
      "/pbs/home/c/cpayerne/.conda/envs/mydesc/lib/python3.7/site-packages/numpy/core/_methods.py:263: RuntimeWarning: Degrees of freedom <= 0 for slice\n",
      "  keepdims=keepdims, where=where)\n",
      "/pbs/home/c/cpayerne/.conda/envs/mydesc/lib/python3.7/site-packages/numpy/core/_methods.py:254: RuntimeWarning: divide by zero encountered in double_scalars\n",
      "  ret = ret.dtype.type(ret / rcount)\n"
     ]
    },
    {
     "data": {
      "text/plain": [
       "<matplotlib.legend.Legend at 0x7fdf3d318a50>"
      ]
     },
     "execution_count": 175,
     "metadata": {},
     "output_type": "execute_result"
    }
   ],
   "source": [
    "title = ['G','G_full']\n",
    "colors = ['#1f77b4', '#ff7f0e', '#2ca02c',]\n",
    "n=11\n",
    "maxsOm=50000\n",
    "maxss8=90000\n",
    "alpha=[.3, .6, .9]\n",
    "fig, ax = plt.subplots(1, 2, figsize = (10,5),sharex='col')\n",
    "plt.rcParams['axes.linewidth']= 2\n",
    "plt.subplots_adjust(left=None, bottom=None, right=None, top=None, wspace=.05, hspace=.2)\n",
    "label = ['Poissonian', 'Gaussian', 'MPG']\n",
    "show = [True, True, True]\n",
    "ls=['-','-','--']\n",
    "for k in range(2):\n",
    "    likelihood_=likelihood[k]\n",
    "    print(likelihood_)\n",
    "    print(b)\n",
    "    err_norm=1e-3\n",
    "            #try:\n",
    "   \n",
    "    try:\n",
    "        ax[0].vlines(np.std(cosmology[b][likelihood_]['Om'], ddof=1000),0,maxsOm,ls='-',color=colors[k],alpha=1,linewidth=3)\n",
    "        ax[1].vlines(np.std(cosmology[b][likelihood_]['s8'], ddof=1),0,maxss8,ls='-', color=colors[k],alpha=1,linewidth=3)\n",
    "\n",
    "        x=np.array(cosmology[b][likelihood[k]]['cov'][:,0,0]**.5)#/np.std(cosmology[b][likelihood_]['Om'])-1\n",
    "        y=np.array(cosmology[b][likelihood[k]]['cov'][:,1,1]**.5)#/np.std(cosmology[b][likelihood_]['Om'])-1\n",
    "        x_=[x,y]\n",
    "        for s, x in enumerate(x_):\n",
    "            hist,x_edges =np.histogram(x, bins=150)\n",
    "            x_middle=np.array([(x_edges[i]+x_edges[i+1])/2 for i in range(len(x_edges)-1)])\n",
    "            y=gaussian_filter(hist, sigma=2)\n",
    "            ax[s].fill_between(x_middle,x_middle*0, y/scipy.integrate.simps(y,x_middle),\n",
    "                                 color=colors[k], alpha=0.1)\n",
    "            #ax[i,s].hist(x,density=True, color=colors[k],bins=50, alpha=.5)\n",
    "            ax[s].plot(x_middle,y/scipy.integrate.simps(y,x_middle), alpha=1,color=colors[k], label=title[k])\n",
    "\n",
    "    except:a=1\n",
    "ax[0].legend()\n",
    "\n",
    "#except: continue"
   ]
  },
  {
   "cell_type": "code",
   "execution_count": null,
   "id": "afc8c4a8-f1c8-4e66-b8f6-6019ffe8d449",
   "metadata": {},
   "outputs": [],
   "source": [
    "{i"
   ]
  },
  {
   "cell_type": "code",
   "execution_count": null,
   "id": "d127ff68-d85a-4fcd-a549-1aba33dc0dbf",
   "metadata": {},
   "outputs": [],
   "source": []
  }
 ],
 "metadata": {
  "kernelspec": {
   "display_name": "mydesc",
   "language": "python",
   "name": "mydesc"
  },
  "language_info": {
   "codemirror_mode": {
    "name": "ipython",
    "version": 3
   },
   "file_extension": ".py",
   "mimetype": "text/x-python",
   "name": "python",
   "nbconvert_exporter": "python",
   "pygments_lexer": "ipython3",
   "version": "3.7.6"
  }
 },
 "nbformat": 4,
 "nbformat_minor": 5
}
