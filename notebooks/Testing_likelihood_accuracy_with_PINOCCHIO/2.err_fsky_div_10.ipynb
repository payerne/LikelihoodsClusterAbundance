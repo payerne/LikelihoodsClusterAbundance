{
 "cells": [
  {
   "cell_type": "code",
   "execution_count": 1,
   "id": "b099eded-96e2-4146-97e7-9f240c3df1a2",
   "metadata": {},
   "outputs": [],
   "source": [
    "%load_ext autoreload\n",
    "\n",
    "%autoreload 2\n",
    "import sys\n",
    "import numpy as np\n",
    "import matplotlib.pyplot as plt\n",
    "import see_fits\n",
    "import scipy\n",
    "def binning(corner): return [[corner[i],corner[i+1]] for i in range(len(corner)-1)]\n",
    "from scipy.ndimage import gaussian_filter\n",
    "sys.path.append('../modules')\n",
    "import covariance as covar\n",
    "import utils\n",
    "import abundance as cl_count\n",
    "import forecast\n",
    "import pyccl as ccl\n",
    "import edit\n",
    "import h5py\n",
    "Omega_c_true = 0.30711 - 0.048254\n",
    "Omega_b_true = 0.048254\n",
    "sigma8_true = .8288\n",
    "Omegam_true = 0.30711\n",
    "True_value = [Omega_c_true + Omega_b_true, sigma8_true]"
   ]
  },
  {
   "cell_type": "code",
   "execution_count": 2,
   "id": "e56ad24e-eae7-4072-9c82-5511ebd87c32",
   "metadata": {},
   "outputs": [],
   "source": [
    "forecastF=edit.load_pickle('/pbs/throng/lsst/users/cpayerne/ClusterLikelihoods_data/Covariances/Fisher_covariance.pickle')"
   ]
  },
  {
   "cell_type": "code",
   "execution_count": 3,
   "id": "79090402-6bbc-4761-8977-b222f8753708",
   "metadata": {},
   "outputs": [],
   "source": [
    "def cov_freq(nz, nm):\n",
    "    cov_gauss=edit.load_pickle(f'/pbs/throng/lsst/users/cpayerne/ClusterLikelihoods_data/Covariances/Covariance_cluster_abudance_{nz}x{nm}.pickle')\n",
    "    Abundance=edit.load_pickle(f'/pbs/throng/lsst/users/cpayerne/ClusterLikelihoods_data/Covariances/Abundance_{nz}x{nm}.pickle')\n",
    "    cov_poiss=np.diag(Abundance.flatten())\n",
    "    SigmaPGP = np.linalg.inv(cov_poiss) @ (cov_gauss @ np.linalg.inv(cov_poiss))\n",
    "    \n",
    "    f=forecast.Forecast()\n",
    "    z_grid = np.linspace(0.18, 1.3, 1500)\n",
    "    logm_grid = np.linspace(14.1,15.8, 1500)\n",
    "    z_corner = np.linspace(0.2, 1.2, nz + 1)\n",
    "    logm_corner = np.linspace(14.2, 15.6, nm + 1)\n",
    "    Z_bin = binning(z_corner)\n",
    "    logMass_bin = binning(logm_corner)\n",
    "    clc = cl_count.ClusterAbundance()\n",
    "    clc.sky_area = (0.25)*4*np.pi\n",
    "    clc.f_sky = clc.sky_area/(4*np.pi)\n",
    "    clc.z_grid=z_grid\n",
    "    clc.logm_grid=logm_grid\n",
    "    def model(theta):\n",
    "        \"predictiing cluster count\"\n",
    "        Om_v, s8_v = theta\n",
    "        #re-compute ccl cosmology\n",
    "        cosmo_new = ccl.Cosmology(Omega_c = Om_v - 0.048254, Omega_b = 0.048254, \n",
    "                                  h = 0.6777, sigma8 = s8_v, n_s=0.96)\n",
    "        massdef = ccl.halos.massdef.MassDef('vir', 'critical', c_m_relation=None)\n",
    "        hmd = ccl.halos.hmfunc.MassFuncDespali16(cosmo_new, mass_def=massdef)\n",
    "        clc.set_cosmology(cosmo = cosmo_new, hmd = hmd, massdef = massdef)\n",
    "        #re-compute integrand\n",
    "        clc.compute_multiplicity_grid_MZ(z_grid = z_grid, logm_grid = logm_grid)\n",
    "        return clc.Cluster_Abundance_MZ(Redshift_bin = Z_bin, Proxy_bin = logMass_bin, \n",
    "                                        method = 'simps')\n",
    "    def model_flat(theta):\n",
    "        return model(theta).flatten()\n",
    "    \n",
    "    d_Abundance=forecast.first_derivative(True_value, model, (nz,nm), delta = 1e-4)\n",
    "    return forecast.cov_Frequentist(forecastF[f'{nz}zx{nm}m']['Poissonian'], d_Abundance, SigmaPGP)"
   ]
  },
  {
   "cell_type": "code",
   "execution_count": 4,
   "id": "44c29f4a-91a9-436f-a078-544e06acf1a3",
   "metadata": {},
   "outputs": [],
   "source": [
    "binnings=['100zx100m']"
   ]
  },
  {
   "cell_type": "code",
   "execution_count": 5,
   "id": "dd71bfc1-7312-448a-b306-f9eab283e0be",
   "metadata": {},
   "outputs": [],
   "source": [
    "covFreq={b:None for b in binnings}"
   ]
  },
  {
   "cell_type": "code",
   "execution_count": 6,
   "id": "c161b367-2aa8-4072-9613-338e11f5baa6",
   "metadata": {},
   "outputs": [],
   "source": [
    "covFreq[binnings[0]] = cov_freq(100, 100)"
   ]
  },
  {
   "cell_type": "code",
   "execution_count": 7,
   "id": "3b7090ec-b672-48ab-9793-ad91006f0067",
   "metadata": {},
   "outputs": [],
   "source": [
    "likelihood=['Poissonian','Gaussian', 'MPG']\n",
    "cosmology = {binnings[i]:{likelihood_:None for likelihood_ in likelihood} for i in range(len(binnings))}\n",
    "for b in binnings:\n",
    "    try:\n",
    "        cosmology[b]['Poissonian']=see_fits.mean_var_covar('/sps/lsst/users/cpayerne/1000xsimulations/analysis/'+b+'/mean_dispersion_fsky_div_10/P*')\n",
    "        cosmology[b]['Gaussian']  =see_fits.mean_var_covar('/sps/lsst/users/cpayerne/1000xsimulations/analysis/'+b+'/mean_dispersion_fsky_div_10/Gaussian*')\n",
    "        cosmology[b]['MPG']       =see_fits.mean_var_covar('/sps/lsst/users/cpayerne/1000xsimulations/analysis/'+b+'/mean_dispersion_fsky_div_10/MPG*')\n",
    "    except: \n",
    "        print(1)\n",
    "        continue"
   ]
  },
  {
   "cell_type": "code",
   "execution_count": 9,
   "id": "a2f4f566-4d57-4b37-bd5f-27f75eb45212",
   "metadata": {},
   "outputs": [
    {
     "data": {
      "image/png": "[encoded data removed]",
      "text/plain": [
       "<Figure size 864x360 with 2 Axes>"
      ]
     },
     "metadata": {
      "needs_background": "light"
     },
     "output_type": "display_data"
    }
   ],
   "source": [
    "colors = ['#1f77b4', '#ff7f0e', '#2ca02c',]\n",
    "colors=['k', 'k', 'k']\n",
    "likelihood = ['Poissonian', 'Gaussian', 'MPG']\n",
    "title = ['Poissonian', 'Gaussian', 'GPC']\n",
    "fig, ax=plt.subplots(1, 2, figsize=(12,5))\n",
    "plt.subplots_adjust(left=None, bottom=None, right=None, top=None, wspace=.3, hspace=.4)\n",
    "plt.rcParams['axes.linewidth']= 1\n",
    "err=1e3\n",
    "for i,l in enumerate(likelihood):\n",
    "    Om=cosmology['100zx100m'][l]['Om']\n",
    "    Omstd=cosmology['100zx100m'][l]['Om_std']\n",
    "    s8=cosmology['100zx100m'][l]['s8']\n",
    "    s8std=cosmology['100zx100m'][l]['s8_std']\n",
    "    ax[0].errorbar(i, err*np.mean(Omstd), yerr=err*np.std(Omstd), marker='o', c='b', markersize=5, capsize=5)\n",
    "    ax[1].errorbar(i, err*np.mean(s8std), yerr=err*np.std(s8std), marker='o', c='b', markersize=5, capsize=5)\n",
    "    try:\n",
    "        coeff = (1/10)**.5\n",
    "        cov_Fisher=forecastF['100zx100m'][l]\n",
    "        ax[0].scatter(i,err*cov_Fisher[0,0]**.5/coeff, marker='o', s=100, facecolors='none',edgecolor='k',linewidth=2)\n",
    "        ax[1].scatter(i,err*cov_Fisher[1,1]**.5/coeff, marker='o', s=100, facecolors='none',edgecolor='k',linewidth=2)\n",
    "    except: a=1\n",
    "    if l=='Poissonian':\n",
    "        ax[0].scatter(i,err*covFreq['100zx100m'][0,0]**.5/coeff, marker='s', s=100,facecolors='none',edgecolor='k',linewidth=2)\n",
    "        ax[1].scatter(i,err*covFreq['100zx100m'][1,1]**.5/coeff, marker='s', s=100,facecolors='none',edgecolor='k',linewidth=2)\n",
    "    ax[0].scatter(i,err*np.std(Om), marker='x', c='r', s=70)\n",
    "    ax[1].scatter(i,err*np.std(s8), marker='x', c='r', s=70)\n",
    "\n",
    "ax[0].errorbar([],[], yerr=[], marker='o', c='b', markersize=5, capsize=5, label=r'from $\\widehat{C}^{\\rm ind}$')\n",
    "ax[0].scatter([],[], marker='o',s=100, facecolors='none',edgecolor='k',linewidth=2, label='Fisher forecast')\n",
    "ax[0].scatter([],[], marker='s',s=100, facecolors='none',edgecolor='k',linewidth=2, label='Ensemble forecast')\n",
    "ax[0].scatter([], [], marker='x', c='r', s=70, label=r'from $\\widehat{C}^{\\rm ens}$')\n",
    "ax[0].legend(frameon=True,fontsize=15, loc='lower right')\n",
    "x1 = [0,1,2]\n",
    "squad = title\n",
    "for i in range(2):\n",
    "    ax[i].set_xticks(x1)\n",
    "    ax[i].tick_params(axis='both', which = 'major', labelsize= 12)\n",
    "    ax[i].set_xticklabels(squad, fontsize=15)\n",
    "ax[0].set_ylabel(r'$\\sigma(\\Omega_m)\\ [\\times 10^{-3}]$', fontsize = 17)\n",
    "ax[1].set_ylabel(r'$\\sigma(\\sigma_8)\\ [\\times 10^{-3}]$', fontsize = 17)\n",
    "plt.savefig('std_partial_sky.pdf', bbox_inches='tight', dpi=300)"
   ]
  },
  {
   "cell_type": "code",
   "execution_count": null,
   "id": "565e3824-365d-4887-8136-9511ecb2c099",
   "metadata": {},
   "outputs": [],
   "source": []
  },
  {
   "cell_type": "code",
   "execution_count": null,
   "id": "27e8bff9-a3de-4e16-b9bd-285de2133e41",
   "metadata": {},
   "outputs": [],
   "source": []
  },
  {
   "cell_type": "code",
   "execution_count": null,
   "id": "ebb8f0d5-ea87-476c-9c61-3d3c312e167b",
   "metadata": {},
   "outputs": [],
   "source": []
  }
 ],
 "metadata": {
  "kernelspec": {
   "display_name": "mydesc",
   "language": "python",
   "name": "mydesc"
  },
  "language_info": {
   "codemirror_mode": {
    "name": "ipython",
    "version": 3
   },
   "file_extension": ".py",
   "mimetype": "text/x-python",
   "name": "python",
   "nbconvert_exporter": "python",
   "pygments_lexer": "ipython3",
   "version": "3.7.6"
  }
 },
 "nbformat": 4,
 "nbformat_minor": 5
}
