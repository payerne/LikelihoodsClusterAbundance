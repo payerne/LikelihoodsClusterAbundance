{
 "cells": [
  {
   "cell_type": "code",
   "execution_count": 320,
   "id": "591f7be2-973a-4eac-bf3e-5f7256513a2f",
   "metadata": {},
   "outputs": [
    {
     "name": "stdout",
     "output_type": "stream",
     "text": [
      "The autoreload extension is already loaded. To reload it, use:\n",
      "  %reload_ext autoreload\n"
     ]
    }
   ],
   "source": [
    "%load_ext autoreload\n",
    "%autoreload 2\n",
    "import numpy as np\n",
    "import matplotlib.pyplot as plt\n",
    "import corner\n",
    "import emcee\n",
    "import sys"
   ]
  },
  {
   "cell_type": "code",
   "execution_count": 321,
   "id": "adb280b2-45e1-4946-8013-9dda7b382f83",
   "metadata": {},
   "outputs": [],
   "source": [
    "N_likelihoods = 1000\n",
    "data_dimension = 5"
   ]
  },
  {
   "cell_type": "code",
   "execution_count": 322,
   "id": "5a51f975-aba6-44cd-8d5b-f73b05d42eb5",
   "metadata": {},
   "outputs": [],
   "source": [
    "#define weights w\n",
    "w = np.random.random(N_likelihoods)\n",
    "w = w/np.sum(w)"
   ]
  },
  {
   "cell_type": "code",
   "execution_count": 323,
   "id": "50e9b85c-9e24-43a8-bf1d-47a89f6b2993",
   "metadata": {},
   "outputs": [
    {
     "data": {
      "text/plain": [
       "<matplotlib.colorbar.Colorbar at 0x7f0086ef7e50>"
      ]
     },
     "execution_count": 323,
     "metadata": {},
     "output_type": "execute_result"
    },
    {
     "data": {
      "image/png": "[encoded data removed]",
      "text/plain": [
       "<Figure size 432x288 with 2 Axes>"
      ]
     },
     "metadata": {
      "needs_background": "light"
     },
     "output_type": "display_data"
    }
   ],
   "source": [
    "#define unitary covariance matrices\n",
    "x = np.linspace(0, 1, data_dimension)\n",
    "cov = np.eye(len(x))\n",
    "C0 = 1\n",
    "for i in range(data_dimension):\n",
    "    for j in range(data_dimension):\n",
    "        #cov[i,j] = C0*np.exp(-(x[i]-x[j])**2/.01)\n",
    "        cov[i,i] = C0*np.exp(np.exp(-(x[i])/.10))\n",
    "plt.imshow(cov, cmap = 'bwr', )\n",
    "plt.colorbar()"
   ]
  },
  {
   "cell_type": "code",
   "execution_count": 324,
   "id": "84a2d4ef-a47b-47e2-b622-199c6c2671c7",
   "metadata": {},
   "outputs": [],
   "source": [
    "#define model\n",
    "x = np.linspace(0, 1, data_dimension)\n",
    "def model(p):\n",
    "    a, b, c =p\n",
    "    return c * np.exp(-(a * x ** 2 + b * x))"
   ]
  },
  {
   "cell_type": "code",
   "execution_count": 325,
   "id": "a1e02a45-62b1-4e99-a122-a384dbc54277",
   "metadata": {},
   "outputs": [],
   "source": [
    "atrue= 1\n",
    "btrue = 1\n",
    "ctrue = 20\n",
    "true_value = [atrue, btrue, ctrue]\n",
    "data0 = model([atrue, btrue, ctrue]) "
   ]
  },
  {
   "cell_type": "code",
   "execution_count": 326,
   "id": "830397a1-d0ee-43c5-8a04-18d1619055f6",
   "metadata": {},
   "outputs": [
    {
     "data": {
      "text/plain": [
       "<ErrorbarContainer object of 3 artists>"
      ]
     },
     "execution_count": 326,
     "metadata": {},
     "output_type": "execute_result"
    },
    {
     "data": {
      "image/png": "[encoded data removed]",
      "text/plain": [
       "<Figure size 432x288 with 1 Axes>"
      ]
     },
     "metadata": {
      "needs_background": "light"
     },
     "output_type": "display_data"
    }
   ],
   "source": [
    "plt.errorbar(x, data0, cov.diagonal()**.5)"
   ]
  },
  {
   "cell_type": "code",
   "execution_count": 327,
   "id": "6bdb1f11-4e67-44c7-b665-60cff5a4814a",
   "metadata": {},
   "outputs": [],
   "source": [
    "sys.path.append('/pbs/throng/lsst/users/cpayerne/LikelihoodsClusterAbundance/modules/')\n",
    "import forecast"
   ]
  },
  {
   "cell_type": "code",
   "execution_count": 328,
   "id": "c748174f-794a-4001-b1b5-baac94a6c26c",
   "metadata": {},
   "outputs": [],
   "source": [
    "d_model=forecast.first_derivative(true_value, model, model(true_value).shape, delta = 1e-3)"
   ]
  },
  {
   "cell_type": "code",
   "execution_count": 329,
   "id": "775686d5-de95-43f0-b2c8-489dc952e702",
   "metadata": {},
   "outputs": [
    {
     "data": {
      "text/plain": [
       "(3, 5)"
      ]
     },
     "execution_count": 329,
     "metadata": {},
     "output_type": "execute_result"
    }
   ],
   "source": [
    "d_model.shape"
   ]
  },
  {
   "cell_type": "code",
   "execution_count": 330,
   "id": "aebad287-c8d9-4d8e-ba94-c38e84212b22",
   "metadata": {},
   "outputs": [],
   "source": [
    "randoms=np.random.randn(N_likelihoods)"
   ]
  },
  {
   "cell_type": "code",
   "execution_count": 331,
   "id": "dc095da5-f844-4fe9-abcd-c6207cc3749a",
   "metadata": {
    "tags": []
   },
   "outputs": [],
   "source": [
    "sigma_coeff_var = np.linspace(.0, .99, 20)\n",
    "res_cov_ind = [] \n",
    "cov_param = []\n",
    "for i in range(len(sigma_coeff_var)):\n",
    "    sv = sigma_coeff_var[i]\n",
    "    coeffs_var = np.linspace(1 - sv, 1 + sv, N_likelihoods)\n",
    "    covs = np.copy(cov)\n",
    "    cov_list = []\n",
    "    inv_cov_list = []\n",
    "    cov_param_ind = []\n",
    "    for k in range(N_likelihoods):\n",
    "        for i in range(data_dimension):\n",
    "            for j in range(data_dimension):\n",
    "                covs[i,j] = cov[i,j]\n",
    "                if i==j: covs[i,i] = coeffs_var[k]*cov[i,i]\n",
    "        cov_list.append(covs)\n",
    "        inv_covs = np.linalg.inv(covs)\n",
    "        inv_cov_list.append(inv_covs)\n",
    "        F_ind=F.Fisher_Matrix_Gaussian_XX(inv_covs, d_model, 3)\n",
    "        cp = np.linalg.inv(F_ind)\n",
    "        if cp[0,0] < 0: \n",
    "            plt.imshow(np.corrcoef(covs), vmin=-1, vmax=1)\n",
    "            plt.colorbar()\n",
    "            print(coeffs_var[k])\n",
    "            break\n",
    "        cov_param_ind.append(cp)\n",
    "    res_cov_ind.append(cov_param_ind)\n",
    "    det_list = [np.linalg.det(c) for c in cov_list]\n",
    "    def printt(wl, t):\n",
    "        wl = wl/np.sum(wl)\n",
    "        cov1 = np.average(cov_list, weights = wl, axis=0)\n",
    "        w2 = np.array(det_list)**(-.5) * wl\n",
    "        w2 = w2/np.sum(w2)\n",
    "        inv_cov2 = np.average(inv_cov_list, weights = w2, axis=0)\n",
    "        cov2 = np.linalg.inv(inv_cov2)\n",
    "        f = F.Fisher_Matrix_Gaussian_XY(cov1, inv_cov2, d_model, 3)\n",
    "        return np.linalg.inv(f)\n",
    "    #wl1 = np.random.random(N_likelihoods)\n",
    "    cov_param.append(printt(wl1, 'o'))"
   ]
  },
  {
   "cell_type": "code",
   "execution_count": 332,
   "id": "7fd9f4eb-20eb-49c8-8edd-dececd4284ce",
   "metadata": {},
   "outputs": [
    {
     "data": {
      "text/plain": [
       "0.007358480128668484"
      ]
     },
     "execution_count": 332,
     "metadata": {},
     "output_type": "execute_result"
    }
   ],
   "source": [
    "cov_param_ind[i][0,0]"
   ]
  },
  {
   "cell_type": "code",
   "execution_count": 333,
   "id": "61d50f52-9995-44f7-9803-c40a98fbe1a5",
   "metadata": {},
   "outputs": [
    {
     "data": {
      "image/png": "[encoded data removed]",
      "text/plain": [
       "<Figure size 504x504 with 1 Axes>"
      ]
     },
     "metadata": {
      "needs_background": "light"
     },
     "output_type": "display_data"
    }
   ],
   "source": [
    "plt.figure(figsize=(7,7))\n",
    "for i, sv in enumerate(sigma_coeff_var):\n",
    "    l = [res_cov_ind[i][k][0,0] for k in range(N_likelihoods)]\n",
    "    plt.scatter(sv*np.linspace(1,1, N_likelihoods), l, color = 'c', alpha = .01)\n",
    "    plt.scatter(sv*np.linspace(1,1, N_likelihoods), l, color = 'b', marker = '.', alpha = .06, s=10)\n",
    "    plt.scatter(sv,cov_param[i][0,0], marker='o', color = 'r')\n",
    "#plt.ylim(0, 5)"
   ]
  },
  {
   "cell_type": "code",
   "execution_count": 259,
   "id": "ca9ed0a2-0118-4056-84c1-ead838cbc828",
   "metadata": {},
   "outputs": [],
   "source": [
    "l = [res_cov_ind[18][k][1,1] for k in range(N_likelihoods)]"
   ]
  },
  {
   "cell_type": "code",
   "execution_count": 260,
   "id": "bea2b0f0-36ac-44a6-92ff-f82f643eff11",
   "metadata": {},
   "outputs": [
    {
     "data": {
      "text/plain": [
       "(array([164., 195., 201., 164., 123.,  93.,  40.,  15.,   3.,   2.]),\n",
       " array([1.05231380e-04, 1.42195991e-01, 2.84286750e-01, 4.26377509e-01,\n",
       "        5.68468269e-01, 7.10559028e-01, 8.52649788e-01, 9.94740547e-01,\n",
       "        1.13683131e+00, 1.27892207e+00, 1.42101283e+00]),\n",
       " <a list of 10 Patch objects>)"
      ]
     },
     "execution_count": 260,
     "metadata": {},
     "output_type": "execute_result"
    },
    {
     "data": {
      "image/png": "[encoded data removed]",
      "text/plain": [
       "<Figure size 432x288 with 1 Axes>"
      ]
     },
     "metadata": {
      "needs_background": "light"
     },
     "output_type": "display_data"
    }
   ],
   "source": [
    "plt.hist(l)"
   ]
  },
  {
   "cell_type": "code",
   "execution_count": 301,
   "id": "7f240a33-f805-4a7b-a94d-248c1eb266f7",
   "metadata": {},
   "outputs": [],
   "source": [
    "np.random.seed(10)"
   ]
  },
  {
   "cell_type": "code",
   "execution_count": 305,
   "id": "d400190a-70f8-45a7-a396-553bc66262ae",
   "metadata": {},
   "outputs": [
    {
     "data": {
      "text/plain": [
       "array([0.74880388])"
      ]
     },
     "execution_count": 305,
     "metadata": {},
     "output_type": "execute_result"
    }
   ],
   "source": [
    "np.random.random(1)"
   ]
  },
  {
   "cell_type": "code",
   "execution_count": 291,
   "id": "e3e10df3-fba4-48e3-b93e-50e49e7ef90a",
   "metadata": {},
   "outputs": [],
   "source": [
    "rng = np.random.default_rng(12345)"
   ]
  },
  {
   "cell_type": "code",
   "execution_count": 300,
   "id": "af751c7a-76b5-46ed-a0a9-60a6c4a2489e",
   "metadata": {},
   "outputs": [
    {
     "data": {
      "text/plain": [
       "0.361058113054895"
      ]
     },
     "execution_count": 300,
     "metadata": {},
     "output_type": "execute_result"
    }
   ],
   "source": [
    "rng.standard_normal()"
   ]
  },
  {
   "cell_type": "code",
   "execution_count": 307,
   "id": "87740d38-ae5b-4c2c-ba13-f1874519938b",
   "metadata": {},
   "outputs": [],
   "source": [
    "s = str(np.pi)"
   ]
  },
  {
   "cell_type": "code",
   "execution_count": 308,
   "id": "0e27f5da-7e32-43a8-9c4a-06a668852b22",
   "metadata": {},
   "outputs": [
    {
     "data": {
      "text/plain": [
       "'3141592653589793'"
      ]
     },
     "execution_count": 308,
     "metadata": {},
     "output_type": "execute_result"
    }
   ],
   "source": [
    "s.replace('.', '')"
   ]
  },
  {
   "cell_type": "code",
   "execution_count": null,
   "id": "72911bcf-f9ce-4996-b9ea-c38e0de6e529",
   "metadata": {},
   "outputs": [],
   "source": []
  }
 ],
 "metadata": {
  "kernelspec": {
   "display_name": "mydesc",
   "language": "python",
   "name": "mydesc"
  },
  "language_info": {
   "codemirror_mode": {
    "name": "ipython",
    "version": 3
   },
   "file_extension": ".py",
   "mimetype": "text/x-python",
   "name": "python",
   "nbconvert_exporter": "python",
   "pygments_lexer": "ipython3",
   "version": "3.7.6"
  }
 },
 "nbformat": 4,
 "nbformat_minor": 5
}
