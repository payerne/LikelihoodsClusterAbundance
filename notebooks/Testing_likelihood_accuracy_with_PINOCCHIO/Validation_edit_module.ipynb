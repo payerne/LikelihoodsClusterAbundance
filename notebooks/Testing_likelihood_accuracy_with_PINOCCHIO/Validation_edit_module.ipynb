{
 "cells": [
  {
   "cell_type": "code",
   "execution_count": 63,
   "id": "49ff85fe-68eb-4043-a7ee-b761c8ae7f28",
   "metadata": {},
   "outputs": [
    {
     "name": "stdout",
     "output_type": "stream",
     "text": [
      "The autoreload extension is already loaded. To reload it, use:\n",
      "  %reload_ext autoreload\n"
     ]
    }
   ],
   "source": [
    "%load_ext autoreload\n",
    "%autoreload 2\n",
    "import numpy as np\n",
    "import sys\n",
    "sys.path.append('/pbs/throng/lsst/users/cpayerne/ClusterLikelihoods/modules/')\n",
    "import edit as edit"
   ]
  },
  {
   "cell_type": "code",
   "execution_count": 64,
   "id": "92adf1b4-bba6-4560-b43f-30e266c09e5f",
   "metadata": {},
   "outputs": [],
   "source": [
    "d = np.random.randn(100000, 10)"
   ]
  },
  {
   "cell_type": "code",
   "execution_count": 65,
   "id": "fe8e3a69-1c59-4371-b18b-b972ad959241",
   "metadata": {},
   "outputs": [],
   "source": [
    "filename = '/pbs/throng/lsst/users/cpayerne/test.hdf5'\n",
    "edit.save_hdf5(d, filename)"
   ]
  },
  {
   "cell_type": "code",
   "execution_count": 66,
   "id": "bbc1fcef-e4e2-4675-b9c1-eaf043f667ed",
   "metadata": {},
   "outputs": [],
   "source": [
    "s = edit.load_hdf5(filename)"
   ]
  }
 ],
 "metadata": {
  "kernelspec": {
   "display_name": "mydesc",
   "language": "python",
   "name": "mydesc"
  },
  "language_info": {
   "codemirror_mode": {
    "name": "ipython",
    "version": 3
   },
   "file_extension": ".py",
   "mimetype": "text/x-python",
   "name": "python",
   "nbconvert_exporter": "python",
   "pygments_lexer": "ipython3",
   "version": "3.7.6"
  }
 },
 "nbformat": 4,
 "nbformat_minor": 5
}
