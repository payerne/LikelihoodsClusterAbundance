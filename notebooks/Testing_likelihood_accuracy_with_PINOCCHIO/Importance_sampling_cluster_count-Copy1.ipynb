{
 "cells": [
  {
   "cell_type": "code",
   "execution_count": 1,
   "id": "6c79adf5-9e28-46e2-ba5d-8eea867df222",
   "metadata": {},
   "outputs": [
    {
     "name": "stderr",
     "output_type": "stream",
     "text": [
      "/pbs/home/c/cpayerne/.conda/envs/myenv/lib/python3.10/site-packages/tqdm/auto.py:21: TqdmWarning: IProgress not found. Please update jupyter and ipywidgets. See https://ipywidgets.readthedocs.io/en/stable/user_install.html\n",
      "  from .autonotebook import tqdm as notebook_tqdm\n"
     ]
    }
   ],
   "source": [
    "import numpy as np\n",
    "import matplotlib.pyplot as plt\n",
    "import sys, time, glob\n",
    "import pyccl as ccl\n",
    "def binning(corner): return [[corner[i],corner[i+1]] for i in range(len(corner)-1)]\n",
    "%load_ext autoreload\n",
    "%autoreload 2\n",
    "sys.path.append('/pbs/throng/lsst/users/cpayerne/LikelihoodsClusterAbundance/modules/')\n",
    "import abundance as cl_count\n",
    "import covariance as covar\n",
    "import mvp_pdf\n",
    "import edit\n",
    "import utils\n",
    "import lnlikelihood as l\n",
    "import importance_sampling as imp_samp\n",
    "#sys.path.append('../modules/pinocchio_analysis/')\n",
    "#import compute_mean_covariance_importance_sampling as Oms8\n",
    "Omega_c_true = 0.30711 - 0.048254\n",
    "Omega_b_true = 0.048254\n",
    "sigma8_true = .8288\n",
    "Omegam_true = 0.30711\n",
    "True_value = [Omega_c_true + Omega_b_true, sigma8_true]\n",
    "cosmo = ccl.Cosmology(Omega_c = Omega_c_true, Omega_b = Omega_b_true, h = 0.6777, sigma8 = sigma8_true, n_s=0.96)"
   ]
  },
  {
   "cell_type": "code",
   "execution_count": 2,
   "id": "7df9b354-3c5c-4998-9fd0-bc3063d16b71",
   "metadata": {},
   "outputs": [],
   "source": [
    "n_z_bin=4\n",
    "n_m_bin=4"
   ]
  },
  {
   "cell_type": "markdown",
   "id": "c34bd673-93c6-4b33-a3c9-feba25829844",
   "metadata": {},
   "source": [
    "# Binned cluster abundance for the 1000 Pinocchio simualtions"
   ]
  },
  {
   "cell_type": "markdown",
   "id": "54151485-1cd2-4667-bf00-658925044e69",
   "metadata": {},
   "source": [
    "$$\n",
    "p(\\vec{\\theta}) = \\mathcal{L}(\\vec{\\widehat{N}}|\\vec{N}(\\vec{\\theta}))\\ \\pi(\\vec{\\theta})\n",
    "$$"
   ]
  },
  {
   "cell_type": "markdown",
   "id": "9f5563dd-bdf5-4211-a34c-c26c167e1e8d",
   "metadata": {},
   "source": [
    "## pre-tabulated abundance $\\vec{N}(\\vec{\\theta})$ and $q(\\vec{\\theta})$ on random position $\\vec{\\theta} \\sim q$"
   ]
  },
  {
   "cell_type": "code",
   "execution_count": 3,
   "id": "d1baea6a-fec6-465d-8be5-95c3176b6297",
   "metadata": {},
   "outputs": [],
   "source": [
    "ratio_f_sky = 1\n",
    "where_tab=f'/sps/lsst/users/cpayerne/1000xsimulations/analysis/'\n",
    "key = f'{n_z_bin}zx{n_m_bin}m/tabulated_model/4x4_sampled_abundance_from_'\n",
    "where = where_tab+key+'*'\n",
    "Nth, Om, s8, q_val=[],[],[],[]\n",
    "for f in glob.glob(where):\n",
    "    sampled_model=np.array(edit.load_hdf5(f))\n",
    "    q=sampled_model['q']\n",
    "    Nth.extend(ratio_f_sky * sampled_model['abundance'])\n",
    "    q_val.extend(list(sampled_model['q']))\n",
    "    Om.extend(list(sampled_model['Om']))\n",
    "    s8.extend(list(sampled_model['s8']))"
   ]
  },
  {
   "cell_type": "markdown",
   "id": "bac307e9-deec-432a-8c07-78c356f2827e",
   "metadata": {},
   "source": [
    "## Evaluationg posterior $p(\\vec{\\theta}|\\vec{\\widehat{N}})$ at the $\\vec{\\theta} \\sim q$ random positions & compute weights  $w = p/q$"
   ]
  },
  {
   "cell_type": "markdown",
   "id": "2a70bf0e-bb2d-4d7a-9859-e5917a532d54",
   "metadata": {},
   "source": [
    "$$\n",
    "p(\\vec{\\theta}) = \\mathcal{L}(\\vec{\\widehat{N}}|\\vec{N}(\\vec{\\theta}))\\ \\pi(\\vec{\\theta})\n",
    "$$"
   ]
  },
  {
   "cell_type": "code",
   "execution_count": 4,
   "id": "1560e273-cf0f-4c18-ac34-d0b662a4e598",
   "metadata": {},
   "outputs": [],
   "source": [
    "lnL=l.lnLikelihood(theory=None)"
   ]
  },
  {
   "cell_type": "code",
   "execution_count": 5,
   "id": "d7dd8571-349c-439b-8d63-5df841bfa4f4",
   "metadata": {},
   "outputs": [
    {
     "data": {
      "text/plain": [
       "1.7293207892947213"
      ]
     },
     "execution_count": 5,
     "metadata": {},
     "output_type": "execute_result"
    }
   ],
   "source": [
    "lnL.lnLikelihood_Binned_Poissonian(np.array([[1, 2], [3, 5]]), np.array([[1, 2], [3, 5]]))"
   ]
  },
  {
   "cell_type": "code",
   "execution_count": 6,
   "id": "1dc38c16-3b60-4e6f-9c5a-8dbb3db70311",
   "metadata": {},
   "outputs": [],
   "source": [
    "likelihood='Poissonian'\n",
    "def lnposterior(model, data):\n",
    "    #define the posterior\n",
    "    return lnL.lnPosterior(model, data, likelihood=likelihood)"
   ]
  },
  {
   "cell_type": "code",
   "execution_count": 7,
   "id": "99fc9474-49ca-4200-88d1-625e1288b3f5",
   "metadata": {},
   "outputs": [],
   "source": [
    "label = ''\n",
    "dat = edit.load_pickle(f'/sps/lsst/users/cpayerne/1000xsimulations/analysis/binned_catalogs/{n_z_bin}x{n_m_bin}_binned_catalogs.pkl')\n",
    "#dat = edit.load_pickle(f'/sps/lsst/users/cpayerne/1000xsimulations/analysis/binned_catalogs/{n_z_bin}x{n_m_bin}_binned_catalogs_sup_5e14Msun.pkl')\n",
    "#dat = edit.load_pickle(f'/sps/lsst/users/cpayerne/1000xsimulations/analysis/binned_catalogs/{n_z_bin}x{n_m_bin}_binned_catalogs.pkl')\n",
    "Nobs = np.array(dat[3])"
   ]
  },
  {
   "cell_type": "code",
   "execution_count": 8,
   "id": "e04c996f-6394-4357-8e46-48d76f16e572",
   "metadata": {},
   "outputs": [
    {
     "data": {
      "text/plain": [
       "array([[1.7895e+04, 4.0220e+03, 5.4600e+02, 2.9000e+01],\n",
       "       [2.6428e+04, 4.5600e+03, 4.0600e+02, 1.5000e+01],\n",
       "       [2.2426e+04, 2.9830e+03, 1.8100e+02, 1.0000e+00],\n",
       "       [1.4060e+04, 1.2740e+03, 4.3000e+01, 0.0000e+00]])"
      ]
     },
     "execution_count": 8,
     "metadata": {},
     "output_type": "execute_result"
    }
   ],
   "source": [
    "Nobs[20]"
   ]
  },
  {
   "cell_type": "code",
   "execution_count": 9,
   "id": "c1d29744-30a6-41c3-8811-d4d8cbcbd674",
   "metadata": {},
   "outputs": [],
   "source": [
    "index_simu= 20\n",
    "def compute_weights(n, mp=False):\n",
    "    res=np.array([lnposterior(model, Nobs[n]) for model in Nth])\n",
    "    res=res-np.min(res)\n",
    "    w=np.exp(res)/q_val\n",
    "    w=w/np.max(w)\n",
    "    return w"
   ]
  },
  {
   "cell_type": "code",
   "execution_count": 10,
   "id": "b1ca366e-d92d-4383-b29e-fff5070ad847",
   "metadata": {},
   "outputs": [],
   "source": [
    "weights = compute_weights(index_simu, mp=False)"
   ]
  },
  {
   "cell_type": "code",
   "execution_count": 11,
   "id": "8a9fcb53-4bf9-46a9-9563-cfbb033e6714",
   "metadata": {},
   "outputs": [
    {
     "data": {
      "text/plain": [
       "array([5.15606702e-02, 4.48090105e-19, 2.19760641e-05, ...,\n",
       "       3.69009441e-08, 1.62554267e-17, 2.82993876e-05])"
      ]
     },
     "execution_count": 11,
     "metadata": {},
     "output_type": "execute_result"
    }
   ],
   "source": [
    "weights"
   ]
  },
  {
   "cell_type": "code",
   "execution_count": 12,
   "id": "760d9910-7aea-4f7f-97ef-8aad23b3df5c",
   "metadata": {},
   "outputs": [],
   "source": [
    "#weights = np.array(utils.map(compute_weights, np.arange(n_test), ncores=8, ordered=True, progress=True))"
   ]
  },
  {
   "cell_type": "code",
   "execution_count": 13,
   "id": "baf69c37-cc26-44c1-b8f7-9a9b79cffecb",
   "metadata": {},
   "outputs": [],
   "source": [
    "mcmc = np.load(f'/pbs/throng/lsst/users/cpayerne/LikelihoodsClusterAbundance/notebooks/Unbinned_likelihood_with_SSC/manuscript/noSSC_full_binned_testing_likelihood_accuracy.npy')"
   ]
  },
  {
   "cell_type": "code",
   "execution_count": 19,
   "id": "f62e89ac-07a3-4b6f-9114-68782db86b22",
   "metadata": {},
   "outputs": [
    {
     "data": {
      "image/png": "[encoded data removed]",
      "text/plain": [
       "<Figure size 1200x500 with 2 Axes>"
      ]
     },
     "metadata": {},
     "output_type": "display_data"
    }
   ],
   "source": [
    "fig, ax = plt.subplots(1, 2, figsize=(12, 5))\n",
    "n = 7000\n",
    "ax[0].hist(mcmc[:,0][5000:15000:3], density = True, bins = np.linspace(0.295, 0.315, 40), label='MCMC posterior')\n",
    "ax[0].hist(Om, weights=weights, density = True, bins =  np.linspace(0.295, 0.315, 40), histtype = 'step', linewidth=2, label = 'IS posterior')\n",
    "ax[0].hist(Om, density = True, zorder=0, bins = 100, label='IS proposal')\n",
    "ax[0].set_xlim(0.295, 0.32)\n",
    "ax[0].set_xlabel(r'$\\Omega_m$', fontsize=20)\n",
    "ax[0].tick_params(axis='both', which=\"both\", labelsize= 15)\n",
    "ax[0].legend(fontsize=12, frameon=False)\n",
    "ax[0].vlines(Omega_c_true + Omega_b_true, 0, 250, ls='-', color='k')\n",
    "ax[0].set_ylim(0, 250)\n",
    "ax[1].hist(mcmc[:,1][5000:15000:3], density = True, bins = np.linspace(0.824, 0.834, 30))\n",
    "ax[1].hist(s8, weights=weights, density = True, bins = np.linspace(0.824, 0.834, 40), histtype = 'step',linewidth=2)\n",
    "ax[1].hist(s8, density = True, zorder=0, bins = 100)\n",
    "ax[1].set_xlim(0.822, 0.834)\n",
    "ax[1].set_xlabel(r'$\\sigma_8$', fontsize=20)\n",
    "ax[1].tick_params(axis='both', which=\"both\", labelsize= 15)\n",
    "ax[1].vlines(sigma8_true, 0, 500, ls='-', color='k')\n",
    "ax[1].set_ylim(0, 500)\n",
    "plt.savefig('importance_sampling_cluster_count_vs_mcmc.png', bbox_inches='tight', dpi=300)"
   ]
  },
  {
   "cell_type": "code",
   "execution_count": null,
   "id": "9a210dba-e747-4fba-b4d1-b51ccfa554eb",
   "metadata": {},
   "outputs": [],
   "source": []
  }
 ],
 "metadata": {
  "kernelspec": {
   "display_name": "myenv",
   "language": "python",
   "name": "myenv"
  },
  "language_info": {
   "codemirror_mode": {
    "name": "ipython",
    "version": 3
   },
   "file_extension": ".py",
   "mimetype": "text/x-python",
   "name": "python",
   "nbconvert_exporter": "python",
   "pygments_lexer": "ipython3",
   "version": "3.10.10"
  }
 },
 "nbformat": 4,
 "nbformat_minor": 5
}
