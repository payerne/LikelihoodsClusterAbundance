{
 "cells": [
  {
   "cell_type": "code",
   "execution_count": 1,
   "id": "b099eded-96e2-4146-97e7-9f240c3df1a2",
   "metadata": {},
   "outputs": [],
   "source": [
    "%load_ext autoreload\n",
    "\n",
    "%autoreload 2\n",
    "import sys\n",
    "import numpy as np\n",
    "import matplotlib.pyplot as plt\n",
    "import see_fits\n",
    "import scipy\n",
    "from scipy.ndimage import gaussian_filter\n",
    "sys.path.append('/pbs/throng/lsst/users/cpayerne/LikelihoodsClusterAbundance/modules/')\n",
    "import abundance as cl_count\n",
    "import covariance as covar\n",
    "import utils\n",
    "import edit\n",
    "import h5py\n",
    "Omega_c_true = 0.30711 - 0.048254\n",
    "Omega_b_true = 0.048254\n",
    "sigma8_true = .8288\n",
    "Omegam_true = 0.30711\n",
    "True_value = [Omega_c_true + Omega_b_true, sigma8_true]"
   ]
  },
  {
   "cell_type": "code",
   "execution_count": 2,
   "id": "36950105-9065-4207-ae87-adeb28ea5126",
   "metadata": {},
   "outputs": [],
   "source": [
    "#datG = see_fits.mean_var_covar('/pbs/throng/lsst/users/cpayerne/ClusterLikelihoods_data/weights_old/Gaussian_4x4*')\n",
    "#datP=see_fits.mean_var_covar('/pbs/throng/lsst/users/cpayerne/ClusterLikelihoods_data/weights_old/Poissonian_4x4*')\n",
    "#datMPG=see_fits.mean_var_covar('/pbs/throng/lsst/users/cpayerne/ClusterLikelihoods_data/cosmological_constraints/MPG_20x30*')"
   ]
  },
  {
   "cell_type": "code",
   "execution_count": 3,
   "id": "3b7090ec-b672-48ab-9793-ad91006f0067",
   "metadata": {},
   "outputs": [],
   "source": [
    "binning=['4zx4m']\n",
    "likelihood=['Poissonian','Gaussian','MPG']\n",
    "cosmology = {binning[i]:{likelihood_:None for likelihood_ in likelihood} for i in range(len(binning))}\n",
    "for b in binning:\n",
    "    try:\n",
    "        cosmology[b]['Poissonian']=see_fits.mean_var_covar('/sps/lsst/users/cpayerne/1000xsimulations/analysis/'+b+'/mean_dispersion/Poissonian*')\n",
    "        cosmology[b]['Gaussian']  =see_fits.mean_var_covar('/sps/lsst/users/cpayerne/1000xsimulations/analysis/'+b+'/mean_dispersion/Gaussian*')\n",
    "        cosmology[b]['MPG']       =see_fits.mean_var_covar('/sps/lsst/users/cpayerne/1000xsimulations/analysis/'+b+'/mean_dispersion/MPG*')\n",
    "    except: \n",
    "        continue"
   ]
  },
  {
   "cell_type": "markdown",
   "id": "9dd0f956-9780-4f56-b544-5715538d8ad3",
   "metadata": {},
   "source": [
    "# Forecast"
   ]
  },
  {
   "cell_type": "code",
   "execution_count": 4,
   "id": "f47c39b3-8fba-4c8a-9390-faccc418611d",
   "metadata": {},
   "outputs": [],
   "source": [
    "forecast4x4=edit.load_pickle('/pbs/throng/lsst/users/cpayerne/ClusterLikelihoods_data/Covariances/Fisher_covariance.pickle')"
   ]
  },
  {
   "cell_type": "code",
   "execution_count": 5,
   "id": "cf527e48-0040-460d-a9f2-e42836fabd3d",
   "metadata": {},
   "outputs": [
    {
     "data": {
      "text/plain": [
       "{'4zx4m': {'Poissonian': array([[ 3.76873719e-06, -2.05737551e-06],\n",
       "         [-2.05737551e-06,  1.35418873e-06]]),\n",
       "  'Gaussian': array([[ 5.75554086e-06, -2.92255360e-06],\n",
       "         [-2.92255360e-06,  1.87307308e-06]])},\n",
       " '20zx30m': {'Poissonian': array([[ 3.27729655e-06, -1.74862855e-06],\n",
       "         [-1.74862855e-06,  1.16003322e-06]]),\n",
       "  'Gaussian': array([[ 5.50581960e-06, -2.61932081e-06],\n",
       "         [-2.61932081e-06,  1.70757569e-06]])},\n",
       " '100zx100m': {'Poissonian': array([[ 3.26467069e-06, -1.74077984e-06],\n",
       "         [-1.74077984e-06,  1.15514867e-06]]),\n",
       "  'Gaussian': array([[ 4.81543763e-06, -2.33996713e-06],\n",
       "         [-2.33996713e-06,  1.49188057e-06]])}}"
      ]
     },
     "execution_count": 5,
     "metadata": {},
     "output_type": "execute_result"
    }
   ],
   "source": [
    "forecast4x4"
   ]
  },
  {
   "cell_type": "markdown",
   "id": "783f3516-bbb5-4ca3-b6d1-b1e60c37757f",
   "metadata": {},
   "source": [
    "# Mean"
   ]
  },
  {
   "cell_type": "code",
   "execution_count": 15,
   "id": "97ca524d-6ac0-4707-9578-0f07a40d2198",
   "metadata": {},
   "outputs": [
    {
     "name": "stdout",
     "output_type": "stream",
     "text": [
      "Poissonian\n",
      "Gaussian\n",
      "MPG\n"
     ]
    },
    {
     "name": "stderr",
     "output_type": "stream",
     "text": [
      "No handles with labels found to put in legend.\n",
      "No handles with labels found to put in legend.\n",
      "No handles with labels found to put in legend.\n",
      "No handles with labels found to put in legend.\n",
      "No handles with labels found to put in legend.\n",
      "No handles with labels found to put in legend.\n"
     ]
    },
    {
     "data": {
      "image/png": "[encoded data removed]",
      "text/plain": [
       "<Figure size 720x504 with 6 Axes>"
      ]
     },
     "metadata": {
      "needs_background": "light"
     },
     "output_type": "display_data"
    }
   ],
   "source": [
    "title = ['Poissonian', 'Gaussian', 'GPC']\n",
    "colors = ['#1f77b4', '#ff7f0e', '#2ca02c',]\n",
    "n=11\n",
    "maxsOm=250\n",
    "maxss8=400\n",
    "alpha=[.3, .6, .9]\n",
    "fig, ax = plt.subplots(2, 3, figsize = (10,7), sharex='row', sharey='row')\n",
    "plt.subplots_adjust(left=None, bottom=None, right=None, top=None, wspace=.1, hspace=.5)\n",
    "label = ['Poissonian', 'Gaussian', 'GPC']\n",
    "show = [True, True, True]\n",
    "ls=['-','-','--']\n",
    "for k in range(3):\n",
    "    likelihood_=likelihood[k]\n",
    "    print(likelihood_)\n",
    "    for i, b in enumerate(binning):\n",
    "        if i!=0: continue\n",
    "        err_norm=1e-3\n",
    "            #try:\n",
    "        try:\n",
    "            \n",
    "            ax[0,k].vlines(True_value[0],0,maxsOm,ls='-',color='k',linewidth=2)\n",
    "            ax[1,k].vlines(True_value[1],0,maxss8,ls='-', color='k',linewidth=2)\n",
    "            x=np.array(cosmology[b][likelihood_]['Om'])#/np.std(cosmology[b][likelihood_]['Om'])-1\n",
    "            y=np.array(cosmology[b][likelihood_]['s8'])#/np.std(cosmology[b][likelihood_]['s8'])-1\n",
    "            #cov=np.cov(x,y)\n",
    "            for s,x_ in enumerate([x,y]):\n",
    "                hist,x_edges =np.histogram(x_, bins=50)\n",
    "                x_middle=np.array([(x_edges[i]+x_edges[i+1])/2 for i in range(len(x_edges)-1)])\n",
    "                y=gaussian_filter(hist, sigma=1.5)\n",
    "                if s==0: \n",
    "                    label=b\n",
    "                else:label=None\n",
    "                #ax[s,k].fill_between(x_middle,x_middle*0, y/scipy.integrate.simps(y,x_middle),\n",
    "                 #                    color=colors[k], alpha=alpha[i],edgecolor=\"k\", label=b)\n",
    "                #ax[s,k].plot(x_middle, y/scipy.integrate.simps(y,x_middle),\n",
    "                 #                    color=colors[i], alpha=1, label=b)\n",
    "                ax[s,k].hist(x_, density=True, bins=50, color=colors[k],linewidth=2, alpha=.2)\n",
    "                ax[s,k].hist(x_, density=True, bins=50, histtype='step',color=colors[k],linewidth=2)\n",
    "             \n",
    "        except: a=1\n",
    "\n",
    "    #except: continue\n",
    "for i in range(2):\n",
    "    for j in range(3):\n",
    "        ax[0,0].legend(frameon=False, fontsize=12, loc='upper left')\n",
    "        ax[0,j].set_title(title[j], fontsize=20)\n",
    "        ax[0,j].set_xlabel(r'$\\Omega_m$', fontsize = 20)\n",
    "        ax[1,j].set_xlabel(r'$\\sigma_8$', fontsize = 20)\n",
    "        ax[i,j].tick_params(axis='both', which = 'major', labelsize= 14)\n",
    "        ax[0,j].set_ylim(0,maxsOm)\n",
    "        ax[1,j].set_ylim(0,maxss8)\n",
    "        ax[i,j].tick_params(axis='x', rotation=45)\n",
    "        ax[i,j].set_yticks([], minor=False)\n",
    "plt.savefig('distribution_of_means.pdf', bbox_inches='tight', dpi=300)"
   ]
  },
  {
   "cell_type": "code",
   "execution_count": null,
   "id": "45a56518-06b2-416d-92e5-9f44799d92d0",
   "metadata": {},
   "outputs": [],
   "source": []
  },
  {
   "cell_type": "code",
   "execution_count": null,
   "id": "49560659-469f-4698-b505-59809eeb21b7",
   "metadata": {},
   "outputs": [],
   "source": []
  }
 ],
 "metadata": {
  "kernelspec": {
   "display_name": "mydesc",
   "language": "python",
   "name": "mydesc"
  },
  "language_info": {
   "codemirror_mode": {
    "name": "ipython",
    "version": 3
   },
   "file_extension": ".py",
   "mimetype": "text/x-python",
   "name": "python",
   "nbconvert_exporter": "python",
   "pygments_lexer": "ipython3",
   "version": "3.7.6"
  }
 },
 "nbformat": 4,
 "nbformat_minor": 5
}
