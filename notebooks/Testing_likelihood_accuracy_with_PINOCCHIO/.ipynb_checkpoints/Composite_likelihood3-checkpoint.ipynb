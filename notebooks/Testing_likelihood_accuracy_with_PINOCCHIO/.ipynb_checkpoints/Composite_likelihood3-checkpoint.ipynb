{
 "cells": [
  {
   "cell_type": "code",
   "execution_count": 10,
   "id": "591f7be2-973a-4eac-bf3e-5f7256513a2f",
   "metadata": {},
   "outputs": [],
   "source": [
    "import numpy as np\n",
    "import matplotlib.pyplot as plt\n",
    "import corner\n",
    "import emcee\n",
    "import sys"
   ]
  },
  {
   "cell_type": "code",
   "execution_count": 11,
   "id": "adb280b2-45e1-4946-8013-9dda7b382f83",
   "metadata": {},
   "outputs": [],
   "source": [
    "N_likelihoods = 100\n",
    "data_dimension = 10"
   ]
  },
  {
   "cell_type": "code",
   "execution_count": 12,
   "id": "5a51f975-aba6-44cd-8d5b-f73b05d42eb5",
   "metadata": {},
   "outputs": [],
   "source": [
    "#define weights w\n",
    "w = np.random.random(N_likelihoods)\n",
    "w = w/np.sum(w)"
   ]
  },
  {
   "cell_type": "code",
   "execution_count": 13,
   "id": "50e9b85c-9e24-43a8-bf1d-47a89f6b2993",
   "metadata": {},
   "outputs": [
    {
     "data": {
      "text/plain": [
       "<matplotlib.colorbar.Colorbar at 0x7f55d56ef650>"
      ]
     },
     "execution_count": 13,
     "metadata": {},
     "output_type": "execute_result"
    },
    {
     "data": {
      "image/png": "[encoded data removed]",
      "text/plain": [
       "<Figure size 432x288 with 2 Axes>"
      ]
     },
     "metadata": {
      "needs_background": "light"
     },
     "output_type": "display_data"
    }
   ],
   "source": [
    "#define unitary covariance matrices\n",
    "x = np.linspace(0, 1, data_dimension)\n",
    "cov = np.eye(len(x))\n",
    "C0 = 1\n",
    "for i in range(data_dimension):\n",
    "    for j in range(data_dimension):\n",
    "        cov[i,j] = C0*np.exp(-(x[i]-x[j])**2)\n",
    "        cov[i,i] = np.exp(np.exp(-(x[i])))\n",
    "plt.imshow(np.corrcoef(cov), cmap = 'bwr', vmin=-1, vmax= 1)\n",
    "plt.colorbar()"
   ]
  },
  {
   "cell_type": "code",
   "execution_count": 14,
   "id": "84a2d4ef-a47b-47e2-b622-199c6c2671c7",
   "metadata": {},
   "outputs": [],
   "source": [
    "#define model\n",
    "x = np.linspace(0, 1, data_dimension)\n",
    "def model(a, b, c):\n",
    "    return c * np.exp(-(a * x ** 2 + b * x))"
   ]
  },
  {
   "cell_type": "code",
   "execution_count": 21,
   "id": "a1e02a45-62b1-4e99-a122-a384dbc54277",
   "metadata": {},
   "outputs": [],
   "source": [
    "atrue= 1\n",
    "btrue = 1\n",
    "ctrue = 10\n",
    "true_value = [atrue, btrue, ctrue]\n",
    "data0 = model([atrue, btrue, ctrue]) "
   ]
  },
  {
   "cell_type": "code",
   "execution_count": 16,
   "id": "830397a1-d0ee-43c5-8a04-18d1619055f6",
   "metadata": {},
   "outputs": [
    {
     "data": {
      "text/plain": [
       "<ErrorbarContainer object of 3 artists>"
      ]
     },
     "execution_count": 16,
     "metadata": {},
     "output_type": "execute_result"
    },
    {
     "data": {
      "image/png": "[encoded data removed]",
      "text/plain": [
       "<Figure size 432x288 with 1 Axes>"
      ]
     },
     "metadata": {
      "needs_background": "light"
     },
     "output_type": "display_data"
    }
   ],
   "source": [
    "plt.errorbar(x, data0, cov.diagonal()**.5)"
   ]
  },
  {
   "cell_type": "code",
   "execution_count": 17,
   "id": "fb8e583d-79cc-47bc-bb01-948f1b476b13",
   "metadata": {},
   "outputs": [],
   "source": [
    "sigma_coeff_var = np.linspace(.01, 1, 10)"
   ]
  },
  {
   "cell_type": "code",
   "execution_count": 18,
   "id": "d3514dad-0a2a-4b0f-8ead-f41834f0beca",
   "metadata": {},
   "outputs": [],
   "source": [
    "random = np.random.random(N_likelihoods)"
   ]
  },
  {
   "cell_type": "code",
   "execution_count": 20,
   "id": "6bdb1f11-4e67-44c7-b665-60cff5a4814a",
   "metadata": {},
   "outputs": [],
   "source": [
    "sys.path.append('/pbs/throng/lsst/users/cpayerne/LikelihoodsClusterAbundance/modules/')\n",
    "import forecast"
   ]
  },
  {
   "cell_type": "code",
   "execution_count": null,
   "id": "c748174f-794a-4001-b1b5-baac94a6c26c",
   "metadata": {},
   "outputs": [],
   "source": [
    "d_model=forecast.first_derivative(true_value, model, model(true_value).shape, delta = 1e-5)"
   ]
  }
 ],
 "metadata": {
  "kernelspec": {
   "display_name": "mydesc",
   "language": "python",
   "name": "mydesc"
  },
  "language_info": {
   "codemirror_mode": {
    "name": "ipython",
    "version": 3
   },
   "file_extension": ".py",
   "mimetype": "text/x-python",
   "name": "python",
   "nbconvert_exporter": "python",
   "pygments_lexer": "ipython3",
   "version": "3.7.6"
  }
 },
 "nbformat": 4,
 "nbformat_minor": 5
}
