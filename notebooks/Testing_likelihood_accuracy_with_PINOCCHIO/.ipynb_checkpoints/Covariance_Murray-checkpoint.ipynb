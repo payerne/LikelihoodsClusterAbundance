{
 "cells": [
  {
   "cell_type": "code",
   "execution_count": 1,
   "id": "fbc30760-32a2-420e-9f82-52c3d635a591",
   "metadata": {},
   "outputs": [],
   "source": [
    "import numpy as np\n",
    "import sys\n",
    "import glob\n",
    "import pickle\n",
    "import pandas as pd\n",
    "import pyccl as ccl\n",
    "from mpl_toolkits import axes_grid1\n",
    "import matplotlib.pyplot as plt"
   ]
  },
  {
   "cell_type": "code",
   "execution_count": 33,
   "id": "f5c7bcbb-0241-47a3-8199-36f798178d62",
   "metadata": {},
   "outputs": [
    {
     "name": "stdout",
     "output_type": "stream",
     "text": [
      "The autoreload extension is already loaded. To reload it, use:\n",
      "  %reload_ext autoreload\n"
     ]
    }
   ],
   "source": [
    "%load_ext autoreload\n",
    "%autoreload 2\n",
    "sys.path.append('../modules/')\n",
    "import abundance as cl_count\n",
    "import covariance as covar\n",
    "def binning(corner): return [[corner[i],corner[i+1]] for i in range(len(corner)-1)]"
   ]
  },
  {
   "cell_type": "code",
   "execution_count": 34,
   "id": "17bfb831-919d-491d-ad6a-fe34a92b9db7",
   "metadata": {},
   "outputs": [],
   "source": [
    "sys.path.append('/pbs/throng/lsst/users/cpayerne/PySSC/')\n",
    "import PySSC"
   ]
  },
  {
   "cell_type": "code",
   "execution_count": 65,
   "id": "ec13044b-81ba-4af2-a253-07f920015c3d",
   "metadata": {},
   "outputs": [],
   "source": [
    "n_logm_bin =10\n",
    "n_z_bin =4\n",
    "logm_corner = np.linspace(11, 13, n_logm_bin + 1)\n",
    "logMass_bin = binning(logm_corner)\n",
    "z_corner = np.linspace(0.001,2, n_z_bin + 1)\n",
    "Z_bin = binning(z_corner)"
   ]
  },
  {
   "cell_type": "markdown",
   "id": "cadd03ca-cc24-4ef7-867b-c30b057cf205",
   "metadata": {},
   "source": [
    "# Covariance Matrix Prediction (CCL + PySSC from F.Lacasa et al.)"
   ]
  },
  {
   "cell_type": "markdown",
   "id": "42b3af43-f718-4d3c-af3d-f6c0031b4478",
   "metadata": {},
   "source": [
    "## Fiducial cosmology (CCL)"
   ]
  },
  {
   "cell_type": "code",
   "execution_count": 66,
   "id": "8706a54a-b048-4d13-817d-20012c22ab79",
   "metadata": {},
   "outputs": [],
   "source": [
    "Omega_c_true = 0.30711 - 0.048254\n",
    "Omega_b_true = 0.048254\n",
    "sigma8_true = .8288\n",
    "Omegam_true = 0.30711\n",
    "True_value = [Omega_c_true + Omega_b_true, sigma8_true]\n",
    "cosmo = ccl.Cosmology(Omega_c = Omega_c_true, Omega_b = Omega_b_true, h = 0.6777, sigma8 = sigma8_true, n_s=0.96)"
   ]
  },
  {
   "cell_type": "markdown",
   "id": "bc20ea66-dd6a-463f-a19b-f77a16825f95",
   "metadata": {},
   "source": [
    "## Abundance (CCL)"
   ]
  },
  {
   "cell_type": "code",
   "execution_count": 80,
   "id": "cc7466ce-8e95-4714-bab4-c74fd1294fcd",
   "metadata": {},
   "outputs": [
    {
     "data": {
      "text/plain": [
       "41252.96124941927"
      ]
     },
     "execution_count": 80,
     "metadata": {},
     "output_type": "execute_result"
    }
   ],
   "source": [
    "(360**2/np.pi)"
   ]
  },
  {
   "cell_type": "code",
   "execution_count": 67,
   "id": "a62a29eb-f843-4a97-be80-90ef428541b3",
   "metadata": {},
   "outputs": [],
   "source": [
    "clc = cl_count.ClusterAbundance()\n",
    "#choose the halo mass function and mass definition\n",
    "massdef = ccl.halos.massdef.MassDef('vir', 'critical', c_m_relation=None)\n",
    "hmd = ccl.halos.hmfunc.MassFuncDespali16(cosmo, mass_def=massdef)\n",
    "halobias = ccl.halos.hbias.HaloBiasTinker10(cosmo, mass_def= massdef, mass_def_strict=True)\n",
    "clc.set_cosmology(cosmo = cosmo, hmd = hmd, massdef = massdef)\n",
    "clc.sky_area = (1400/(360**2/np.pi)) * 4 * np.pi\n",
    "clc.f_sky = clc.sky_area/(4*np.pi)\n",
    "z_grid = np.linspace(0.0001, 2.01, 2000)\n",
    "logm_grid = np.linspace(10.99, 13.001, 2001)\n",
    "clc.compute_multiplicity_grid_MZ(z_grid = z_grid, logm_grid = logm_grid)\n",
    "Abundance = clc.Cluster_Abundance_MZ(Redshift_bin = Z_bin, Proxy_bin = logMass_bin, method = 'simps')\n",
    "clc.compute_halo_bias_grid_MZ(z_grid = z_corner, logm_grid = logm_corner, halobiais = halobias)\n",
    "NHalo_bias = clc.Nhalo_bias_MZ(Redshift_bin = Z_bin, Proxy_bin = logMass_bin, method = 'simps')"
   ]
  },
  {
   "cell_type": "markdown",
   "id": "7492aa13-eac4-490a-b050-3feda9d887b0",
   "metadata": {},
   "source": [
    "## Matter amplitude fluctuation (PySSC)"
   ]
  },
  {
   "cell_type": "code",
   "execution_count": 68,
   "id": "85868fb0-9e34-4464-a929-debc6b811fc6",
   "metadata": {},
   "outputs": [],
   "source": [
    "Covariance = covar.Covariance_matrix()\n",
    "#use PySSC from Lacasa et al.\n",
    "Sij = Covariance.matter_fluctuation_amplitude_fullsky(Z_bin)"
   ]
  },
  {
   "cell_type": "markdown",
   "id": "aa5248a8-2ddc-4048-b319-14d57a81984b",
   "metadata": {},
   "source": [
    "## Sample covariance (CCL + pySSC)"
   ]
  },
  {
   "cell_type": "code",
   "execution_count": 69,
   "id": "cbc6edd4-bf69-42f2-801e-80c5c8d7975c",
   "metadata": {},
   "outputs": [
    {
     "name": "stdout",
     "output_type": "stream",
     "text": [
      "top\n"
     ]
    }
   ],
   "source": [
    "Sample_covariance = Covariance.sample_covariance_full_sky(Z_bin, logMass_bin, NHalo_bias, Sij)/clc.f_sky"
   ]
  },
  {
   "cell_type": "code",
   "execution_count": 76,
   "id": "1a59e36a-73a3-43df-9d21-96fe043707cb",
   "metadata": {},
   "outputs": [],
   "source": [
    "Covariance_prediction = Sample_covariance + np.diag(Abundance.flatten())"
   ]
  },
  {
   "cell_type": "code",
   "execution_count": 84,
   "id": "ed1062f9-bbc9-4e59-924f-b8080403bb72",
   "metadata": {},
   "outputs": [],
   "source": [
    "t = {}\n",
    "t['Log10MASS BINS'] = logMass_bin\n",
    "t['REDSHIFT BINS'] = Z_bin\n",
    "t['SAMPLE COVARIANCE'] = Sample_covariance\n",
    "t['ABUNDANCE'] = Abundance\n",
    "t['FULL COVARIANCE'] = Covariance_prediction"
   ]
  },
  {
   "cell_type": "code",
   "execution_count": 86,
   "id": "8d39a8ac-e18c-4614-820f-baf68942ef4f",
   "metadata": {},
   "outputs": [],
   "source": [
    "\n",
    "def save_pickle(dat, filename, **kwargs):\n",
    "    file = open(filename,'wb')\n",
    "    pickle.dump(dat, file)\n",
    "    file.close()"
   ]
  },
  {
   "cell_type": "code",
   "execution_count": 87,
   "id": "b8249108-dab2-476a-beb9-34bad8153760",
   "metadata": {},
   "outputs": [],
   "source": [
    "save_pickle(t, 'covariance_Murray.pkl')"
   ]
  },
  {
   "cell_type": "code",
   "execution_count": 77,
   "id": "37a000a3-ae34-4246-8187-8a91fd803bef",
   "metadata": {},
   "outputs": [],
   "source": [
    "def corr(C1, C2):\n",
    "    res=np.zeros([C1.shape[0],C1.shape[1]])\n",
    "    for i in range(C1.shape[0]):\n",
    "        for j in range(C1.shape[0]):\n",
    "            res[i,j]=C1[i,j]/np.sqrt(C2[i,i]*C2[j,j])\n",
    "    return res"
   ]
  },
  {
   "cell_type": "code",
   "execution_count": 78,
   "id": "163a51ce-cb32-4733-86cc-99f4140ac6e5",
   "metadata": {},
   "outputs": [],
   "source": [
    "c1=corr(Covariance_prediction-np.diag(Abundance.flatten()), \n",
    "                np.diag(Abundance.flatten()))\n",
    "plot=np.zeros([c1.shape[0], c1.shape[1]])\n",
    "for i in range(c1.shape[0]):\n",
    "    for j in range(c1.shape[1]):\n",
    "        #if i >= j:\n",
    "        #    plot[i,j]=Covariance_estimation[i,j]/np.sqrt(Covariance_estimation[i,i]*Covariance_estimation[j,j])\n",
    "        plot[i,j]=Covariance_prediction[i,j]/np.sqrt(Covariance_prediction[i,i]*Covariance_prediction[j,j])"
   ]
  },
  {
   "cell_type": "code",
   "execution_count": 79,
   "id": "6809104b-63c9-415f-8563-aec6374fbabb",
   "metadata": {},
   "outputs": [
    {
     "data": {
      "image/png": "[encoded data removed]",
      "text/plain": [
       "<Figure size 720x720 with 2 Axes>"
      ]
     },
     "metadata": {
      "needs_background": "light"
     },
     "output_type": "display_data"
    }
   ],
   "source": [
    "plt.figure(figsize=(10,10))\n",
    "plt.rcParams['axes.linewidth']= 1\n",
    "plt.tick_params(axis='both', which = 'major', labelsize= 15)\n",
    "im=plt.imshow(Covariance_prediction, \n",
    "           #vmin=-1, vmax=1, \n",
    "           cmap='rainbow', )\n",
    "              #origin='lower')\n",
    "x = np.arange(len(Sample_covariance[:,1]))\n",
    "#plt.plot(x,x,'k')\n",
    "z_ticks = [f'{z:.2f}' for z in z_corner]\n",
    "index = np.arange((len(Z_bin))*(len(logMass_bin)))\n",
    "index_split = np.split(index, len(Z_bin))\n",
    "ticks = [index_split[i][0] for i in range(len(Z_bin))]\n",
    "ticks.append(len(Z_bin)*len(logMass_bin) - 1)\n",
    "plt.xticks(ticks=ticks, labels=z_ticks)\n",
    "plt.yticks(ticks=ticks, labels=z_ticks)\n",
    "plt.xlabel('redshift', fontsize = 20)\n",
    "plt.ylabel('redshift', fontsize = 20)\n",
    "plt.grid(True, which='minor')\n",
    "plt.grid(True, which='minor')\n",
    "#fig.colorbar(im,)\n",
    "plt.colorbar()\n",
    "plt.savefig('cov_calum.pdf', bbox_inches='tight', dpi=300)"
   ]
  },
  {
   "cell_type": "code",
   "execution_count": 74,
   "id": "a5f79d92-9fdc-40b5-adec-eae9867af745",
   "metadata": {},
   "outputs": [
    {
     "ename": "NameError",
     "evalue": "name 'count_mean' is not defined",
     "output_type": "error",
     "traceback": [
      "\u001b[0;31m---------------------------------------------------------------------------\u001b[0m",
      "\u001b[0;31mNameError\u001b[0m                                 Traceback (most recent call last)",
      "\u001b[0;32m<ipython-input-74-d54022e91469>\u001b[0m in \u001b[0;36m<module>\u001b[0;34m\u001b[0m\n\u001b[1;32m      1\u001b[0m \u001b[0mbeta\u001b[0m \u001b[0;34m=\u001b[0m \u001b[0;34m(\u001b[0m\u001b[0;36m1000\u001b[0m\u001b[0;34m-\u001b[0m\u001b[0;36m20\u001b[0m\u001b[0;34m*\u001b[0m\u001b[0;36m30\u001b[0m\u001b[0;34m-\u001b[0m\u001b[0;36m2\u001b[0m\u001b[0;34m)\u001b[0m\u001b[0;34m/\u001b[0m\u001b[0;34m(\u001b[0m\u001b[0;36m1000\u001b[0m\u001b[0;34m-\u001b[0m\u001b[0;36m1\u001b[0m\u001b[0;34m)\u001b[0m\u001b[0;34m\u001b[0m\u001b[0;34m\u001b[0m\u001b[0m\n\u001b[0;32m----> 2\u001b[0;31m \u001b[0mplt\u001b[0m\u001b[0;34m.\u001b[0m\u001b[0mplot\u001b[0m\u001b[0;34m(\u001b[0m\u001b[0mcount_mean\u001b[0m\u001b[0;34m.\u001b[0m\u001b[0mflatten\u001b[0m\u001b[0;34m(\u001b[0m\u001b[0;34m)\u001b[0m\u001b[0;34m,\u001b[0m \u001b[0;36m100\u001b[0m\u001b[0;34m*\u001b[0m\u001b[0;34m(\u001b[0m\u001b[0mCovariance_estimation\u001b[0m\u001b[0;34m.\u001b[0m\u001b[0mdiagonal\u001b[0m\u001b[0;34m(\u001b[0m\u001b[0;34m)\u001b[0m\u001b[0;34m-\u001b[0m\u001b[0mCovariance_prediction\u001b[0m\u001b[0;34m.\u001b[0m\u001b[0mdiagonal\u001b[0m\u001b[0;34m(\u001b[0m\u001b[0;34m)\u001b[0m\u001b[0;34m)\u001b[0m\u001b[0;34m/\u001b[0m\u001b[0mCovariance_prediction\u001b[0m\u001b[0;34m.\u001b[0m\u001b[0mdiagonal\u001b[0m\u001b[0;34m(\u001b[0m\u001b[0;34m)\u001b[0m\u001b[0;34m,\u001b[0m \u001b[0;34m'xk'\u001b[0m\u001b[0;34m)\u001b[0m\u001b[0;34m\u001b[0m\u001b[0;34m\u001b[0m\u001b[0m\n\u001b[0m\u001b[1;32m      3\u001b[0m \u001b[0;31m#plt.plot(count_mean.flatten(), 0*(Covariance_estimation.diagonal()-Covariance_prediction.diagonal())/Covariance_prediction.diagonal(), '-k', linewidth=1)\u001b[0m\u001b[0;34m\u001b[0m\u001b[0;34m\u001b[0m\u001b[0;34m\u001b[0m\u001b[0m\n\u001b[1;32m      4\u001b[0m \u001b[0mplt\u001b[0m\u001b[0;34m.\u001b[0m\u001b[0mxscale\u001b[0m\u001b[0;34m(\u001b[0m\u001b[0;34m'log'\u001b[0m\u001b[0;34m)\u001b[0m\u001b[0;34m\u001b[0m\u001b[0;34m\u001b[0m\u001b[0m\n\u001b[1;32m      5\u001b[0m \u001b[0mplt\u001b[0m\u001b[0;34m.\u001b[0m\u001b[0mxlabel\u001b[0m\u001b[0;34m(\u001b[0m\u001b[0;34m'N'\u001b[0m\u001b[0;34m,\u001b[0m \u001b[0mfontsize\u001b[0m\u001b[0;34m=\u001b[0m\u001b[0;36m20\u001b[0m\u001b[0;34m)\u001b[0m\u001b[0;34m\u001b[0m\u001b[0;34m\u001b[0m\u001b[0m\n",
      "\u001b[0;31mNameError\u001b[0m: name 'count_mean' is not defined"
     ]
    }
   ],
   "source": [
    "beta = (1000-20*30-2)/(1000-1)\n",
    "plt.plot(count_mean.flatten(), 100*(Covariance_estimation.diagonal()-Covariance_prediction.diagonal())/Covariance_prediction.diagonal(), 'xk')\n",
    "#plt.plot(count_mean.flatten(), 0*(Covariance_estimation.diagonal()-Covariance_prediction.diagonal())/Covariance_prediction.diagonal(), '-k', linewidth=1)\n",
    "plt.xscale('log')\n",
    "plt.xlabel('N', fontsize=20)\n",
    "plt.ylabel('|bias| (%)', fontsize=20)\n",
    "#plt.savefig('bias_sigma.pdf', bbox_inches='tight', dpi=300)"
   ]
  },
  {
   "cell_type": "code",
   "execution_count": null,
   "id": "28a27af4-b12d-40ae-9603-ca27efe8da26",
   "metadata": {},
   "outputs": [],
   "source": []
  },
  {
   "cell_type": "code",
   "execution_count": null,
   "id": "557c5532-141e-46e0-a44d-528d28b4b986",
   "metadata": {},
   "outputs": [],
   "source": []
  },
  {
   "cell_type": "code",
   "execution_count": null,
   "id": "5229dc73-7d0b-4396-9e9e-031b870c15e6",
   "metadata": {},
   "outputs": [],
   "source": []
  },
  {
   "cell_type": "code",
   "execution_count": null,
   "id": "758953c8-ccdc-481c-acc5-8a3ff40f0750",
   "metadata": {},
   "outputs": [],
   "source": []
  },
  {
   "cell_type": "code",
   "execution_count": null,
   "id": "290312df-8925-40ef-905b-148f6e584c02",
   "metadata": {},
   "outputs": [],
   "source": []
  }
 ],
 "metadata": {
  "kernelspec": {
   "display_name": "mydesc",
   "language": "python",
   "name": "mydesc"
  },
  "language_info": {
   "codemirror_mode": {
    "name": "ipython",
    "version": 3
   },
   "file_extension": ".py",
   "mimetype": "text/x-python",
   "name": "python",
   "nbconvert_exporter": "python",
   "pygments_lexer": "ipython3",
   "version": "3.7.6"
  }
 },
 "nbformat": 4,
 "nbformat_minor": 5
}
