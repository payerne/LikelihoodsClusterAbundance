{
 "cells": [
  {
   "cell_type": "code",
   "execution_count": 30,
   "id": "384899d3-0787-4448-8235-edfecf84cb6b",
   "metadata": {},
   "outputs": [],
   "source": [
    "%load_ext autoreload\n",
    "%autoreload 2\n",
    "import numpy as np\n",
    "import sys, time, glob\n",
    "import pyccl as ccl\n",
    "import matplotlib.pyplot as plt\n",
    "def binning(corner): return [[corner[i],corner[i+1]] for i in range(len(corner)-1)]\n",
    "from astropy.table import Table\n",
    "sys.path.append('/pbs/throng/lsst/users/cpayerne/LikelihoodsClusterAbundance/modules/')\n",
    "import importance_sampling as Oms8\n",
    "import abundance as cl_count\n",
    "import covariance as covar\n",
    "import mvp_pdf\n",
    "import edit\n",
    "import utils\n",
    "from lnlikelihood import lnLikelihood"
   ]
  },
  {
   "cell_type": "code",
   "execution_count": 31,
   "id": "972eb884-27cf-459c-b4b1-9348ec606ea2",
   "metadata": {},
   "outputs": [],
   "source": [
    "n_z_bin=100\n",
    "n_logm_bin=100\n",
    "ratio_f_sky=1\n",
    "label= 'sup_5e14Msun'\n",
    "dat=edit.load_pickle(f'/sps/lsst/users/cpayerne/1000xsimulations/analysis/binned_catalogs/{n_z_bin}x{n_logm_bin}_binned_catalogs_'+label+'.pkl')\n",
    "Nobs = dat[3]\n",
    "#Covariances\n",
    "where_covar='/pbs/throng/lsst/users/cpayerne/ClusterLikelihoods_data/Covariances/'\n",
    "S_ij = edit.load_pickle(where_covar+label+f'_Sij_partialsky_blockdiagonal_{n_z_bin}x{n_logm_bin}.pickle')\n",
    "full_covariance = edit.load_pickle(where_covar+label+f'_Covariance_cluster_abudance_{n_z_bin}x{n_logm_bin}.pickle') \n",
    "Cholesky=np.linalg.cholesky(full_covariance * ratio_f_sky)\n",
    "inv_L = np.linalg.inv(Cholesky)\n",
    "inv_full_cov = np.linalg.inv(full_covariance)\n",
    "Halo_bias=edit.load_pickle(where_covar+label+f'_Halo_bias_{n_z_bin}x{n_logm_bin}.pickle') \n",
    "theory={'S_ij':(1./ratio_f_sky)*S_ij, \n",
    "        'inv_full_covariance': (1./ratio_f_sky)*inv_full_cov, \n",
    "        'Halo_bias':Halo_bias, \n",
    "        'inv_L': inv_L}\n",
    "\n",
    "#tabulated_model-in a single array\n",
    "where_tab=f'/sps/lsst/users/cpayerne/1000xsimulations/analysis/'\n",
    "key=f'{n_z_bin}zx{n_logm_bin}m/tabulated_model'+'_'+label+f'/{n_z_bin}x{n_logm_bin}_sampled_abundance_' \n",
    "where=where_tab+key+'*'\n",
    "Nth, Om, s8, q_val=[],[],[],[]\n",
    "file=glob.glob(where)"
   ]
  },
  {
   "cell_type": "code",
   "execution_count": 32,
   "id": "01feb657-dd7f-4694-a4c1-4aa238c37fb6",
   "metadata": {},
   "outputs": [],
   "source": [
    "for f in np.array(file)[10:20]:\n",
    "    sampled_model=np.array(edit.load_pickle(f))\n",
    "    q=sampled_model['q']\n",
    "    Nth.extend(ratio_f_sky * sampled_model['abundance'])\n",
    "    q_val.extend(list(sampled_model['q']))\n",
    "    Om.extend(list(sampled_model['Om']))\n",
    "    s8.extend(list(sampled_model['s8']))"
   ]
  },
  {
   "cell_type": "code",
   "execution_count": 40,
   "id": "55fd9645-03ab-48d8-8621-4b0717c34275",
   "metadata": {},
   "outputs": [],
   "source": [
    "likelihood = 'GaussianCholesky'"
   ]
  },
  {
   "cell_type": "code",
   "execution_count": 45,
   "id": "da43c049-de08-4535-80ff-3d1dc2b45b84",
   "metadata": {},
   "outputs": [
    {
     "name": "stdout",
     "output_type": "stream",
     "text": [
      "computing\n",
      "[-4829.16298384 -4807.52123542 -4793.6809894  -4793.20691493\n",
      " -4802.10968527 -4799.14457463 -4798.70812834 -4813.13304582\n",
      " -4798.11886982 -4789.96992612 -4805.50278346 -4790.51820138\n",
      " -4792.37697212 -4798.79016323 -4798.12060103 -4810.09258729\n",
      " -4795.89157255 -4790.2349373  -4798.40415146 -4822.75270294\n",
      " -4791.67634042 -4793.33721735 -4808.35799421 -4799.80906666\n",
      " -4801.3419842  -4811.5467737  -4801.45627535 -4801.61183968\n",
      " -4789.71897469 -4801.39633334 -4793.07581978 -4799.50574308\n",
      " -4801.30344372 -4818.75067752 -4791.54687015 -4788.7150595\n",
      " -4791.16448469 -4795.91998227 -4805.32259195 -4792.94711334\n",
      " -4801.99756094 -4794.57613766 -4806.58570739 -4794.7061559\n",
      " -4789.28998477 -4798.19726467 -4801.38281087 -4892.99454001\n",
      " -4802.96995872 -4800.00093407 -4796.21482017 -4816.1139275\n",
      " -4794.19135586 -4789.99181234 -4801.61744599 -4797.21122672\n",
      " -4886.93637906 -4811.16257934 -4792.45356424 -4794.16638845\n",
      " -4793.48029551 -4803.15423457 -4803.75668424 -4793.54033393\n",
      " -4877.14651818 -4793.86905543 -4788.87993173 -4794.80262887\n",
      " -4795.18029627 -4837.50839571 -4802.67317423 -4855.14883247\n",
      " -4809.98373734 -4801.88604101 -4790.82427075 -4821.58416007\n",
      " -4839.56615965 -4802.55377333 -4790.89569332 -4903.39555296\n",
      " -4815.03399079 -4789.739467   -4796.07336967 -4813.58898699\n",
      " -4817.70670727 -4808.63865993 -4825.1050426  -4797.00300544\n",
      " -4850.03727281 -4801.56369483 -4795.28838997 -4799.46382436\n",
      " -4793.86878115 -4800.74280118 -4835.98134167 -4803.45006709\n",
      " -4789.35019781 -4802.20195188 -4797.30750863 -4799.52001349]\n",
      "0\n"
     ]
    },
    {
     "data": {
      "text/plain": [
       "array([0.31245275599405686, 0.828136200942863,\n",
       "       array([[ 6.76844928e-05, -2.05853199e-05],\n",
       "              [-2.05853199e-05,  7.71045756e-06]])], dtype=object)"
      ]
     },
     "execution_count": 45,
     "metadata": {},
     "output_type": "execute_result"
    }
   ],
   "source": [
    "lnL=lnLikelihood(theory=theory)\n",
    "def lnposterior(model, data):\n",
    "    #define the posterior\n",
    "    return lnL.lnPosterior(model, data, likelihood=likelihood)\n",
    "\n",
    "t = Table()\n",
    "def iter(n): return Oms8.compute_mean_covariance_importance_sampling(lnposterior, Nobs[n], Nth[0:100], \n",
    "                                                                     Om=Om[0:100], s8=s8[0:100], \n",
    "                                                                     q_val=q_val[0:100], \n",
    "                                                                     mp=False, browse=False)\n",
    "print('computing')\n",
    "iter(0)"
   ]
  },
  {
   "cell_type": "code",
   "execution_count": 29,
   "id": "20d8f9f1-58a3-44ec-840a-e8d97c5d03ec",
   "metadata": {},
   "outputs": [
    {
     "name": "stdout",
     "output_type": "stream",
     "text": [
      "100\n"
     ]
    },
    {
     "ename": "TypeError",
     "evalue": "unsupported operand type(s) for -: 'NoneType' and 'float'",
     "output_type": "error",
     "traceback": [
      "\u001b[0;31m---------------------------------------------------------------------------\u001b[0m",
      "\u001b[0;31mTypeError\u001b[0m                                 Traceback (most recent call last)",
      "\u001b[0;32m<ipython-input-29-caefb004292c>\u001b[0m in \u001b[0;36m<module>\u001b[0;34m\u001b[0m\n\u001b[0;32m----> 1\u001b[0;31m \u001b[0miter\u001b[0m\u001b[0;34m(\u001b[0m\u001b[0;36m0\u001b[0m\u001b[0;34m)\u001b[0m\u001b[0;34m\u001b[0m\u001b[0;34m\u001b[0m\u001b[0m\n\u001b[0m",
      "\u001b[0;32m<ipython-input-28-e576ba9edb33>\u001b[0m in \u001b[0;36miter\u001b[0;34m(n)\u001b[0m\n\u001b[1;32m      8\u001b[0m                                                                      \u001b[0mOm\u001b[0m\u001b[0;34m=\u001b[0m\u001b[0mOm\u001b[0m\u001b[0;34m[\u001b[0m\u001b[0;36m0\u001b[0m\u001b[0;34m:\u001b[0m\u001b[0;36m100\u001b[0m\u001b[0;34m]\u001b[0m\u001b[0;34m,\u001b[0m \u001b[0ms8\u001b[0m\u001b[0;34m=\u001b[0m\u001b[0ms8\u001b[0m\u001b[0;34m[\u001b[0m\u001b[0;36m0\u001b[0m\u001b[0;34m:\u001b[0m\u001b[0;36m100\u001b[0m\u001b[0;34m]\u001b[0m\u001b[0;34m,\u001b[0m\u001b[0;34m\u001b[0m\u001b[0;34m\u001b[0m\u001b[0m\n\u001b[1;32m      9\u001b[0m                                                                      \u001b[0mq_val\u001b[0m\u001b[0;34m=\u001b[0m\u001b[0mq_val\u001b[0m\u001b[0;34m[\u001b[0m\u001b[0;36m0\u001b[0m\u001b[0;34m:\u001b[0m\u001b[0;36m100\u001b[0m\u001b[0;34m]\u001b[0m\u001b[0;34m,\u001b[0m\u001b[0;34m\u001b[0m\u001b[0;34m\u001b[0m\u001b[0m\n\u001b[0;32m---> 10\u001b[0;31m                                                                      mp=False, browse=False)\n\u001b[0m\u001b[1;32m     11\u001b[0m \u001b[0mprint\u001b[0m\u001b[0;34m(\u001b[0m\u001b[0;34m'computing'\u001b[0m\u001b[0;34m)\u001b[0m\u001b[0;34m\u001b[0m\u001b[0;34m\u001b[0m\u001b[0m\n",
      "\u001b[0;32m/pbs/throng/lsst/users/cpayerne/LikelihoodsClusterAbundance/modules/importance_sampling.py\u001b[0m in \u001b[0;36mcompute_mean_covariance_importance_sampling\u001b[0;34m(lnposterior, Nobs, Nth, Om, s8, q_val, mp, browse)\u001b[0m\n\u001b[1;32m    128\u001b[0m         \u001b[0mprint\u001b[0m\u001b[0;34m(\u001b[0m\u001b[0mlnp\u001b[0m\u001b[0;34m)\u001b[0m\u001b[0;34m\u001b[0m\u001b[0;34m\u001b[0m\u001b[0m\n\u001b[1;32m    129\u001b[0m         \u001b[0mmask_none\u001b[0m \u001b[0;34m=\u001b[0m \u001b[0mlnp\u001b[0m\u001b[0;34m==\u001b[0m\u001b[0;32mNone\u001b[0m\u001b[0;34m\u001b[0m\u001b[0;34m\u001b[0m\u001b[0m\n\u001b[0;32m--> 130\u001b[0;31m         \u001b[0mprint\u001b[0m\u001b[0;34m(\u001b[0m\u001b[0mlen\u001b[0m\u001b[0;34m(\u001b[0m\u001b[0mmask_none\u001b[0m\u001b[0;34m[\u001b[0m\u001b[0mmask_none\u001b[0m\u001b[0;34m==\u001b[0m\u001b[0;32mTrue\u001b[0m\u001b[0;34m]\u001b[0m\u001b[0;34m)\u001b[0m\u001b[0;34m)\u001b[0m\u001b[0;34m\u001b[0m\u001b[0;34m\u001b[0m\u001b[0m\n\u001b[0m\u001b[1;32m    131\u001b[0m         \u001b[0mlnw\u001b[0m\u001b[0;34m=\u001b[0m\u001b[0mlnp\u001b[0m\u001b[0;34m-\u001b[0m\u001b[0mnp\u001b[0m\u001b[0;34m.\u001b[0m\u001b[0mlog\u001b[0m\u001b[0;34m(\u001b[0m\u001b[0mq_val\u001b[0m\u001b[0;34m)\u001b[0m\u001b[0;34m\u001b[0m\u001b[0;34m\u001b[0m\u001b[0m\n\u001b[1;32m    132\u001b[0m         \u001b[0mlnw_norm\u001b[0m \u001b[0;34m=\u001b[0m \u001b[0mlnw\u001b[0m\u001b[0;34m-\u001b[0m\u001b[0mnp\u001b[0m\u001b[0;34m.\u001b[0m\u001b[0mmedian\u001b[0m\u001b[0;34m(\u001b[0m\u001b[0mlnw\u001b[0m\u001b[0;34m)\u001b[0m\u001b[0;34m\u001b[0m\u001b[0;34m\u001b[0m\u001b[0m\n",
      "\u001b[0;31mTypeError\u001b[0m: unsupported operand type(s) for -: 'NoneType' and 'float'"
     ]
    }
   ],
   "source": [
    "iter(0)"
   ]
  },
  {
   "cell_type": "code",
   "execution_count": 7,
   "id": "63f9c536-1821-4b3d-8d04-726f0fb55af1",
   "metadata": {},
   "outputs": [
    {
     "ename": "NameError",
     "evalue": "name 'q_val_' is not defined",
     "output_type": "error",
     "traceback": [
      "\u001b[0;31m---------------------------------------------------------------------------\u001b[0m",
      "\u001b[0;31mNameError\u001b[0m                                 Traceback (most recent call last)",
      "\u001b[0;32m<ipython-input-7-c3568e37ffec>\u001b[0m in \u001b[0;36m<module>\u001b[0;34m\u001b[0m\n\u001b[0;32m----> 1\u001b[0;31m \u001b[0mmask\u001b[0m \u001b[0;34m=\u001b[0m \u001b[0mq_val_\u001b[0m\u001b[0;34m==\u001b[0m\u001b[0;32mNone\u001b[0m\u001b[0;34m\u001b[0m\u001b[0;34m\u001b[0m\u001b[0m\n\u001b[0m",
      "\u001b[0;31mNameError\u001b[0m: name 'q_val_' is not defined"
     ]
    }
   ],
   "source": [
    "mask = q_val_==None"
   ]
  },
  {
   "cell_type": "code",
   "execution_count": null,
   "id": "edb4b5ca-96ce-4741-bb1c-2b1da13ac76f",
   "metadata": {},
   "outputs": [],
   "source": [
    "mask"
   ]
  },
  {
   "cell_type": "code",
   "execution_count": null,
   "id": "6a436bcd-c5ee-4c0a-bfac-523166fbc7b5",
   "metadata": {},
   "outputs": [],
   "source": [
    "res = []\n",
    "n_max = 199\n",
    "for i, nth in enumerate(Nth):\n",
    "    if i > n_max: break\n",
    "    res.append(lnposterior(nth, dat[3][0]))"
   ]
  },
  {
   "cell_type": "code",
   "execution_count": null,
   "id": "7f1a05c0-2ec1-4147-a537-149a8fb402fa",
   "metadata": {},
   "outputs": [],
   "source": [
    "plt.hist(res)"
   ]
  },
  {
   "cell_type": "code",
   "execution_count": null,
   "id": "b194fb06-76de-4343-8e33-f1e8f972bcc2",
   "metadata": {},
   "outputs": [],
   "source": [
    "q_val_ = np.array(q_val)[np.arange(n_max+1)]"
   ]
  },
  {
   "cell_type": "code",
   "execution_count": null,
   "id": "9d6985a2-b088-4d01-b152-fc096decf275",
   "metadata": {},
   "outputs": [],
   "source": [
    "q_val_"
   ]
  },
  {
   "cell_type": "code",
   "execution_count": null,
   "id": "e094d63d-0a7d-461e-b1a9-2d1c7f977057",
   "metadata": {},
   "outputs": [],
   "source": [
    "plt.hist(q_val)"
   ]
  },
  {
   "cell_type": "code",
   "execution_count": null,
   "id": "6be71996-68f0-42fe-ab47-fcf2de3637fa",
   "metadata": {},
   "outputs": [],
   "source": [
    "len(q_val)"
   ]
  },
  {
   "cell_type": "code",
   "execution_count": null,
   "id": "f20146b1-1e10-4c07-bd70-1f964652cb31",
   "metadata": {},
   "outputs": [],
   "source": [
    "res = np.array(res)"
   ]
  },
  {
   "cell_type": "code",
   "execution_count": null,
   "id": "d405f563-460b-4ed2-9077-a789560c026d",
   "metadata": {},
   "outputs": [],
   "source": [
    "res1 = res-np.median(res)"
   ]
  },
  {
   "cell_type": "code",
   "execution_count": null,
   "id": "2194efe1-f680-4c11-b5d3-f7092afd2f18",
   "metadata": {},
   "outputs": [],
   "source": [
    "res_ratio = res - np.log(q_val_)"
   ]
  },
  {
   "cell_type": "code",
   "execution_count": null,
   "id": "3e59aab3-7e38-4904-8517-aaddd364326e",
   "metadata": {},
   "outputs": [],
   "source": [
    "res_ratio_norm = res_ratio - np.median(res_ratio)"
   ]
  },
  {
   "cell_type": "code",
   "execution_count": null,
   "id": "b585e896-1a96-451e-a5be-9ef0421cd62e",
   "metadata": {},
   "outputs": [],
   "source": [
    "res_ratio_norm"
   ]
  },
  {
   "cell_type": "code",
   "execution_count": null,
   "id": "62f3ac3b-2469-4ab7-bcc7-b553a686e4ae",
   "metadata": {},
   "outputs": [],
   "source": []
  }
 ],
 "metadata": {
  "kernelspec": {
   "display_name": "mydesc",
   "language": "python",
   "name": "mydesc"
  },
  "language_info": {
   "codemirror_mode": {
    "name": "ipython",
    "version": 3
   },
   "file_extension": ".py",
   "mimetype": "text/x-python",
   "name": "python",
   "nbconvert_exporter": "python",
   "pygments_lexer": "ipython3",
   "version": "3.7.6"
  }
 },
 "nbformat": 4,
 "nbformat_minor": 5
}
