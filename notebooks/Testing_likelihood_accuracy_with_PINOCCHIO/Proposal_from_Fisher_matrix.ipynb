{
 "cells": [
  {
   "cell_type": "code",
   "execution_count": 189,
   "id": "713c7006-40e5-4171-915e-37cf50db1f76",
   "metadata": {
    "tags": []
   },
   "outputs": [
    {
     "name": "stdout",
     "output_type": "stream",
     "text": [
      "The autoreload extension is already loaded. To reload it, use:\n",
      "  %reload_ext autoreload\n"
     ]
    }
   ],
   "source": [
    "import matplotlib.pyplot as plt\n",
    "import pickle\n",
    "import glob\n",
    "import sys\n",
    "import corner\n",
    "from scipy.stats import multivariate_normal\n",
    "import numpy as np\n",
    "from astropy.table import Table\n",
    "import math, scipy\n",
    "from scipy.interpolate import interp1d\n",
    "import pyccl as ccl\n",
    "%load_ext autoreload\n",
    "%autoreload 2\n",
    "sys.path.append('/pbs/throng/lsst/users/cpayerne/LikelihoodsClusterAbundance/modules/')\n",
    "import abundance as cl_count\n",
    "import forecast\n",
    "import edit\n",
    "import utils\n",
    "import importance_sampling as imp_samp\n",
    "from importance_sampling import Proposal\n",
    "import covariance as covar\n",
    "\n",
    "def binning(corner): return [[corner[i],corner[i+1]] for i in range(len(corner)-1)]\n",
    "\n",
    "def load(filename, **kwargs):\n",
    "    with open(filename, 'rb') as fin:\n",
    "        return pickle.load(fin, **kwargs)"
   ]
  },
  {
   "cell_type": "code",
   "execution_count": 158,
   "id": "4ff5f82d-3e41-48b5-89ba-b925c1d5b3fe",
   "metadata": {},
   "outputs": [
    {
     "data": {
      "text/plain": [
       "15.324282455297693"
      ]
     },
     "execution_count": 158,
     "metadata": {},
     "output_type": "execute_result"
    }
   ],
   "source": [
    "np.log10(2.11e15)"
   ]
  },
  {
   "cell_type": "code",
   "execution_count": 159,
   "id": "c9f75a7a-85d0-4afc-a6b3-1b6b98d36262",
   "metadata": {},
   "outputs": [],
   "source": [
    "Omega_c_true = 0.30711 - 0.048254\n",
    "Omega_b_true = 0.048254\n",
    "sigma8_true = .8288\n",
    "Omegam_true = 0.30711\n",
    "MLE = [Omega_c_true + Omega_b_true, sigma8_true]\n",
    "Om_true, s8_true = MLE\n",
    "cosmo = ccl.Cosmology(Omega_c = Omega_c_true, Omega_b = Omega_b_true, h = 0.6777, sigma8 = sigma8_true, n_s=0.96)"
   ]
  },
  {
   "cell_type": "markdown",
   "id": "7ab63646-40a5-4de4-a2c8-764b83123d34",
   "metadata": {},
   "source": [
    "# Compute Fisher Matrix"
   ]
  },
  {
   "cell_type": "code",
   "execution_count": 160,
   "id": "ba6ef13d-d69f-4b00-aab6-08e27117f4af",
   "metadata": {},
   "outputs": [],
   "source": [
    "n_logm_bin = 100\n",
    "n_z_bin = n_logm_bin\n",
    "logm_corner = np.linspace(np.log10(5e14), 15.6, n_logm_bin + 1)\n",
    "logMass_bin = binning(logm_corner)\n",
    "z_corner = np.linspace(0.2,1.2, n_z_bin + 1)\n",
    "Z_bin = binning(z_corner)"
   ]
  },
  {
   "cell_type": "code",
   "execution_count": 161,
   "id": "5c2c7d09-4967-4f50-a76e-1061753f76db",
   "metadata": {},
   "outputs": [
    {
     "name": "stdout",
     "output_type": "stream",
     "text": [
      "0.25\n"
     ]
    }
   ],
   "source": [
    "clc = cl_count.ClusterAbundance()\n",
    "#choose the halo mass function and mass definition\n",
    "massdef = ccl.halos.massdef.MassDef('vir', 'critical', c_m_relation=None)\n",
    "hmd = ccl.halos.hmfunc.MassFuncDespali16(cosmo, mass_def=massdef)\n",
    "halobias = ccl.halos.hbias.HaloBiasTinker10(cosmo, mass_def= massdef, mass_def_strict=True)\n",
    "clc.set_cosmology(cosmo = cosmo, hmd = hmd, massdef = massdef)\n",
    "clc.sky_area = (0.25) * 4 * np.pi \n",
    "clc.f_sky = clc.sky_area/(4*np.pi)\n",
    "print(clc.f_sky)\n",
    "z_grid = np.linspace(0., 2.1, 2000)\n",
    "logm_grid = np.linspace(14.1, 15.7, 2001)\n",
    "clc.compute_multiplicity_grid_MZ(z_grid = z_grid, logm_grid = logm_grid)\n",
    "Abundance = clc.Cluster_Abundance_MZ(Redshift_bin = Z_bin, Proxy_bin = logMass_bin, method = 'simps')\n",
    "clc.compute_halo_bias_grid_MZ(z_grid = z_corner, logm_grid = logm_corner, halobiais = halobias)\n",
    "NHalo_bias = clc.Nhalo_bias_MZ(Redshift_bin = Z_bin, Proxy_bin = logMass_bin, method = 'simps')"
   ]
  },
  {
   "cell_type": "code",
   "execution_count": 162,
   "id": "5b520c7a-7d4c-4044-b124-358d3dc64126",
   "metadata": {},
   "outputs": [
    {
     "data": {
      "text/plain": [
       "<matplotlib.colorbar.Colorbar at 0x7fb8dd343b90>"
      ]
     },
     "execution_count": 162,
     "metadata": {},
     "output_type": "execute_result"
    },
    {
     "data": {
      "image/png": "[encoded data removed]",
      "text/plain": [
       "<Figure size 432x288 with 2 Axes>"
      ]
     },
     "metadata": {
      "needs_background": "light"
     },
     "output_type": "display_data"
    }
   ],
   "source": [
    "plt.imshow(Abundance, cmap='gist_rainbow')\n",
    "plt.colorbar()"
   ]
  },
  {
   "cell_type": "code",
   "execution_count": 166,
   "id": "cb491252-da1b-44f0-a827-4d6251fd407e",
   "metadata": {},
   "outputs": [],
   "source": [
    "Halo_bias=NHalo_bias/Abundance"
   ]
  },
  {
   "cell_type": "code",
   "execution_count": 167,
   "id": "7deb00bd-d010-4b1b-931b-fa693cf0d267",
   "metadata": {},
   "outputs": [],
   "source": [
    "#Covariance = covar.Covariance_matrix()\n",
    "#use PySSC from Lacasa et al.\n",
    "#Sij = Covariance.matter_fluctuation_amplitude_fullsky(Z_bin)"
   ]
  },
  {
   "cell_type": "code",
   "execution_count": 168,
   "id": "a8a67fe1-7b42-4ee3-9889-269cbd3f1e32",
   "metadata": {},
   "outputs": [],
   "source": [
    "#Sample_covariance = Covariance.sample_covariance_full_sky(Z_bin, logMass_bin, NHalo_bias, Sij)/clc.f_sky"
   ]
  },
  {
   "cell_type": "code",
   "execution_count": 169,
   "id": "abfc4719-c918-447e-bf19-4d13c6f14fce",
   "metadata": {},
   "outputs": [],
   "source": [
    "#Sample_covariance.shape"
   ]
  },
  {
   "cell_type": "markdown",
   "id": "87b6b5f7-dfd2-4ff9-93a3-1f8e62abc519",
   "metadata": {},
   "source": [
    "## Covariance matrix"
   ]
  },
  {
   "cell_type": "code",
   "execution_count": 172,
   "id": "07b48b4b-33c7-402c-bc1c-5ef7524071c4",
   "metadata": {},
   "outputs": [],
   "source": [
    "#Covariance_prediction = Sample_covariance + np.diag(Abundance.flatten())\n",
    "Covariance_prediction = edit.load_pickle( '/pbs/throng/lsst/users/cpayerne/ClusterLikelihoods_data/Covariances/sup_5e14Msun_' + 'Covariance_cluster_abudance_100x100.pickle')"
   ]
  },
  {
   "cell_type": "code",
   "execution_count": 173,
   "id": "5343bbb7-bdc8-4371-b756-64d80b2daba8",
   "metadata": {},
   "outputs": [],
   "source": [
    "inv_cov = np.linalg.inv(Covariance_prediction)"
   ]
  },
  {
   "cell_type": "markdown",
   "id": "9bee24e5-a03e-452c-9588-e2ff98927cdb",
   "metadata": {},
   "source": [
    "## Define model"
   ]
  },
  {
   "cell_type": "code",
   "execution_count": 176,
   "id": "e57c870c-ffea-4e26-8f9a-7d51dccd4047",
   "metadata": {},
   "outputs": [],
   "source": [
    "def model(theta):\n",
    "    Om, s8 = theta\n",
    "    cosmox = ccl.Cosmology(Omega_c = Om-Omega_b_true, Omega_b = Omega_b_true, h = 0.6777, sigma8 = s8, n_s=0.96)\n",
    "    massdef = ccl.halos.massdef.MassDef('vir', 'critical', c_m_relation=None)\n",
    "    hmd = ccl.halos.hmfunc.MassFuncDespali16(cosmox, mass_def=massdef)\n",
    "    clc.set_cosmology(cosmo = cosmox, hmd = hmd, massdef = massdef)\n",
    "    clc.compute_multiplicity_grid_MZ(z_grid = z_grid, logm_grid = logm_grid)\n",
    "    return clc.Cluster_Abundance_MZ(Redshift_bin = Z_bin, Proxy_bin = logMass_bin, method = 'simps').flatten()"
   ]
  },
  {
   "cell_type": "code",
   "execution_count": 178,
   "id": "04b54350-6cdc-4b7d-a3c8-41fa495e28b7",
   "metadata": {},
   "outputs": [],
   "source": [
    "Forecast = forecast.Forecast()\n",
    "F = Forecast.Fisher_Matrix_Gaussian(MLE, model, inv_cov, delta = 1e-4)"
   ]
  },
  {
   "cell_type": "code",
   "execution_count": 179,
   "id": "60036a9c-86dc-4e3a-b6b7-3c4ea868d7b6",
   "metadata": {},
   "outputs": [],
   "source": [
    "cov = np.linalg.inv(F)"
   ]
  },
  {
   "cell_type": "markdown",
   "id": "561322eb-8ad3-4854-8524-f3115805060f",
   "metadata": {},
   "source": [
    "# Proposal"
   ]
  },
  {
   "cell_type": "markdown",
   "id": "e88183e8-3363-431a-aa27-3686f3ab074a",
   "metadata": {},
   "source": [
    "## Limits of proposal"
   ]
  },
  {
   "cell_type": "code",
   "execution_count": 180,
   "id": "8c845d4f-3899-4746-a95b-8defbb3f9712",
   "metadata": {},
   "outputs": [],
   "source": [
    "n = 6 * 2\n",
    "widthOm_macro = n * cov[0,0]**.5\n",
    "widths8_macro = n * cov[1,1]**.5"
   ]
  },
  {
   "cell_type": "code",
   "execution_count": 181,
   "id": "f5b78434-4a73-4f6e-95e1-c1cdd1db3f15",
   "metadata": {},
   "outputs": [],
   "source": [
    "std_Om = widthOm_macro\n",
    "std_s8 = widths8_macro\n",
    "Om_limit = [Om_true-std_Om/2, Om_true+std_Om/2]\n",
    "s8_limit = [s8_true-std_s8/2, s8_true+std_s8/2]"
   ]
  },
  {
   "cell_type": "code",
   "execution_count": 182,
   "id": "9c134de8-112e-4dc2-8964-66d700983f6d",
   "metadata": {},
   "outputs": [
    {
     "data": {
      "text/plain": [
       "[0.26453875554566353, 0.34968124445433646]"
      ]
     },
     "execution_count": 182,
     "metadata": {},
     "output_type": "execute_result"
    }
   ],
   "source": [
    "Om_limit"
   ]
  },
  {
   "cell_type": "code",
   "execution_count": 183,
   "id": "7f322645-9832-494b-8e24-f49476b6d2f4",
   "metadata": {},
   "outputs": [
    {
     "data": {
      "text/plain": [
       "[0.8132832125979196, 0.8443167874020804]"
      ]
     },
     "execution_count": 183,
     "metadata": {},
     "output_type": "execute_result"
    }
   ],
   "source": [
    "s8_limit"
   ]
  },
  {
   "cell_type": "markdown",
   "id": "472e962e-2f7f-4ef7-87a4-09370e7e824a",
   "metadata": {},
   "source": [
    "## Multi-variate gaussian"
   ]
  },
  {
   "cell_type": "code",
   "execution_count": 186,
   "id": "bc9d39d3-296c-4e31-a307-d3dfb06b6488",
   "metadata": {},
   "outputs": [],
   "source": [
    "q = Proposal(MLE, 6**2*cov, .9, 0.1, Om_limit, s8_limit,)"
   ]
  },
  {
   "cell_type": "code",
   "execution_count": 187,
   "id": "7893cf8a-a581-4e8c-bea6-b0f182de44e7",
   "metadata": {},
   "outputs": [
    {
     "data": {
      "text/plain": [
       "{'gaussian': 0.5724039639179882, 'uniform': 0.0026422757985597326}"
      ]
     },
     "execution_count": 187,
     "metadata": {},
     "output_type": "execute_result"
    }
   ],
   "source": [
    "q.norm"
   ]
  },
  {
   "cell_type": "markdown",
   "id": "806a4a67-b728-4d38-9e25-587e2296d4bb",
   "metadata": {},
   "source": [
    "## Random samples $X \\sim q$"
   ]
  },
  {
   "cell_type": "code",
   "execution_count": 190,
   "id": "0ace5f05-e47d-4070-ac03-58355726edf5",
   "metadata": {},
   "outputs": [
    {
     "name": "stdout",
     "output_type": "stream",
     "text": [
      "acceptance = 0.5215123859191656\n"
     ]
    }
   ],
   "source": [
    "qmax = q.q(MLE)\n",
    "rand, q_val = imp_samp.compute_position_from_distribution(ndim = 2, pdf = q.q, pdf_max = qmax, N_points = 10000, limits = [Om_limit, s8_limit])"
   ]
  },
  {
   "cell_type": "code",
   "execution_count": 191,
   "id": "0427c34a-831d-4cca-9191-4d6ccb1f68e9",
   "metadata": {},
   "outputs": [
    {
     "data": {
      "image/png": "[encoded data removed]",
      "text/plain": [
       "<Figure size 720x720 with 1 Axes>"
      ]
     },
     "metadata": {
      "needs_background": "light"
     },
     "output_type": "display_data"
    }
   ],
   "source": [
    "fig, ax = plt.subplots(2,2, figsize = (10,10))\n",
    "sigma1 = 1. - np.exp(-(1./1.)**2/2.)\n",
    "sigma2 = 1. - np.exp(-(2./1.)**2/2.)\n",
    "sigma3 = 1. - np.exp(-(3./1.)**2/2.)\n",
    "x = np.linspace(0.295, 0.319, 100)\n",
    "ax[1,0].plot(x, q.mean_s8(x), 'k')\n",
    "ax[1,0].scatter(rand[:,0], rand[:,1], s = 1, c = 'cyan', marker = 's')\n",
    "pos2d = [rand[:,0], rand[:,1]]\n",
    "binsx = np.linspace(Om_limit[0], Om_limit[1], 20)\n",
    "binsy = np.linspace(s8_limit[0], s8_limit[1], 20)\n",
    "#utils._plot_contours(ax, pos2d, binsx = binsx, binsy = binsy)\n",
    "utils._make_ellipse(MLE, cov, ax[1,0], level=0.95, color='magenta', label = 'Fisher forecast', ls = '-')\n",
    "#utils._make_ellipse(MLE, 9*cov, ax[1,0], level=0.95, color='blue', label = 'used for q', ls = '-')\n",
    "#corner.corner(rand, fig = fig, levels = [sigma1, sigma2, sigma3], fill_countours = False, plot_density = False)\n",
    "fig.delaxes(ax[0,0])\n",
    "fig.delaxes(ax[0,1])\n",
    "fig.delaxes(ax[1,1])"
   ]
  },
  {
   "cell_type": "code",
   "execution_count": 192,
   "id": "eacc940f-a830-4980-8b66-6ea6c93296b9",
   "metadata": {},
   "outputs": [],
   "source": [
    "res = np.zeros([len(q_val), 3])\n",
    "res[:,0] = rand[:,0]\n",
    "res[:,1] = rand[:,1]\n",
    "res[:,2] = q_val"
   ]
  },
  {
   "cell_type": "code",
   "execution_count": 193,
   "id": "7da85b22-c52d-4784-9cbe-1aef255956ae",
   "metadata": {},
   "outputs": [],
   "source": [
    "rand_Table = Table(res, names = ['Om', 's8','q'])"
   ]
  },
  {
   "cell_type": "markdown",
   "id": "f98e4e86-49b2-4dff-806e-55dc7829abfe",
   "metadata": {},
   "source": [
    "## save"
   ]
  },
  {
   "cell_type": "code",
   "execution_count": 194,
   "id": "e5a3486a-c006-475f-b975-62d2a7a16f99",
   "metadata": {},
   "outputs": [],
   "source": [
    "#name = '/pbs/throng/lsst/users/cpayerne/LikelihoodsClusterAbundance/modules/pinocchio_analysis/proposal_Oms8_sup_5e14Msun.pkl'\n",
    "#edit.save_pickle(rand_Table, name)"
   ]
  },
  {
   "cell_type": "code",
   "execution_count": 22,
   "id": "806c657f-7692-41e6-9630-03cc060f6b60",
   "metadata": {},
   "outputs": [],
   "source": [
    "#mask = (abs(Om_ind - MLE[0]) > 0.004)*(abs(s8_ind - MLE[1]) > 0.0001)\n",
    "#sampler_tension = np.array(sampler_BG)[mask]\n",
    "#from chainconsumer import ChainConsumer\n",
    "##c = ChainConsumer()\n",
    "#labels = ['a','b']\n",
    "#c.add_chain(np.array([Om_ind, s8_ind]).T, name=\"PINOCCHIO-1000\" + str(i), parameters = labels)\n",
    "#for i, s in enumerate(sampler_tension[0:3]):\n",
    "#    data_single = np.array(load(s))\n",
    "#    c.add_chain(data_single[1000:,:], name=\"PINOCCHIO-\" + str(i), parameters = labels)\n",
    "#c.configure(kde = [1.5,1.5,1.5,1.5], smooth=[1,1,1,1],linestyles=[\"-\", \"-\", \"-\",\"-\"],\n",
    "#            linewidths=[2, 1.3, 1.3, 1.3],\n",
    "#             colors=[\"#1E88E5\", \"g\",\"r\",'k'], shade=[True, False, False,False], shade_alpha = [0.5,1, 1,1],\n",
    "#            bar_shade=False,flip=True,label_font_size=20, tick_font_size=20)\n",
    "#fig = c.plotter.plot(truth = MLE)\n",
    "#fig.set_size_inches(5 + fig.get_size_inches())  \n",
    "#plt.savefig('/pbs/throng/lsst/users/cpayerne/ThesisAtCCin2p3/Images/ind_1000.png', bbox_inches='tight', dpi=300)"
   ]
  },
  {
   "cell_type": "code",
   "execution_count": null,
   "id": "46102c32-3887-4a4e-bb50-1ebc2fbeb8e8",
   "metadata": {},
   "outputs": [],
   "source": []
  }
 ],
 "metadata": {
  "kernelspec": {
   "display_name": "mydesc",
   "language": "python",
   "name": "mydesc"
  },
  "language_info": {
   "codemirror_mode": {
    "name": "ipython",
    "version": 3
   },
   "file_extension": ".py",
   "mimetype": "text/x-python",
   "name": "python",
   "nbconvert_exporter": "python",
   "pygments_lexer": "ipython3",
   "version": "3.7.6"
  }
 },
 "nbformat": 4,
 "nbformat_minor": 5
}
