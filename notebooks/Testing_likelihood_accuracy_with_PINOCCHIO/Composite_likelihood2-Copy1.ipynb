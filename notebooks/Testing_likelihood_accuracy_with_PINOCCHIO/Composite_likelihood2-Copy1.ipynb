{
 "cells": [
  {
   "cell_type": "code",
   "execution_count": 10,
   "id": "591f7be2-973a-4eac-bf3e-5f7256513a2f",
   "metadata": {},
   "outputs": [],
   "source": [
    "import numpy as np\n",
    "import matplotlib.pyplot as plt\n",
    "import corner\n",
    "import emcee"
   ]
  },
  {
   "cell_type": "code",
   "execution_count": 11,
   "id": "adb280b2-45e1-4946-8013-9dda7b382f83",
   "metadata": {},
   "outputs": [],
   "source": [
    "N_likelihoods = 100\n",
    "data_dimension = 5\n",
    "cov_unitary = np.eye(data_dimension)"
   ]
  },
  {
   "cell_type": "code",
   "execution_count": 12,
   "id": "5a51f975-aba6-44cd-8d5b-f73b05d42eb5",
   "metadata": {},
   "outputs": [],
   "source": [
    "w = 1/abs(np.random.randn(N_likelihoods))\n",
    "var = np.random.random(N_likelihoods)*2 + 1"
   ]
  },
  {
   "cell_type": "code",
   "execution_count": 13,
   "id": "84a2d4ef-a47b-47e2-b622-199c6c2671c7",
   "metadata": {},
   "outputs": [],
   "source": [
    "x = np.linspace(0, 1, data_dimension)\n",
    "def model(a, b, c):\n",
    "    return a * x**3 + b * x + c"
   ]
  },
  {
   "cell_type": "code",
   "execution_count": 14,
   "id": "a1e02a45-62b1-4e99-a122-a384dbc54277",
   "metadata": {},
   "outputs": [],
   "source": [
    "atrue= 1\n",
    "btrue = 1\n",
    "ctrue = 1\n",
    "data0 = model(atrue, btrue, ctrue) "
   ]
  },
  {
   "cell_type": "code",
   "execution_count": null,
   "id": "a004fdea-fb9c-4d62-8947-50b20edd967c",
   "metadata": {},
   "outputs": [],
   "source": [
    "def deriv_model(a, b, c)"
   ]
  }
 ],
 "metadata": {
  "kernelspec": {
   "display_name": "mydesc",
   "language": "python",
   "name": "mydesc"
  },
  "language_info": {
   "codemirror_mode": {
    "name": "ipython",
    "version": 3
   },
   "file_extension": ".py",
   "mimetype": "text/x-python",
   "name": "python",
   "nbconvert_exporter": "python",
   "pygments_lexer": "ipython3",
   "version": "3.7.6"
  }
 },
 "nbformat": 4,
 "nbformat_minor": 5
}
