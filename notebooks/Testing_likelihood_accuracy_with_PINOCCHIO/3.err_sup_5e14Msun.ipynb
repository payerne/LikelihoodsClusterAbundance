{
 "cells": [
  {
   "cell_type": "code",
   "execution_count": 1,
   "id": "b099eded-96e2-4146-97e7-9f240c3df1a2",
   "metadata": {},
   "outputs": [],
   "source": [
    "%load_ext autoreload\n",
    "\n",
    "%autoreload 2\n",
    "import sys, glob\n",
    "import numpy as np\n",
    "import matplotlib.pyplot as plt\n",
    "import see_fits\n",
    "import scipy\n",
    "def binning(corner): return [[corner[i],corner[i+1]] for i in range(len(corner)-1)]\n",
    "from scipy.ndimage import gaussian_filter\n",
    "sys.path.append('../modules')\n",
    "import covariance as covar\n",
    "import utils\n",
    "import abundance as cl_count\n",
    "import forecast\n",
    "import pyccl as ccl\n",
    "import edit\n",
    "import h5py\n",
    "Omega_c_true = 0.30711 - 0.048254\n",
    "Omega_b_true = 0.048254\n",
    "sigma8_true = .8288\n",
    "Omegam_true = 0.30711\n",
    "True_value = [Omega_c_true + Omega_b_true, sigma8_true]"
   ]
  },
  {
   "cell_type": "code",
   "execution_count": 2,
   "id": "e56ad24e-eae7-4072-9c82-5511ebd87c32",
   "metadata": {},
   "outputs": [],
   "source": [
    "label = 'sup_5e14Msun'\n",
    "forecastF=edit.load_pickle('/pbs/throng/lsst/users/cpayerne/ClusterLikelihoods_data/Covariances/Fisher_covariance_'+label+'.pickle')"
   ]
  },
  {
   "cell_type": "code",
   "execution_count": 3,
   "id": "79090402-6bbc-4761-8977-b222f8753708",
   "metadata": {},
   "outputs": [],
   "source": [
    "def cov_freq(nz, nm):\n",
    "    cov_gauss=edit.load_pickle(f'/pbs/throng/lsst/users/cpayerne/ClusterLikelihoods_data/Covariances/'+label+f'_Covariance_cluster_abudance_{nz}x{nm}.pickle')\n",
    "    Abundance=edit.load_pickle(f'/pbs/throng/lsst/users/cpayerne/ClusterLikelihoods_data/Covariances/'+label+f'_Abundance_{nz}x{nm}.pickle')\n",
    "    cov_poiss=np.diag(Abundance.flatten())\n",
    "    SigmaPGP = np.linalg.inv(cov_poiss) @ (cov_gauss @ np.linalg.inv(cov_poiss))\n",
    "    \n",
    "    f=forecast.Forecast()\n",
    "    z_grid = np.linspace(0.18, 1.3, 2000)\n",
    "    logm_grid = np.linspace(np.log10(5e14),15.6, 2000)\n",
    "    z_corner = np.linspace(0.2, 1.2, nz + 1)\n",
    "    logm_corner = np.linspace(np.log10(5e14), 15.6, nm + 1)\n",
    "    Z_bin = binning(z_corner)\n",
    "    logMass_bin = binning(logm_corner)\n",
    "    clc = cl_count.ClusterAbundance()\n",
    "    clc.sky_area = (0.25)*4*np.pi\n",
    "    clc.f_sky = clc.sky_area/(4*np.pi)\n",
    "    clc.z_grid=z_grid\n",
    "    clc.logm_grid=logm_grid\n",
    "    def model(theta):\n",
    "        \"predictiing cluster count\"\n",
    "        Om_v, s8_v = theta\n",
    "        #re-compute ccl cosmology\n",
    "        cosmo_new = ccl.Cosmology(Omega_c = Om_v - 0.048254, Omega_b = 0.048254, \n",
    "                                  h = 0.6777, sigma8 = s8_v, n_s=0.96)\n",
    "        massdef = ccl.halos.massdef.MassDef('vir', 'critical', c_m_relation=None)\n",
    "        hmd = ccl.halos.hmfunc.MassFuncDespali16(cosmo_new, mass_def=massdef)\n",
    "        clc.set_cosmology(cosmo = cosmo_new, hmd = hmd, massdef = massdef)\n",
    "        #re-compute integrand\n",
    "        clc.compute_multiplicity_grid_MZ(z_grid = z_grid, logm_grid = logm_grid)\n",
    "        return clc.Cluster_Abundance_MZ(Redshift_bin = Z_bin, Proxy_bin = logMass_bin, \n",
    "                                        method = 'simps')\n",
    "    def model_flat(theta):\n",
    "        return model(theta).flatten()\n",
    "    \n",
    "    d_Abundance=forecast.first_derivative(True_value, model, (nz,nm), delta = 1e-5)\n",
    "    return forecast.cov_Frequentist(forecastF[f'{nz}zx{nm}m']['Poissonian'], d_Abundance, SigmaPGP)"
   ]
  },
  {
   "cell_type": "code",
   "execution_count": 4,
   "id": "44c29f4a-91a9-436f-a078-544e06acf1a3",
   "metadata": {},
   "outputs": [],
   "source": [
    "binnings=['100zx100m']"
   ]
  },
  {
   "cell_type": "code",
   "execution_count": 5,
   "id": "dd71bfc1-7312-448a-b306-f9eab283e0be",
   "metadata": {},
   "outputs": [],
   "source": [
    "covFreq={b:None for b in binnings}"
   ]
  },
  {
   "cell_type": "code",
   "execution_count": 6,
   "id": "c161b367-2aa8-4072-9613-338e11f5baa6",
   "metadata": {},
   "outputs": [],
   "source": [
    "covFreq[binnings[0]] = cov_freq(100, 100)"
   ]
  },
  {
   "cell_type": "code",
   "execution_count": 7,
   "id": "d4aefc45-d44b-4cfd-8ec9-eebce53880ae",
   "metadata": {},
   "outputs": [
    {
     "data": {
      "text/plain": [
       "0.0071600499107642756"
      ]
     },
     "execution_count": 7,
     "metadata": {},
     "output_type": "execute_result"
    }
   ],
   "source": [
    "covFreq['100zx100m'][0,0]**.5"
   ]
  },
  {
   "cell_type": "code",
   "execution_count": 8,
   "id": "8691aecd-6336-448e-b8c5-69f15769b4f6",
   "metadata": {},
   "outputs": [],
   "source": [
    "file = glob.glob('/sps/lsst/users/cpayerne/1000xsimulations/analysis/100zx100m/mean_dispersion_sup_5e14Msun/MPG*')"
   ]
  },
  {
   "cell_type": "code",
   "execution_count": 9,
   "id": "f80a0386-c371-42cc-a022-d13a92b518f9",
   "metadata": {},
   "outputs": [
    {
     "data": {
      "text/plain": [
       "998"
      ]
     },
     "execution_count": 9,
     "metadata": {},
     "output_type": "execute_result"
    }
   ],
   "source": [
    "len(file)"
   ]
  },
  {
   "cell_type": "code",
   "execution_count": 10,
   "id": "3b7090ec-b672-48ab-9793-ad91006f0067",
   "metadata": {},
   "outputs": [],
   "source": [
    "likelihood=['Poissonian','Gaussian', 'MPG']\n",
    "cosmology = {binnings[i]:{likelihood_:None for likelihood_ in likelihood} for i in range(len(binnings))}\n",
    "for b in binnings:\n",
    "    try:\n",
    "        cosmology[b]['Poissonian']=see_fits.mean_var_covar('/sps/lsst/users/cpayerne/1000xsimulations/analysis/'+b+'/mean_dispersion_'+label+'/P*')\n",
    "        cosmology[b]['Gaussian']  =see_fits.mean_var_covar('/sps/lsst/users/cpayerne/1000xsimulations/analysis/'+b+'/mean_dispersion_'+label+'/Gaussian*')\n",
    "        cosmology[b]['MPG']       =see_fits.mean_var_covar('/sps/lsst/users/cpayerne/1000xsimulations/analysis/'+b+'/mean_dispersion_'+label+'/MPG*')\n",
    "    except: \n",
    "        print(1)\n",
    "        continue"
   ]
  },
  {
   "cell_type": "code",
   "execution_count": 11,
   "id": "3e668b60-8a08-4687-9086-04233fbce612",
   "metadata": {},
   "outputs": [
    {
     "data": {
      "text/html": [
       "<i>Table length=998</i>\n",
       "<table id=\"table139666351394512\" class=\"table-striped table-bordered table-condensed\">\n",
       "<thead><tr><th>Om</th><th>s8</th><th>Om_std</th><th>s8_std</th><th>cov [2,2]</th></tr></thead>\n",
       "<thead><tr><th>float64</th><th>float64</th><th>float64</th><th>float64</th><th>float64</th></tr></thead>\n",
       "<tr><td>0.30274880126412873</td><td>0.8310344177148841</td><td>0.007141447689053101</td><td>0.0026090301349293117</td><td>5.100027509548187e-05 .. 6.807038244969262e-06</td></tr>\n",
       "<tr><td>0.30949747405936406</td><td>0.8288295397761878</td><td>0.0071462241667768775</td><td>0.002612788085393618</td><td>5.1068519841825876e-05 .. 6.826661579174847e-06</td></tr>\n",
       "<tr><td>0.31234699451504677</td><td>0.8288362697786292</td><td>0.007136544680838065</td><td>0.002624211928811754</td><td>5.093026998159807e-05 .. 6.886488247317907e-06</td></tr>\n",
       "<tr><td>0.31566675514829895</td><td>0.8273764983909717</td><td>0.007231770898238554</td><td>0.002614854363641962</td><td>5.2298510324610064e-05 .. 6.837463343057408e-06</td></tr>\n",
       "<tr><td>0.3012224367534678</td><td>0.8317737163249179</td><td>0.007011273788820787</td><td>0.0025808377203671573</td><td>4.9157960141805394e-05 .. 6.660723338869945e-06</td></tr>\n",
       "<tr><td>0.30388505271412336</td><td>0.8279875537554352</td><td>0.007175144032698494</td><td>0.0026042721599556532</td><td>5.14826918899688e-05 .. 6.782233483120084e-06</td></tr>\n",
       "<tr><td>0.2992134984945605</td><td>0.8322467401504413</td><td>0.006907440277222038</td><td>0.002550677227420632</td><td>4.771273118338926e-05 .. 6.505954318482204e-06</td></tr>\n",
       "<tr><td>0.3016101281425514</td><td>0.830182928785717</td><td>0.0071193441868935906</td><td>0.00258158552428987</td><td>5.068506165145556e-05 .. 6.664583819223003e-06</td></tr>\n",
       "<tr><td>0.30263074543621893</td><td>0.8309563959382787</td><td>0.007136225609068868</td><td>0.002603963055775436</td><td>5.0925715943530336e-05 .. 6.780623595843345e-06</td></tr>\n",
       "<tr><td>0.30788404598117003</td><td>0.8285597497104509</td><td>0.007236567151734105</td><td>0.0026079352837413364</td><td>5.236790414155705e-05 .. 6.801326444183006e-06</td></tr>\n",
       "<tr><td>...</td><td>...</td><td>...</td><td>...</td><td>...</td></tr>\n",
       "<tr><td>0.30201477982445535</td><td>0.8301902884943501</td><td>0.007119346274704713</td><td>0.0025812797663618417</td><td>5.068509137915188e-05 .. 6.663005232229045e-06</td></tr>\n",
       "<tr><td>0.30932487375292217</td><td>0.8262354578320141</td><td>0.0073129010921292575</td><td>0.002611084090003161</td><td>5.3478522383265285e-05 .. 6.817760125067635e-06</td></tr>\n",
       "<tr><td>0.31040919795742566</td><td>0.8310911442241802</td><td>0.0071139264864384134</td><td>0.002575560816587913</td><td>5.0607950054449985e-05 .. 6.633513519942997e-06</td></tr>\n",
       "<tr><td>0.29861655405179865</td><td>0.830715643732868</td><td>0.0068021563436771095</td><td>0.0025214127526534875</td><td>4.6269330923826746e-05 .. 6.357522269243638e-06</td></tr>\n",
       "<tr><td>0.3167953910374948</td><td>0.8261742284686444</td><td>0.00724505395938155</td><td>0.0025992065919974343</td><td>5.2490806874350273e-05 .. 6.755874907882916e-06</td></tr>\n",
       "<tr><td>0.3075759234982427</td><td>0.8295186096658972</td><td>0.00714777389182101</td><td>0.0026222700589632023</td><td>5.109067160859806e-05 .. 6.876300262134876e-06</td></tr>\n",
       "<tr><td>0.3062780377931897</td><td>0.8292097943719436</td><td>0.007217697510445556</td><td>0.002611712749220964</td><td>5.209515735229197e-05 .. 6.821043484443326e-06</td></tr>\n",
       "<tr><td>0.29194186412258694</td><td>0.8331636358958611</td><td>0.0065670496690902426</td><td>0.002491126679190583</td><td>4.312614135629826e-05 .. 6.2057121317751e-06</td></tr>\n",
       "<tr><td>0.30820435456992545</td><td>0.8271009657133315</td><td>0.007311458280788518</td><td>0.0026144418318140078</td><td>5.3457422191710994e-05 .. 6.835306091938985e-06</td></tr>\n",
       "<tr><td>0.3063978521433397</td><td>0.8293518944607301</td><td>0.007212807032675824</td><td>0.002616682401334439</td><td>5.2024585290617826e-05 .. 6.847026789453366e-06</td></tr>\n",
       "</table>"
      ],
      "text/plain": [
       "<Table length=998>\n",
       "         Om         ...                    cov [2,2]                   \n",
       "      float64       ...                     float64                    \n",
       "------------------- ... -----------------------------------------------\n",
       "0.30274880126412873 ...  5.100027509548187e-05 .. 6.807038244969262e-06\n",
       "0.30949747405936406 ... 5.1068519841825876e-05 .. 6.826661579174847e-06\n",
       "0.31234699451504677 ...  5.093026998159807e-05 .. 6.886488247317907e-06\n",
       "0.31566675514829895 ... 5.2298510324610064e-05 .. 6.837463343057408e-06\n",
       " 0.3012224367534678 ... 4.9157960141805394e-05 .. 6.660723338869945e-06\n",
       "0.30388505271412336 ...   5.14826918899688e-05 .. 6.782233483120084e-06\n",
       " 0.2992134984945605 ...  4.771273118338926e-05 .. 6.505954318482204e-06\n",
       " 0.3016101281425514 ...  5.068506165145556e-05 .. 6.664583819223003e-06\n",
       "0.30263074543621893 ... 5.0925715943530336e-05 .. 6.780623595843345e-06\n",
       "0.30788404598117003 ...  5.236790414155705e-05 .. 6.801326444183006e-06\n",
       "                ... ...                                             ...\n",
       "0.30201477982445535 ...  5.068509137915188e-05 .. 6.663005232229045e-06\n",
       "0.30932487375292217 ... 5.3478522383265285e-05 .. 6.817760125067635e-06\n",
       "0.31040919795742566 ... 5.0607950054449985e-05 .. 6.633513519942997e-06\n",
       "0.29861655405179865 ... 4.6269330923826746e-05 .. 6.357522269243638e-06\n",
       " 0.3167953910374948 ... 5.2490806874350273e-05 .. 6.755874907882916e-06\n",
       " 0.3075759234982427 ...  5.109067160859806e-05 .. 6.876300262134876e-06\n",
       " 0.3062780377931897 ...  5.209515735229197e-05 .. 6.821043484443326e-06\n",
       "0.29194186412258694 ...    4.312614135629826e-05 .. 6.2057121317751e-06\n",
       "0.30820435456992545 ... 5.3457422191710994e-05 .. 6.835306091938985e-06\n",
       " 0.3063978521433397 ... 5.2024585290617826e-05 .. 6.847026789453366e-06"
      ]
     },
     "execution_count": 11,
     "metadata": {},
     "output_type": "execute_result"
    }
   ],
   "source": [
    "cosmology['100zx100m']['MPG']"
   ]
  },
  {
   "cell_type": "code",
   "execution_count": 28,
   "id": "a2f4f566-4d57-4b37-bd5f-27f75eb45212",
   "metadata": {},
   "outputs": [
    {
     "data": {
      "image/png": "[encoded data removed]",
      "text/plain": [
       "<Figure size 504x360 with 2 Axes>"
      ]
     },
     "metadata": {
      "needs_background": "light"
     },
     "output_type": "display_data"
    }
   ],
   "source": [
    "colors = ['#1f77b4', '#ff7f0e', '#2ca02c',]\n",
    "colors=['k', 'k', 'k']\n",
    "likelihood = ['Poissonian', 'Gaussian', 'MPG']\n",
    "title = ['Poisson', 'Gauss/SSC', 'GPC']\n",
    "fig, ax=plt.subplots(1, 2, figsize=(7,5))\n",
    "ax[0].set_facecolor(\"whitesmoke\")\n",
    "ax[1].set_facecolor(\"whitesmoke\")\n",
    "plt.subplots_adjust(left=None, bottom=None, right=None, top=None, wspace=.5, hspace=.4)\n",
    "plt.rcParams['axes.linewidth']= 1\n",
    "err=1e3\n",
    "for i,l in enumerate(likelihood):\n",
    "    Om=cosmology['100zx100m'][l]['Om']\n",
    "    Omstd=cosmology['100zx100m'][l]['Om_std']\n",
    "    s8=cosmology['100zx100m'][l]['s8']\n",
    "    s8std=cosmology['100zx100m'][l]['s8_std']\n",
    "    ax[0].errorbar(i, err*np.mean(Omstd), yerr=err*np.std(Omstd), marker='o', c='b', markersize=5, capsize=5)\n",
    "    ax[1].errorbar(i, err*np.mean(s8std), yerr=err*np.std(s8std), marker='o', c='b', markersize=5, capsize=5)\n",
    "    try:\n",
    "        coeff = 1#(1/10)**.5\n",
    "        cov_Fisher=forecastF['100zx100m'][l]\n",
    "        #ax[0].scatter(i,err*cov_Fisher[0,0]**.5/coeff, marker='o', s=100, facecolors='none',edgecolor='k',linewidth=2)\n",
    "       # ax[1].scatter(i,err*cov_Fisher[1,1]**.5/coeff, marker='o', s=100, facecolors='none',edgecolor='k',linewidth=2)\n",
    "    except: a=1\n",
    "    #if l=='Poissonian':\n",
    "       # ax[0].scatter(i,err*covFreq['100zx100m'][0,0]**.5, marker='s', s=100,facecolors='none',edgecolor='k',linewidth=2)\n",
    "       # ax[1].scatter(i,err*covFreq['100zx100m'][1,1]**.5, marker='s', s=100,facecolors='none',edgecolor='k',linewidth=2)\n",
    "    ax[0].scatter(i,err*np.std(Om), marker='x', c='r', s=70)\n",
    "    ax[1].scatter(i,err*np.std(s8), marker='x', c='r', s=70)\n",
    "\n",
    "ax[0].errorbar([],[], yerr=[], marker='o', c='b', markersize=5, capsize=5, label=r'from $\\widehat{C}^{\\rm ind}$')\n",
    "#ax[0].scatter([],[], marker='o',s=100, facecolors='none',edgecolor='k',linewidth=2, label='Fisher forecast')\n",
    "#ax[0].scatter([],[], marker='s',s=100, facecolors='none',edgecolor='k',linewidth=2, label='Ensemble forecast')\n",
    "ax[0].scatter([], [], marker='x', c='r', s=70, label=r'from $\\widehat{C}^{\\rm ens}$')\n",
    "ax[0].legend(frameon=True,fontsize=15, loc='lower right')\n",
    "x1 = [0,1,2]\n",
    "squad = title\n",
    "for i in range(2):\n",
    "    ax[i].set_xticks(x1)\n",
    "    ax[i].tick_params(axis='both', which = 'major', labelsize= 12)\n",
    "    ax[i].set_xticklabels(squad, fontsize=12)\n",
    "ax[0].set_ylabel(r'$\\sigma(\\Omega_m)\\ [\\times 10^{-3}]$', fontsize = 17)\n",
    "ax[1].set_ylabel(r'$\\sigma(\\sigma_8)\\ [\\times 10^{-3}]$', fontsize = 17)\n",
    "#ax[0].set_xticklabels(ax.get_xticks(), rotation = 50)\n",
    "plt.savefig('std_high_mass.pdf', bbox_inches='tight', dpi=300)"
   ]
  },
  {
   "cell_type": "code",
   "execution_count": null,
   "id": "565e3824-365d-4887-8136-9511ecb2c099",
   "metadata": {},
   "outputs": [],
   "source": []
  },
  {
   "cell_type": "code",
   "execution_count": null,
   "id": "27e8bff9-a3de-4e16-b9bd-285de2133e41",
   "metadata": {},
   "outputs": [],
   "source": []
  },
  {
   "cell_type": "code",
   "execution_count": null,
   "id": "ebb8f0d5-ea87-476c-9c61-3d3c312e167b",
   "metadata": {},
   "outputs": [],
   "source": []
  }
 ],
 "metadata": {
  "kernelspec": {
   "display_name": "mydesc",
   "language": "python",
   "name": "mydesc"
  },
  "language_info": {
   "codemirror_mode": {
    "name": "ipython",
    "version": 3
   },
   "file_extension": ".py",
   "mimetype": "text/x-python",
   "name": "python",
   "nbconvert_exporter": "python",
   "pygments_lexer": "ipython3",
   "version": "3.7.6"
  }
 },
 "nbformat": 4,
 "nbformat_minor": 5
}
