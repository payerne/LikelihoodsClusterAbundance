{
 "cells": [
  {
   "cell_type": "code",
   "execution_count": 1,
   "id": "6c79adf5-9e28-46e2-ba5d-8eea867df222",
   "metadata": {},
   "outputs": [],
   "source": [
    "import numpy as np\n",
    "import matplotlib.pyplot as plt\n",
    "import sys, time, glob\n",
    "import pyccl as ccl\n",
    "import see_fits\n",
    "def binning(corner): return [[corner[i],corner[i+1]] for i in range(len(corner)-1)]\n",
    "%load_ext autoreload\n",
    "%autoreload 2\n",
    "sys.path.append('/pbs/throng/lsst/users/cpayerne/LikelihoodsClusterAbundance/modules/')\n",
    "import abundance as cl_count\n",
    "import covariance as covar\n",
    "import edit\n",
    "import forecast\n",
    "import utils\n",
    "import lnlikelihood as l\n",
    "import importance_sampling as imp_samp\n",
    "Omega_c_true = 0.30711 - 0.048254\n",
    "Omega_b_true = 0.048254\n",
    "sigma8_true = .8288\n",
    "Omegam_true = 0.30711\n",
    "True_value = [Omega_c_true + Omega_b_true, sigma8_true]\n",
    "True_value=[0.3061958963461571, 0.8292376170567957]\n",
    "cosmo = ccl.Cosmology(Omega_c = Omega_c_true, Omega_b = Omega_b_true, h = 0.6777, sigma8 = sigma8_true, n_s=0.96)"
   ]
  },
  {
   "cell_type": "code",
   "execution_count": 2,
   "id": "7df9b354-3c5c-4998-9fd0-bc3063d16b71",
   "metadata": {},
   "outputs": [],
   "source": [
    "n_z_bin=4\n",
    "n_m_bin=4"
   ]
  },
  {
   "cell_type": "code",
   "execution_count": 3,
   "id": "eb52c896-c06d-4c30-8c6a-e129d8dd7ce0",
   "metadata": {},
   "outputs": [],
   "source": [
    "dat = edit.load_pickle(f'/sps/lsst/users/cpayerne/1000xsimulations/analysis/binned_catalogs/{n_z_bin}x{n_m_bin}_binned_catalogs.pkl')\n",
    "Nobs = np.array(dat[3])"
   ]
  },
  {
   "cell_type": "markdown",
   "id": "b9baf87e-ca65-480c-a82b-28bcf21373b0",
   "metadata": {},
   "source": [
    "### Gaussian"
   ]
  },
  {
   "cell_type": "code",
   "execution_count": 4,
   "id": "a4acf9b2-311f-4a24-afe7-30833345a68f",
   "metadata": {},
   "outputs": [],
   "source": [
    "Covariance=edit.load_pickle(f'/pbs/throng/lsst/users/cpayerne/ClusterLikelihoods_data/Covariances/Covariance_cluster_abudance_{n_z_bin}x{n_m_bin}.pickle')\n",
    "inv_Covariance=np.linalg.inv(Covariance)\n",
    "Sample_Covariance=edit.load_pickle(f'/pbs/throng/lsst/users/cpayerne/ClusterLikelihoods_data/Covariances/Sample_covariance_full_{n_z_bin}x{n_m_bin}.pickle')\n",
    "Abundance=edit.load_pickle(f'/pbs/throng/lsst/users/cpayerne/ClusterLikelihoods_data/Covariances/Abundance_{n_z_bin}x{n_m_bin}.pickle')"
   ]
  },
  {
   "cell_type": "code",
   "execution_count": 5,
   "id": "de6f12f7-0d2f-4ef4-910a-9056b3f537fc",
   "metadata": {},
   "outputs": [],
   "source": [
    "cov_gauss = Covariance\n",
    "cov_poiss = np.diag(Abundance.flatten())"
   ]
  },
  {
   "cell_type": "code",
   "execution_count": 6,
   "id": "ecb09133-0cb7-4b58-8693-3229f8d9b73b",
   "metadata": {},
   "outputs": [
    {
     "data": {
      "text/plain": [
       "(4, 4)"
      ]
     },
     "execution_count": 6,
     "metadata": {},
     "output_type": "execute_result"
    }
   ],
   "source": [
    "Abundance.shape"
   ]
  },
  {
   "cell_type": "markdown",
   "id": "4b32858e-2b44-4366-a8ba-771e797d66e3",
   "metadata": {},
   "source": [
    "real_cluster_abudance"
   ]
  },
  {
   "cell_type": "code",
   "execution_count": 7,
   "id": "61e40764-37c9-4f3e-8d4c-b41c0894b6e7",
   "metadata": {},
   "outputs": [],
   "source": [
    "f=forecast.Forecast()\n",
    "z_grid = np.linspace(0.18, 1.3, 1500)\n",
    "logm_grid = np.linspace(14.1,15.8, 1500)\n",
    "z_corner = np.linspace(0.2, 1.2, n_z_bin + 1)\n",
    "logm_corner = np.linspace(14.2, 15.6, n_m_bin + 1)\n",
    "Z_bin = binning(z_corner)\n",
    "logMass_bin = binning(logm_corner)"
   ]
  },
  {
   "cell_type": "code",
   "execution_count": 8,
   "id": "71950002-6e19-4b22-ada1-e898d7c12a90",
   "metadata": {},
   "outputs": [],
   "source": [
    "clc = cl_count.ClusterAbundance()\n",
    "clc.sky_area = (0.25)*4*np.pi\n",
    "clc.f_sky = clc.sky_area/(4*np.pi)\n",
    "clc.z_grid=z_grid\n",
    "clc.logm_grid=logm_grid"
   ]
  },
  {
   "cell_type": "code",
   "execution_count": 9,
   "id": "53a74a14-e630-4fbd-8fa9-fc0b4b501747",
   "metadata": {},
   "outputs": [],
   "source": [
    "def model(theta):\n",
    "    \"predictiing cluster count\"\n",
    "    Om_v, s8_v = theta\n",
    "    #re-compute ccl cosmology\n",
    "    cosmo_new = ccl.Cosmology(Omega_c = Om_v - 0.048254, Omega_b = 0.048254, \n",
    "                              h = 0.6777, sigma8 = s8_v, n_s=0.96)\n",
    "    massdef = ccl.halos.massdef.MassDef('vir', 'critical', c_m_relation=None)\n",
    "    hmd = ccl.halos.hmfunc.MassFuncDespali16(cosmo_new, mass_def=massdef)\n",
    "    clc.set_cosmology(cosmo = cosmo_new, hmd = hmd, massdef = massdef)\n",
    "    #re-compute integrand\n",
    "    clc.compute_multiplicity_grid_MZ(z_grid = z_grid, logm_grid = logm_grid)\n",
    "    return clc.Cluster_Abundance_MZ(Redshift_bin = Z_bin, Proxy_bin = logMass_bin, \n",
    "                                    method = 'simps')\n",
    "def model_flat(theta):\n",
    "    return model(theta).flatten()"
   ]
  },
  {
   "cell_type": "code",
   "execution_count": 10,
   "id": "80cffaab-7d10-490a-8e5f-a064da826d96",
   "metadata": {},
   "outputs": [],
   "source": [
    "d_Abundance=forecast.first_derivative(True_value, model, (4,4), delta = 1e-4)"
   ]
  },
  {
   "cell_type": "code",
   "execution_count": 11,
   "id": "4136892c-9b53-475e-a888-1d15c8fb72b8",
   "metadata": {},
   "outputs": [
    {
     "data": {
      "text/plain": [
       "(2, 4, 4)"
      ]
     },
     "execution_count": 11,
     "metadata": {},
     "output_type": "execute_result"
    }
   ],
   "source": [
    "d_Abundance.shape"
   ]
  },
  {
   "cell_type": "code",
   "execution_count": 12,
   "id": "7964bea3-81b9-4b98-b530-0b55202135c4",
   "metadata": {},
   "outputs": [],
   "source": [
    "Fisher_Bayes_Poiss=f.Fisher_Matrix_Gaussian(True_value, model_flat, cov_poiss, delta = 1e-5)\n",
    "covFisher_Poiss=np.linalg.inv(Fisher_Bayes_Poiss)"
   ]
  },
  {
   "cell_type": "code",
   "execution_count": 13,
   "id": "50195b5c-7b45-49b6-bc87-e78d1fd81844",
   "metadata": {},
   "outputs": [],
   "source": [
    "Fisher_Bayes_Gauss=f.Fisher_Matrix_Gaussian(True_value, model_flat, cov_gauss, delta = 1e-5)\n",
    "covFisher_Gauss=np.linalg.inv(Fisher_Bayes_Gauss)"
   ]
  },
  {
   "cell_type": "code",
   "execution_count": 14,
   "id": "c91374ab-2800-463a-9f3c-272b347ae8eb",
   "metadata": {},
   "outputs": [],
   "source": [
    "SigmaPGP = np.linalg.inv(cov_poiss) @ (cov_gauss @ np.linalg.inv(cov_poiss))\n",
    "SigmaGGG = np.linalg.inv(cov_gauss) @ (cov_gauss @ np.linalg.inv(cov_gauss))"
   ]
  },
  {
   "cell_type": "code",
   "execution_count": 15,
   "id": "417da2e0-082f-430f-821d-3283ff2b36da",
   "metadata": {},
   "outputs": [],
   "source": [
    "cov_freq_GP=forecast.cov_Frequentist(covFisher_Poiss, d_Abundance, SigmaPGP)\n",
    "cov_freq_GG=forecast.cov_Frequentist(covFisher_Gauss, d_Abundance, SigmaGGG)"
   ]
  },
  {
   "cell_type": "code",
   "execution_count": 16,
   "id": "4fe961c8-5d71-4c59-a9c9-b3e68d30ba4a",
   "metadata": {},
   "outputs": [
    {
     "data": {
      "text/plain": [
       "array([[ 1.27270497e-22, -8.84265947e-23],\n",
       "       [-8.84265947e-23,  6.51434296e-23]])"
      ]
     },
     "execution_count": 16,
     "metadata": {},
     "output_type": "execute_result"
    }
   ],
   "source": [
    "cov_freq_GP"
   ]
  },
  {
   "cell_type": "code",
   "execution_count": 26,
   "id": "8ffb610a-d4ab-42da-86ff-98526aef8995",
   "metadata": {},
   "outputs": [
    {
     "data": {
      "text/plain": [
       "<matplotlib.legend.Legend at 0x7f5aecaf9410>"
      ]
     },
     "execution_count": 26,
     "metadata": {},
     "output_type": "execute_result"
    },
    {
     "data": {
      "image/png": "[encoded data removed]",
      "text/plain": [
       "<Figure size 360x360 with 1 Axes>"
      ]
     },
     "metadata": {
      "needs_background": "light"
     },
     "output_type": "display_data"
    }
   ],
   "source": [
    "fig, ax = plt.subplots(1,1, figsize=(5,5))\n",
    "x=0.0001\n",
    "y=0.0001\n",
    "utils._make_ellipse(True_value, 200000*covFisher_Gauss, ax, level=0.95, color='r', label = 'Gaussian', ls = '-')\n",
    "#utils._make_ellipse(True_value, covFisher_Poiss, ax, level=0.95, color='k', label = 'Poissonian - Fisher Foreacst', ls = '--')\n",
    "#utils._make_ellipse(True_value, cov_freq_GP, ax, level=0.95, color='k', label = 'Poissonian - Ensemble Forecast', ls = '-')\n",
    "#utils._make_ellipse(True_value, cov_freq_GG, ax, level=0.95, color='b', label = 'Frequentist Gauss', ls = '-')\n",
    "ax.set_xlim(True_value[0]-x, True_value[0]+x)\n",
    "ax.set_ylim(True_value[1]-y, True_value[1]+y)\n",
    "ax.set_ylabel(r'$\\sigma_8$', fontsize=20)\n",
    "ax.set_xlabel(r'$\\Omega_m$', fontsize=20)\n",
    "ax.tick_params(axis='both', which = 'major', labelsize= 15)\n",
    "plt.legend(fontsize=12, frameon=False)\n",
    "\n",
    "#plt.savefig('err_Freq_vs_Bayes.pdf', bbox_inches='tight', dpi=300)"
   ]
  },
  {
   "cell_type": "code",
   "execution_count": null,
   "id": "3014af70-76a6-4824-97d2-ad86fb4380c6",
   "metadata": {},
   "outputs": [],
   "source": []
  }
 ],
 "metadata": {
  "kernelspec": {
   "display_name": "mydesc",
   "language": "python",
   "name": "mydesc"
  },
  "language_info": {
   "codemirror_mode": {
    "name": "ipython",
    "version": 3
   },
   "file_extension": ".py",
   "mimetype": "text/x-python",
   "name": "python",
   "nbconvert_exporter": "python",
   "pygments_lexer": "ipython3",
   "version": "3.7.6"
  }
 },
 "nbformat": 4,
 "nbformat_minor": 5
}
