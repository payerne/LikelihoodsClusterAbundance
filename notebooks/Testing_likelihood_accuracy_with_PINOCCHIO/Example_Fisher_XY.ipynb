{
 "cells": [
  {
   "cell_type": "code",
   "execution_count": 3,
   "id": "6c79adf5-9e28-46e2-ba5d-8eea867df222",
   "metadata": {},
   "outputs": [
    {
     "name": "stdout",
     "output_type": "stream",
     "text": [
      "The autoreload extension is already loaded. To reload it, use:\n",
      "  %reload_ext autoreload\n"
     ]
    }
   ],
   "source": [
    "import numpy as np\n",
    "import matplotlib.pyplot as plt\n",
    "import sys, time, glob\n",
    "import pyccl as ccl\n",
    "import see_fits\n",
    "def binning(corner): return [[corner[i],corner[i+1]] for i in range(len(corner)-1)]\n",
    "%load_ext autoreload\n",
    "%autoreload 2\n",
    "sys.path.append('/pbs/throng/lsst/users/cpayerne/ClusterLikelihoods/modules/')\n",
    "import abundance as cl_count\n",
    "import covariance as covar\n",
    "import mvp_pdf\n",
    "import edit\n",
    "import forecast\n",
    "import utils\n",
    "import importance_sampling as imp_samp"
   ]
  },
  {
   "cell_type": "code",
   "execution_count": 1,
   "id": "fde16c9a-5355-446a-9017-2e0fddccc74e",
   "metadata": {},
   "outputs": [
    {
     "ename": "NameError",
     "evalue": "name 'a' is not defined",
     "output_type": "error",
     "traceback": [
      "\u001b[0;31m---------------------------------------------------------------------------\u001b[0m",
      "\u001b[0;31mNameError\u001b[0m                                 Traceback (most recent call last)",
      "\u001b[0;32m<ipython-input-1-3f786850e387>\u001b[0m in \u001b[0;36m<module>\u001b[0;34m\u001b[0m\n\u001b[0;32m----> 1\u001b[0;31m \u001b[0ma\u001b[0m\u001b[0;34m\u001b[0m\u001b[0;34m\u001b[0m\u001b[0m\n\u001b[0m",
      "\u001b[0;31mNameError\u001b[0m: name 'a' is not defined"
     ]
    }
   ],
   "source": [
    "a"
   ]
  },
  {
   "cell_type": "markdown",
   "id": "4b32858e-2b44-4366-a8ba-771e797d66e3",
   "metadata": {},
   "source": [
    "real_cluster_abudance"
   ]
  },
  {
   "cell_type": "code",
   "execution_count": 4,
   "id": "42574d09-539a-4520-a8f3-ec7317a2b602",
   "metadata": {},
   "outputs": [],
   "source": [
    "x = np.linspace(1,10,10)\n",
    "def model(theta):\n",
    "    a, b = theta\n",
    "    return a * x + b"
   ]
  },
  {
   "cell_type": "code",
   "execution_count": 5,
   "id": "082f478b-761b-4236-8b2a-02d8d2b2e3cd",
   "metadata": {},
   "outputs": [],
   "source": [
    "true_value = [1,1]"
   ]
  },
  {
   "cell_type": "code",
   "execution_count": 6,
   "id": "1549b579-b0dd-4c16-992d-93255a71545b",
   "metadata": {},
   "outputs": [],
   "source": [
    "cov_full = np.zeros([len(x), len(x)])\n",
    "cov_diag = np.zeros([len(x), len(x)])"
   ]
  },
  {
   "cell_type": "code",
   "execution_count": 7,
   "id": "ba592210-70ea-4987-abc1-77ac1623a140",
   "metadata": {},
   "outputs": [],
   "source": [
    "A = 1\n",
    "for i in range(len(x)):\n",
    "    for j in range(len(x)):\n",
    "        cov_full[i,j] = A * np.exp(-abs(x[i]-x[j])**1)"
   ]
  },
  {
   "cell_type": "code",
   "execution_count": 8,
   "id": "5f7e3c48-573b-4712-9fa0-4b0823560049",
   "metadata": {},
   "outputs": [
    {
     "data": {
      "text/plain": [
       "<matplotlib.colorbar.Colorbar at 0x7f769b357450>"
      ]
     },
     "execution_count": 8,
     "metadata": {},
     "output_type": "execute_result"
    },
    {
     "data": {
      "image/png": "[encoded data removed]",
      "text/plain": [
       "<Figure size 432x288 with 2 Axes>"
      ]
     },
     "metadata": {
      "needs_background": "light"
     },
     "output_type": "display_data"
    }
   ],
   "source": [
    "plt.imshow(cov_full, cmap = 'bwr')\n",
    "x_ticks = [f'{z:.2f}' for z in x]\n",
    "index = np.arange(len(x))\n",
    "index_split = np.split(index, 10)\n",
    "ticks = [index_split[i][0] for i in range(10)]\n",
    "ticks.append(len(x) - 1)\n",
    "plt.xticks(ticks=ticks, labels=x_ticks, rotation = 45)\n",
    "plt.yticks(ticks=ticks, labels=x_ticks)\n",
    "plt.colorbar()"
   ]
  },
  {
   "cell_type": "code",
   "execution_count": 9,
   "id": "4584c16c-d14e-466d-bb2d-5050c874dce1",
   "metadata": {},
   "outputs": [
    {
     "data": {
      "text/plain": [
       "(10,)"
      ]
     },
     "execution_count": 9,
     "metadata": {},
     "output_type": "execute_result"
    }
   ],
   "source": [
    "model(true_value).shape"
   ]
  },
  {
   "cell_type": "code",
   "execution_count": 10,
   "id": "80cffaab-7d10-490a-8e5f-a064da826d96",
   "metadata": {},
   "outputs": [],
   "source": [
    "d_model=forecast.first_derivative(true_value, model, model(true_value).shape, delta = 1e-5)"
   ]
  },
  {
   "cell_type": "code",
   "execution_count": 11,
   "id": "dafe8f6e-74ec-44b0-a88b-9062228a3740",
   "metadata": {},
   "outputs": [],
   "source": [
    "def F(SigmaX, SigmaY, d_model):\n",
    "    SigmaY_1 = np.linalg.inv(SigmaY)\n",
    "    res=np.zeros([2,2])\n",
    "    for i in range(2):\n",
    "        for j in range(2):\n",
    "            res[i,j] = np.sum(d_model[i,:] * np.dot(SigmaY_1, np.dot(SigmaX, SigmaY_1) ).dot(d_model[j,:]))\n",
    "    return res"
   ]
  },
  {
   "cell_type": "code",
   "execution_count": 12,
   "id": "042cf262-cf94-446a-806f-2420bb50aeab",
   "metadata": {},
   "outputs": [],
   "source": [
    "FXX = F(cov_full, cov_full, d_model)\n",
    "FXY = F(cov_full, np.diag(cov_full.diagonal()), d_model)\n",
    "FYX = F(np.diag(cov_full.diagonal()), cov_full, d_model)\n",
    "FYY = F(np.diag(cov_full.diagonal()), np.diag(cov_full.diagonal()), d_model)"
   ]
  },
  {
   "cell_type": "code",
   "execution_count": 13,
   "id": "a111c0dd-751a-4cb5-a5f3-d60bac188f00",
   "metadata": {},
   "outputs": [
    {
     "ename": "TypeError",
     "evalue": "_make_ellipse() got an unexpected keyword argument 'n_sigma'",
     "output_type": "error",
     "traceback": [
      "\u001b[0;31m---------------------------------------------------------------------------\u001b[0m",
      "\u001b[0;31mTypeError\u001b[0m                                 Traceback (most recent call last)",
      "\u001b[0;32m<ipython-input-13-5558f42f9c4f>\u001b[0m in \u001b[0;36m<module>\u001b[0;34m\u001b[0m\n\u001b[1;32m      1\u001b[0m \u001b[0mfig\u001b[0m\u001b[0;34m,\u001b[0m \u001b[0max\u001b[0m \u001b[0;34m=\u001b[0m \u001b[0mplt\u001b[0m\u001b[0;34m.\u001b[0m\u001b[0msubplots\u001b[0m\u001b[0;34m(\u001b[0m\u001b[0;36m1\u001b[0m\u001b[0;34m,\u001b[0m\u001b[0;36m1\u001b[0m\u001b[0;34m,\u001b[0m \u001b[0mfigsize\u001b[0m\u001b[0;34m=\u001b[0m\u001b[0;34m(\u001b[0m\u001b[0;36m7\u001b[0m\u001b[0;34m,\u001b[0m\u001b[0;36m7\u001b[0m\u001b[0;34m)\u001b[0m\u001b[0;34m)\u001b[0m\u001b[0;34m\u001b[0m\u001b[0;34m\u001b[0m\u001b[0m\n\u001b[0;32m----> 2\u001b[0;31m \u001b[0mutils\u001b[0m\u001b[0;34m.\u001b[0m\u001b[0m_make_ellipse\u001b[0m\u001b[0;34m(\u001b[0m\u001b[0mtrue_value\u001b[0m\u001b[0;34m,\u001b[0m \u001b[0mnp\u001b[0m\u001b[0;34m.\u001b[0m\u001b[0mlinalg\u001b[0m\u001b[0;34m.\u001b[0m\u001b[0minv\u001b[0m\u001b[0;34m(\u001b[0m\u001b[0mFXX\u001b[0m\u001b[0;34m)\u001b[0m\u001b[0;34m,\u001b[0m \u001b[0max\u001b[0m\u001b[0;34m,\u001b[0m \u001b[0mlevel\u001b[0m\u001b[0;34m=\u001b[0m\u001b[0;36m0.95\u001b[0m\u001b[0;34m,\u001b[0m\u001b[0mn_sigma\u001b[0m\u001b[0;34m=\u001b[0m\u001b[0;36m1\u001b[0m\u001b[0;34m,\u001b[0m \u001b[0mcolor\u001b[0m\u001b[0;34m=\u001b[0m\u001b[0;34m'k'\u001b[0m\u001b[0;34m,\u001b[0m \u001b[0mlabel\u001b[0m \u001b[0;34m=\u001b[0m \u001b[0;34mr'$F_{XX}$'\u001b[0m\u001b[0;34m,\u001b[0m \u001b[0mls\u001b[0m \u001b[0;34m=\u001b[0m \u001b[0;34m'-'\u001b[0m\u001b[0;34m)\u001b[0m\u001b[0;34m\u001b[0m\u001b[0;34m\u001b[0m\u001b[0m\n\u001b[0m\u001b[1;32m      3\u001b[0m \u001b[0mutils\u001b[0m\u001b[0;34m.\u001b[0m\u001b[0m_make_ellipse\u001b[0m\u001b[0;34m(\u001b[0m\u001b[0mtrue_value\u001b[0m\u001b[0;34m,\u001b[0m \u001b[0mnp\u001b[0m\u001b[0;34m.\u001b[0m\u001b[0mlinalg\u001b[0m\u001b[0;34m.\u001b[0m\u001b[0minv\u001b[0m\u001b[0;34m(\u001b[0m\u001b[0mFXY\u001b[0m\u001b[0;34m)\u001b[0m\u001b[0;34m,\u001b[0m \u001b[0max\u001b[0m\u001b[0;34m,\u001b[0m \u001b[0mlevel\u001b[0m\u001b[0;34m=\u001b[0m\u001b[0;36m0.95\u001b[0m\u001b[0;34m,\u001b[0m\u001b[0mn_sigma\u001b[0m\u001b[0;34m=\u001b[0m\u001b[0;36m1\u001b[0m\u001b[0;34m,\u001b[0m \u001b[0mcolor\u001b[0m\u001b[0;34m=\u001b[0m\u001b[0;34m'r'\u001b[0m\u001b[0;34m,\u001b[0m \u001b[0mlabel\u001b[0m \u001b[0;34m=\u001b[0m \u001b[0;34mr'$F_{XY}$'\u001b[0m\u001b[0;34m,\u001b[0m \u001b[0mls\u001b[0m \u001b[0;34m=\u001b[0m \u001b[0;34m'--'\u001b[0m\u001b[0;34m)\u001b[0m\u001b[0;34m\u001b[0m\u001b[0;34m\u001b[0m\u001b[0m\n\u001b[1;32m      4\u001b[0m \u001b[0mutils\u001b[0m\u001b[0;34m.\u001b[0m\u001b[0m_make_ellipse\u001b[0m\u001b[0;34m(\u001b[0m\u001b[0mtrue_value\u001b[0m\u001b[0;34m,\u001b[0m \u001b[0mnp\u001b[0m\u001b[0;34m.\u001b[0m\u001b[0mlinalg\u001b[0m\u001b[0;34m.\u001b[0m\u001b[0minv\u001b[0m\u001b[0;34m(\u001b[0m\u001b[0mFYX\u001b[0m\u001b[0;34m)\u001b[0m\u001b[0;34m,\u001b[0m \u001b[0max\u001b[0m\u001b[0;34m,\u001b[0m \u001b[0mlevel\u001b[0m\u001b[0;34m=\u001b[0m\u001b[0;36m0.95\u001b[0m\u001b[0;34m,\u001b[0m\u001b[0mn_sigma\u001b[0m\u001b[0;34m=\u001b[0m\u001b[0;36m1\u001b[0m\u001b[0;34m,\u001b[0m \u001b[0mcolor\u001b[0m\u001b[0;34m=\u001b[0m\u001b[0;34m'g'\u001b[0m\u001b[0;34m,\u001b[0m \u001b[0mlabel\u001b[0m \u001b[0;34m=\u001b[0m \u001b[0;34mr'$F_{YX}$'\u001b[0m\u001b[0;34m,\u001b[0m \u001b[0mls\u001b[0m \u001b[0;34m=\u001b[0m \u001b[0;34m'--'\u001b[0m\u001b[0;34m)\u001b[0m\u001b[0;34m\u001b[0m\u001b[0;34m\u001b[0m\u001b[0m\n\u001b[1;32m      5\u001b[0m \u001b[0mutils\u001b[0m\u001b[0;34m.\u001b[0m\u001b[0m_make_ellipse\u001b[0m\u001b[0;34m(\u001b[0m\u001b[0mtrue_value\u001b[0m\u001b[0;34m,\u001b[0m \u001b[0mnp\u001b[0m\u001b[0;34m.\u001b[0m\u001b[0mlinalg\u001b[0m\u001b[0;34m.\u001b[0m\u001b[0minv\u001b[0m\u001b[0;34m(\u001b[0m\u001b[0mFYY\u001b[0m\u001b[0;34m)\u001b[0m\u001b[0;34m,\u001b[0m \u001b[0max\u001b[0m\u001b[0;34m,\u001b[0m \u001b[0mlevel\u001b[0m\u001b[0;34m=\u001b[0m\u001b[0;36m0.95\u001b[0m\u001b[0;34m,\u001b[0m\u001b[0mn_sigma\u001b[0m\u001b[0;34m=\u001b[0m\u001b[0;36m1\u001b[0m\u001b[0;34m,\u001b[0m \u001b[0mcolor\u001b[0m\u001b[0;34m=\u001b[0m\u001b[0;34m'b'\u001b[0m\u001b[0;34m,\u001b[0m \u001b[0mlabel\u001b[0m \u001b[0;34m=\u001b[0m \u001b[0;34mr'$F_{YY}$'\u001b[0m\u001b[0;34m,\u001b[0m \u001b[0mls\u001b[0m \u001b[0;34m=\u001b[0m \u001b[0;34m'-'\u001b[0m\u001b[0;34m)\u001b[0m\u001b[0;34m\u001b[0m\u001b[0;34m\u001b[0m\u001b[0m\n",
      "\u001b[0;31mTypeError\u001b[0m: _make_ellipse() got an unexpected keyword argument 'n_sigma'"
     ]
    },
    {
     "data": {
      "image/png": "[encoded data removed]",
      "text/plain": [
       "<Figure size 504x504 with 1 Axes>"
      ]
     },
     "metadata": {
      "needs_background": "light"
     },
     "output_type": "display_data"
    }
   ],
   "source": [
    "fig, ax = plt.subplots(1,1, figsize=(7,7))\n",
    "utils._make_ellipse(true_value, np.linalg.inv(FXX), ax, level=0.95,n_sigma=1, color='k', label = r'$F_{XX}$', ls = '-')\n",
    "utils._make_ellipse(true_value, np.linalg.inv(FXY), ax, level=0.95,n_sigma=1, color='r', label = r'$F_{XY}$', ls = '--')\n",
    "utils._make_ellipse(true_value, np.linalg.inv(FYX), ax, level=0.95,n_sigma=1, color='g', label = r'$F_{YX}$', ls = '--')\n",
    "utils._make_ellipse(true_value, np.linalg.inv(FYY), ax, level=0.95,n_sigma=1, color='b', label = r'$F_{YY}$', ls = '-')\n",
    "ax.set_xlim(true_value[0]-.2, true_value[0]+.2)\n",
    "ax.set_ylim(true_value[0]-1.5, true_value[1]+1.5)\n",
    "ax.set_xlabel('a', fontsize=20)\n",
    "ax.set_ylabel('b', fontsize=20)\n",
    "ax.tick_params(axis='both', which = 'major', labelsize= 20)\n",
    "ax.legend(fontsize=20, frameon=False)"
   ]
  },
  {
   "cell_type": "code",
   "execution_count": null,
   "id": "248b743a-7478-4ab5-a6d1-0e822ade543d",
   "metadata": {},
   "outputs": [],
   "source": []
  }
 ],
 "metadata": {
  "kernelspec": {
   "display_name": "mydesc",
   "language": "python",
   "name": "mydesc"
  },
  "language_info": {
   "codemirror_mode": {
    "name": "ipython",
    "version": 3
   },
   "file_extension": ".py",
   "mimetype": "text/x-python",
   "name": "python",
   "nbconvert_exporter": "python",
   "pygments_lexer": "ipython3",
   "version": "3.7.6"
  }
 },
 "nbformat": 4,
 "nbformat_minor": 5
}
