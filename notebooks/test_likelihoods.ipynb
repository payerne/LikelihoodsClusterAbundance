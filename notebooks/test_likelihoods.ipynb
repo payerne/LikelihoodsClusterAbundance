{
 "cells": [
  {
   "cell_type": "code",
   "execution_count": 70,
   "metadata": {},
   "outputs": [
    {
     "name": "stdout",
     "output_type": "stream",
     "text": [
      "The autoreload extension is already loaded. To reload it, use:\n",
      "  %reload_ext autoreload\n"
     ]
    }
   ],
   "source": [
    "import numpy as np\n",
    "import matplotlib.pyplot as plt\n",
    "from scipy.optimize import curve_fit\n",
    "import sys\n",
    "import pandas as pd\n",
    "import glob\n",
    "from scipy.stats import poisson\n",
    "from scipy.stats import multivariate_normal\n",
    "import pyccl as ccl\n",
    "def binning(corner): return [[corner[i],corner[i+1]] for i in range(len(corner)-1)]\n",
    "%load_ext autoreload\n",
    "%autoreload 2\n",
    "sys.path.append('/pbs/throng/lsst/users/cpayerne/ClusterLikelihoods/modules/')\n",
    "import abundance as cl_count\n",
    "import covariance as covar\n",
    "import mvp_pdf\n",
    "import edit\n",
    "import lnlikelihood"
   ]
  },
  {
   "cell_type": "code",
   "execution_count": 13,
   "metadata": {},
   "outputs": [],
   "source": [
    "Omega_c_true = 0.30711 - 0.048254\n",
    "Omega_b_true = 0.048254\n",
    "sigma8_true = .8288\n",
    "Omegam_true = 0.30711\n",
    "True_value = [Omega_c_true + Omega_b_true, sigma8_true]\n",
    "cosmo = ccl.Cosmology(Omega_c = Omega_c_true, Omega_b = Omega_b_true, h = 0.6777, sigma8 = sigma8_true, n_s=0.96)"
   ]
  },
  {
   "cell_type": "markdown",
   "metadata": {},
   "source": [
    "# Binned data"
   ]
  },
  {
   "cell_type": "code",
   "execution_count": 124,
   "metadata": {},
   "outputs": [
    {
     "name": "stdout",
     "output_type": "stream",
     "text": [
      "5919.25\n",
      "157.84666666666666\n",
      "9.4708\n"
     ]
    }
   ],
   "source": [
    "for b in ['4x4', '20x30', '100x100']:\n",
    "    dat = edit.load_pickle('/sps/lsst/users/cpayerne/1000xsimulations/analysis/binned_catalogs/'+b+'_binned_catalogs.pkl')\n",
    "    print(np.mean(dat[3][0]))"
   ]
  },
  {
   "cell_type": "code",
   "execution_count": null,
   "metadata": {},
   "outputs": [],
   "source": []
  },
  {
   "cell_type": "markdown",
   "metadata": {},
   "source": [
    "# Prediction"
   ]
  },
  {
   "cell_type": "code",
   "execution_count": 15,
   "metadata": {},
   "outputs": [],
   "source": [
    "n_z_bin = 30\n",
    "n_logm_bin = n_z_bin\n",
    "z_corner = np.linspace(0.2, 1., n_z_bin + 1)\n",
    "logm_corner = np.linspace(14.2, 15.6, n_logm_bin + 1)\n",
    "Z_bin, logMass_bin = binning(z_corner), binning(logm_corner)"
   ]
  },
  {
   "cell_type": "code",
   "execution_count": 22,
   "metadata": {},
   "outputs": [
    {
     "name": "stdout",
     "output_type": "stream",
     "text": [
      "0.025\n"
     ]
    }
   ],
   "source": [
    "clc = cl_count.ClusterAbundance()\n",
    "#choose the halo mass function and mass definition\n",
    "massdef = ccl.halos.massdef.MassDef('vir', 'critical', c_m_relation=None)\n",
    "hmd = ccl.halos.hmfunc.MassFuncDespali16(cosmo, mass_def=massdef)\n",
    "halobias = ccl.halos.hbias.HaloBiasTinker10(cosmo, mass_def= massdef, mass_def_strict=True)\n",
    "clc.set_cosmology(cosmo = cosmo, hmd = hmd, massdef = massdef)\n",
    "clc.sky_area = (0.25) * 4 * np.pi / 10\n",
    "clc.f_sky = clc.sky_area/(4*np.pi)\n",
    "print(clc.f_sky)\n",
    "z_grid = np.linspace(0., 2.1, 2000)\n",
    "logm_grid = np.linspace(14.1, 15.7, 2001)\n",
    "clc.compute_multiplicity_grid_MZ(z_grid = z_grid, logm_grid = logm_grid)\n",
    "Abundance = clc.Cluster_Abundance_MZ(Redshift_bin = Z_bin, Proxy_bin = logMass_bin, method = 'simps')\n",
    "clc.compute_halo_bias_grid_MZ(z_grid = z_corner, logm_grid = logm_corner, halobiais = halobias)\n",
    "NHalo_bias = clc.Nhalo_bias_MZ(Redshift_bin = Z_bin, Proxy_bin = logMass_bin, method = 'simps')"
   ]
  },
  {
   "cell_type": "code",
   "execution_count": 23,
   "metadata": {},
   "outputs": [],
   "source": [
    "Covariance = covar.Covariance_matrix()\n",
    "#use PySSC from Lacasa et al.\n",
    "Sij = Covariance.matter_fluctuation_amplitude_fullsky(Z_bin)"
   ]
  },
  {
   "cell_type": "code",
   "execution_count": 24,
   "metadata": {},
   "outputs": [],
   "source": [
    "Sample_covariance = Covariance.sample_covariance_full_sky(Z_bin, logMass_bin, NHalo_bias, Sij)/clc.f_sky"
   ]
  },
  {
   "cell_type": "code",
   "execution_count": 9,
   "metadata": {},
   "outputs": [],
   "source": [
    "Covariance_prediction = Sample_covariance + np.diag(Abundance.flatten())"
   ]
  },
  {
   "cell_type": "code",
   "execution_count": 29,
   "metadata": {},
   "outputs": [],
   "source": [
    "mu_list = Abundance.flatten()\n",
    "#var_SSC_list = Sample_covariance.diagonal()\n",
    "#MVP = mvp_pdf.MVP(mu_list, var_SSC_list)\n",
    "#MVP._set_axis(5, mu_list, var_SSC_list)\n",
    "#N_, P_MVP = MVP.p_mvp(mu_list, var_SSC_list)"
   ]
  },
  {
   "cell_type": "markdown",
   "metadata": {},
   "source": [
    "# choose mu"
   ]
  },
  {
   "cell_type": "code",
   "execution_count": 115,
   "metadata": {},
   "outputs": [
    {
     "name": "stdout",
     "output_type": "stream",
     "text": [
      "12.828135015662163\n"
     ]
    }
   ],
   "source": [
    "index_list=np.arange(len(Abundance.flatten()))\n",
    "index = index_list[(mu_list > 10)*(mu_list < 15)][0]\n",
    "mu=Abundance.flatten()[index]\n",
    "print(mu)\n",
    "b = NHalo_bias.flatten()[index]/mu\n",
    "Nb = NHalo_bias.flatten()[index]\n",
    "S = Sample_covariance[index,index]/(Nb**2)"
   ]
  },
  {
   "cell_type": "code",
   "execution_count": 118,
   "metadata": {},
   "outputs": [],
   "source": [
    "l = lnlikelihood.lnLikelihood()\n",
    "MPG_ind = []\n",
    "Nobs=np.arange(5, 50, )\n",
    "res=[]\n",
    "for n in Nobs:\n",
    "    res.append(l.lnLikelihood_Binned_MPG_Block_Diagonal_individual(mu, n, b, S, method = 'exact'))"
   ]
  },
  {
   "cell_type": "code",
   "execution_count": 119,
   "metadata": {},
   "outputs": [
    {
     "data": {
      "text/plain": [
       "<matplotlib.legend.Legend at 0x7fb59bb4dfd0>"
      ]
     },
     "execution_count": 119,
     "metadata": {},
     "output_type": "execute_result"
    },
    {
     "data": {
      "image/png": "[encoded data removed]",
      "text/plain": [
       "<Figure size 432x288 with 1 Axes>"
      ]
     },
     "metadata": {
      "needs_background": "light"
     },
     "output_type": "display_data"
    }
   ],
   "source": [
    "plt.plot(Nobs, np.exp(res)/np.sum(np.exp(res)), label='MPG')\n",
    "plt.plot(Nobs, poisson(mu).pmf(Nobs), label='Poissonian')\n",
    "plt.plot(Nobs, multivariate_normal.pdf(Nobs, mean=mu, cov=Sample_covariance[index,index] + mu), label='Gaussian')\n",
    "plt.legend()"
   ]
  },
  {
   "cell_type": "code",
   "execution_count": null,
   "metadata": {},
   "outputs": [],
   "source": [
    "k = 0\n",
    "intervals = [[1,2],[20,30],[200, 600]]\n",
    "interval_done = [False, False, False]\n",
    "bins = [np.arange(10)-.5, np.linspace(1,500,150), np.linspace(intervals[2][0],intervals[2][1],100)]\n",
    "fig, ax = plt.subplots(1, 3, figsize = (15,5))\n",
    "plt.subplots_adjust(wspace = 0)\n",
    "plt.rcParams['axes.axisbelow'] = True\n",
    "for n, p_mvp, i in zip(N_, P_MVP, np.arange(len(N_))):\n",
    "    mu = mu_list[i]\n",
    "    rv = poisson(mu)\n",
    "    n_sigma = 4\n",
    "    mask = (n > mu - n_sigma*np.sqrt((var_SSC_list[i] + mu)))*(n < mu + n_sigma*np.sqrt((var_SSC_list[i] + mu)))\n",
    "    poisson_ = rv.pmf(n)\n",
    "    pdf = multivariate_normal.pdf(n, mean=mu, cov=var_SSC_list[i] + mu)\n",
    "    for s, interval in enumerate(intervals):\n",
    "        if (mu > interval[0])*(mu < interval[1])*(interval_done[s] == False):\n",
    "            interval_done[s] = True\n",
    "            ax[s].plot(n[mask], poisson_[mask], '-k', linewidth = 3, label = 'Poissonian')\n",
    "            ax[s].plot(n[mask], pdf[mask]/np.sum(pdf), '-g', linewidth = 3, label = 'Gaussian')\n",
    "            ax[s].plot(n[mask], p_mvp[mask], '--r', linewidth = 3, label = 'MVP')\n",
    "            mask_bin = (bins[s] > mu - n_sigma*np.sqrt((var_SSC_list[i] + mu)))*(bins[s] < mu + n_sigma*np.sqrt((var_SSC_list[i] + mu)))\n",
    "            bins_corrected = bins[s][mask_bin]\n",
    "            print(bins_corrected)\n",
    "            ax[s].hist(N_new[:,i], density=True, bins = bins_corrected, histtype = 'step', linewidth = 3, alpha = 1)\n",
    "            #a, b = np.histogram(N_new[:,i], bins = bins_corrected)\n",
    "            #bin_middle = [(bins_corrected[i] + bins_corrected[i+1])/2 for i in range(len(bins_corrected)-1)]\n",
    "            #a_normalized = a/(sum(a)*(bins_corrected[1]-bins_corrected[0]))\n",
    "            #ax[s].plot(bin_middle, a_normalized, label = 'histogram')\n",
    "            ax[s].set_xlabel(r'$n$', fontsize = 20)\n",
    "            ax[s].tick_params(axis='both', which = 'major', labelsize= 15)\n",
    "            if s == 0:\n",
    "                ax[s].legend(frameon = False, framealpha = 1, fontsize = 16, loc = 'best')\n",
    "            plt.setp( ax[s].get_yticklabels(), visible=False )\n",
    "#plt.savefig('/pbs/throng/lsst/users/cpayerne/ThesisAtCCin2p3/Images/high_n.pdf', bbox_inches='tight', dpi=300)"
   ]
  },
  {
   "cell_type": "code",
   "execution_count": 13,
   "metadata": {},
   "outputs": [],
   "source": [
    "#where_cat = '/sps/lsst/users/cpayerne/1000xsimulations/1000_simulations/afumagalli/catalogs/plc_14/*'\n",
    "#cat = glob.glob(where_cat)\n",
    "#data_Fumagalli = []\n",
    "#for i,c in enumerate(cat):\n",
    "#    if i>1000: break\n",
    "#    cat_test = pd.read_csv(c ,sep=' ',skiprows=12, names=['M','z','dec','ra'])\n",
    "#    ra, dec, redshift, Mvir = cat_test['ra'], cat_test['dec'], cat_test['z'], cat_test['M']/0.677\n",
    "#    Ns, mass_edges, z_edges, im  = plt.hist2d(np.log10(Mvir),redshift, \n",
    "#                                       bins=[logm_corner,z_corner], cmin=0)\n",
    "#    data_Fumagalli.append(Ns.T.flatten())"
   ]
  }
 ],
 "metadata": {
  "kernelspec": {
   "display_name": "mydesc",
   "language": "python",
   "name": "mydesc"
  },
  "language_info": {
   "codemirror_mode": {
    "name": "ipython",
    "version": 3
   },
   "file_extension": ".py",
   "mimetype": "text/x-python",
   "name": "python",
   "nbconvert_exporter": "python",
   "pygments_lexer": "ipython3",
   "version": "3.7.6"
  }
 },
 "nbformat": 4,
 "nbformat_minor": 4
}
