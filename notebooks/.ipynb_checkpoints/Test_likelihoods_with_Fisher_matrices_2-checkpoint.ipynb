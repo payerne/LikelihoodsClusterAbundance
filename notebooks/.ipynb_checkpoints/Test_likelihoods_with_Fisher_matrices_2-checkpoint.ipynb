{
 "cells": [
  {
   "cell_type": "code",
   "execution_count": 1,
   "id": "6c79adf5-9e28-46e2-ba5d-8eea867df222",
   "metadata": {},
   "outputs": [
    {
     "name": "stderr",
     "output_type": "stream",
     "text": [
      "WARNING: leap-second auto-update failed due to the following exception: RuntimeError('Cache is locked after 5.06 s. This may indicate an astropy bug or that kill -9 was used. If you want to unlock the cache remove the directory /pbs/home/c/cpayerne/.astropy/cache/download/py3/lock. Lock claims to be held by process .') [astropy.time.core]\n"
     ]
    }
   ],
   "source": [
    "import numpy as np\n",
    "import matplotlib.pyplot as plt\n",
    "import sys, time, glob\n",
    "import pyccl as ccl\n",
    "import see_fits\n",
    "def binning(corner): return [[corner[i],corner[i+1]] for i in range(len(corner)-1)]\n",
    "%load_ext autoreload\n",
    "%autoreload 2\n",
    "sys.path.append('/pbs/throng/lsst/users/cpayerne/ClusterLikelihoods/modules/')\n",
    "import abundance as cl_count\n",
    "import covariance as covar\n",
    "import mvp_pdf\n",
    "import edit\n",
    "import model\n",
    "from iminuit import Minuit\n",
    "import forecast\n",
    "import utils\n",
    "import likelihood as l\n",
    "import importance_sampling as imp_samp"
   ]
  },
  {
   "cell_type": "markdown",
   "id": "4b32858e-2b44-4366-a8ba-771e797d66e3",
   "metadata": {},
   "source": [
    "real_cluster_abudance"
   ]
  },
  {
   "cell_type": "code",
   "execution_count": 2,
   "id": "42574d09-539a-4520-a8f3-ec7317a2b602",
   "metadata": {},
   "outputs": [],
   "source": [
    "true_value = [1,1]\n",
    "x = np.linspace(1,10,10)\n",
    "def model(theta):\n",
    "    a, b = theta\n",
    "    return a * x + b\n",
    "mean = model(true_value)"
   ]
  },
  {
   "cell_type": "code",
   "execution_count": 3,
   "id": "d7bac0a3-cfb2-4295-8352-677c3d6df604",
   "metadata": {},
   "outputs": [
    {
     "data": {
      "text/plain": [
       "array([ 2.,  3.,  4.,  5.,  6.,  7.,  8.,  9., 10., 11.])"
      ]
     },
     "execution_count": 3,
     "metadata": {},
     "output_type": "execute_result"
    }
   ],
   "source": [
    "mean"
   ]
  },
  {
   "cell_type": "code",
   "execution_count": 4,
   "id": "1549b579-b0dd-4c16-992d-93255a71545b",
   "metadata": {},
   "outputs": [],
   "source": [
    "cov1 = np.zeros([len(x), len(x)])"
   ]
  },
  {
   "cell_type": "code",
   "execution_count": 5,
   "id": "ba592210-70ea-4987-abc1-77ac1623a140",
   "metadata": {},
   "outputs": [],
   "source": [
    "A = 1\n",
    "for i in range(len(x)):\n",
    "    for j in range(len(x)):\n",
    "        cov1[i,j] = A * np.exp(-abs(x[i]-x[j])**3)"
   ]
  },
  {
   "cell_type": "code",
   "execution_count": 6,
   "id": "62ac7af2-706d-4ab2-808b-cbb5612d0c6a",
   "metadata": {},
   "outputs": [
    {
     "data": {
      "text/plain": [
       "<matplotlib.colorbar.Colorbar at 0x7f27b3b476d0>"
      ]
     },
     "execution_count": 6,
     "metadata": {},
     "output_type": "execute_result"
    },
    {
     "data": {
      "image/png": "[encoded data removed]",
      "text/plain": [
       "<Figure size 432x288 with 2 Axes>"
      ]
     },
     "metadata": {
      "needs_background": "light"
     },
     "output_type": "display_data"
    }
   ],
   "source": [
    "plt.imshow(cov1, cmap = 'bwr')\n",
    "x_ticks = [f'{z:.2f}' for z in x]\n",
    "index = np.arange(len(x))\n",
    "index_split = np.split(index, 10)\n",
    "ticks = [index_split[i][0] for i in range(10)]\n",
    "ticks.append(len(x) - 1)\n",
    "plt.xticks(ticks=ticks, labels=x_ticks, rotation = 45)\n",
    "plt.yticks(ticks=ticks, labels=x_ticks)\n",
    "plt.colorbar()"
   ]
  },
  {
   "cell_type": "code",
   "execution_count": 36,
   "id": "1114ecf7-e7cf-434d-b99f-9416b9139c95",
   "metadata": {},
   "outputs": [],
   "source": [
    "inv_cov1=np.linalg.inv(cov1)\n",
    "inv_cov2=np.linalg.inv(cov1/2)"
   ]
  },
  {
   "cell_type": "code",
   "execution_count": 37,
   "id": "43eb910c-51d1-4dc4-91cd-19aba9f60608",
   "metadata": {},
   "outputs": [],
   "source": [
    "data_sample = np.random.multivariate_normal(mean, cov1, size=1000)"
   ]
  },
  {
   "cell_type": "code",
   "execution_count": 38,
   "id": "2a5741c6-4cdf-435e-921c-b48ec52745ae",
   "metadata": {},
   "outputs": [],
   "source": [
    "def lnL(data, theta, inv_cov):\n",
    "    m=model(theta)\n",
    "    return np.sum(.5*(data-m)*inv_cov.dot(data-m))"
   ]
  },
  {
   "cell_type": "code",
   "execution_count": 40,
   "id": "a193baf8-507d-4ed9-b613-5703a16f39f1",
   "metadata": {},
   "outputs": [
    {
     "name": "stderr",
     "output_type": "stream",
     "text": [
      "/pbs/home/c/cpayerne/.conda/envs/mydesc/lib/python3.7/site-packages/ipykernel_launcher.py:8: IMinuitWarning: errordef not set, using 1 (appropriate for least-squares)\n",
      "  \n"
     ]
    }
   ],
   "source": [
    "t={'1':[], '2':[]}\n",
    "err={'1':[], '2':[]}\n",
    "inv_cov=[inv_cov1,inv_cov2]\n",
    "for d in data_sample:\n",
    "    for i in range(2):\n",
    "        def lnL_minuit(theta): return lnL(d, theta, inv_cov[i])\n",
    "        m = Minuit(lnL_minuit,(1,1))\n",
    "        m.migrad()\n",
    "        t[str(i+1)].append(np.array(m.values))\n",
    "        err[str(i+1)].append(np.array(m.errors))"
   ]
  },
  {
   "cell_type": "code",
   "execution_count": 41,
   "id": "d41537bc-799f-40e6-9747-8de59f4396dd",
   "metadata": {},
   "outputs": [
    {
     "data": {
      "text/plain": [
       "<matplotlib.collections.PathCollection at 0x7f27b3858c10>"
      ]
     },
     "execution_count": 41,
     "metadata": {},
     "output_type": "execute_result"
    },
    {
     "data": {
      "image/png": "[encoded data removed]",
      "text/plain": [
       "<Figure size 432x288 with 1 Axes>"
      ]
     },
     "metadata": {
      "needs_background": "light"
     },
     "output_type": "display_data"
    }
   ],
   "source": [
    "plt.scatter(np.array(t['2'])[:,0],np.array(t['2'])[:,1])\n",
    "plt.scatter(np.array(t['1'])[:,0],np.array(t['1'])[:,1])"
   ]
  },
  {
   "cell_type": "code",
   "execution_count": 42,
   "id": "9ffbcfc1-5c47-482f-92e8-250782d89ae7",
   "metadata": {},
   "outputs": [
    {
     "data": {
      "text/plain": [
       "array([0.18763859, 0.18763859, 0.18763859, 0.18763859, 0.18763859,\n",
       "       0.18763859, 0.18763859, 0.18763859, 0.18763859, 0.18763859,\n",
       "       0.18763859, 0.18763859, 0.18763859, 0.18763859, 0.18763859,\n",
       "       0.18763859, 0.18763859, 0.18763859, 0.18763859, 0.18763859,\n",
       "       0.18763859, 0.18763859, 0.18763859, 0.18763859, 0.18763859,\n",
       "       0.18763859, 0.18763859, 0.18763859, 0.18763859, 0.18763859,\n",
       "       0.18763859, 0.18763859, 0.18763859, 0.18763859, 0.18763859,\n",
       "       0.18763859, 0.18763859, 0.18763859, 0.18763859, 0.18763859,\n",
       "       0.18763859, 0.18763859, 0.18763859, 0.18763859, 0.18763859,\n",
       "       0.18763859, 0.18763859, 0.18763859, 0.18763859, 0.18763859,\n",
       "       0.18763859, 0.18763859, 0.18763859, 0.18763859, 0.18763859,\n",
       "       0.18763859, 0.18763859, 0.18763859, 0.18763859, 0.18763859,\n",
       "       0.18763859, 0.18763859, 0.18763859, 0.18763859, 0.18763859,\n",
       "       0.18763859, 0.18763859, 0.18763859, 0.18763859, 0.18763859,\n",
       "       0.18763859, 0.18763859, 0.18763859, 0.18763859, 0.18763859,\n",
       "       0.18763859, 0.18763859, 0.18763859, 0.18763859, 0.18763859,\n",
       "       0.18763859, 0.18763859, 0.18763859, 0.18763859, 0.18763859,\n",
       "       0.18763859, 0.18763859, 0.18763859, 0.18763859, 0.18763859,\n",
       "       0.18763859, 0.18763859, 0.18763859, 0.18763859, 0.18763859,\n",
       "       0.18763859, 0.18763859, 0.18763859, 0.18763859, 0.18763859,\n",
       "       0.18763859, 0.18763859, 0.18763859, 0.18763859, 0.18763859,\n",
       "       0.18763859, 0.18763859, 0.18763859, 0.18763859, 0.18763859,\n",
       "       0.18763859, 0.18763859, 0.18763859, 0.18763859, 0.18763859,\n",
       "       0.18763859, 0.18763859, 0.18763859, 0.18763859, 0.18763859,\n",
       "       0.18763859, 0.18763858, 0.18763859, 0.18763859, 0.18763859,\n",
       "       0.18763859, 0.18763859, 0.18763859, 0.18763859, 0.18763859,\n",
       "       0.18763859, 0.18763859, 0.18763859, 0.18763859, 0.18763859,\n",
       "       0.18763859, 0.18763859, 0.18763859, 0.18763859, 0.18763859,\n",
       "       0.18763859, 0.18763859, 0.18763859, 0.18763859, 0.18763859,\n",
       "       0.18763859, 0.18763859, 0.18763859, 0.18763859, 0.18763859,\n",
       "       0.18763859, 0.18763859, 0.18763859, 0.18763859, 0.18763859,\n",
       "       0.18763859, 0.18763859, 0.18763859, 0.18763859, 0.18763859,\n",
       "       0.18763859, 0.18763859, 0.18763859, 0.18763859, 0.18763859,\n",
       "       0.18763859, 0.18763859, 0.18763859, 0.18763859, 0.18763859,\n",
       "       0.18763859, 0.18763859, 0.18763859, 0.18763858, 0.18763859,\n",
       "       0.18763859, 0.18763859, 0.18763859, 0.18763859, 0.18763859,\n",
       "       0.18763859, 0.18763859, 0.18763859, 0.18763859, 0.18763859,\n",
       "       0.18763859, 0.18763859, 0.18763859, 0.18763859, 0.18763859,\n",
       "       0.18763859, 0.18763859, 0.18763859, 0.18763859, 0.18763859,\n",
       "       0.18763859, 0.18763859, 0.18763859, 0.18763859, 0.18763859,\n",
       "       0.18763859, 0.18763859, 0.18763859, 0.18763859, 0.18763859,\n",
       "       0.18763859, 0.18763859, 0.18763859, 0.18763859, 0.18763859,\n",
       "       0.18763859, 0.18763859, 0.18763859, 0.18763859, 0.18763859,\n",
       "       0.18763859, 0.18763859, 0.18763859, 0.18763859, 0.18763859,\n",
       "       0.18763859, 0.18763859, 0.18763859, 0.18763859, 0.18763859,\n",
       "       0.18763859, 0.18763859, 0.18763859, 0.18763859, 0.18763859,\n",
       "       0.18763859, 0.18763859, 0.18763859, 0.18763859, 0.18763859,\n",
       "       0.18763859, 0.18763859, 0.18763859, 0.18763859, 0.18763859,\n",
       "       0.18763859, 0.18763859, 0.18763859, 0.18763859, 0.18763859,\n",
       "       0.18763859, 0.18763859, 0.18763859, 0.18763859, 0.18763859,\n",
       "       0.18763859, 0.18763859, 0.18763859, 0.18763859, 0.18763859,\n",
       "       0.18763859, 0.18763859, 0.18763859, 0.18763858, 0.18763859,\n",
       "       0.18763859, 0.18763859, 0.18763859, 0.18763859, 0.18763859,\n",
       "       0.18763859, 0.18763859, 0.18763859, 0.18763859, 0.18763859,\n",
       "       0.18763859, 0.18763859, 0.18763859, 0.18763859, 0.18763859,\n",
       "       0.18763859, 0.18763859, 0.18763859, 0.18763859, 0.18763859,\n",
       "       0.18763859, 0.18763859, 0.18763859, 0.18763859, 0.18763859,\n",
       "       0.18763859, 0.18763859, 0.18763859, 0.18763859, 0.18763859,\n",
       "       0.18763859, 0.18763859, 0.18763859, 0.18763859, 0.18763859,\n",
       "       0.18763859, 0.18763859, 0.18763859, 0.18763859, 0.18763859,\n",
       "       0.18763859, 0.18763859, 0.18763859, 0.18763859, 0.18763859,\n",
       "       0.18763859, 0.18763859, 0.18763859, 0.18763859, 0.18763859,\n",
       "       0.18763859, 0.18763859, 0.18763859, 0.18763859, 0.18763859,\n",
       "       0.18763859, 0.18763859, 0.18763859, 0.18763859, 0.18763859,\n",
       "       0.18763859, 0.18763859, 0.18763859, 0.18763859, 0.18763859,\n",
       "       0.18763859, 0.18763859, 0.18763859, 0.18763859, 0.18763859,\n",
       "       0.18763859, 0.18763859, 0.18763859, 0.18763859, 0.18763859,\n",
       "       0.18763859, 0.18763859, 0.18763859, 0.18763859, 0.18763859,\n",
       "       0.18763859, 0.18763859, 0.18763859, 0.18763859, 0.18763859,\n",
       "       0.18763859, 0.18763859, 0.18763859, 0.18763859, 0.18763859,\n",
       "       0.18763859, 0.18763859, 0.18763859, 0.18763859, 0.18763859,\n",
       "       0.18763859, 0.18763859, 0.18763859, 0.18763859, 0.18763859,\n",
       "       0.18763859, 0.18763859, 0.18763859, 0.18763859, 0.18763859,\n",
       "       0.18763859, 0.18763859, 0.18763859, 0.18763859, 0.18763859,\n",
       "       0.18763859, 0.18763859, 0.18763859, 0.18763859, 0.18763859,\n",
       "       0.18763859, 0.18763859, 0.18763859, 0.18763859, 0.18763859,\n",
       "       0.18763859, 0.18763859, 0.18763859, 0.18763859, 0.18763859,\n",
       "       0.18763859, 0.18763859, 0.18763859, 0.18763859, 0.18763859,\n",
       "       0.18763859, 0.18763859, 0.18763859, 0.18763859, 0.18763859,\n",
       "       0.18763859, 0.18763859, 0.18763859, 0.18763859, 0.18763859,\n",
       "       0.18763859, 0.18763859, 0.18763859, 0.18763859, 0.18763859,\n",
       "       0.18763859, 0.18763859, 0.18763859, 0.18763859, 0.18763859,\n",
       "       0.18763859, 0.18763859, 0.18763859, 0.18763859, 0.18763859,\n",
       "       0.18763859, 0.18763859, 0.18763859, 0.18763859, 0.18763859,\n",
       "       0.18763859, 0.18763859, 0.18763859, 0.18763859, 0.18763859,\n",
       "       0.18763859, 0.18763859, 0.18763859, 0.18763859, 0.18763859,\n",
       "       0.18763859, 0.18763859, 0.18763859, 0.18763859, 0.18763859,\n",
       "       0.18763859, 0.18763859, 0.18763859, 0.18763859, 0.18763859,\n",
       "       0.18763859, 0.18763859, 0.18763859, 0.18763859, 0.18763859,\n",
       "       0.18763859, 0.18763859, 0.18763859, 0.18763859, 0.18763859,\n",
       "       0.18763859, 0.18763859, 0.18763859, 0.18763859, 0.18763859,\n",
       "       0.18763859, 0.18763859, 0.18763859, 0.18763859, 0.18763859,\n",
       "       0.18763859, 0.18763859, 0.18763859, 0.18763859, 0.18763859,\n",
       "       0.18763859, 0.18763859, 0.18763859, 0.18763859, 0.18763859,\n",
       "       0.18763859, 0.18763859, 0.18763859, 0.18763859, 0.18763859,\n",
       "       0.18763859, 0.18763859, 0.18763858, 0.18763859, 0.18763859,\n",
       "       0.18763859, 0.18763859, 0.18763859, 0.18763859, 0.18763859,\n",
       "       0.18763859, 0.18763859, 0.18763859, 0.18763859, 0.18763859,\n",
       "       0.18763859, 0.18763859, 0.18763859, 0.18763859, 0.18763859,\n",
       "       0.18763859, 0.18763859, 0.18763859, 0.18763859, 0.18763859,\n",
       "       0.18763859, 0.18763859, 0.18763859, 0.18763859, 0.18763859,\n",
       "       0.18763859, 0.18763859, 0.18763859, 0.18763859, 0.18763859,\n",
       "       0.18763859, 0.18763859, 0.18763859, 0.18763859, 0.18763859,\n",
       "       0.18763859, 0.18763859, 0.18763859, 0.18763859, 0.18763859,\n",
       "       0.18763859, 0.18763859, 0.18763859, 0.18763859, 0.18763859,\n",
       "       0.18763859, 0.18763859, 0.18763859, 0.18763859, 0.18763859,\n",
       "       0.18763859, 0.18763859, 0.18763859, 0.18763859, 0.18763859,\n",
       "       0.18763859, 0.18763859, 0.18763859, 0.18763859, 0.18763859,\n",
       "       0.18763859, 0.18763859, 0.18763859, 0.18763859, 0.18763859,\n",
       "       0.18763859, 0.18763859, 0.18763859, 0.18763859, 0.18763859,\n",
       "       0.18763859, 0.18763859, 0.18763859, 0.18763859, 0.18763859,\n",
       "       0.18763859, 0.18763859, 0.18763859, 0.18763859, 0.18763859,\n",
       "       0.18763859, 0.18763859, 0.18763859, 0.18763859, 0.18763859,\n",
       "       0.18763859, 0.18763859, 0.18763859, 0.18763859, 0.18763859,\n",
       "       0.18763859, 0.18763859, 0.18763859, 0.18763859, 0.18763859,\n",
       "       0.18763859, 0.18763859, 0.18763859, 0.18763859, 0.18763859,\n",
       "       0.18763859, 0.18763859, 0.18763859, 0.18763859, 0.18763859,\n",
       "       0.18763859, 0.18763859, 0.18763859, 0.18763859, 0.18763859,\n",
       "       0.18763859, 0.18763859, 0.18763859, 0.18763859, 0.18763859,\n",
       "       0.18763859, 0.18763859, 0.18763859, 0.18763859, 0.18763859,\n",
       "       0.18763859, 0.18763859, 0.18763859, 0.18763859, 0.18763859,\n",
       "       0.18763859, 0.18763859, 0.18763859, 0.18763859, 0.18763859,\n",
       "       0.18763859, 0.18763859, 0.18763859, 0.18763859, 0.18763859,\n",
       "       0.18763859, 0.18763859, 0.18763859, 0.18763859, 0.18763859,\n",
       "       0.18763859, 0.18763859, 0.18763859, 0.18763859, 0.18763859,\n",
       "       0.18763859, 0.18763859, 0.18763859, 0.18763859, 0.18763859,\n",
       "       0.18763859, 0.18763859, 0.18763859, 0.18763859, 0.18763859,\n",
       "       0.18763859, 0.18763859, 0.18763859, 0.18763859, 0.18763859,\n",
       "       0.18763859, 0.18763859, 0.18763859, 0.18763859, 0.18763859,\n",
       "       0.18763859, 0.18763859, 0.18763859, 0.18763859, 0.18763859,\n",
       "       0.18763859, 0.18763859, 0.18763859, 0.18763859, 0.18763859,\n",
       "       0.18763859, 0.18763859, 0.18763859, 0.18763859, 0.18763859,\n",
       "       0.18763859, 0.18763859, 0.18763859, 0.18763859, 0.18763858,\n",
       "       0.18763858, 0.18763859, 0.18763859, 0.18763859, 0.18763859,\n",
       "       0.18763859, 0.18763859, 0.18763859, 0.18763859, 0.18763859,\n",
       "       0.18763859, 0.18763859, 0.18763859, 0.18763859, 0.18763859,\n",
       "       0.18763859, 0.18763859, 0.18763859, 0.18763859, 0.18763859,\n",
       "       0.18763859, 0.18763859, 0.18763859, 0.18763859, 0.18763859,\n",
       "       0.18763859, 0.18763859, 0.18763859, 0.18763859, 0.18763859,\n",
       "       0.18763859, 0.18763859, 0.18763859, 0.18763859, 0.18763859,\n",
       "       0.18763859, 0.18763859, 0.18763859, 0.18763859, 0.18763859,\n",
       "       0.18763859, 0.18763859, 0.18763859, 0.18763859, 0.18763859,\n",
       "       0.18763859, 0.18763858, 0.18763859, 0.18763859, 0.18763859,\n",
       "       0.18763859, 0.18763859, 0.18763859, 0.18763859, 0.18763859,\n",
       "       0.18763859, 0.18763859, 0.18763859, 0.18763859, 0.18763859,\n",
       "       0.18763859, 0.18763859, 0.18763859, 0.18763859, 0.18763859,\n",
       "       0.18763859, 0.18763859, 0.18763859, 0.18763859, 0.18763859,\n",
       "       0.18763859, 0.18763859, 0.18763859, 0.18763859, 0.18763859,\n",
       "       0.18763859, 0.18763859, 0.18763859, 0.18763859, 0.18763859,\n",
       "       0.18763859, 0.18763859, 0.18763859, 0.18763859, 0.18763859,\n",
       "       0.18763859, 0.18763859, 0.18763859, 0.18763859, 0.18763859,\n",
       "       0.18763859, 0.18763859, 0.18763859, 0.18763859, 0.18763859,\n",
       "       0.18763859, 0.18763859, 0.18763859, 0.18763859, 0.18763859,\n",
       "       0.18763859, 0.18763859, 0.18763859, 0.18763859, 0.18763859,\n",
       "       0.18763859, 0.18763859, 0.18763859, 0.18763859, 0.18763859,\n",
       "       0.18763859, 0.18763859, 0.18763859, 0.18763859, 0.18763859,\n",
       "       0.18763859, 0.18763859, 0.18763859, 0.18763859, 0.18763859,\n",
       "       0.18763859, 0.18763859, 0.18763859, 0.18763859, 0.18763859,\n",
       "       0.18763859, 0.18763859, 0.18763859, 0.18763859, 0.18763859,\n",
       "       0.18763859, 0.18763859, 0.18763859, 0.18763859, 0.18763859,\n",
       "       0.18763859, 0.18763859, 0.18763859, 0.18763859, 0.18763859,\n",
       "       0.18763859, 0.18763859, 0.18763859, 0.18763859, 0.18763859,\n",
       "       0.18763859, 0.18763859, 0.18763859, 0.18763859, 0.18763859,\n",
       "       0.18763859, 0.18763859, 0.18763859, 0.18763859, 0.18763859,\n",
       "       0.18763859, 0.18763859, 0.18763859, 0.18763859, 0.18763859,\n",
       "       0.18763859, 0.18763859, 0.18763859, 0.18763859, 0.18763859,\n",
       "       0.18763859, 0.18763859, 0.18763859, 0.18763859, 0.18763859,\n",
       "       0.18763859, 0.18763859, 0.18763859, 0.18763859, 0.18763859,\n",
       "       0.18763859, 0.18763859, 0.18763859, 0.18763859, 0.18763859,\n",
       "       0.18763859, 0.18763859, 0.18763858, 0.18763859, 0.18763859,\n",
       "       0.18763859, 0.18763859, 0.18763859, 0.18763859, 0.18763859,\n",
       "       0.18763859, 0.18763859, 0.18763859, 0.18763859, 0.18763859,\n",
       "       0.18763859, 0.18763859, 0.18763859, 0.18763859, 0.18763859,\n",
       "       0.18763859, 0.18763859, 0.18763859, 0.18763859, 0.18763859,\n",
       "       0.18763859, 0.18763859, 0.18763859, 0.18763859, 0.18763859,\n",
       "       0.18763859, 0.18763859, 0.18763859, 0.18763859, 0.18763859,\n",
       "       0.18763859, 0.18763859, 0.18763859, 0.18763859, 0.18763859,\n",
       "       0.18763859, 0.18763859, 0.18763859, 0.18763859, 0.18763859,\n",
       "       0.18763859, 0.18763859, 0.18763859, 0.18763859, 0.18763859,\n",
       "       0.18763859, 0.18763859, 0.18763859, 0.18763859, 0.18763859,\n",
       "       0.18763859, 0.18763859, 0.18763859, 0.18763859, 0.18763859,\n",
       "       0.18763859, 0.18763859, 0.18763859, 0.18763859, 0.18763859,\n",
       "       0.18763859, 0.18763859, 0.18763859, 0.18763859, 0.18763859,\n",
       "       0.18763859, 0.18763859, 0.18763859, 0.18763859, 0.18763859,\n",
       "       0.18763859, 0.18763859, 0.18763859, 0.18763859, 0.18763859,\n",
       "       0.18763859, 0.18763859, 0.18763859, 0.18763859, 0.18763859,\n",
       "       0.18763859, 0.18763859, 0.18763859, 0.18763859, 0.18763859,\n",
       "       0.18763859, 0.18763859, 0.18763859, 0.18763859, 0.18763859,\n",
       "       0.18763859, 0.18763859, 0.18763859, 0.18763859, 0.18763859,\n",
       "       0.18763859, 0.18763859, 0.18763859, 0.18763859, 0.18763859,\n",
       "       0.18763859, 0.18763859, 0.18763859, 0.18763859, 0.18763859,\n",
       "       0.18763859, 0.18763859, 0.18763859, 0.18763859, 0.18763859,\n",
       "       0.18763859, 0.18763859, 0.18763859, 0.18763859, 0.18763859,\n",
       "       0.18763859, 0.18763859, 0.18763859, 0.18763859, 0.18763859,\n",
       "       0.18763859, 0.18763859, 0.18763859, 0.18763859, 0.18763859,\n",
       "       0.18763859, 0.18763859, 0.18763859, 0.18763859, 0.18763859,\n",
       "       0.18763859, 0.18763859, 0.18763859, 0.18763859, 0.18763859,\n",
       "       0.18763859, 0.18763859, 0.18763859, 0.18763859, 0.18763859,\n",
       "       0.18763859, 0.18763859, 0.18763859, 0.18763859, 0.18763859,\n",
       "       0.18763859, 0.18763859, 0.18763859, 0.18763859, 0.18763859])"
      ]
     },
     "execution_count": 42,
     "metadata": {},
     "output_type": "execute_result"
    }
   ],
   "source": [
    "np.array(err['1'])[:,0]"
   ]
  },
  {
   "cell_type": "code",
   "execution_count": 28,
   "id": "99736a13-efad-4963-b769-2b526a7baedd",
   "metadata": {},
   "outputs": [
    {
     "data": {
      "text/plain": [
       "(array([  309178.27794979,   772945.58874693,  1700480.52872385,\n",
       "         8038634.1229681 , 34782556.2693515 , 77912926.04334737,\n",
       "        23188367.66240799,  6647332.97592051,   772945.58874693,\n",
       "          463767.41692469]),\n",
       " array([6.4630226 , 6.46302261, 6.46302261, 6.46302262, 6.46302263,\n",
       "        6.46302263, 6.46302264, 6.46302264, 6.46302265, 6.46302266,\n",
       "        6.46302266]),\n",
       " <a list of 10 Patch objects>)"
      ]
     },
     "execution_count": 28,
     "metadata": {},
     "output_type": "execute_result"
    },
    {
     "data": {
      "image/png": "[encoded data removed]",
      "text/plain": [
       "<Figure size 432x288 with 1 Axes>"
      ]
     },
     "metadata": {
      "needs_background": "light"
     },
     "output_type": "display_data"
    }
   ],
   "source": [
    "plt.hist(np.array(err['1'])[:,0], density=True)\n",
    "plt.hist(np.array(err['2'])[:,1], density=True)"
   ]
  },
  {
   "cell_type": "code",
   "execution_count": 12,
   "id": "80cffaab-7d10-490a-8e5f-a064da826d96",
   "metadata": {},
   "outputs": [],
   "source": [
    "d_model=forecast.first_derivative(true_value, model, model(true_value).shape, delta = 1e-5)"
   ]
  },
  {
   "cell_type": "code",
   "execution_count": 13,
   "id": "dafe8f6e-74ec-44b0-a88b-9062228a3740",
   "metadata": {},
   "outputs": [],
   "source": [
    "def F(SigmaX, SigmaY, d_model):\n",
    "    SigmaY_1 = np.linalg.inv(SigmaY)\n",
    "    res=np.zeros([2,2])\n",
    "    for i in range(2):\n",
    "        for j in range(2):\n",
    "            res[i,j] = np.sum(d_model[i,:] * np.dot( SigmaY_1, np.dot(SigmaX, SigmaY_1) ).dot(d_model[j,:]))\n",
    "    return res"
   ]
  },
  {
   "cell_type": "code",
   "execution_count": 14,
   "id": "042cf262-cf94-446a-806f-2420bb50aeab",
   "metadata": {},
   "outputs": [
    {
     "ename": "NameError",
     "evalue": "name 'cov_full' is not defined",
     "output_type": "error",
     "traceback": [
      "\u001b[0;31m---------------------------------------------------------------------------\u001b[0m",
      "\u001b[0;31mNameError\u001b[0m                                 Traceback (most recent call last)",
      "\u001b[0;32m<ipython-input-14-ab02f2ede8f4>\u001b[0m in \u001b[0;36m<module>\u001b[0;34m\u001b[0m\n\u001b[0;32m----> 1\u001b[0;31m \u001b[0mFXX\u001b[0m \u001b[0;34m=\u001b[0m \u001b[0mF\u001b[0m\u001b[0;34m(\u001b[0m\u001b[0mcov_full\u001b[0m\u001b[0;34m,\u001b[0m \u001b[0mcov_full\u001b[0m\u001b[0;34m,\u001b[0m \u001b[0md_model\u001b[0m\u001b[0;34m)\u001b[0m\u001b[0;34m\u001b[0m\u001b[0;34m\u001b[0m\u001b[0m\n\u001b[0m\u001b[1;32m      2\u001b[0m \u001b[0mFXY\u001b[0m \u001b[0;34m=\u001b[0m \u001b[0mF\u001b[0m\u001b[0;34m(\u001b[0m\u001b[0mcov_full\u001b[0m\u001b[0;34m,\u001b[0m \u001b[0mnp\u001b[0m\u001b[0;34m.\u001b[0m\u001b[0mdiag\u001b[0m\u001b[0;34m(\u001b[0m\u001b[0mcov_full\u001b[0m\u001b[0;34m.\u001b[0m\u001b[0mdiagonal\u001b[0m\u001b[0;34m(\u001b[0m\u001b[0;34m)\u001b[0m\u001b[0;34m)\u001b[0m\u001b[0;34m,\u001b[0m \u001b[0md_model\u001b[0m\u001b[0;34m)\u001b[0m\u001b[0;34m\u001b[0m\u001b[0;34m\u001b[0m\u001b[0m\n\u001b[1;32m      3\u001b[0m \u001b[0mFYX\u001b[0m \u001b[0;34m=\u001b[0m \u001b[0mF\u001b[0m\u001b[0;34m(\u001b[0m\u001b[0mnp\u001b[0m\u001b[0;34m.\u001b[0m\u001b[0mdiag\u001b[0m\u001b[0;34m(\u001b[0m\u001b[0mcov_full\u001b[0m\u001b[0;34m.\u001b[0m\u001b[0mdiagonal\u001b[0m\u001b[0;34m(\u001b[0m\u001b[0;34m)\u001b[0m\u001b[0;34m)\u001b[0m\u001b[0;34m,\u001b[0m \u001b[0mcov_full\u001b[0m\u001b[0;34m,\u001b[0m \u001b[0md_model\u001b[0m\u001b[0;34m)\u001b[0m\u001b[0;34m\u001b[0m\u001b[0;34m\u001b[0m\u001b[0m\n\u001b[1;32m      4\u001b[0m \u001b[0mFYY\u001b[0m \u001b[0;34m=\u001b[0m \u001b[0mF\u001b[0m\u001b[0;34m(\u001b[0m\u001b[0mnp\u001b[0m\u001b[0;34m.\u001b[0m\u001b[0mdiag\u001b[0m\u001b[0;34m(\u001b[0m\u001b[0mcov_full\u001b[0m\u001b[0;34m.\u001b[0m\u001b[0mdiagonal\u001b[0m\u001b[0;34m(\u001b[0m\u001b[0;34m)\u001b[0m\u001b[0;34m)\u001b[0m\u001b[0;34m,\u001b[0m \u001b[0mnp\u001b[0m\u001b[0;34m.\u001b[0m\u001b[0mdiag\u001b[0m\u001b[0;34m(\u001b[0m\u001b[0mcov_full\u001b[0m\u001b[0;34m.\u001b[0m\u001b[0mdiagonal\u001b[0m\u001b[0;34m(\u001b[0m\u001b[0;34m)\u001b[0m\u001b[0;34m)\u001b[0m\u001b[0;34m,\u001b[0m \u001b[0md_model\u001b[0m\u001b[0;34m)\u001b[0m\u001b[0;34m\u001b[0m\u001b[0;34m\u001b[0m\u001b[0m\n",
      "\u001b[0;31mNameError\u001b[0m: name 'cov_full' is not defined"
     ]
    }
   ],
   "source": [
    "FXX = F(cov_full, cov_full, d_model)\n",
    "FXY = F(cov_full, np.diag(cov_full.diagonal()), d_model)\n",
    "FYX = F(np.diag(cov_full.diagonal()), cov_full, d_model)\n",
    "FYY = F(np.diag(cov_full.diagonal()), np.diag(cov_full.diagonal()), d_model)"
   ]
  },
  {
   "cell_type": "code",
   "execution_count": null,
   "id": "a111c0dd-751a-4cb5-a5f3-d60bac188f00",
   "metadata": {},
   "outputs": [],
   "source": [
    "fig, ax = plt.subplots(1,1, figsize=(7,7))\n",
    "utils._make_ellipse(true_value, np.linalg.inv(FXX), ax, level=0.95,n_sigma=1, color='k', label = r'$F_{XX}$', ls = '-')\n",
    "utils._make_ellipse(true_value, np.linalg.inv(FXY), ax, level=0.95,n_sigma=1, color='r', label = r'$F_{XY}$', ls = '--')\n",
    "utils._make_ellipse(true_value, np.linalg.inv(FYX), ax, level=0.95,n_sigma=1, color='g', label = r'$F_{YX}$', ls = '--')\n",
    "utils._make_ellipse(true_value, np.linalg.inv(FYY), ax, level=0.95,n_sigma=1, color='b', label = r'$F_{YY}$', ls = '-')\n",
    "ax.set_xlim(true_value[0]-.2, true_value[0]+.2)\n",
    "ax.set_ylim(true_value[0]-1.5, true_value[1]+1.5)\n",
    "ax.set_xlabel('a', fontsize=20)\n",
    "ax.set_ylabel('b', fontsize=20)\n",
    "ax.tick_params(axis='both', which = 'major', labelsize= 20)\n",
    "ax.legend(fontsize=20, frameon=False)"
   ]
  },
  {
   "cell_type": "code",
   "execution_count": null,
   "id": "248b743a-7478-4ab5-a6d1-0e822ade543d",
   "metadata": {},
   "outputs": [],
   "source": []
  }
 ],
 "metadata": {
  "kernelspec": {
   "display_name": "mydesc",
   "language": "python",
   "name": "mydesc"
  },
  "language_info": {
   "codemirror_mode": {
    "name": "ipython",
    "version": 3
   },
   "file_extension": ".py",
   "mimetype": "text/x-python",
   "name": "python",
   "nbconvert_exporter": "python",
   "pygments_lexer": "ipython3",
   "version": "3.7.6"
  }
 },
 "nbformat": 4,
 "nbformat_minor": 5
}
