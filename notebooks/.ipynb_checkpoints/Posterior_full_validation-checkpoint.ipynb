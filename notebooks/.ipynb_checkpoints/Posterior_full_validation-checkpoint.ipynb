{
 "cells": [
  {
   "cell_type": "code",
   "execution_count": 5,
   "id": "b099eded-96e2-4146-97e7-9f240c3df1a2",
   "metadata": {},
   "outputs": [
    {
     "name": "stdout",
     "output_type": "stream",
     "text": [
      "The autoreload extension is already loaded. To reload it, use:\n",
      "  %reload_ext autoreload\n"
     ]
    },
    {
     "ename": "ModuleNotFoundError",
     "evalue": "No module named 'abundance'",
     "output_type": "error",
     "traceback": [
      "\u001b[0;31m---------------------------------------------------------------------------\u001b[0m",
      "\u001b[0;31mModuleNotFoundError\u001b[0m                       Traceback (most recent call last)",
      "\u001b[0;32m<ipython-input-5-e4ab0723abaf>\u001b[0m in \u001b[0;36m<module>\u001b[0;34m\u001b[0m\n\u001b[1;32m      5\u001b[0m \u001b[0;32mimport\u001b[0m \u001b[0mnumpy\u001b[0m \u001b[0;32mas\u001b[0m \u001b[0mnp\u001b[0m\u001b[0;34m\u001b[0m\u001b[0;34m\u001b[0m\u001b[0m\n\u001b[1;32m      6\u001b[0m \u001b[0;32mimport\u001b[0m \u001b[0mmatplotlib\u001b[0m\u001b[0;34m.\u001b[0m\u001b[0mpyplot\u001b[0m \u001b[0;32mas\u001b[0m \u001b[0mplt\u001b[0m\u001b[0;34m\u001b[0m\u001b[0;34m\u001b[0m\u001b[0m\n\u001b[0;32m----> 7\u001b[0;31m \u001b[0;32mimport\u001b[0m \u001b[0msee_fits\u001b[0m\u001b[0;34m\u001b[0m\u001b[0;34m\u001b[0m\u001b[0m\n\u001b[0m\u001b[1;32m      8\u001b[0m \u001b[0;32mimport\u001b[0m \u001b[0mscipy\u001b[0m\u001b[0;34m\u001b[0m\u001b[0;34m\u001b[0m\u001b[0m\n\u001b[1;32m      9\u001b[0m \u001b[0;32mfrom\u001b[0m \u001b[0mscipy\u001b[0m\u001b[0;34m.\u001b[0m\u001b[0mndimage\u001b[0m \u001b[0;32mimport\u001b[0m \u001b[0mgaussian_filter\u001b[0m\u001b[0;34m\u001b[0m\u001b[0;34m\u001b[0m\u001b[0m\n",
      "\u001b[0;32m/pbs/throng/lsst/users/cpayerne/LikelihoodsClusterAbundance/notebooks/see_fits.py\u001b[0m in \u001b[0;36m<module>\u001b[0;34m\u001b[0m\n\u001b[1;32m      3\u001b[0m \u001b[0;32mfrom\u001b[0m \u001b[0mastropy\u001b[0m\u001b[0;34m.\u001b[0m\u001b[0mtable\u001b[0m \u001b[0;32mimport\u001b[0m \u001b[0mTable\u001b[0m\u001b[0;34m\u001b[0m\u001b[0;34m\u001b[0m\u001b[0m\n\u001b[1;32m      4\u001b[0m \u001b[0msys\u001b[0m\u001b[0;34m.\u001b[0m\u001b[0mpath\u001b[0m\u001b[0;34m.\u001b[0m\u001b[0mappend\u001b[0m\u001b[0;34m(\u001b[0m\u001b[0;34m'/pbs/throng/lsst/users/cpayerne/ClusterLikelihoods/modules/'\u001b[0m\u001b[0;34m)\u001b[0m\u001b[0;34m\u001b[0m\u001b[0;34m\u001b[0m\u001b[0m\n\u001b[0;32m----> 5\u001b[0;31m \u001b[0;32mimport\u001b[0m \u001b[0mabundance\u001b[0m \u001b[0;32mas\u001b[0m \u001b[0mcl_count\u001b[0m\u001b[0;34m\u001b[0m\u001b[0;34m\u001b[0m\u001b[0m\n\u001b[0m\u001b[1;32m      6\u001b[0m \u001b[0;32mimport\u001b[0m \u001b[0mcovariance\u001b[0m \u001b[0;32mas\u001b[0m \u001b[0mcovar\u001b[0m\u001b[0;34m\u001b[0m\u001b[0;34m\u001b[0m\u001b[0m\n\u001b[1;32m      7\u001b[0m \u001b[0;32mimport\u001b[0m \u001b[0mmvp_pdf\u001b[0m\u001b[0;34m\u001b[0m\u001b[0;34m\u001b[0m\u001b[0m\n",
      "\u001b[0;31mModuleNotFoundError\u001b[0m: No module named 'abundance'"
     ]
    }
   ],
   "source": [
    "%load_ext autoreload\n",
    "\n",
    "%autoreload 2\n",
    "import sys\n",
    "import numpy as np\n",
    "import matplotlib.pyplot as plt\n",
    "import see_fits\n",
    "import scipy\n",
    "from scipy.ndimage import gaussian_filter\n",
    "sys.path.append('/pbs/throng/lsst/users/cpayerne/LikelihoodsClusterAbundance/modules/')\n",
    "import abundance as cl_count\n",
    "import covariance as covar\n",
    "import mvp_pdf\n",
    "import utils\n",
    "import edit\n",
    "import h5py\n",
    "Omega_c_true = 0.30711 - 0.048254\n",
    "Omega_b_true = 0.048254\n",
    "sigma8_true = .8288\n",
    "Omegam_true = 0.30711\n",
    "True_value = [Omega_c_true + Omega_b_true, sigma8_true]"
   ]
  },
  {
   "cell_type": "code",
   "execution_count": null,
   "id": "36950105-9065-4207-ae87-adeb28ea5126",
   "metadata": {},
   "outputs": [],
   "source": [
    "#datG = see_fits.mean_var_covar('/pbs/throng/lsst/users/cpayerne/ClusterLikelihoods_data/weights_old/Gaussian_4x4*')\n",
    "#datP=see_fits.mean_var_covar('/pbs/throng/lsst/users/cpayerne/ClusterLikelihoods_data/weights_old/Poissonian_4x4*')\n",
    "#datMPG=see_fits.mean_var_covar('/pbs/throng/lsst/users/cpayerne/ClusterLikelihoods_data/cosmological_constraints/MPG_20x30*')"
   ]
  },
  {
   "cell_type": "code",
   "execution_count": null,
   "id": "7b6d6bf1-0683-480b-8e99-983509062348",
   "metadata": {},
   "outputs": [],
   "source": [
    "len(file)"
   ]
  },
  {
   "cell_type": "code",
   "execution_count": null,
   "id": "3b7090ec-b672-48ab-9793-ad91006f0067",
   "metadata": {},
   "outputs": [],
   "source": [
    "binning=['4zx4m']\n",
    "likelihood=['Gaussian','Gaussian_full']\n",
    "cosmology = {binning[i]:{likelihood_:None for likelihood_ in likelihood} for i in range(len(binning))}\n",
    "for b in binning:\n",
    "    try:\n",
    "        cosmology[b]['Gaussian']  =see_fits.mean_var_covar('/sps/lsst/users/cpayerne/1000xsimulations/analysis/'+b+'/mean_dispersion/Gaussian*')\n",
    "        cosmology[b]['Gaussian_full']       =see_fits.mean_var_covar('/pbs/throng/lsst/users/cpayerne/ClusterLikelihoods_data/Gaussian*')\n",
    "    except: \n",
    "        continue"
   ]
  },
  {
   "cell_type": "code",
   "execution_count": null,
   "id": "378baf7f-cdc7-4563-b0fa-93e6a33920de",
   "metadata": {},
   "outputs": [],
   "source": [
    "cosmology"
   ]
  },
  {
   "cell_type": "markdown",
   "id": "9dd0f956-9780-4f56-b544-5715538d8ad3",
   "metadata": {},
   "source": [
    "# Forecast"
   ]
  },
  {
   "cell_type": "code",
   "execution_count": null,
   "id": "f47c39b3-8fba-4c8a-9390-faccc418611d",
   "metadata": {},
   "outputs": [],
   "source": [
    "forecast4x4=edit.load_pickle('/pbs/throng/lsst/users/cpayerne/ClusterLikelihoods_data/Covariances/Fisher_covariance.pickle')"
   ]
  },
  {
   "cell_type": "code",
   "execution_count": 1,
   "id": "cf527e48-0040-460d-a9f2-e42836fabd3d",
   "metadata": {},
   "outputs": [
    {
     "ename": "NameError",
     "evalue": "name 'forecast4x4' is not defined",
     "output_type": "error",
     "traceback": [
      "\u001b[0;31m---------------------------------------------------------------------------\u001b[0m",
      "\u001b[0;31mNameError\u001b[0m                                 Traceback (most recent call last)",
      "\u001b[0;32m<ipython-input-1-5b95b1a027c1>\u001b[0m in \u001b[0;36m<module>\u001b[0;34m\u001b[0m\n\u001b[0;32m----> 1\u001b[0;31m \u001b[0mforecast4x4\u001b[0m\u001b[0;34m\u001b[0m\u001b[0;34m\u001b[0m\u001b[0m\n\u001b[0m",
      "\u001b[0;31mNameError\u001b[0m: name 'forecast4x4' is not defined"
     ]
    }
   ],
   "source": [
    "forecast4x4"
   ]
  },
  {
   "cell_type": "markdown",
   "id": "783f3516-bbb5-4ca3-b6d1-b1e60c37757f",
   "metadata": {},
   "source": [
    "# Mean"
   ]
  },
  {
   "cell_type": "code",
   "execution_count": 25,
   "id": "97ca524d-6ac0-4707-9578-0f07a40d2198",
   "metadata": {},
   "outputs": [
    {
     "name": "stdout",
     "output_type": "stream",
     "text": [
      "Gaussian\n",
      "Gaussian_full\n"
     ]
    },
    {
     "ename": "IndexError",
     "evalue": "list index out of range",
     "output_type": "error",
     "traceback": [
      "\u001b[0;31m---------------------------------------------------------------------------\u001b[0m",
      "\u001b[0;31mIndexError\u001b[0m                                Traceback (most recent call last)",
      "\u001b[0;32m<ipython-input-25-8f2eb86dd139>\u001b[0m in \u001b[0;36m<module>\u001b[0;34m\u001b[0m\n\u001b[1;32m     11\u001b[0m \u001b[0mls\u001b[0m\u001b[0;34m=\u001b[0m\u001b[0;34m[\u001b[0m\u001b[0;34m'-'\u001b[0m\u001b[0;34m,\u001b[0m\u001b[0;34m'-'\u001b[0m\u001b[0;34m,\u001b[0m\u001b[0;34m'--'\u001b[0m\u001b[0;34m]\u001b[0m\u001b[0;34m\u001b[0m\u001b[0;34m\u001b[0m\u001b[0m\n\u001b[1;32m     12\u001b[0m \u001b[0;32mfor\u001b[0m \u001b[0mk\u001b[0m \u001b[0;32min\u001b[0m \u001b[0mrange\u001b[0m\u001b[0;34m(\u001b[0m\u001b[0;36m3\u001b[0m\u001b[0;34m)\u001b[0m\u001b[0;34m:\u001b[0m\u001b[0;34m\u001b[0m\u001b[0;34m\u001b[0m\u001b[0m\n\u001b[0;32m---> 13\u001b[0;31m     \u001b[0mlikelihood_\u001b[0m\u001b[0;34m=\u001b[0m\u001b[0mlikelihood\u001b[0m\u001b[0;34m[\u001b[0m\u001b[0mk\u001b[0m\u001b[0;34m]\u001b[0m\u001b[0;34m\u001b[0m\u001b[0;34m\u001b[0m\u001b[0m\n\u001b[0m\u001b[1;32m     14\u001b[0m     \u001b[0mprint\u001b[0m\u001b[0;34m(\u001b[0m\u001b[0mlikelihood_\u001b[0m\u001b[0;34m)\u001b[0m\u001b[0;34m\u001b[0m\u001b[0;34m\u001b[0m\u001b[0m\n\u001b[1;32m     15\u001b[0m     \u001b[0;32mfor\u001b[0m \u001b[0mi\u001b[0m\u001b[0;34m,\u001b[0m \u001b[0mb\u001b[0m \u001b[0;32min\u001b[0m \u001b[0menumerate\u001b[0m\u001b[0;34m(\u001b[0m\u001b[0mbinning\u001b[0m\u001b[0;34m)\u001b[0m\u001b[0;34m:\u001b[0m\u001b[0;34m\u001b[0m\u001b[0;34m\u001b[0m\u001b[0m\n",
      "\u001b[0;31mIndexError\u001b[0m: list index out of range"
     ]
    },
    {
     "data": {
      "image/png": "[encoded data removed]",
      "text/plain": [
       "<Figure size 720x504 with 6 Axes>"
      ]
     },
     "metadata": {
      "needs_background": "light"
     },
     "output_type": "display_data"
    }
   ],
   "source": [
    "title = ['Gaussian','Gaussian_full']\n",
    "colors = ['#1f77b4', '#ff7f0e', '#2ca02c',]\n",
    "n=11\n",
    "maxsOm=250\n",
    "maxss8=400\n",
    "alpha=[.3, .6, .9]\n",
    "fig, ax = plt.subplots(2, 3, figsize = (10,7), sharex='row', sharey='row')\n",
    "plt.subplots_adjust(left=None, bottom=None, right=None, top=None, wspace=.05, hspace=.4)\n",
    "label = ['Poissonian', 'Gaussian', 'MPG']\n",
    "show = [True, True, True]\n",
    "ls=['-','-','--']\n",
    "for k in range(3):\n",
    "    likelihood_=likelihood[k]\n",
    "    print(likelihood_)\n",
    "    for i, b in enumerate(binning):\n",
    "        if i >= 1: break\n",
    "        err_norm=1e-3\n",
    "            #try:\n",
    "        try:\n",
    "            \n",
    "            ax[0,k].vlines(True_value[0],0,maxsOm,ls='-',color='k',linewidth=2)\n",
    "            ax[1,k].vlines(True_value[1],0,maxss8,ls='-', color='k',linewidth=2)\n",
    "            x=np.array(cosmology[b][likelihood_]['Om'])#/np.std(cosmology[b][likelihood_]['Om'])-1\n",
    "            y=np.array(cosmology[b][likelihood_]['s8'])#/np.std(cosmology[b][likelihood_]['s8'])-1\n",
    "            #cov=np.cov(x,y)\n",
    "            for s,x_ in enumerate([x,y]):\n",
    "                hist,x_edges =np.histogram(x_, bins=50)\n",
    "                x_middle=np.array([(x_edges[i]+x_edges[i+1])/2 for i in range(len(x_edges)-1)])\n",
    "                y=gaussian_filter(hist, sigma=1.5)\n",
    "                if s==0: \n",
    "                    label=b\n",
    "                else:label=None\n",
    "                #ax[s,k].fill_between(x_middle,x_middle*0, y/scipy.integrate.simps(y,x_middle),\n",
    "                 #                    color=colors[k], alpha=alpha[i],edgecolor=\"k\", label=b)\n",
    "                #ax[s,k].plot(x_middle, y/scipy.integrate.simps(y,x_middle),\n",
    "                 #                    color=colors[i], alpha=1, label=b)\n",
    "                ax[s,k].hist(x_, density=True, bins=50, color=colors[k],linewidth=2, alpha=.2)\n",
    "                ax[s,k].hist(x_, density=True, bins=50, histtype='step',color=colors[k],linewidth=2)\n",
    "             \n",
    "        except: a=1\n",
    "\n",
    "    #except: continue\n",
    "for i in range(2):\n",
    "    for j in range(3):\n",
    "        ax[0,0].legend(frameon=False, fontsize=12, loc='upper left')\n",
    "        ax[0,j].set_title(title[j], fontsize=20)\n",
    "        ax[0,j].set_xlabel(r'$\\Omega_m$', fontsize = 20)\n",
    "        ax[1,j].set_xlabel(r'$\\sigma_8$', fontsize = 20)\n",
    "        ax[i,j].tick_params(axis='both', which = 'major', labelsize= 10)\n",
    "        ax[0,j].set_ylim(0,maxsOm)\n",
    "        ax[1,j].set_ylim(0,maxss8)\n",
    "        ax[i,j].tick_params(axis='x', rotation=45)\n",
    "        ax[i,j].set_yticks([], minor=False)\n",
    "#plt.savefig('best_fit_distribution.pdf', bbox_inches='tight', dpi=300)"
   ]
  },
  {
   "cell_type": "markdown",
   "id": "77f9ca90-1a2c-470b-b8cb-e641bb144659",
   "metadata": {},
   "source": [
    "# Standard deviation"
   ]
  },
  {
   "cell_type": "code",
   "execution_count": null,
   "id": "9234cdb8-5b2d-49bf-95c9-c782ebbc4af7",
   "metadata": {},
   "outputs": [],
   "source": []
  },
  {
   "cell_type": "code",
   "execution_count": 52,
   "id": "5d0b13f6-a3d1-47e1-8005-d40be1baf02f",
   "metadata": {},
   "outputs": [
    {
     "name": "stdout",
     "output_type": "stream",
     "text": [
      "Gaussian\n",
      "4zx4m\n",
      "Gaussian_full\n",
      "4zx4m\n"
     ]
    },
    {
     "data": {
      "text/plain": [
       "<matplotlib.legend.Legend at 0x7f618d06df10>"
      ]
     },
     "execution_count": 52,
     "metadata": {},
     "output_type": "execute_result"
    },
    {
     "data": {
      "image/png": "[encoded data removed]",
      "text/plain": [
       "<Figure size 720x360 with 2 Axes>"
      ]
     },
     "metadata": {
      "needs_background": "light"
     },
     "output_type": "display_data"
    }
   ],
   "source": [
    "title = ['G','G_full']\n",
    "colors = ['#1f77b4', '#ff7f0e', '#2ca02c',]\n",
    "n=11\n",
    "maxsOm=50000\n",
    "maxss8=90000\n",
    "alpha=[.3, .6, .9]\n",
    "fig, ax = plt.subplots(1, 2, figsize = (10,5),sharex='col')\n",
    "plt.rcParams['axes.linewidth']= 2\n",
    "plt.subplots_adjust(left=None, bottom=None, right=None, top=None, wspace=.05, hspace=.2)\n",
    "label = ['Poissonian', 'Gaussian', 'MPG']\n",
    "show = [True, True, True]\n",
    "ls=['-','-','--']\n",
    "for k in range(2):\n",
    "    likelihood_=likelihood[k]\n",
    "    print(likelihood_)\n",
    "    print(b)\n",
    "    err_norm=1e-3\n",
    "            #try:\n",
    "   \n",
    "    try:\n",
    "        ax[0].vlines(np.std(cosmology[b][likelihood_]['Om'], ddof=1),0,maxsOm,ls='-',color=colors[k],alpha=1,linewidth=3)\n",
    "        ax[1].vlines(np.std(cosmology[b][likelihood_]['s8'], ddof=1),0,maxss8,ls='-', color=colors[k],alpha=1,linewidth=3)\n",
    "\n",
    "        x=np.array(cosmology[b][likelihood[k]]['cov'][:,0,0]**.5)#/np.std(cosmology[b][likelihood_]['Om'])-1\n",
    "        y=np.array(cosmology[b][likelihood[k]]['cov'][:,1,1]**.5)#/np.std(cosmology[b][likelihood_]['Om'])-1\n",
    "        x_=[x,y]\n",
    "        for s, x in enumerate(x_):\n",
    "            hist,x_edges =np.histogram(x, bins=150)\n",
    "            x_middle=np.array([(x_edges[i]+x_edges[i+1])/2 for i in range(len(x_edges)-1)])\n",
    "            y=gaussian_filter(hist, sigma=2)\n",
    "            ax[s].fill_between(x_middle,x_middle*0, y/scipy.integrate.simps(y,x_middle),\n",
    "                                 color=colors[k], alpha=0.1)\n",
    "            #ax[i,s].hist(x,density=True, color=colors[k],bins=50, alpha=.5)\n",
    "            ax[s].plot(x_middle,y/scipy.integrate.simps(y,x_middle), alpha=1,color=colors[k], label=title[k])\n",
    "    except:a=1\n",
    "ax[0].legend()\n",
    "\n",
    "#except: continue"
   ]
  },
  {
   "cell_type": "code",
   "execution_count": null,
   "id": "afc8c4a8-f1c8-4e66-b8f6-6019ffe8d449",
   "metadata": {},
   "outputs": [],
   "source": [
    "{i"
   ]
  },
  {
   "cell_type": "code",
   "execution_count": null,
   "id": "d127ff68-d85a-4fcd-a549-1aba33dc0dbf",
   "metadata": {},
   "outputs": [],
   "source": []
  }
 ],
 "metadata": {
  "kernelspec": {
   "display_name": "mydesc",
   "language": "python",
   "name": "mydesc"
  },
  "language_info": {
   "codemirror_mode": {
    "name": "ipython",
    "version": 3
   },
   "file_extension": ".py",
   "mimetype": "text/x-python",
   "name": "python",
   "nbconvert_exporter": "python",
   "pygments_lexer": "ipython3",
   "version": "3.7.6"
  }
 },
 "nbformat": 4,
 "nbformat_minor": 5
}
