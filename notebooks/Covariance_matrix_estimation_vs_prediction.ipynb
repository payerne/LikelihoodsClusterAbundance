{
 "cells": [
  {
   "cell_type": "code",
   "execution_count": 3,
   "id": "fbc30760-32a2-420e-9f82-52c3d635a591",
   "metadata": {},
   "outputs": [],
   "source": [
    "import numpy as np\n",
    "import sys\n",
    "import glob\n",
    "import pickle\n",
    "import pandas as pd\n",
    "import pyccl as ccl\n",
    "from mpl_toolkits import axes_grid1\n",
    "import matplotlib.pyplot as plt"
   ]
  },
  {
   "cell_type": "code",
   "execution_count": 4,
   "id": "f5c7bcbb-0241-47a3-8199-36f798178d62",
   "metadata": {},
   "outputs": [
    {
     "name": "stdout",
     "output_type": "stream",
     "text": [
      "The autoreload extension is already loaded. To reload it, use:\n",
      "  %reload_ext autoreload\n"
     ]
    }
   ],
   "source": [
    "%load_ext autoreload\n",
    "%autoreload 2\n",
    "sys.path.append('../modules/')\n",
    "import abundance as cl_count\n",
    "import covariance as covar\n",
    "def binning(corner): return [[corner[i],corner[i+1]] for i in range(len(corner)-1)]"
   ]
  },
  {
   "cell_type": "code",
   "execution_count": 5,
   "id": "17bfb831-919d-491d-ad6a-fe34a92b9db7",
   "metadata": {},
   "outputs": [],
   "source": [
    "sys.path.append('/pbs/throng/lsst/users/cpayerne/PySSC/')\n",
    "import PySSC"
   ]
  },
  {
   "cell_type": "code",
   "execution_count": 8,
   "id": "411048bd-0444-4786-a2de-f8305125972b",
   "metadata": {},
   "outputs": [
    {
     "ename": "AttributeError",
     "evalue": "module 'PySSC' has no attribute '__version__'",
     "output_type": "error",
     "traceback": [
      "\u001b[0;31m---------------------------------------------------------------------------\u001b[0m",
      "\u001b[0;31mAttributeError\u001b[0m                            Traceback (most recent call last)",
      "\u001b[0;32m<ipython-input-8-2c6f0c981104>\u001b[0m in \u001b[0;36m<module>\u001b[0;34m\u001b[0m\n\u001b[0;32m----> 1\u001b[0;31m \u001b[0mPySSC\u001b[0m\u001b[0;34m.\u001b[0m\u001b[0m__version__\u001b[0m\u001b[0;34m\u001b[0m\u001b[0;34m\u001b[0m\u001b[0m\n\u001b[0m",
      "\u001b[0;31mAttributeError\u001b[0m: module 'PySSC' has no attribute '__version__'"
     ]
    }
   ],
   "source": [
    "PySSC.__version__"
   ]
  },
  {
   "cell_type": "code",
   "execution_count": 216,
   "id": "ec13044b-81ba-4af2-a253-07f920015c3d",
   "metadata": {},
   "outputs": [],
   "source": [
    "n_logm_bin =4\n",
    "n_z_bin =4\n",
    "logm_corner = np.linspace(14.2, 15.6, n_logm_bin + 1)\n",
    "logMass_bin = binning(logm_corner)\n",
    "z_corner = np.linspace(0.2,1.2, n_z_bin + 1)\n",
    "Z_bin = binning(z_corner)"
   ]
  },
  {
   "cell_type": "markdown",
   "id": "cadd03ca-cc24-4ef7-867b-c30b057cf205",
   "metadata": {},
   "source": [
    "# Covariance Matrix Prediction (CCL + PySSC from F.Lacasa et al.)"
   ]
  },
  {
   "cell_type": "markdown",
   "id": "42b3af43-f718-4d3c-af3d-f6c0031b4478",
   "metadata": {},
   "source": [
    "## Fiducial cosmology (CCL)"
   ]
  },
  {
   "cell_type": "code",
   "execution_count": 217,
   "id": "8706a54a-b048-4d13-817d-20012c22ab79",
   "metadata": {},
   "outputs": [],
   "source": [
    "Omega_c_true = 0.30711 - 0.048254\n",
    "Omega_b_true = 0.048254\n",
    "sigma8_true = .8288\n",
    "Omegam_true = 0.30711\n",
    "True_value = [Omega_c_true + Omega_b_true, sigma8_true]\n",
    "cosmo = ccl.Cosmology(Omega_c = Omega_c_true, Omega_b = Omega_b_true, h = 0.6777, sigma8 = sigma8_true, n_s=0.96)"
   ]
  },
  {
   "cell_type": "markdown",
   "id": "bc20ea66-dd6a-463f-a19b-f77a16825f95",
   "metadata": {},
   "source": [
    "## Abundance (CCL)"
   ]
  },
  {
   "cell_type": "code",
   "execution_count": 218,
   "id": "a62a29eb-f843-4a97-be80-90ef428541b3",
   "metadata": {},
   "outputs": [],
   "source": [
    "clc = cl_count.ClusterAbundance()\n",
    "#choose the halo mass function and mass definition\n",
    "massdef = ccl.halos.massdef.MassDef('vir', 'critical', c_m_relation=None)\n",
    "hmd = ccl.halos.hmfunc.MassFuncDespali16(cosmo, mass_def=massdef)\n",
    "halobias = ccl.halos.hbias.HaloBiasTinker10(cosmo, mass_def= massdef, mass_def_strict=True)\n",
    "clc.set_cosmology(cosmo = cosmo, hmd = hmd, massdef = massdef)\n",
    "clc.sky_area = (0.25) * 4 * np.pi\n",
    "clc.f_sky = clc.sky_area/(4*np.pi)\n",
    "z_grid = np.linspace(0.2, 2.1, 2000)\n",
    "logm_grid = np.linspace(14.2, 15.6, 2001)\n",
    "clc.compute_multiplicity_grid_MZ(z_grid = z_grid, logm_grid = logm_grid)\n",
    "Abundance = clc.Cluster_Abundance_MZ(Redshift_bin = Z_bin, Proxy_bin = logMass_bin, method = 'simps')\n",
    "clc.compute_halo_bias_grid_MZ(z_grid = z_corner, logm_grid = logm_corner, halobiais = halobias)\n",
    "NHalo_bias = clc.Nhalo_bias_MZ(Redshift_bin = Z_bin, Proxy_bin = logMass_bin, method = 'simps')"
   ]
  },
  {
   "cell_type": "markdown",
   "id": "7492aa13-eac4-490a-b050-3feda9d887b0",
   "metadata": {},
   "source": [
    "## Matter amplitude fluctuation (PySSC)"
   ]
  },
  {
   "cell_type": "code",
   "execution_count": 219,
   "id": "85868fb0-9e34-4464-a929-debc6b811fc6",
   "metadata": {},
   "outputs": [],
   "source": [
    "Covariance = covar.Covariance_matrix()\n",
    "#use PySSC from Lacasa et al.\n",
    "Sij = Covariance.matter_fluctuation_amplitude_fullsky(Z_bin)"
   ]
  },
  {
   "cell_type": "markdown",
   "id": "aa5248a8-2ddc-4048-b319-14d57a81984b",
   "metadata": {},
   "source": [
    "## Sample covariance (CCL + pySSC)"
   ]
  },
  {
   "cell_type": "code",
   "execution_count": 220,
   "id": "cbc6edd4-bf69-42f2-801e-80c5c8d7975c",
   "metadata": {},
   "outputs": [],
   "source": [
    "Sample_covariance = Covariance.sample_covariance_full_sky(Z_bin, logMass_bin, NHalo_bias, Sij)/clc.f_sky"
   ]
  },
  {
   "cell_type": "code",
   "execution_count": 221,
   "id": "1a59e36a-73a3-43df-9d21-96fe043707cb",
   "metadata": {},
   "outputs": [],
   "source": [
    "Covariance_prediction = Sample_covariance + np.diag(Abundance.flatten())"
   ]
  },
  {
   "cell_type": "markdown",
   "id": "8f0af414-e0b1-4c7e-97b5-150b34b4e767",
   "metadata": {},
   "source": [
    "# Covariance Matrix Estimation (Pinnochio simulations)"
   ]
  },
  {
   "cell_type": "code",
   "execution_count": 222,
   "id": "baeb9cdc-202e-4265-9bf4-083cbd991a07",
   "metadata": {},
   "outputs": [],
   "source": [
    "def load(filename, **kwargs):\n",
    "    with open(filename, 'rb') as fin:\n",
    "        return pickle.load(fin, **kwargs)"
   ]
  },
  {
   "cell_type": "code",
   "execution_count": 223,
   "id": "10778532-d12d-431e-8bb0-06060855f2b0",
   "metadata": {},
   "outputs": [],
   "source": [
    "dat = load('/sps/lsst/users/cpayerne/1000xsimulations/analysis/binned_catalogs/4x4_binned_catalogs.pkl')"
   ]
  },
  {
   "cell_type": "code",
   "execution_count": 224,
   "id": "cc1bab4f-4324-4da5-ba20-6a4ba42105b5",
   "metadata": {},
   "outputs": [],
   "source": [
    "N = np.array(dat,dtype=object)"
   ]
  },
  {
   "cell_type": "code",
   "execution_count": 225,
   "id": "8615fe79-90ad-4914-8460-eca734d86c86",
   "metadata": {},
   "outputs": [],
   "source": [
    "count = np.array(N[3])"
   ]
  },
  {
   "cell_type": "code",
   "execution_count": 226,
   "id": "16d6eb26-6616-44a3-9dc5-295e38a5d3b8",
   "metadata": {},
   "outputs": [],
   "source": [
    "count_mean = np.mean(count, axis=0)"
   ]
  },
  {
   "cell_type": "code",
   "execution_count": 227,
   "id": "82536c4c-9c63-4c8c-98ac-605eeca825a2",
   "metadata": {},
   "outputs": [
    {
     "data": {
      "text/plain": [
       "(4, 4)"
      ]
     },
     "execution_count": 227,
     "metadata": {},
     "output_type": "execute_result"
    }
   ],
   "source": [
    "count_mean.shape"
   ]
  },
  {
   "cell_type": "code",
   "execution_count": 228,
   "id": "ab85d5b7-486b-48bc-9b53-8eabaf0cc46a",
   "metadata": {},
   "outputs": [],
   "source": [
    "count_ordered = count.reshape(-1,(4*4))"
   ]
  },
  {
   "cell_type": "code",
   "execution_count": 229,
   "id": "462e8ac8-3c3f-4f10-bc12-2c05888c0876",
   "metadata": {},
   "outputs": [],
   "source": [
    "count_ordered = np.zeros([1000, n_logm_bin*n_z_bin])\n",
    "for i in range(1000):\n",
    "    count_ordered[i,:]=count[i].flatten()"
   ]
  },
  {
   "cell_type": "code",
   "execution_count": 230,
   "id": "9e8f0344-29cf-4010-804c-e788811f9090",
   "metadata": {},
   "outputs": [],
   "source": [
    "Covariance_estimation = np.cov(count_ordered.T, bias=True)"
   ]
  },
  {
   "cell_type": "code",
   "execution_count": 231,
   "id": "aa864c69-eeec-43f4-aa19-99afbee4452f",
   "metadata": {},
   "outputs": [],
   "source": [
    "mean_estimation = np.mean(count_ordered.T, axis = 1)"
   ]
  },
  {
   "cell_type": "code",
   "execution_count": 232,
   "id": "50aabeb1-9d20-4362-954f-64d2ffc7f52d",
   "metadata": {},
   "outputs": [],
   "source": [
    "mean_estimation_plot = mean_estimation.reshape(4*4)"
   ]
  },
  {
   "cell_type": "code",
   "execution_count": 233,
   "id": "cd74ac9f-b5a4-46af-bec4-ca4a4c60b9ba",
   "metadata": {},
   "outputs": [],
   "source": [
    "c = (1000 - n_logm_bin*n_z_bin -2)/(1000-1)"
   ]
  },
  {
   "cell_type": "code",
   "execution_count": 234,
   "id": "37a000a3-ae34-4246-8187-8a91fd803bef",
   "metadata": {},
   "outputs": [],
   "source": [
    "def corr(C1, C2):\n",
    "    res=np.zeros([C1.shape[0],C1.shape[1]])\n",
    "    for i in range(C1.shape[0]):\n",
    "        for j in range(C1.shape[0]):\n",
    "            res[i,j]=C1[i,j]/np.sqrt(C2[i,i]*C2[j,j])\n",
    "    return res"
   ]
  },
  {
   "cell_type": "code",
   "execution_count": 235,
   "id": "163a51ce-cb32-4733-86cc-99f4140ac6e5",
   "metadata": {},
   "outputs": [],
   "source": [
    "c1=corr(Covariance_estimation-np.diag(mean_estimation.flatten())/c, \n",
    "                np.diag(mean_estimation.flatten()))\n",
    "c2=corr(Covariance_prediction-np.diag(Abundance.flatten()), \n",
    "                np.diag(Abundance.flatten()))\n",
    "plot=np.zeros([c1.shape[0], c1.shape[1]])\n",
    "for i in range(c1.shape[0]):\n",
    "    for j in range(c1.shape[1]):\n",
    "        if i >= j:\n",
    "            plot[i,j]=Covariance_estimation[i,j]/np.sqrt(Covariance_estimation[i,i]*Covariance_estimation[j,j])\n",
    "        else: plot[i,j]=Covariance_prediction[i,j]/np.sqrt(Covariance_prediction[i,i]*Covariance_prediction[j,j])"
   ]
  },
  {
   "cell_type": "code",
   "execution_count": 236,
   "id": "6809104b-63c9-415f-8563-aec6374fbabb",
   "metadata": {},
   "outputs": [
    {
     "data": {
      "text/plain": [
       "<matplotlib.colorbar.Colorbar at 0x7fe08a7f2bd0>"
      ]
     },
     "execution_count": 236,
     "metadata": {},
     "output_type": "execute_result"
    },
    {
     "data": {
      "image/png": "[encoded data removed]",
      "text/plain": [
       "<Figure size 720x720 with 2 Axes>"
      ]
     },
     "metadata": {
      "needs_background": "light"
     },
     "output_type": "display_data"
    }
   ],
   "source": [
    "plt.figure(figsize=(10,10))\n",
    "plt.rcParams['axes.linewidth']= 1\n",
    "plt.tick_params(axis='both', which = 'major', labelsize= 15)\n",
    "im=plt.imshow(plot, \n",
    "           vmin=-1, vmax=1, \n",
    "           cmap='bwr', )\n",
    "              #origin='lower')\n",
    "x = np.arange(len(plot[:,1]))\n",
    "plt.plot(x,x,'k')\n",
    "z_ticks = [f'{z:.2f}' for z in z_corner]\n",
    "index = np.arange((len(Z_bin))*(len(logMass_bin)))\n",
    "index_split = np.split(index, len(Z_bin))\n",
    "ticks = [index_split[i][0] for i in range(len(Z_bin))]\n",
    "ticks.append(len(Z_bin)*len(logMass_bin) - 1)\n",
    "plt.xticks(ticks=ticks, labels=z_ticks)\n",
    "plt.yticks(ticks=ticks, labels=z_ticks)\n",
    "plt.xlabel('redshift', fontsize = 20)\n",
    "plt.ylabel('redshift', fontsize = 20)\n",
    "plt.grid(True, which='minor')\n",
    "plt.grid(True, which='minor')\n",
    "plt.colorbar()\n",
    "#plt.savefig('corr.pdf', bbox_inches='tight', dpi=300)"
   ]
  },
  {
   "cell_type": "code",
   "execution_count": 237,
   "id": "a5f79d92-9fdc-40b5-adec-eae9867af745",
   "metadata": {},
   "outputs": [
    {
     "data": {
      "text/plain": [
       "Text(0, 0.5, '|bias| (%)')"
      ]
     },
     "execution_count": 237,
     "metadata": {},
     "output_type": "execute_result"
    },
    {
     "data": {
      "image/png": "[encoded data removed]",
      "text/plain": [
       "<Figure size 432x288 with 1 Axes>"
      ]
     },
     "metadata": {
      "needs_background": "light"
     },
     "output_type": "display_data"
    }
   ],
   "source": [
    "beta = (1000-20*30-2)/(1000-1)\n",
    "plt.plot(count_mean.flatten(), 100*(Covariance_estimation.diagonal()-Covariance_prediction.diagonal())/Covariance_prediction.diagonal(), 'xk')\n",
    "#plt.plot(count_mean.flatten(), 0*(Covariance_estimation.diagonal()-Covariance_prediction.diagonal())/Covariance_prediction.diagonal(), '-k', linewidth=1)\n",
    "plt.xscale('log')\n",
    "plt.xlabel('N', fontsize=20)\n",
    "plt.ylabel('|bias| (%)', fontsize=20)\n",
    "#plt.savefig('bias_sigma.pdf', bbox_inches='tight', dpi=300)"
   ]
  },
  {
   "cell_type": "code",
   "execution_count": 238,
   "id": "3c82afcf-c205-4674-a5f9-78a486d747a5",
   "metadata": {},
   "outputs": [
    {
     "data": {
      "image/png": "[encoded data removed]",
      "text/plain": [
       "<Figure size 432x288 with 1 Axes>"
      ]
     },
     "metadata": {
      "needs_background": "light"
     },
     "output_type": "display_data"
    }
   ],
   "source": [
    "beta = (1000-20*30-2)/(1000-1)\n",
    "plt.plot(count_mean.flatten(),(count_mean.flatten()-Abundance.flatten())/count_mean.flatten())\n",
    "plt.yscale('log')"
   ]
  },
  {
   "cell_type": "code",
   "execution_count": null,
   "id": "28a27af4-b12d-40ae-9603-ca27efe8da26",
   "metadata": {},
   "outputs": [],
   "source": []
  },
  {
   "cell_type": "code",
   "execution_count": null,
   "id": "557c5532-141e-46e0-a44d-528d28b4b986",
   "metadata": {},
   "outputs": [],
   "source": []
  },
  {
   "cell_type": "code",
   "execution_count": null,
   "id": "5229dc73-7d0b-4396-9e9e-031b870c15e6",
   "metadata": {},
   "outputs": [],
   "source": []
  },
  {
   "cell_type": "code",
   "execution_count": null,
   "id": "758953c8-ccdc-481c-acc5-8a3ff40f0750",
   "metadata": {},
   "outputs": [],
   "source": []
  },
  {
   "cell_type": "code",
   "execution_count": null,
   "id": "290312df-8925-40ef-905b-148f6e584c02",
   "metadata": {},
   "outputs": [],
   "source": []
  }
 ],
 "metadata": {
  "kernelspec": {
   "display_name": "mydesc",
   "language": "python",
   "name": "mydesc"
  },
  "language_info": {
   "codemirror_mode": {
    "name": "ipython",
    "version": 3
   },
   "file_extension": ".py",
   "mimetype": "text/x-python",
   "name": "python",
   "nbconvert_exporter": "python",
   "pygments_lexer": "ipython3",
   "version": "3.7.6"
  }
 },
 "nbformat": 4,
 "nbformat_minor": 5
}
