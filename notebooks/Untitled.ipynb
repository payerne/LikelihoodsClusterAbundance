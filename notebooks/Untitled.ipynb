{
 "cells": [
  {
   "cell_type": "code",
   "execution_count": 25,
   "id": "571788a5-c255-4eb8-83e7-aee1c545d87c",
   "metadata": {},
   "outputs": [],
   "source": [
    "import numpy as np\n",
    "import matplotlib.pyplot as plt"
   ]
  },
  {
   "cell_type": "code",
   "execution_count": 26,
   "id": "01b064f7-e307-4465-a2c6-4efa7ab5dad2",
   "metadata": {},
   "outputs": [],
   "source": [
    "import glob\n",
    "file = glob.glob('/sps/lsst/users/cpayerne/1000xsimulations/analysis/100zx100m/mean_dispersion/M*')"
   ]
  },
  {
   "cell_type": "code",
   "execution_count": 27,
   "id": "d33051d1-d29b-4645-af98-05fb25e5693d",
   "metadata": {},
   "outputs": [],
   "source": [
    "f = [int(file[i].split('.pickle')[0].split('simu_')[1]) for i in range(len(file))]"
   ]
  },
  {
   "cell_type": "code",
   "execution_count": 28,
   "id": "d7b38ca5-bb61-46c1-9353-eae74e0afa91",
   "metadata": {},
   "outputs": [
    {
     "data": {
      "text/plain": [
       "(array([100., 100., 100., 100.,  99.,  90.,  93.,  93.,  91.,  96.]),\n",
       " array([  1. , 100.8, 200.6, 300.4, 400.2, 500. , 599.8, 699.6, 799.4,\n",
       "        899.2, 999. ]),\n",
       " <a list of 10 Patch objects>)"
      ]
     },
     "execution_count": 28,
     "metadata": {},
     "output_type": "execute_result"
    },
    {
     "data": {
      "image/png": "[encoded data removed]",
      "text/plain": [
       "<Figure size 432x288 with 1 Axes>"
      ]
     },
     "metadata": {
      "needs_background": "light"
     },
     "output_type": "display_data"
    }
   ],
   "source": [
    "plt.hist(f)"
   ]
  },
  {
   "cell_type": "code",
   "execution_count": 29,
   "id": "bba6e7f9-fc66-471d-aa02-3e8cf9edc797",
   "metadata": {},
   "outputs": [
    {
     "data": {
      "text/plain": [
       "962"
      ]
     },
     "execution_count": 29,
     "metadata": {},
     "output_type": "execute_result"
    }
   ],
   "source": [
    "len(f)"
   ]
  },
  {
   "cell_type": "code",
   "execution_count": null,
   "id": "2945c508-57ef-45ad-b111-fdb7d88f1190",
   "metadata": {},
   "outputs": [],
   "source": []
  }
 ],
 "metadata": {
  "kernelspec": {
   "display_name": "mydesc",
   "language": "python",
   "name": "mydesc"
  },
  "language_info": {
   "codemirror_mode": {
    "name": "ipython",
    "version": 3
   },
   "file_extension": ".py",
   "mimetype": "text/x-python",
   "name": "python",
   "nbconvert_exporter": "python",
   "pygments_lexer": "ipython3",
   "version": "3.7.6"
  }
 },
 "nbformat": 4,
 "nbformat_minor": 5
}
