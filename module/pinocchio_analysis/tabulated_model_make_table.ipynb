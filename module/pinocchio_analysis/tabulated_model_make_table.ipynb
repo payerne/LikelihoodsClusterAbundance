{
 "cells": [
  {
   "cell_type": "code",
   "execution_count": 12,
   "id": "49ff85fe-68eb-4043-a7ee-b761c8ae7f28",
   "metadata": {},
   "outputs": [
    {
     "name": "stdout",
     "output_type": "stream",
     "text": [
      "The autoreload extension is already loaded. To reload it, use:\n",
      "  %reload_ext autoreload\n"
     ]
    }
   ],
   "source": [
    "%load_ext autoreload\n",
    "%autoreload 2\n",
    "import numpy as np\n",
    "import glob, sys\n",
    "import matplotlib.pyplot as plt\n",
    "from astropy.table import Table, vstack\n",
    "sys.path.append('/pbs/throng/lsst/users/cpayerne/ClusterLikelihoods/modules/')\n",
    "import abundance as cl_count\n",
    "import utils\n",
    "import edit"
   ]
  },
  {
   "cell_type": "code",
   "execution_count": 13,
   "id": "5e3efabd-55df-4a97-b062-14ee6a901704",
   "metadata": {},
   "outputs": [],
   "source": [
    "d = glob.glob('/sps/lsst/users/cpayerne/1000xsimulations/analysis/100zx100m/mean_dispersion_fsky_div_10/MPG_*')"
   ]
  },
  {
   "cell_type": "code",
   "execution_count": 14,
   "id": "fdf4f29c-72f5-4ee8-9160-10e9b5c22cfe",
   "metadata": {},
   "outputs": [
    {
     "data": {
      "text/plain": [
       "1"
      ]
     },
     "execution_count": 14,
     "metadata": {},
     "output_type": "execute_result"
    }
   ],
   "source": [
    "len(d)"
   ]
  },
  {
   "cell_type": "code",
   "execution_count": 15,
   "id": "8ff6a63a-82fa-4e63-ad26-59d2f76f0607",
   "metadata": {},
   "outputs": [],
   "source": [
    "t=edit.load_pickle(d[0])"
   ]
  },
  {
   "cell_type": "code",
   "execution_count": 16,
   "id": "5deab07b-5aa3-4426-ab61-87574282d37d",
   "metadata": {},
   "outputs": [
    {
     "data": {
      "text/plain": [
       "{'mean_Om': 0.30128345451165967,\n",
       " 'mean_s8': 0.8313587909138449,\n",
       " 'covariance': array([[ 8.97820984e-05, -4.42052595e-05],\n",
       "        [-4.42052595e-05,  2.45734420e-05]])}"
      ]
     },
     "execution_count": 16,
     "metadata": {},
     "output_type": "execute_result"
    }
   ],
   "source": [
    "t"
   ]
  },
  {
   "cell_type": "code",
   "execution_count": 11,
   "id": "f1b4257c-e6dc-4669-8428-b0c0a85cc598",
   "metadata": {},
   "outputs": [],
   "source": [
    "for i, file in enumerate(d):\n",
    "    abundance_ = Table()\n",
    "    f=np.array(edit.load_hdf5(file))\n",
    "    s=[f[i][0] for i in range(len(f))]\n",
    "    abundance_['Om']=[f[i][0] for i in range(len(f))]\n",
    "    abundance_['s8']=[f[i][1] for i in range(len(f))]\n",
    "    abundance_['q']=[f[i][2] for i in range(len(f))]\n",
    "    abundance_['abundance']=[f[i][3] for i in range(len(f))]\n",
    "    if i==0: abundance=abundance_\n",
    "    else: abundance=vstack([abundance_, abundance])"
   ]
  },
  {
   "cell_type": "code",
   "execution_count": 12,
   "id": "92adf1b4-bba6-4560-b43f-30e266c09e5f",
   "metadata": {},
   "outputs": [
    {
     "data": {
      "text/html": [
       "<i>Table length=10000</i>\n",
       "<table id=\"table140057949964560\" class=\"table-striped table-bordered table-condensed\">\n",
       "<thead><tr><th>Om</th><th>s8</th><th>q</th><th>abundance [20,30]</th></tr></thead>\n",
       "<thead><tr><th>float64</th><th>float64</th><th>float64</th><th>float64</th></tr></thead>\n",
       "<tr><td>0.3088683985888102</td><td>0.829413578189992</td><td>8519.510546409656</td><td>503.9904488641495 .. 1.5250476078765187e-05</td></tr>\n",
       "<tr><td>0.3143458817691594</td><td>0.8247585557390427</td><td>7972.564830133466</td><td>510.63472101118924 .. 1.1349134031698774e-05</td></tr>\n",
       "<tr><td>0.3029265487375394</td><td>0.8317619563120898</td><td>10242.424711776457</td><td>492.6880319861577 .. 1.8566369689758208e-05</td></tr>\n",
       "<tr><td>0.31278601843283926</td><td>0.8281092000487237</td><td>3802.013663930326</td><td>511.7917208881898 .. 1.3554281316790064e-05</td></tr>\n",
       "<tr><td>0.30949301605987894</td><td>0.8276536287969306</td><td>12785.489499363792</td><td>502.9404879719996 .. 1.3943282378225696e-05</td></tr>\n",
       "<tr><td>0.30071984997983053</td><td>0.8288186293588977</td><td>1305.7980018206238</td><td>483.0277726572655 .. 1.683537569304967e-05</td></tr>\n",
       "<tr><td>0.29846393968055196</td><td>0.8332518274647311</td><td>6443.846900200033</td><td>483.7922251429588 .. 2.1278270886249906e-05</td></tr>\n",
       "<tr><td>0.3129286658692961</td><td>0.8232300073798787</td><td>3136.979334318135</td><td>504.83040420620665 .. 1.079503634755526e-05</td></tr>\n",
       "<tr><td>0.308168691308102</td><td>0.8286509107612762</td><td>13005.903396429443</td><td>501.1345437117631 .. 1.488711618459417e-05</td></tr>\n",
       "<tr><td>0.31251837496892054</td><td>0.8302340814076928</td><td>541.9852038000391</td><td>514.2919174026393 .. 1.4992941906666432e-05</td></tr>\n",
       "<tr><td>...</td><td>...</td><td>...</td><td>...</td></tr>\n",
       "<tr><td>0.3055869480330536</td><td>0.8317887755494272</td><td>5545.042364212372</td><td>499.3181039627178 .. 1.7843677174576635e-05</td></tr>\n",
       "<tr><td>0.3006260803625953</td><td>0.8320297151186639</td><td>8863.605593992252</td><td>487.3887890397809 .. 1.9476199088518377e-05</td></tr>\n",
       "<tr><td>0.30053392476298846</td><td>0.8296572592342194</td><td>2635.6246297026732</td><td>483.7731042502576 .. 1.7535777045853708e-05</td></tr>\n",
       "<tr><td>0.3076964561764004</td><td>0.8270582683431196</td><td>9274.002138302569</td><td>497.6264301471834 .. 1.3943396865875834e-05</td></tr>\n",
       "<tr><td>0.30836968064710857</td><td>0.8291299745706602</td><td>11136.336398592995</td><td>502.3366207214765 .. 1.5168732102674261e-05</td></tr>\n",
       "<tr><td>0.31164417965838803</td><td>0.8287695987114765</td><td>4050.0996382509443</td><td>509.9330431165336 .. 1.420799568902155e-05</td></tr>\n",
       "<tr><td>0.30348357057183734</td><td>0.8313390020273242</td><td>11055.520525758402</td><td>493.45770360627284 .. 1.8061092376344257e-05</td></tr>\n",
       "<tr><td>0.31014542910019083</td><td>0.8262470565931139</td><td>10461.959094299162</td><td>502.47009797164634 .. 1.2944141865529474e-05</td></tr>\n",
       "<tr><td>0.31436750167590966</td><td>0.8253331414635237</td><td>7846.017743003765</td><td>511.5546471431034 .. 1.1651929524634246e-05</td></tr>\n",
       "<tr><td>0.29813791585437227</td><td>0.8327518874961415</td><td>5482.324311773088</td><td>482.2833671092703 .. 2.0919026044687803e-05</td></tr>\n",
       "</table>"
      ],
      "text/plain": [
       "<Table length=10000>\n",
       "         Om         ...              abundance [20,30]              \n",
       "      float64       ...                   float64                   \n",
       "------------------- ... --------------------------------------------\n",
       " 0.3088683985888102 ...  503.9904488641495 .. 1.5250476078765187e-05\n",
       " 0.3143458817691594 ... 510.63472101118924 .. 1.1349134031698774e-05\n",
       " 0.3029265487375394 ...  492.6880319861577 .. 1.8566369689758208e-05\n",
       "0.31278601843283926 ...  511.7917208881898 .. 1.3554281316790064e-05\n",
       "0.30949301605987894 ...  502.9404879719996 .. 1.3943282378225696e-05\n",
       "0.30071984997983053 ...   483.0277726572655 .. 1.683537569304967e-05\n",
       "0.29846393968055196 ...  483.7922251429588 .. 2.1278270886249906e-05\n",
       " 0.3129286658692961 ...  504.83040420620665 .. 1.079503634755526e-05\n",
       "  0.308168691308102 ...   501.1345437117631 .. 1.488711618459417e-05\n",
       "0.31251837496892054 ...  514.2919174026393 .. 1.4992941906666432e-05\n",
       "                ... ...                                          ...\n",
       " 0.3055869480330536 ...  499.3181039627178 .. 1.7843677174576635e-05\n",
       " 0.3006260803625953 ...  487.3887890397809 .. 1.9476199088518377e-05\n",
       "0.30053392476298846 ...  483.7731042502576 .. 1.7535777045853708e-05\n",
       " 0.3076964561764004 ...  497.6264301471834 .. 1.3943396865875834e-05\n",
       "0.30836968064710857 ...  502.3366207214765 .. 1.5168732102674261e-05\n",
       "0.31164417965838803 ...   509.9330431165336 .. 1.420799568902155e-05\n",
       "0.30348357057183734 ... 493.45770360627284 .. 1.8061092376344257e-05\n",
       "0.31014542910019083 ... 502.47009797164634 .. 1.2944141865529474e-05\n",
       "0.31436750167590966 ...  511.5546471431034 .. 1.1651929524634246e-05\n",
       "0.29813791585437227 ...  482.2833671092703 .. 2.0919026044687803e-05"
      ]
     },
     "execution_count": 12,
     "metadata": {},
     "output_type": "execute_result"
    }
   ],
   "source": [
    "abundance"
   ]
  },
  {
   "cell_type": "code",
   "execution_count": null,
   "id": "88fea62d-77b6-43ab-bbd5-040691bd723b",
   "metadata": {},
   "outputs": [],
   "source": [
    "edit.save_pickle(abundance,'/sps/lsst/users/cpayerne/1000xsimulations/analysis/20zx30m/tabulated_model/20x30_sampled_abundance.pkl')"
   ]
  },
  {
   "cell_type": "code",
   "execution_count": null,
   "id": "67e2bb5b-89da-48e5-9dcc-3c2ff8fdeef7",
   "metadata": {},
   "outputs": [],
   "source": []
  }
 ],
 "metadata": {
  "kernelspec": {
   "display_name": "mydesc",
   "language": "python",
   "name": "mydesc"
  },
  "language_info": {
   "codemirror_mode": {
    "name": "ipython",
    "version": 3
   },
   "file_extension": ".py",
   "mimetype": "text/x-python",
   "name": "python",
   "nbconvert_exporter": "python",
   "pygments_lexer": "ipython3",
   "version": "3.7.6"
  }
 },
 "nbformat": 4,
 "nbformat_minor": 5
}
