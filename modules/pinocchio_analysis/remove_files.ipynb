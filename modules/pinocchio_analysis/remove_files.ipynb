{
 "cells": [
  {
   "cell_type": "code",
   "execution_count": 6,
   "id": "d7c02927-54a4-4e84-bc4f-25dceb0dff2e",
   "metadata": {},
   "outputs": [
    {
     "name": "stdout",
     "output_type": "stream",
     "text": [
      "The autoreload extension is already loaded. To reload it, use:\n",
      "  %reload_ext autoreload\n"
     ]
    }
   ],
   "source": [
    "%load_ext autoreload\n",
    "%autoreload 2\n",
    "import numpy as np\n",
    "import glob, sys\n",
    "import matplotlib.pyplot as plt\n",
    "from astropy.table import Table, vstack\n",
    "sys.path.append('/pbs/throng/lsst/users/cpayerne/LikelihoodsClusterAbundance/modules/')\n",
    "import utils\n",
    "import edit"
   ]
  },
  {
   "cell_type": "code",
   "execution_count": 8,
   "id": "e952a80e-446c-4e43-bbaa-4955585aa29a",
   "metadata": {},
   "outputs": [],
   "source": [
    "files = glob.glob('/sps/lsst/users/cpayerne/1000xsimulations/analysis/100zx100m/mean_dispersion_sup_5e14Msun/M*')"
   ]
  },
  {
   "cell_type": "code",
   "execution_count": 9,
   "id": "dfdaeaf5-1c4e-438a-97a3-0d8fbc8f0222",
   "metadata": {},
   "outputs": [
    {
     "data": {
      "text/plain": [
       "0"
      ]
     },
     "execution_count": 9,
     "metadata": {},
     "output_type": "execute_result"
    }
   ],
   "source": [
    "len(files)"
   ]
  },
  {
   "cell_type": "code",
   "execution_count": 4,
   "id": "527000d4-c86f-4922-90db-0f2b0b648db3",
   "metadata": {},
   "outputs": [
    {
     "data": {
      "text/plain": [
       "['/sps/lsst/users/cpayerne/1000xsimulations/analysis/100zx100m/mean_dispersion_sup_5e14Msun/MPG_100x100_index_simu_12.pickle',\n",
       " '/sps/lsst/users/cpayerne/1000xsimulations/analysis/100zx100m/mean_dispersion_sup_5e14Msun/MPG_100x100_index_simu_164.pickle',\n",
       " '/sps/lsst/users/cpayerne/1000xsimulations/analysis/100zx100m/mean_dispersion_sup_5e14Msun/MPG_100x100_index_simu_16.pickle',\n",
       " '/sps/lsst/users/cpayerne/1000xsimulations/analysis/100zx100m/mean_dispersion_sup_5e14Msun/MPG_100x100_index_simu_20.pickle',\n",
       " '/sps/lsst/users/cpayerne/1000xsimulations/analysis/100zx100m/mean_dispersion_sup_5e14Msun/MPG_100x100_index_simu_24.pickle',\n",
       " '/sps/lsst/users/cpayerne/1000xsimulations/analysis/100zx100m/mean_dispersion_sup_5e14Msun/MPG_100x100_index_simu_129.pickle',\n",
       " '/sps/lsst/users/cpayerne/1000xsimulations/analysis/100zx100m/mean_dispersion_sup_5e14Msun/MPG_100x100_index_simu_167.pickle',\n",
       " '/sps/lsst/users/cpayerne/1000xsimulations/analysis/100zx100m/mean_dispersion_sup_5e14Msun/MPG_100x100_index_simu_165.pickle']"
      ]
     },
     "execution_count": 4,
     "metadata": {},
     "output_type": "execute_result"
    }
   ],
   "source": [
    "files"
   ]
  },
  {
   "cell_type": "code",
   "execution_count": 7,
   "id": "d5332b0f-65f3-4ed2-bd20-4c03cf81383c",
   "metadata": {},
   "outputs": [],
   "source": [
    "#edit.delete_file(files)"
   ]
  },
  {
   "cell_type": "code",
   "execution_count": null,
   "id": "50a62ab5-4bc7-420c-9b50-ebf974325587",
   "metadata": {},
   "outputs": [],
   "source": []
  }
 ],
 "metadata": {
  "kernelspec": {
   "display_name": "mydesc",
   "language": "python",
   "name": "mydesc"
  },
  "language_info": {
   "codemirror_mode": {
    "name": "ipython",
    "version": 3
   },
   "file_extension": ".py",
   "mimetype": "text/x-python",
   "name": "python",
   "nbconvert_exporter": "python",
   "pygments_lexer": "ipython3",
   "version": "3.7.6"
  }
 },
 "nbformat": 4,
 "nbformat_minor": 5
}
