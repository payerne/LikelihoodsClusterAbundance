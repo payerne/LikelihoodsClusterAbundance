{
 "cells": [
  {
   "cell_type": "code",
   "execution_count": 4,
   "id": "d7c02927-54a4-4e84-bc4f-25dceb0dff2e",
   "metadata": {},
   "outputs": [
    {
     "name": "stdout",
     "output_type": "stream",
     "text": [
      "The autoreload extension is already loaded. To reload it, use:\n",
      "  %reload_ext autoreload\n"
     ]
    }
   ],
   "source": [
    "%load_ext autoreload\n",
    "%autoreload 2\n",
    "import numpy as np\n",
    "import glob, sys\n",
    "import matplotlib.pyplot as plt\n",
    "from astropy.table import Table, vstack\n",
    "sys.path.append('/pbs/throng/lsst/users/cpayerne/ClusterLikelihoods/modules/')\n",
    "import abundance as cl_count\n",
    "import utils\n",
    "import edit"
   ]
  },
  {
   "cell_type": "code",
   "execution_count": 7,
   "id": "e952a80e-446c-4e43-bbaa-4955585aa29a",
   "metadata": {},
   "outputs": [],
   "source": [
    "files = glob.glob('/sps/lsst/users/cpayerne/1000xsimulations/analysis/100zx100m/mean_dispersion_fsky_div_10/*')"
   ]
  },
  {
   "cell_type": "code",
   "execution_count": 8,
   "id": "dfdaeaf5-1c4e-438a-97a3-0d8fbc8f0222",
   "metadata": {},
   "outputs": [
    {
     "data": {
      "text/plain": [
       "2"
      ]
     },
     "execution_count": 8,
     "metadata": {},
     "output_type": "execute_result"
    }
   ],
   "source": [
    "len(files)"
   ]
  },
  {
   "cell_type": "code",
   "execution_count": 33,
   "id": "80eca5b0-0faf-4ba3-af35-9b8fb42330e1",
   "metadata": {},
   "outputs": [
    {
     "data": {
      "text/plain": [
       "array([   0,  100,  200,  300,  400,  500,  600,  700,  800,  900, 1000,\n",
       "       1100, 1200, 1300, 1400, 1500, 1600, 1700, 1800, 1900, 2000, 2100,\n",
       "       2200, 2300, 2400, 2500, 2600, 2700, 2800, 2900, 3000, 3100, 3200,\n",
       "       3300, 3400, 3500, 3600, 3700, 3800, 3900, 4000, 4100, 4200, 4300,\n",
       "       4400, 4500, 4600, 4700, 4800, 4900])"
      ]
     },
     "execution_count": 33,
     "metadata": {},
     "output_type": "execute_result"
    }
   ],
   "source": [
    "np.sort([int(f.split('_from_')[1].split('_')[0]) for f in files])"
   ]
  },
  {
   "cell_type": "code",
   "execution_count": 3,
   "id": "d5332b0f-65f3-4ed2-bd20-4c03cf81383c",
   "metadata": {},
   "outputs": [],
   "source": [
    "#edit.delete_file(files)"
   ]
  },
  {
   "cell_type": "code",
   "execution_count": null,
   "id": "50a62ab5-4bc7-420c-9b50-ebf974325587",
   "metadata": {},
   "outputs": [],
   "source": []
  }
 ],
 "metadata": {
  "kernelspec": {
   "display_name": "mydesc",
   "language": "python",
   "name": "mydesc"
  },
  "language_info": {
   "codemirror_mode": {
    "name": "ipython",
    "version": 3
   },
   "file_extension": ".py",
   "mimetype": "text/x-python",
   "name": "python",
   "nbconvert_exporter": "python",
   "pygments_lexer": "ipython3",
   "version": "3.7.6"
  }
 },
 "nbformat": 4,
 "nbformat_minor": 5
}
