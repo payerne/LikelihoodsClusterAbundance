{
 "cells": [
  {
   "cell_type": "code",
   "execution_count": 184,
   "id": "b778f919-6b56-4cea-8775-a09e6af79c4c",
   "metadata": {},
   "outputs": [
    {
     "name": "stdout",
     "output_type": "stream",
     "text": [
      "The autoreload extension is already loaded. To reload it, use:\n",
      "  %reload_ext autoreload\n",
      "LIKELIHOOD = full_unbinned\n",
      "SAMPLE = erosita\n",
      "f_SKY = 100 %\n",
      "===> loading catalog\n",
      "===> sky mask reshaping\n",
      "NCL = 185855 clusters\n",
      "===> define hybrid redshift binning\n",
      "===> Compute Sij\n",
      "===> mask the hmf theory\n"
     ]
    }
   ],
   "source": [
    "%load_ext autoreload\n",
    "\n",
    "%autoreload 2\n",
    "import sys\n",
    "sys.path.append('/pbs/throng/lsst/users/cpayerne/PySSC/')\n",
    "import PySSC\n",
    "import corner\n",
    "import numpy as np\n",
    "import matplotlib.pyplot as plt\n",
    "import scipy\n",
    "def binning(corner): return [[corner[i],corner[i+1]] for i in range(len(corner)-1)]\n",
    "import analysis_mcmc_cosmo_samples as analysis\n",
    "import pyccl as ccl\n",
    "import h5py, glob\n",
    "from astropy.table import Table\n",
    "import emcee\n",
    "import _planck_erosita_spt_samples as _samples\n",
    "\n",
    "sys.path.append('../modules/')\n",
    "import covariance as covar\n",
    "import utils\n",
    "import pandas as pd\n",
    "import abundance as cl_count\n",
    "import unbinned_model_hybrid as ub\n",
    "\n",
    "#import unbinned module\n",
    "sys.path.append('/pbs/throng/lsst/users/cpayerne/LikelihoodsClusterAbundance/notebooks/Unbinned_likelihood_with_SSC/mcmc_modules/')\n",
    "import standard_unbinned_likelihood\n",
    "import PINOCCHIO_cat\n",
    "import pickle\n",
    "\n",
    "def save_pickle(dat, filename, **kwargs):\n",
    "    pickle.dump(dat, open(filename, \"wb\"))  \n",
    "    \n",
    "    \n",
    "\n",
    "#true cosmology\n",
    "Omega_c_true = 0.30711 - 0.048254\n",
    "Omega_b_true = 0.048254\n",
    "sigma8_true = .8288\n",
    "Omegam_true = 0.30711\n",
    "True_value = [Omega_c_true + Omega_b_true, sigma8_true]\n",
    "\n",
    "#define cosmology\n",
    "cosmo = ccl.Cosmology(Omega_c = Omegam_true - Omega_b_true, Omega_b = Omega_b_true, \n",
    "                              h = 0.6777, sigma8 = sigma8_true, n_s=0.96)\n",
    "\n",
    "mass_in = ccl.halos.massdef.MassDef('vir', 'matter')\n",
    "mass_out = ccl.halos.massdef.MassDef('500', 'critical')\n",
    "concentration = conc = ccl.halos.concentration.ConcentrationDuffy08(mass_def=mass_in)\n",
    "mass_translator = ccl.halos.massdef.mass_translator(mass_in=mass_in,\n",
    "                                                   mass_out=mass_out, \n",
    "                                                   concentration=concentration)\n",
    "\n",
    "code, index_analysis = '1', 6\n",
    "\n",
    "sys.path.append('/pbs/throng/lsst/users/cpayerne/LikelihoodsClusterAbundance/notebooks/Unbinned_likelihood_with_SSC/mcmc_modules/')\n",
    "\n",
    "likelihood = analysis.analysis_unbinned['likelihood'][int(index_analysis)]\n",
    "analysis_name = analysis.analysis_unbinned['analysis_name'][int(index_analysis)]\n",
    "    \n",
    "mapping = ub.Mapping()\n",
    "mapping.set_cosmology(cosmo)\n",
    "\n",
    "#load data\n",
    "fsky = analysis.fsky[analysis.analysis_name.index(analysis_name)]\n",
    "n_cat = analysis.n_cat[analysis.analysis_name.index(analysis_name)]\n",
    "reshape_sky = analysis.reshape_sky[analysis.analysis_name.index(analysis_name)]\n",
    "mapping0 = ub.Mapping()\n",
    "mapping0.set_cosmology(cosmo)\n",
    "\n",
    "print(f'LIKELIHOOD = {likelihood}')\n",
    "print(f'SAMPLE = {analysis_name}')\n",
    "print(f'f_SKY = {fsky*100} %')\n",
    "\n",
    "print('===> loading catalog')\n",
    "where_cat = '/sps/lsst/users/cpayerne/1000xsimulations/1000_simulations/afumagalli/catalogs/plc_14/*'\n",
    "cat = glob.glob(where_cat)\n",
    "ra, dec, redshift, Mvir = _samples.concatenate(n_cat, cat)\n",
    "cat_ = Table()\n",
    "cat_['ra'] = ra\n",
    "cat_['dec'] = dec\n",
    "cat_['z'] = redshift\n",
    "cat_['M'] = Mvir\n",
    "print('===> sky mask reshaping')\n",
    "ra_, dec_, redshift_, Mvir_ = _samples.mask_fsky(fsky, cat_, reshape=reshape_sky)\n",
    "M500c_ = np.array([mass_translator(cosmo, Mvir_[i], 1/(1+redshift_[i])) for i in range(len(Mvir_))])\n",
    "if analysis_name=='spt':\n",
    "     mask_ = _samples.spt(redshift_, M500c_, Mvir_)\n",
    "elif analysis_name=='erosita':\n",
    "    mask_ = _samples.erosita(redshift_, M500c_, Mvir_)\n",
    "elif analysis_name=='planck':\n",
    "    mask_ = _samples.planck(redshift_, M500c_, Mvir_)\n",
    "elif analysis_name=='pinocchio':\n",
    "    mask_ = _samples.pinocchio(redshift_, M500c_, Mvir_)\n",
    "cat_final = Table()\n",
    "cat_final['ra'] = ra_[mask_]\n",
    "cat_final['dec'] = dec_[mask_]\n",
    "cat_final['z'] = redshift_[mask_]\n",
    "cat_final['M'] = Mvir_[mask_]\n",
    "\n",
    "z_sample, logm_sample = cat_final['z'], np.log10(cat_final['M'])\n",
    "print(f'NCL = {len(z_sample):.0f} clusters')\n",
    "print('===> define hybrid redshift binning')\n",
    "if analysis_name=='spt': redshift_edges = np.linspace(0.25, 1.5, 5)\n",
    "elif analysis_name=='erosita': redshift_edges = np.linspace(0.1, 2, 5)\n",
    "elif analysis_name=='planck': redshift_edges = np.linspace(0.1, 0.8, 5)\n",
    "elif analysis_name=='pinocchio': redshift_edges = np.linspace(0.1, 2, 5)\n",
    "    \n",
    "redshift_intervals = [[redshift_edges[i], redshift_edges[i+1]] for i in range(len(redshift_edges)-1)]\n",
    "print('===> Compute Sij')\n",
    "default_cosmo_params = {'omega_b':cosmo['Omega_b']*cosmo['h']**2, \n",
    "                            'omega_cdm':cosmo['Omega_c']*cosmo['h']**2, \n",
    "                            'H0':cosmo['h']*100, \n",
    "                            'n_s':cosmo['n_s'], \n",
    "                            'sigma8': cosmo['sigma8'],\n",
    "                            'output' : 'mPk'}\n",
    "z_arr = np.linspace(0.1,2.1,1000)\n",
    "nbins_T   = len(redshift_intervals)\n",
    "windows_T = np.zeros((nbins_T,len(z_arr)))\n",
    "for i, z_bin in enumerate(redshift_intervals):\n",
    "    for k, z in enumerate(z_arr):\n",
    "        if ((z>z_bin[0]) and (z<=z_bin[1])):\n",
    "            windows_T[i,k] = 1  \n",
    "Sij_fullsky = PySSC.Sij_alt_fullsky(z_arr, windows_T, order=1, cosmo_params=default_cosmo_params, cosmo_Class=None, convention=0)\n",
    "Sij = Sij_fullsky/fsky\n",
    "\n",
    "z_grid = np.linspace(0.1, 2.1, 501)\n",
    "logm_grid = np.linspace(14, 16, 500)\n",
    "print('===> mask the hmf theory')\n",
    "def mask_map():\n",
    "    Z_grid = np.tile(z_grid,(len(logm_grid), 1))\n",
    "    LogMvir_grid = np.tile(logm_grid,(len(z_grid), 1)).T\n",
    "    LogM500c_grid = np.zeros(LogMvir_grid.shape)\n",
    "    for k, z in enumerate(z_grid):\n",
    "        M500c = np.array([mass_translator(cosmo, 10**LogM, 1/(1+z)) for LogM in logm_grid])\n",
    "        LogM500c_grid[:,k] = np.log10(M500c)\n",
    "    if analysis_name=='spt':\n",
    "        mask = _samples.spt(Z_grid, 10**LogM500c_grid, 10**LogMvir_grid)\n",
    "    elif analysis_name=='erosita':\n",
    "        mask = _samples.erosita(Z_grid, 10**LogM500c_grid, 10**LogMvir_grid)\n",
    "    elif analysis_name=='planck':\n",
    "        mask = _samples.planck(Z_grid, 10**LogM500c_grid, 10**LogMvir_grid)\n",
    "    elif analysis_name=='pinocchio':\n",
    "        mask = _samples.pinocchio(Z_grid, 10**LogM500c_grid, 10**LogMvir_grid)\n",
    "    return np.where(mask==True, 1, 0)\n",
    "\n",
    "#computing default amplitude of matter fluctuations\n",
    "mask_sample = mask_map()\n",
    "dN_dlogmdz_map = mapping0.compute_dN_dlogMdzdOmega_map(z_grid, logm_grid, fsky) * mask_sample\n",
    "halo_bias_map = mapping0.compute_halo_bias_map(z_grid, logm_grid) * mask_sample\n",
    "Nth = mapping.compute_N_th(z_grid, logm_grid, dN_dlogmdz_map)\n"
   ]
  },
  {
   "cell_type": "code",
   "execution_count": 191,
   "id": "f458d2d1-f194-4e45-8635-ceb409708f14",
   "metadata": {},
   "outputs": [
    {
     "name": "stdout",
     "output_type": "stream",
     "text": [
      "NTH = 186818.2\n"
     ]
    }
   ],
   "source": [
    "print(f'NTH = {Nth:.1f}')\n",
    "\n",
    "def SSC_contribution(theta):\n",
    "    Om, s8 = theta\n",
    "    cosmo_new = ccl.Cosmology(Omega_c = Om - Omega_b_true, Omega_b = Omega_b_true, \n",
    "                              h = 0.6777, sigma8 = s8, n_s=0.96)\n",
    "    mapping = ub.Mapping()\n",
    "    mapping.set_cosmology(cosmo_new)\n",
    "    dN_dlogmdz_map = mapping.compute_dN_dlogMdzdOmega_map(z_grid, logm_grid, fsky) * mask_sample\n",
    "    Nth = mapping.compute_N_th(z_grid, logm_grid, dN_dlogmdz_map)\n",
    "    mapping.compute_bdNdm_zbins_and_dNdm_zbins(z_grid, logm_grid, \n",
    "                                                   dN_dlogmdz_map, halo_bias_map, \n",
    "                                                   redshift_intervals, fsky)\n",
    "    mapping.compute_Nb_zbins(z_grid, logm_grid, \n",
    "                                 dN_dlogmdz_map, halo_bias_map, \n",
    "                                 redshift_intervals, fsky)\n",
    "    mapping.interp(z_grid, logm_grid, dN_dlogmdz_map, halo_bias_map, \n",
    "                       redshift_intervals, Sij, fsky)\n",
    "    dN_dlogM = mapping.N_map_interp_fct(z_sample, logm_sample, redshift_intervals)\n",
    "    #plt.hist(np.log(dN_dlogM), bins=100)\n",
    "    print(len(dN_dlogM[dN_dlogM < 0]))\n",
    "    print(min(np.log(dN_dlogM)))\n",
    "    print(max(np.log(dN_dlogM)))\n",
    "    print(np.sum(np.log(dN_dlogM)))\n",
    "    print(Nth)\n",
    "    mask = dN_dlogM < 0\n",
    "    plt.scatter(z_sample, logm_sample,)\n",
    "    plt.scatter(z_sample[mask], logm_sample[mask], s=10)\n",
    "    return 0\n",
    "    \n",
    "def loglikelihood(theta):\n",
    "    Om, s8 = theta\n",
    "    if Om > 1: return -np.inf\n",
    "    if Om < 0.1: return -np.inf\n",
    "    if s8 > 1: return -np.inf\n",
    "    if s8 < 0.2: return -np.inf\n",
    "    return SSC_contribution(theta)"
   ]
  },
  {
   "cell_type": "code",
   "execution_count": 192,
   "id": "795ab880-aba0-4aa4-a5ab-6cb952ec4c0d",
   "metadata": {},
   "outputs": [
    {
     "data": {
      "text/plain": [
       "2160000"
      ]
     },
     "execution_count": 192,
     "metadata": {},
     "output_type": "execute_result"
    }
   ],
   "source": [
    "12*180000"
   ]
  },
  {
   "cell_type": "code",
   "execution_count": 193,
   "id": "166bb914-4c1f-4d1c-9b69-b0be7ec32047",
   "metadata": {},
   "outputs": [
    {
     "name": "stdout",
     "output_type": "stream",
     "text": [
      "0\n",
      "1.7992102003672303\n",
      "12.890026609211903\n",
      "2242091.2576142373\n",
      "186818.20756183233\n",
      "0\n"
     ]
    },
    {
     "data": {
      "image/png": "[encoded data removed]",
      "text/plain": [
       "<Figure size 640x480 with 1 Axes>"
      ]
     },
     "metadata": {},
     "output_type": "display_data"
    }
   ],
   "source": [
    "print(loglikelihood([Omega_c_true + Omega_b_true, sigma8_true]))"
   ]
  },
  {
   "cell_type": "code",
   "execution_count": null,
   "id": "5b73e211-e3c3-4b63-9eb5-88fede6d5c49",
   "metadata": {},
   "outputs": [],
   "source": []
  },
  {
   "cell_type": "code",
   "execution_count": null,
   "id": "ecdaff25-fc1e-499e-ac5d-9f0ac445ff95",
   "metadata": {},
   "outputs": [],
   "source": []
  }
 ],
 "metadata": {
  "kernelspec": {
   "display_name": "myenv",
   "language": "python",
   "name": "myenv"
  },
  "language_info": {
   "codemirror_mode": {
    "name": "ipython",
    "version": 3
   },
   "file_extension": ".py",
   "mimetype": "text/x-python",
   "name": "python",
   "nbconvert_exporter": "python",
   "pygments_lexer": "ipython3",
   "version": "3.10.10"
  }
 },
 "nbformat": 4,
 "nbformat_minor": 5
}
